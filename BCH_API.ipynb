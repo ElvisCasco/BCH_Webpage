{
 "cells": [
  {
   "cell_type": "raw",
   "id": "29bc7e6d",
   "metadata": {},
   "source": [
    "---\n",
    "title: Estadísticas del Banco Central de Honduras\n",
    "authors:\n",
    "  - Gabriela MArgoth López Gutierrez\n",
    "  - Elvis Teodoro Casco Alfaro\n",
    "institute: Banco Central de Honduras\n",
    "execute:\n",
    "  echo: false\n",
    "crossref:\n",
    "  fig-title: Gráfico\n",
    "  tbl-title: Tabla\n",
    "  fig-prefix: Gráfico\n",
    "  tbl-prefix: Tabla\n",
    "format:\n",
    "  html:\n",
    "    echo: false\n",
    "    toc: true\n",
    "    toc-depth: 7\n",
    "    code-fold: false\n",
    "    warnings: false\n",
    "keep-ipynb: true\n",
    "---"
   ]
  },
  {
   "cell_type": "markdown",
   "id": "d5346a81",
   "metadata": {},
   "source": [
    "En este proceso se explica la forma en que pueden descargarse los datos disponibles en la [API](https://bchapi-am.developer.azure-api.net/) del Banco Central de Honduras (BCH), utilizando Python.\n",
    "\n",
    "# Funciones\n"
   ]
  },
  {
   "cell_type": "code",
   "execution_count": 1,
   "id": "19e07606",
   "metadata": {},
   "outputs": [],
   "source": [
    "import urllib.request, json\n",
    "import pandas as pd\n",
    "import polars as pl\n",
    "\n",
    "from IPython.display import Markdown\n",
    "from tabulate import tabulate\n",
    "\n",
    "class bchapi():\n",
    "    def __init__(self):\n",
    "        self.idslist = None\n",
    "        self.header = None\n",
    "\n",
    "    #get_info descarga toda la información de las series disponibles en base a la estructura del url ingresado\n",
    "    def get_info(self, url, hdr):\n",
    "        self.header = hdr\n",
    "        req = urllib.request.Request(url, headers=self.header)\n",
    "        req.get_method = lambda: 'GET'\n",
    "        response = urllib.request.urlopen(req)\n",
    "        jsondata = response.read()\n",
    "        bytes_data = jsondata\n",
    "        data_str = bytes_data.decode('utf-8')\n",
    "        data = json.loads(data_str)\n",
    "        df = pd.read_json(json.dumps(data))\n",
    "        self.idslist = df['Id'].unique()\n",
    "        return df\n",
    "\n",
    "    #graph descarga los valores en formato dataframe de la serie seleccionada en base al id\n",
    "    def graph(self, id):\n",
    "        import plotly.express as px\n",
    "        id = self.idslist[idx]\n",
    "        url = f'https://bchapi-am.azure-api.net/api/v1/indicadores/{id}/cifras'\n",
    "        df = self.get_info(url, self.header)\n",
    "        ts = pd.DataFrame(\n",
    "            data = df['Valor'].values, \n",
    "            index = pd.DatetimeIndex(df['Fecha']))\n",
    "        fig = px.line(\n",
    "            ts, \n",
    "            title = df['Descripcion'].unique()[0],)\n",
    "        fig.update_layout(\n",
    "            autosize=False,\n",
    "            width=800,\n",
    "            height=500,\n",
    "            template = 'plotly_white',\n",
    "            showlegend=False)\n",
    "        fig.update_xaxes(title=None)\n",
    "        fig.update_yaxes(title=None)\n",
    "        fig.show()\n",
    "\n",
    "def res_nivel_1():\n",
    "    df = pl.DataFrame(df_all)\n",
    "    variable_0 = \"Niv_Gr_1\"\n",
    "    variable_1 = \"Niv_Gr_2\"\n",
    "    variable_2 = \"Niv_Gr_3\"\n",
    "    df = df.group_by(variable_0\n",
    "        ).agg(\n",
    "            pl.col(variable_0).len().alias(\"N_Variables\"),\n",
    "            pl.col(variable_1).n_unique().alias(\"N_Subgrupos\")\n",
    "        ).sort([\"N_Variables\",\"N_Subgrupos\",],descending=[True,True])\n",
    "    print(str(df[\"N_Variables\"].sum()) + \" variables\")\n",
    "    print(str(df[\"Niv_Gr_1\"].len()) + \" grupos\")\n",
    "    print(str(df[\"N_Subgrupos\"].sum()) + \" subgrupos\")\n",
    "    return df\n",
    "\n",
    "def res_nivel_2(nivel_1):\n",
    "    df = pl.DataFrame(df_all)\n",
    "    variable_0 = \"Niv_Gr_1\"\n",
    "    variable_1 = \"Niv_Gr_2\"\n",
    "    variable_2 = \"Niv_Gr_3\"\n",
    "    df = df.filter(\n",
    "            pl.col(\"Niv_Gr_1\") == nivel_1,\n",
    "        ).group_by(variable_0,variable_1\n",
    "        ).agg(\n",
    "            pl.col(variable_0).len().alias(\"N_Variables\"),\n",
    "            pl.col(variable_2).n_unique().alias(\"N_Niv_Gr_2\")\n",
    "        ).sort([\"N_Variables\",\"N_Niv_Gr_2\",],descending=[True,True])\n",
    "    print(str(df[\"N_Variables\"].sum()) + \" variables\")\n",
    "    print(str(df[\"Niv_Gr_1\"].len()) + \" grupos\")\n",
    "    print(str(df[\"N_Niv_Gr_2\"].sum()) + \" subgrupos\")\n",
    "    return df\n",
    "\n",
    "def res_nivel_3(nivel_1,nivel_2,variable_2):\n",
    "    df = pl.DataFrame(df_all)\n",
    "    variable_0 = \"Niv_Gr_1\"\n",
    "    variable_1 = \"Niv_Gr_2\"\n",
    "    df = df.filter(\n",
    "            pl.col(\"Niv_Gr_1\") == nivel_1,\n",
    "            pl.col(\"Niv_Gr_2\") == nivel_2\n",
    "        ).group_by(\n",
    "            [variable_0,variable_1,variable_2]\n",
    "        ).agg(\n",
    "            # pl.col(\"Niv_Gr_1\").len().alias(\"N_Niv_Gr_2\"),\n",
    "            pl.col(\"Niv_Gr_2\").len().alias(\"N_Variables\"),\n",
    "        ).sort(\"N_Variables\",descending=True)\n",
    "    print(str(len(df)) + \" subgrupos\")\n",
    "    # print(str(df[\"N_Niv_Gr_2\"].sum()) + \" niveles\")\n",
    "    print(str(df[\"N_Variables\"].sum()) + \" variables\")\n",
    "    return df\n",
    "\n",
    "def res_nivel_4(nivel_1,nivel_2,variable_2,def_variable_2,variable_3):\n",
    "    df = pl.DataFrame(df_all)\n",
    "    variable_0 = \"Niv_Gr_1\"\n",
    "    variable_1 = \"Niv_Gr_2\"\n",
    "    df = df.filter(\n",
    "            pl.col(\"Niv_Gr_1\") == nivel_1,\n",
    "            pl.col(\"Niv_Gr_2\") == nivel_2,\n",
    "            pl.col(variable_2) == def_variable_2,\n",
    "        ).group_by(\n",
    "            [variable_0,variable_1,variable_2,variable_3]\n",
    "        ).agg(\n",
    "            pl.col(variable_3).len().alias(\"N_Variables\"),\n",
    "        ).sort(\"N_Variables\",descending=True)\n",
    "    return df\n",
    "\n",
    "def res_nivel_5(\n",
    "    nivel_1,nivel_2,\n",
    "    variable_2,def_variable_2,\n",
    "    variable_3,variable_4):\n",
    "    df = pl.DataFrame(df_all)\n",
    "    variable_0 = \"Niv_Gr_1\"\n",
    "    variable_1 = \"Niv_Gr_2\"\n",
    "    df = df.filter(\n",
    "            pl.col(\"Niv_Gr_1\") == nivel_1,\n",
    "            pl.col(\"Niv_Gr_2\") == nivel_2,\n",
    "            pl.col(variable_2) == def_variable_2,\n",
    "            # pl.col(variable_3) == def_variable_3,\n",
    "        ).group_by(\n",
    "            [variable_0,variable_1,variable_2,variable_3,variable_4]\n",
    "        ).agg(\n",
    "            pl.col(variable_4).len().alias(\"N_Variables\"),\n",
    "        ).sort(\"N_Variables\",descending=True)\n",
    "    return df"
   ]
  },
  {
   "cell_type": "code",
   "execution_count": 2,
   "id": "c19ec04f",
   "metadata": {},
   "outputs": [],
   "source": [
    "def res_nivel_6(\n",
    "    nivel_1,nivel_2,\n",
    "    variable_2,def_variable_2,\n",
    "    variable_3,variable_4,variable_5):\n",
    "    df = pl.DataFrame(df_all)\n",
    "    variable_0 = \"Niv_Gr_1\"\n",
    "    variable_1 = \"Niv_Gr_2\"\n",
    "    df = df.filter(\n",
    "            pl.col(\"Niv_Gr_1\") == nivel_1,\n",
    "            pl.col(\"Niv_Gr_2\") == nivel_2,\n",
    "            pl.col(variable_2) == def_variable_2,\n",
    "            # pl.col(variable_3) == variable_3,\n",
    "            # pl.col(variable_3) == def_variable_3,\n",
    "        ).group_by(\n",
    "            [variable_0,variable_1,variable_2,variable_3,variable_4,variable_5]\n",
    "        ).agg(\n",
    "            pl.col(variable_5).len().alias(\"N_Variables\"),\n",
    "        ).sort(\"N_Variables\",descending=True)\n",
    "    return df\n",
    "\n",
    "def res_nivel_7(\n",
    "    nivel_1,nivel_2,\n",
    "    variable_2,def_variable_2,\n",
    "    variable_3,variable_4,variable_5,variable_6):\n",
    "    df = pl.DataFrame(df_all)\n",
    "    variable_0 = \"Niv_Gr_1\"\n",
    "    variable_1 = \"Niv_Gr_2\"\n",
    "    df = df.filter(\n",
    "            pl.col(\"Niv_Gr_1\") == nivel_1,\n",
    "            pl.col(\"Niv_Gr_2\") == nivel_2,\n",
    "            pl.col(variable_2) == def_variable_2,\n",
    "            # pl.col(variable_3) == variable_3,\n",
    "            # pl.col(variable_3) == def_variable_3,\n",
    "        ).group_by(\n",
    "            [variable_0,variable_1,variable_2,variable_3,variable_4,variable_5,variable_6]\n",
    "        ).agg(\n",
    "            pl.col(variable_5).len().alias(\"N_Variables\"),\n",
    "        ).sort(\"N_Variables\",descending=True)\n",
    "    return df"
   ]
  },
  {
   "cell_type": "markdown",
   "id": "2aac234e",
   "metadata": {},
   "source": [
    "# Acceso a los Datos\n",
    "\n",
    "Una vez que se crea el registro de usuario, se necesita obtener una clave (key), ejecutando una consulta al catálogo de indicadores. Favor sustituir en el código la clave actual por su clave asignada.\n",
    "\n",
    "Para conocer los datos disponibles, se debe ejecutar una consulta al catálogo de indicadores, que contiene información sobre las series disponibles:\n",
    "\n",
    "- Nombre (código)\n",
    "- Descripción\n",
    "- Periodicidad\n",
    "- Grupo\n",
    "- Correlativo del Grupo\n",
    "\n",
    "Como ejemplo de la consulta que contiene todas las variables, se muestran los primeros cinco elementos:\n"
   ]
  },
  {
   "cell_type": "code",
   "execution_count": 3,
   "id": "09820c72",
   "metadata": {},
   "outputs": [
    {
     "name": "stderr",
     "output_type": "stream",
     "text": [
      "C:\\Users\\ec109004\\AppData\\Local\\Temp\\ipykernel_15796\\234590326.py:23: FutureWarning:\n",
      "\n",
      "Passing literal json to 'read_json' is deprecated and will be removed in a future version. To read from a literal string, wrap it in a 'StringIO' object.\n",
      "\n"
     ]
    },
    {
     "data": {
      "text/html": [
       "<div>\n",
       "<style scoped>\n",
       "    .dataframe tbody tr th:only-of-type {\n",
       "        vertical-align: middle;\n",
       "    }\n",
       "\n",
       "    .dataframe tbody tr th {\n",
       "        vertical-align: top;\n",
       "    }\n",
       "\n",
       "    .dataframe thead th {\n",
       "        text-align: right;\n",
       "    }\n",
       "</style>\n",
       "<table border=\"1\" class=\"dataframe\">\n",
       "  <thead>\n",
       "    <tr style=\"text-align: right;\">\n",
       "      <th></th>\n",
       "      <th>Id</th>\n",
       "      <th>Nombre</th>\n",
       "      <th>Descripcion</th>\n",
       "      <th>Periodicidad</th>\n",
       "      <th>Grupo</th>\n",
       "      <th>CorrelativoGrupo</th>\n",
       "    </tr>\n",
       "  </thead>\n",
       "  <tbody>\n",
       "    <tr>\n",
       "      <th>0</th>\n",
       "      <td>1</td>\n",
       "      <td>ESR-PIBT-PROD-DES-CONST-15</td>\n",
       "      <td>Serie Desestacionalizada-VALORES CONSTANTES-21...</td>\n",
       "      <td>Trimestral</td>\n",
       "      <td>ESR-PIBT-PROD-DES-CONST</td>\n",
       "      <td>15</td>\n",
       "    </tr>\n",
       "    <tr>\n",
       "      <th>1</th>\n",
       "      <td>2</td>\n",
       "      <td>ESR-PIBT-PROD-DES-CORR-12</td>\n",
       "      <td>Serie Desestacionalizada-VALORES CORRIENTES-14...</td>\n",
       "      <td>Trimestral</td>\n",
       "      <td>ESR-PIBT-PROD-DES-CORR</td>\n",
       "      <td>12</td>\n",
       "    </tr>\n",
       "    <tr>\n",
       "      <th>2</th>\n",
       "      <td>3</td>\n",
       "      <td>ESR-PIBT-PROD-DES-CORR-13</td>\n",
       "      <td>Serie Desestacionalizada-VALORES CORRIENTES-16...</td>\n",
       "      <td>Trimestral</td>\n",
       "      <td>ESR-PIBT-PROD-DES-CORR</td>\n",
       "      <td>13</td>\n",
       "    </tr>\n",
       "    <tr>\n",
       "      <th>3</th>\n",
       "      <td>4</td>\n",
       "      <td>ESR-PIBT-PROD-DES-CORR-14</td>\n",
       "      <td>Serie Desestacionalizada-VALORES CORRIENTES-20...</td>\n",
       "      <td>Trimestral</td>\n",
       "      <td>ESR-PIBT-PROD-DES-CORR</td>\n",
       "      <td>14</td>\n",
       "    </tr>\n",
       "    <tr>\n",
       "      <th>4</th>\n",
       "      <td>5</td>\n",
       "      <td>ESR-PIBT-PROD-DES-CORR-15</td>\n",
       "      <td>Serie Desestacionalizada-VALORES CORRIENTES-21...</td>\n",
       "      <td>Trimestral</td>\n",
       "      <td>ESR-PIBT-PROD-DES-CORR</td>\n",
       "      <td>15</td>\n",
       "    </tr>\n",
       "  </tbody>\n",
       "</table>\n",
       "</div>"
      ],
      "text/plain": [
       "   Id                      Nombre  \\\n",
       "0   1  ESR-PIBT-PROD-DES-CONST-15   \n",
       "1   2   ESR-PIBT-PROD-DES-CORR-12   \n",
       "2   3   ESR-PIBT-PROD-DES-CORR-13   \n",
       "3   4   ESR-PIBT-PROD-DES-CORR-14   \n",
       "4   5   ESR-PIBT-PROD-DES-CORR-15   \n",
       "\n",
       "                                         Descripcion Periodicidad  \\\n",
       "0  Serie Desestacionalizada-VALORES CONSTANTES-21...   Trimestral   \n",
       "1  Serie Desestacionalizada-VALORES CORRIENTES-14...   Trimestral   \n",
       "2  Serie Desestacionalizada-VALORES CORRIENTES-16...   Trimestral   \n",
       "3  Serie Desestacionalizada-VALORES CORRIENTES-20...   Trimestral   \n",
       "4  Serie Desestacionalizada-VALORES CORRIENTES-21...   Trimestral   \n",
       "\n",
       "                     Grupo CorrelativoGrupo  \n",
       "0  ESR-PIBT-PROD-DES-CONST               15  \n",
       "1   ESR-PIBT-PROD-DES-CORR               12  \n",
       "2   ESR-PIBT-PROD-DES-CORR               13  \n",
       "3   ESR-PIBT-PROD-DES-CORR               14  \n",
       "4   ESR-PIBT-PROD-DES-CORR               15  "
      ]
     },
     "execution_count": 3,
     "metadata": {},
     "output_type": "execute_result"
    }
   ],
   "source": [
    "clave_asignada = \"ff34cff7b0024ea39eb565fccb9f03b6\" # Su clave asignada \n",
    "url = \"https://bchapi-am.azure-api.net/api/v1/indicadores?formato=Json\"\n",
    "hdr ={'Cache-Control': 'no-cache',\n",
    "      'clave': clave_asignada,}\n",
    "\n",
    "dwld = bchapi()\n",
    "dfmeta = dwld.get_info(url, hdr)\n",
    "dfmeta.head()"
   ]
  },
  {
   "cell_type": "markdown",
   "id": "277113f0",
   "metadata": {},
   "source": [
    "# Descripción de los Datos\n",
    "\n",
    "## Grupos\n",
    "\n",
    "Las variables están categorizadas en 54 grupos. La nomenclatura utilizada permite dividir estos en cinco niveles, tomando en cuenta el separador (-). Se explicarán los mismos a continuacion, ordenando de acuerdo al número de niveles.\n"
   ]
  },
  {
   "cell_type": "code",
   "execution_count": 4,
   "id": "6f5a1c75",
   "metadata": {},
   "outputs": [
    {
     "name": "stdout",
     "output_type": "stream",
     "text": [
      "11519 variables\n",
      "54 grupos\n"
     ]
    },
    {
     "data": {
      "text/html": [
       "<div><style>\n",
       ".dataframe > thead > tr,\n",
       ".dataframe > tbody > tr {\n",
       "  text-align: right;\n",
       "  white-space: pre-wrap;\n",
       "}\n",
       "</style>\n",
       "<small>shape: (54, 8)</small><table border=\"1\" class=\"dataframe\"><thead><tr><th>Grupo</th><th>N_Variables</th><th>Niv_Gr_1</th><th>Niv_Gr_2</th><th>Niv_Gr_3</th><th>Niv_Gr_4</th><th>Niv_Gr_5</th><th>Niv_Gr</th></tr><tr><td>str</td><td>i64</td><td>str</td><td>str</td><td>str</td><td>str</td><td>str</td><td>i64</td></tr></thead><tbody><tr><td>&quot;ESR-PIBT-PROD-…</td><td>17</td><td>&quot;ESR&quot;</td><td>&quot;PIBT&quot;</td><td>&quot;PROD&quot;</td><td>&quot;DES&quot;</td><td>&quot;CONST&quot;</td><td>5</td></tr><tr><td>&quot;ESR-PIBT-PROD-…</td><td>17</td><td>&quot;ESR&quot;</td><td>&quot;PIBT&quot;</td><td>&quot;PROD&quot;</td><td>&quot;OG&quot;</td><td>&quot;CONST&quot;</td><td>5</td></tr><tr><td>&quot;ESR-PIBT-PROD-…</td><td>17</td><td>&quot;ESR&quot;</td><td>&quot;PIBT&quot;</td><td>&quot;PROD&quot;</td><td>&quot;OG&quot;</td><td>&quot;CORR&quot;</td><td>5</td></tr><tr><td>&quot;ESR-PIBT-PROD-…</td><td>17</td><td>&quot;ESR&quot;</td><td>&quot;PIBT&quot;</td><td>&quot;PROD&quot;</td><td>&quot;DES&quot;</td><td>&quot;CORR&quot;</td><td>5</td></tr><tr><td>&quot;ESR-PIBT-GAST-…</td><td>7</td><td>&quot;ESR&quot;</td><td>&quot;PIBT&quot;</td><td>&quot;GAST&quot;</td><td>&quot;OG&quot;</td><td>&quot;CONST&quot;</td><td>5</td></tr><tr><td>&hellip;</td><td>&hellip;</td><td>&hellip;</td><td>&hellip;</td><td>&hellip;</td><td>&hellip;</td><td>&hellip;</td><td>&hellip;</td></tr><tr><td>&quot;EMF-PFS-01&quot;</td><td>3</td><td>&quot;EMF&quot;</td><td>&quot;PFS&quot;</td><td>&quot;01&quot;</td><td>null</td><td>null</td><td>3</td></tr><tr><td>&quot;EP-IPC-01&quot;</td><td>3</td><td>&quot;EP&quot;</td><td>&quot;IPC&quot;</td><td>&quot;01&quot;</td><td>null</td><td>null</td><td>3</td></tr><tr><td>&quot;EM-TPM-01&quot;</td><td>2</td><td>&quot;EM&quot;</td><td>&quot;TPM&quot;</td><td>&quot;01&quot;</td><td>null</td><td>null</td><td>3</td></tr><tr><td>&quot;EC-TCN-01&quot;</td><td>2</td><td>&quot;EC&quot;</td><td>&quot;TCN&quot;</td><td>&quot;01&quot;</td><td>null</td><td>null</td><td>3</td></tr><tr><td>&quot;EC-TCR&quot;</td><td>1</td><td>&quot;EC&quot;</td><td>&quot;TCR&quot;</td><td>null</td><td>null</td><td>null</td><td>2</td></tr></tbody></table></div>"
      ],
      "text/plain": [
       "shape: (54, 8)\n",
       "┌────────────────────┬─────────────┬──────────┬──────────┬──────────┬──────────┬──────────┬────────┐\n",
       "│ Grupo              ┆ N_Variables ┆ Niv_Gr_1 ┆ Niv_Gr_2 ┆ Niv_Gr_3 ┆ Niv_Gr_4 ┆ Niv_Gr_5 ┆ Niv_Gr │\n",
       "│ ---                ┆ ---         ┆ ---      ┆ ---      ┆ ---      ┆ ---      ┆ ---      ┆ ---    │\n",
       "│ str                ┆ i64         ┆ str      ┆ str      ┆ str      ┆ str      ┆ str      ┆ i64    │\n",
       "╞════════════════════╪═════════════╪══════════╪══════════╪══════════╪══════════╪══════════╪════════╡\n",
       "│ ESR-PIBT-PROD-DES- ┆ 17          ┆ ESR      ┆ PIBT     ┆ PROD     ┆ DES      ┆ CONST    ┆ 5      │\n",
       "│ CONST              ┆             ┆          ┆          ┆          ┆          ┆          ┆        │\n",
       "│ ESR-PIBT-PROD-OG-C ┆ 17          ┆ ESR      ┆ PIBT     ┆ PROD     ┆ OG       ┆ CONST    ┆ 5      │\n",
       "│ ONST               ┆             ┆          ┆          ┆          ┆          ┆          ┆        │\n",
       "│ ESR-PIBT-PROD-OG-C ┆ 17          ┆ ESR      ┆ PIBT     ┆ PROD     ┆ OG       ┆ CORR     ┆ 5      │\n",
       "│ ORR                ┆             ┆          ┆          ┆          ┆          ┆          ┆        │\n",
       "│ ESR-PIBT-PROD-DES- ┆ 17          ┆ ESR      ┆ PIBT     ┆ PROD     ┆ DES      ┆ CORR     ┆ 5      │\n",
       "│ CORR               ┆             ┆          ┆          ┆          ┆          ┆          ┆        │\n",
       "│ ESR-PIBT-GAST-OG-C ┆ 7           ┆ ESR      ┆ PIBT     ┆ GAST     ┆ OG       ┆ CONST    ┆ 5      │\n",
       "│ ONST               ┆             ┆          ┆          ┆          ┆          ┆          ┆        │\n",
       "│ …                  ┆ …           ┆ …        ┆ …        ┆ …        ┆ …        ┆ …        ┆ …      │\n",
       "│ EMF-PFS-01         ┆ 3           ┆ EMF      ┆ PFS      ┆ 01       ┆ null     ┆ null     ┆ 3      │\n",
       "│ EP-IPC-01          ┆ 3           ┆ EP       ┆ IPC      ┆ 01       ┆ null     ┆ null     ┆ 3      │\n",
       "│ EM-TPM-01          ┆ 2           ┆ EM       ┆ TPM      ┆ 01       ┆ null     ┆ null     ┆ 3      │\n",
       "│ EC-TCN-01          ┆ 2           ┆ EC       ┆ TCN      ┆ 01       ┆ null     ┆ null     ┆ 3      │\n",
       "│ EC-TCR             ┆ 1           ┆ EC       ┆ TCR      ┆ null     ┆ null     ┆ null     ┆ 2      │\n",
       "└────────────────────┴─────────────┴──────────┴──────────┴──────────┴──────────┴──────────┴────────┘"
      ]
     },
     "execution_count": 4,
     "metadata": {},
     "output_type": "execute_result"
    }
   ],
   "source": [
    "# Agregar niveles de Descripción y Grupo\n",
    "df_all = dfmeta\n",
    "df_all[['Niv_Descr_1','Niv_Descr_2','Niv_Descr_3','Niv_Descr_4','Niv_Descr_5','Niv_Descr_6','Niv_Descr_7','Niv_Descr_8']] = df_all['Descripcion'].str.split(\n",
    "    '-',expand=True)\n",
    "df_all[\"Niv_Descr\"] = df_all.notnull().sum(axis=1) - 6\n",
    "df_all[\n",
    "    ['Niv_Gr_1','Niv_Gr_2','Niv_Gr_3','Niv_Gr_4','Niv_Gr_5']]  = df_all['Grupo'].str.split('-',expand=True)\n",
    "df_all[\"Niv_Gr\"] = df_all.notnull().sum(axis=1) - 2\n",
    "df_all = pl.DataFrame(df_all)\n",
    "df_all.write_csv(\n",
    "        \"api/variables.csv\",\n",
    "        separator=\";\")\n",
    "\n",
    "# Resumen por Grupo\n",
    "variable = \"Grupo\"\n",
    "res_grupo = df_all.group_by(variable\n",
    "    ).agg(\n",
    "    pl.col(\"Id\").len().alias(\"N_Variables\"),\n",
    "    ).sort(\"N_Variables\",descending=True)\n",
    "print(str(res_grupo[\"N_Variables\"].sum()) + \" variables\")\n",
    "print(str(len(res_grupo)) + \" grupos\")\n",
    "res_grupo = pd.DataFrame(res_grupo)\n",
    "res_grupo.columns = [\"Grupo\",\"N_Variables\"]\n",
    "res_grupo[\n",
    "    ['Niv_Gr_1','Niv_Gr_2','Niv_Gr_3','Niv_Gr_4','Niv_Gr_5']]  = res_grupo['Grupo'].str.split('-',expand=True)\n",
    "res_grupo[\"Niv_Gr\"] = res_grupo.notnull().sum(axis=1) - 2\n",
    "res_grupo = res_grupo.sort_values(\n",
    "    [\"Niv_Gr\",\"N_Variables\"], \n",
    "    ascending=[False,False])\n",
    "res_grupo = pl.DataFrame(res_grupo)\n",
    "res_grupo.write_csv(\n",
    "        \"api/grupos.csv\",\n",
    "        separator=\";\")\n",
    "\n",
    "res_grupo"
   ]
  },
  {
   "cell_type": "markdown",
   "id": "55e10d27",
   "metadata": {},
   "source": [
    "Esta agrupación permite consolidar los archivos de acuerdo con el origen de los datos en la página web del BCH, que en su mayoría pueden consultarse en los [reportes dinámicos](https://www.bch.hn/estadisticas-y-publicaciones-economicas/reportes-dinamicos).\n",
    "\n",
    "- EOM = [Estadísticas de Operaciones Monetarias](https://www.bch.hn/estadisticas-y-publicaciones-economicas/reportes-dinamicos/operaciones-de-mercado-abierto)\n",
    "- ESR = [Estadísticas del Sector Real](https://www.bch.hn/estadisticas-y-publicaciones-economicas/reportes-dinamicos/sector-real)\n",
    "- ESE = [Estadísticas del Sector Externo](https://www.bch.hn/estadisticas-y-publicaciones-economicas/reportes-dinamicos/sector-externo)\n",
    "- EMF = [Estadísiticas Monetarias y Financieras (Sector Fiscal)](https://www.bch.hn/estadisticas-y-publicaciones-economicas/reportes-dinamicos/sector-fiscal)\n",
    "- EM = [Estadísticas Monetarias (TPM y RIN)](https://www.bch.hn/estadisticas-y-publicaciones-economicas/reportes-dinamicos/sector-monetario)\n",
    "- ESP = [Estadísticas de Sistema de Pagos](https://www.bch.hn/estadisticas-y-publicaciones-economicas/reportes-dinamicos/sistema-de-pagos)\n",
    "- EC = [Estadísticas de Tipo de Cambio](https://www.bch.hn/estadisticas-y-publicaciones-economicas/reportes-dinamicos/tipo-de-cambio)\n",
    "- EP = [Estadísticas de Precios](https://www.bch.hn/estadisticas-y-publicaciones-economicas/reportes-dinamicos/precios)\n"
   ]
  },
  {
   "cell_type": "code",
   "execution_count": 5,
   "id": "a03fd3dd",
   "metadata": {},
   "outputs": [
    {
     "name": "stdout",
     "output_type": "stream",
     "text": [
      "11519 variables\n",
      "8 grupos\n",
      "25 subgrupos\n"
     ]
    },
    {
     "data": {
      "text/html": [
       "<div><style>\n",
       ".dataframe > thead > tr,\n",
       ".dataframe > tbody > tr {\n",
       "  text-align: right;\n",
       "  white-space: pre-wrap;\n",
       "}\n",
       "</style>\n",
       "<small>shape: (8, 3)</small><table border=\"1\" class=\"dataframe\"><thead><tr><th>Niv_Gr_1</th><th>N_Variables</th><th>N_Subgrupos</th></tr><tr><td>str</td><td>u32</td><td>u32</td></tr></thead><tbody><tr><td>&quot;EOM&quot;</td><td>5575</td><td>1</td></tr><tr><td>&quot;ESR&quot;</td><td>4447</td><td>7</td></tr><tr><td>&quot;ESE&quot;</td><td>1313</td><td>6</td></tr><tr><td>&quot;EMF&quot;</td><td>158</td><td>4</td></tr><tr><td>&quot;EM&quot;</td><td>12</td><td>2</td></tr><tr><td>&quot;ESP&quot;</td><td>8</td><td>2</td></tr><tr><td>&quot;EC&quot;</td><td>3</td><td>2</td></tr><tr><td>&quot;EP&quot;</td><td>3</td><td>1</td></tr></tbody></table></div>"
      ],
      "text/plain": [
       "shape: (8, 3)\n",
       "┌──────────┬─────────────┬─────────────┐\n",
       "│ Niv_Gr_1 ┆ N_Variables ┆ N_Subgrupos │\n",
       "│ ---      ┆ ---         ┆ ---         │\n",
       "│ str      ┆ u32         ┆ u32         │\n",
       "╞══════════╪═════════════╪═════════════╡\n",
       "│ EOM      ┆ 5575        ┆ 1           │\n",
       "│ ESR      ┆ 4447        ┆ 7           │\n",
       "│ ESE      ┆ 1313        ┆ 6           │\n",
       "│ EMF      ┆ 158         ┆ 4           │\n",
       "│ EM       ┆ 12          ┆ 2           │\n",
       "│ ESP      ┆ 8           ┆ 2           │\n",
       "│ EC       ┆ 3           ┆ 2           │\n",
       "│ EP       ┆ 3           ┆ 1           │\n",
       "└──────────┴─────────────┴─────────────┘"
      ]
     },
     "execution_count": 5,
     "metadata": {},
     "output_type": "execute_result"
    }
   ],
   "source": [
    "res = res_nivel_1()\n",
    "res"
   ]
  },
  {
   "cell_type": "markdown",
   "id": "4a78d93a",
   "metadata": {},
   "source": [
    "A continuación se presentan los detalles del primer niivel de agregación, ordenados de acuerdo al número de variables que contienen.\n",
    "\n",
    "### EOM = Estadísticas de Operaciones Monetarias\n"
   ]
  },
  {
   "cell_type": "code",
   "execution_count": 6,
   "id": "4e22d24e",
   "metadata": {},
   "outputs": [
    {
     "name": "stdout",
     "output_type": "stream",
     "text": [
      "5575 variables\n",
      "1 grupos\n",
      "4 subgrupos\n"
     ]
    },
    {
     "data": {
      "text/html": [
       "<div><style>\n",
       ".dataframe > thead > tr,\n",
       ".dataframe > tbody > tr {\n",
       "  text-align: right;\n",
       "  white-space: pre-wrap;\n",
       "}\n",
       "</style>\n",
       "<small>shape: (1, 4)</small><table border=\"1\" class=\"dataframe\"><thead><tr><th>Niv_Gr_1</th><th>Niv_Gr_2</th><th>N_Variables</th><th>N_Niv_Gr_2</th></tr><tr><td>str</td><td>str</td><td>u32</td><td>u32</td></tr></thead><tbody><tr><td>&quot;EOM&quot;</td><td>&quot;OMA&quot;</td><td>5575</td><td>4</td></tr></tbody></table></div>"
      ],
      "text/plain": [
       "shape: (1, 4)\n",
       "┌──────────┬──────────┬─────────────┬────────────┐\n",
       "│ Niv_Gr_1 ┆ Niv_Gr_2 ┆ N_Variables ┆ N_Niv_Gr_2 │\n",
       "│ ---      ┆ ---      ┆ ---         ┆ ---        │\n",
       "│ str      ┆ str      ┆ u32         ┆ u32        │\n",
       "╞══════════╪══════════╪═════════════╪════════════╡\n",
       "│ EOM      ┆ OMA      ┆ 5575        ┆ 4          │\n",
       "└──────────┴──────────┴─────────────┴────────────┘"
      ]
     },
     "execution_count": 6,
     "metadata": {},
     "output_type": "execute_result"
    }
   ],
   "source": [
    "res_nivel_2(\"EOM\")"
   ]
  },
  {
   "cell_type": "markdown",
   "id": "2329f5fc",
   "metadata": {},
   "source": [
    "- OMA = Operaciones de Mercado Abierto\n",
    "\n",
    "#### OMA = Operaciones de Mercado Abierto\n"
   ]
  },
  {
   "cell_type": "code",
   "execution_count": 7,
   "id": "338abe14",
   "metadata": {},
   "outputs": [
    {
     "name": "stdout",
     "output_type": "stream",
     "text": [
      "4 subgrupos\n",
      "5575 variables\n"
     ]
    },
    {
     "data": {
      "text/html": [
       "<div><style>\n",
       ".dataframe > thead > tr,\n",
       ".dataframe > tbody > tr {\n",
       "  text-align: right;\n",
       "  white-space: pre-wrap;\n",
       "}\n",
       "</style>\n",
       "<small>shape: (4, 4)</small><table border=\"1\" class=\"dataframe\"><thead><tr><th>Niv_Gr_1</th><th>Niv_Gr_2</th><th>Niv_Gr_3</th><th>N_Variables</th></tr><tr><td>str</td><td>str</td><td>str</td><td>u32</td></tr></thead><tbody><tr><td>&quot;EOM&quot;</td><td>&quot;OMA&quot;</td><td>&quot;01&quot;</td><td>5560</td></tr><tr><td>&quot;EOM&quot;</td><td>&quot;OMA&quot;</td><td>&quot;02&quot;</td><td>6</td></tr><tr><td>&quot;EOM&quot;</td><td>&quot;OMA&quot;</td><td>&quot;04&quot;</td><td>6</td></tr><tr><td>&quot;EOM&quot;</td><td>&quot;OMA&quot;</td><td>&quot;03&quot;</td><td>3</td></tr></tbody></table></div>"
      ],
      "text/plain": [
       "shape: (4, 4)\n",
       "┌──────────┬──────────┬──────────┬─────────────┐\n",
       "│ Niv_Gr_1 ┆ Niv_Gr_2 ┆ Niv_Gr_3 ┆ N_Variables │\n",
       "│ ---      ┆ ---      ┆ ---      ┆ ---         │\n",
       "│ str      ┆ str      ┆ str      ┆ u32         │\n",
       "╞══════════╪══════════╪══════════╪═════════════╡\n",
       "│ EOM      ┆ OMA      ┆ 01       ┆ 5560        │\n",
       "│ EOM      ┆ OMA      ┆ 02       ┆ 6           │\n",
       "│ EOM      ┆ OMA      ┆ 04       ┆ 6           │\n",
       "│ EOM      ┆ OMA      ┆ 03       ┆ 3           │\n",
       "└──────────┴──────────┴──────────┴─────────────┘"
      ]
     },
     "execution_count": 7,
     "metadata": {},
     "output_type": "execute_result"
    }
   ],
   "source": [
    "res_nivel_3(\"EOM\",\"OMA\",\"Niv_Gr_3\")"
   ]
  },
  {
   "cell_type": "markdown",
   "id": "f0853011",
   "metadata": {},
   "source": [
    "###### 01 = Tasas de Rendimiento Diario de Valores Gubernamentales \n"
   ]
  },
  {
   "cell_type": "code",
   "execution_count": 8,
   "id": "c0da2977",
   "metadata": {},
   "outputs": [
    {
     "data": {
      "text/html": [
       "<div><style>\n",
       ".dataframe > thead > tr,\n",
       ".dataframe > tbody > tr {\n",
       "  text-align: right;\n",
       "  white-space: pre-wrap;\n",
       "}\n",
       "</style>\n",
       "<small>shape: (1, 5)</small><table border=\"1\" class=\"dataframe\"><thead><tr><th>Niv_Gr_1</th><th>Niv_Gr_2</th><th>Niv_Gr_3</th><th>Niv_Descr_1</th><th>N_Variables</th></tr><tr><td>str</td><td>str</td><td>str</td><td>str</td><td>u32</td></tr></thead><tbody><tr><td>&quot;EOM&quot;</td><td>&quot;OMA&quot;</td><td>&quot;01&quot;</td><td>&quot;Tasas de Rendi…</td><td>5560</td></tr></tbody></table></div>"
      ],
      "text/plain": [
       "shape: (1, 5)\n",
       "┌──────────┬──────────┬──────────┬───────────────────────────────────┬─────────────┐\n",
       "│ Niv_Gr_1 ┆ Niv_Gr_2 ┆ Niv_Gr_3 ┆ Niv_Descr_1                       ┆ N_Variables │\n",
       "│ ---      ┆ ---      ┆ ---      ┆ ---                               ┆ ---         │\n",
       "│ str      ┆ str      ┆ str      ┆ str                               ┆ u32         │\n",
       "╞══════════╪══════════╪══════════╪═══════════════════════════════════╪═════════════╡\n",
       "│ EOM      ┆ OMA      ┆ 01       ┆ Tasas de Rendimiento Diario de V… ┆ 5560        │\n",
       "└──────────┴──────────┴──────────┴───────────────────────────────────┴─────────────┘"
      ]
     },
     "execution_count": 8,
     "metadata": {},
     "output_type": "execute_result"
    }
   ],
   "source": [
    "res_nivel_4(\n",
    "    \"EOM\",\"OMA\",\n",
    "    \"Niv_Gr_3\",\"01\",\n",
    "    \"Niv_Descr_1\")"
   ]
  },
  {
   "cell_type": "markdown",
   "id": "d8809aae",
   "metadata": {},
   "source": [
    "Para ver todas las variables:\n"
   ]
  },
  {
   "cell_type": "code",
   "execution_count": 9,
   "id": "95376022",
   "metadata": {},
   "outputs": [
    {
     "data": {
      "text/html": [
       "<div><style>\n",
       ".dataframe > thead > tr,\n",
       ".dataframe > tbody > tr {\n",
       "  text-align: right;\n",
       "  white-space: pre-wrap;\n",
       "}\n",
       "</style>\n",
       "<small>shape: (5_560, 6)</small><table border=\"1\" class=\"dataframe\"><thead><tr><th>Niv_Gr_1</th><th>Niv_Gr_2</th><th>Niv_Gr_3</th><th>Nombre</th><th>Niv_Descr_1</th><th>N_Variables</th></tr><tr><td>str</td><td>str</td><td>str</td><td>str</td><td>str</td><td>u32</td></tr></thead><tbody><tr><td>&quot;EOM&quot;</td><td>&quot;OMA&quot;</td><td>&quot;01&quot;</td><td>&quot;EOM-OMA-01-1&quot;</td><td>&quot;Tasas de Rendi…</td><td>1</td></tr><tr><td>&quot;EOM&quot;</td><td>&quot;OMA&quot;</td><td>&quot;01&quot;</td><td>&quot;EOM-OMA-01-10&quot;</td><td>&quot;Tasas de Rendi…</td><td>1</td></tr><tr><td>&quot;EOM&quot;</td><td>&quot;OMA&quot;</td><td>&quot;01&quot;</td><td>&quot;EOM-OMA-01-100…</td><td>&quot;Tasas de Rendi…</td><td>1</td></tr><tr><td>&quot;EOM&quot;</td><td>&quot;OMA&quot;</td><td>&quot;01&quot;</td><td>&quot;EOM-OMA-01-100…</td><td>&quot;Tasas de Rendi…</td><td>1</td></tr><tr><td>&quot;EOM&quot;</td><td>&quot;OMA&quot;</td><td>&quot;01&quot;</td><td>&quot;EOM-OMA-01-100…</td><td>&quot;Tasas de Rendi…</td><td>1</td></tr><tr><td>&hellip;</td><td>&hellip;</td><td>&hellip;</td><td>&hellip;</td><td>&hellip;</td><td>&hellip;</td></tr><tr><td>&quot;EOM&quot;</td><td>&quot;OMA&quot;</td><td>&quot;01&quot;</td><td>&quot;EOM-OMA-01-995…</td><td>&quot;Tasas de Rendi…</td><td>1</td></tr><tr><td>&quot;EOM&quot;</td><td>&quot;OMA&quot;</td><td>&quot;01&quot;</td><td>&quot;EOM-OMA-01-996…</td><td>&quot;Tasas de Rendi…</td><td>1</td></tr><tr><td>&quot;EOM&quot;</td><td>&quot;OMA&quot;</td><td>&quot;01&quot;</td><td>&quot;EOM-OMA-01-997…</td><td>&quot;Tasas de Rendi…</td><td>1</td></tr><tr><td>&quot;EOM&quot;</td><td>&quot;OMA&quot;</td><td>&quot;01&quot;</td><td>&quot;EOM-OMA-01-998…</td><td>&quot;Tasas de Rendi…</td><td>1</td></tr><tr><td>&quot;EOM&quot;</td><td>&quot;OMA&quot;</td><td>&quot;01&quot;</td><td>&quot;EOM-OMA-01-999…</td><td>&quot;Tasas de Rendi…</td><td>1</td></tr></tbody></table></div>"
      ],
      "text/plain": [
       "shape: (5_560, 6)\n",
       "┌──────────┬──────────┬──────────┬─────────────────┬─────────────────────────────────┬─────────────┐\n",
       "│ Niv_Gr_1 ┆ Niv_Gr_2 ┆ Niv_Gr_3 ┆ Nombre          ┆ Niv_Descr_1                     ┆ N_Variables │\n",
       "│ ---      ┆ ---      ┆ ---      ┆ ---             ┆ ---                             ┆ ---         │\n",
       "│ str      ┆ str      ┆ str      ┆ str             ┆ str                             ┆ u32         │\n",
       "╞══════════╪══════════╪══════════╪═════════════════╪═════════════════════════════════╪═════════════╡\n",
       "│ EOM      ┆ OMA      ┆ 01       ┆ EOM-OMA-01-1    ┆ Tasas de Rendimiento Diario de  ┆ 1           │\n",
       "│          ┆          ┆          ┆                 ┆ V…                              ┆             │\n",
       "│ EOM      ┆ OMA      ┆ 01       ┆ EOM-OMA-01-10   ┆ Tasas de Rendimiento Diario de  ┆ 1           │\n",
       "│          ┆          ┆          ┆                 ┆ V…                              ┆             │\n",
       "│ EOM      ┆ OMA      ┆ 01       ┆ EOM-OMA-01-100  ┆ Tasas de Rendimiento Diario de  ┆ 1           │\n",
       "│          ┆          ┆          ┆                 ┆ V…                              ┆             │\n",
       "│ EOM      ┆ OMA      ┆ 01       ┆ EOM-OMA-01-1000 ┆ Tasas de Rendimiento Diario de  ┆ 1           │\n",
       "│          ┆          ┆          ┆                 ┆ V…                              ┆             │\n",
       "│ EOM      ┆ OMA      ┆ 01       ┆ EOM-OMA-01-1001 ┆ Tasas de Rendimiento Diario de  ┆ 1           │\n",
       "│          ┆          ┆          ┆                 ┆ V…                              ┆             │\n",
       "│ …        ┆ …        ┆ …        ┆ …               ┆ …                               ┆ …           │\n",
       "│ EOM      ┆ OMA      ┆ 01       ┆ EOM-OMA-01-995  ┆ Tasas de Rendimiento Diario de  ┆ 1           │\n",
       "│          ┆          ┆          ┆                 ┆ V…                              ┆             │\n",
       "│ EOM      ┆ OMA      ┆ 01       ┆ EOM-OMA-01-996  ┆ Tasas de Rendimiento Diario de  ┆ 1           │\n",
       "│          ┆          ┆          ┆                 ┆ V…                              ┆             │\n",
       "│ EOM      ┆ OMA      ┆ 01       ┆ EOM-OMA-01-997  ┆ Tasas de Rendimiento Diario de  ┆ 1           │\n",
       "│          ┆          ┆          ┆                 ┆ V…                              ┆             │\n",
       "│ EOM      ┆ OMA      ┆ 01       ┆ EOM-OMA-01-998  ┆ Tasas de Rendimiento Diario de  ┆ 1           │\n",
       "│          ┆          ┆          ┆                 ┆ V…                              ┆             │\n",
       "│ EOM      ┆ OMA      ┆ 01       ┆ EOM-OMA-01-999  ┆ Tasas de Rendimiento Diario de  ┆ 1           │\n",
       "│          ┆          ┆          ┆                 ┆ V…                              ┆             │\n",
       "└──────────┴──────────┴──────────┴─────────────────┴─────────────────────────────────┴─────────────┘"
      ]
     },
     "execution_count": 9,
     "metadata": {},
     "output_type": "execute_result"
    }
   ],
   "source": [
    "res_nivel_5(\n",
    "    \"EOM\",\"OMA\",\n",
    "    \"Niv_Gr_3\",\"01\",\n",
    "    \"Nombre\",\"Niv_Descr_1\").sort(\"Nombre\")"
   ]
  },
  {
   "cell_type": "markdown",
   "id": "abf59ce3",
   "metadata": {},
   "source": [
    "###### 02 = Créditos (Niv_Descr_4 = 1-3) e Inversiones (Niv_Descr_4 = 4-6): Monto, Número de Solicitudes y Tasa\n"
   ]
  },
  {
   "cell_type": "code",
   "execution_count": 10,
   "id": "ff77eb54",
   "metadata": {},
   "outputs": [
    {
     "data": {
      "text/html": [
       "<div><style>\n",
       ".dataframe > thead > tr,\n",
       ".dataframe > tbody > tr {\n",
       "  text-align: right;\n",
       "  white-space: pre-wrap;\n",
       "}\n",
       "</style>\n",
       "<small>shape: (2, 5)</small><table border=\"1\" class=\"dataframe\"><thead><tr><th>Niv_Gr_1</th><th>Niv_Gr_2</th><th>Niv_Gr_3</th><th>Niv_Descr_5</th><th>N_Variables</th></tr><tr><td>str</td><td>str</td><td>str</td><td>str</td><td>u32</td></tr></thead><tbody><tr><td>&quot;EOM&quot;</td><td>&quot;OMA&quot;</td><td>&quot;02&quot;</td><td>&quot;Inversiones&quot;</td><td>3</td></tr><tr><td>&quot;EOM&quot;</td><td>&quot;OMA&quot;</td><td>&quot;02&quot;</td><td>&quot;Créditos&quot;</td><td>3</td></tr></tbody></table></div>"
      ],
      "text/plain": [
       "shape: (2, 5)\n",
       "┌──────────┬──────────┬──────────┬─────────────┬─────────────┐\n",
       "│ Niv_Gr_1 ┆ Niv_Gr_2 ┆ Niv_Gr_3 ┆ Niv_Descr_5 ┆ N_Variables │\n",
       "│ ---      ┆ ---      ┆ ---      ┆ ---         ┆ ---         │\n",
       "│ str      ┆ str      ┆ str      ┆ str         ┆ u32         │\n",
       "╞══════════╪══════════╪══════════╪═════════════╪═════════════╡\n",
       "│ EOM      ┆ OMA      ┆ 02       ┆ Inversiones ┆ 3           │\n",
       "│ EOM      ┆ OMA      ┆ 02       ┆ Créditos    ┆ 3           │\n",
       "└──────────┴──────────┴──────────┴─────────────┴─────────────┘"
      ]
     },
     "execution_count": 10,
     "metadata": {},
     "output_type": "execute_result"
    }
   ],
   "source": [
    "res_nivel_4(\n",
    "    \"EOM\",\"OMA\",\n",
    "    \"Niv_Gr_3\",\"02\",\n",
    "    \"Niv_Descr_5\")"
   ]
  },
  {
   "cell_type": "markdown",
   "id": "590ac510",
   "metadata": {},
   "source": [
    "Para ver todas las variables:\n"
   ]
  },
  {
   "cell_type": "code",
   "execution_count": 11,
   "id": "c0dbafdf",
   "metadata": {},
   "outputs": [
    {
     "data": {
      "text/html": [
       "<div><style>\n",
       ".dataframe > thead > tr,\n",
       ".dataframe > tbody > tr {\n",
       "  text-align: right;\n",
       "  white-space: pre-wrap;\n",
       "}\n",
       "</style>\n",
       "<small>shape: (6, 7)</small><table border=\"1\" class=\"dataframe\"><thead><tr><th>Niv_Gr_1</th><th>Niv_Gr_2</th><th>Niv_Gr_3</th><th>Nombre</th><th>Niv_Descr_5</th><th>Niv_Descr_6</th><th>N_Variables</th></tr><tr><td>str</td><td>str</td><td>str</td><td>str</td><td>str</td><td>str</td><td>u32</td></tr></thead><tbody><tr><td>&quot;EOM&quot;</td><td>&quot;OMA&quot;</td><td>&quot;02&quot;</td><td>&quot;EOM-OMA-02-1&quot;</td><td>&quot;Créditos&quot;</td><td>&quot;Monto&quot;</td><td>1</td></tr><tr><td>&quot;EOM&quot;</td><td>&quot;OMA&quot;</td><td>&quot;02&quot;</td><td>&quot;EOM-OMA-02-2&quot;</td><td>&quot;Créditos&quot;</td><td>&quot;Número de Soli…</td><td>1</td></tr><tr><td>&quot;EOM&quot;</td><td>&quot;OMA&quot;</td><td>&quot;02&quot;</td><td>&quot;EOM-OMA-02-3&quot;</td><td>&quot;Créditos&quot;</td><td>&quot;Tasa&quot;</td><td>1</td></tr><tr><td>&quot;EOM&quot;</td><td>&quot;OMA&quot;</td><td>&quot;02&quot;</td><td>&quot;EOM-OMA-02-4&quot;</td><td>&quot;Inversiones&quot;</td><td>&quot;Monto&quot;</td><td>1</td></tr><tr><td>&quot;EOM&quot;</td><td>&quot;OMA&quot;</td><td>&quot;02&quot;</td><td>&quot;EOM-OMA-02-5&quot;</td><td>&quot;Inversiones&quot;</td><td>&quot;Número de Soli…</td><td>1</td></tr><tr><td>&quot;EOM&quot;</td><td>&quot;OMA&quot;</td><td>&quot;02&quot;</td><td>&quot;EOM-OMA-02-6&quot;</td><td>&quot;Inversiones&quot;</td><td>&quot;Tasa&quot;</td><td>1</td></tr></tbody></table></div>"
      ],
      "text/plain": [
       "shape: (6, 7)\n",
       "┌──────────┬──────────┬──────────┬──────────────┬─────────────┬─────────────┬─────────────┐\n",
       "│ Niv_Gr_1 ┆ Niv_Gr_2 ┆ Niv_Gr_3 ┆ Nombre       ┆ Niv_Descr_5 ┆ Niv_Descr_6 ┆ N_Variables │\n",
       "│ ---      ┆ ---      ┆ ---      ┆ ---          ┆ ---         ┆ ---         ┆ ---         │\n",
       "│ str      ┆ str      ┆ str      ┆ str          ┆ str         ┆ str         ┆ u32         │\n",
       "╞══════════╪══════════╪══════════╪══════════════╪═════════════╪═════════════╪═════════════╡\n",
       "│ EOM      ┆ OMA      ┆ 02       ┆ EOM-OMA-02-1 ┆ Créditos    ┆ Monto       ┆ 1           │\n",
       "│ EOM      ┆ OMA      ┆ 02       ┆ EOM-OMA-02-2 ┆ Créditos    ┆ Número de   ┆ 1           │\n",
       "│          ┆          ┆          ┆              ┆             ┆ Solicitudes ┆             │\n",
       "│ EOM      ┆ OMA      ┆ 02       ┆ EOM-OMA-02-3 ┆ Créditos    ┆ Tasa        ┆ 1           │\n",
       "│ EOM      ┆ OMA      ┆ 02       ┆ EOM-OMA-02-4 ┆ Inversiones ┆ Monto       ┆ 1           │\n",
       "│ EOM      ┆ OMA      ┆ 02       ┆ EOM-OMA-02-5 ┆ Inversiones ┆ Número de   ┆ 1           │\n",
       "│          ┆          ┆          ┆              ┆             ┆ Solicitudes ┆             │\n",
       "│ EOM      ┆ OMA      ┆ 02       ┆ EOM-OMA-02-6 ┆ Inversiones ┆ Tasa        ┆ 1           │\n",
       "└──────────┴──────────┴──────────┴──────────────┴─────────────┴─────────────┴─────────────┘"
      ]
     },
     "execution_count": 11,
     "metadata": {},
     "output_type": "execute_result"
    }
   ],
   "source": [
    "res_nivel_6(\n",
    "    \"EOM\",\"OMA\",\n",
    "    \"Niv_Gr_3\",\"02\",\n",
    "    \"Nombre\",\"Niv_Descr_5\",\"Niv_Descr_6\").sort(\"Nombre\")"
   ]
  },
  {
   "cell_type": "markdown",
   "id": "22ad7aaf",
   "metadata": {},
   "source": [
    "###### 03 = Monto, Número de Operaciones y Tasa\n"
   ]
  },
  {
   "cell_type": "code",
   "execution_count": 12,
   "id": "d3f0a632",
   "metadata": {},
   "outputs": [
    {
     "data": {
      "text/html": [
       "<div><style>\n",
       ".dataframe > thead > tr,\n",
       ".dataframe > tbody > tr {\n",
       "  text-align: right;\n",
       "  white-space: pre-wrap;\n",
       "}\n",
       "</style>\n",
       "<small>shape: (3, 5)</small><table border=\"1\" class=\"dataframe\"><thead><tr><th>Niv_Gr_1</th><th>Niv_Gr_2</th><th>Niv_Gr_3</th><th>Niv_Descr_5</th><th>N_Variables</th></tr><tr><td>str</td><td>str</td><td>str</td><td>str</td><td>u32</td></tr></thead><tbody><tr><td>&quot;EOM&quot;</td><td>&quot;OMA&quot;</td><td>&quot;03&quot;</td><td>&quot;Monto&quot;</td><td>1</td></tr><tr><td>&quot;EOM&quot;</td><td>&quot;OMA&quot;</td><td>&quot;03&quot;</td><td>&quot;Número de Oper…</td><td>1</td></tr><tr><td>&quot;EOM&quot;</td><td>&quot;OMA&quot;</td><td>&quot;03&quot;</td><td>&quot;Tasa&quot;</td><td>1</td></tr></tbody></table></div>"
      ],
      "text/plain": [
       "shape: (3, 5)\n",
       "┌──────────┬──────────┬──────────┬───────────────────────┬─────────────┐\n",
       "│ Niv_Gr_1 ┆ Niv_Gr_2 ┆ Niv_Gr_3 ┆ Niv_Descr_5           ┆ N_Variables │\n",
       "│ ---      ┆ ---      ┆ ---      ┆ ---                   ┆ ---         │\n",
       "│ str      ┆ str      ┆ str      ┆ str                   ┆ u32         │\n",
       "╞══════════╪══════════╪══════════╪═══════════════════════╪═════════════╡\n",
       "│ EOM      ┆ OMA      ┆ 03       ┆ Monto                 ┆ 1           │\n",
       "│ EOM      ┆ OMA      ┆ 03       ┆ Número de Operaciones ┆ 1           │\n",
       "│ EOM      ┆ OMA      ┆ 03       ┆ Tasa                  ┆ 1           │\n",
       "└──────────┴──────────┴──────────┴───────────────────────┴─────────────┘"
      ]
     },
     "execution_count": 12,
     "metadata": {},
     "output_type": "execute_result"
    }
   ],
   "source": [
    "res_nivel_4(\n",
    "    \"EOM\",\"OMA\",\n",
    "    \"Niv_Gr_3\",\"03\",\n",
    "    \"Niv_Descr_5\")"
   ]
  },
  {
   "cell_type": "markdown",
   "id": "579b6999",
   "metadata": {},
   "source": [
    "Para ver todas las variables:\n"
   ]
  },
  {
   "cell_type": "code",
   "execution_count": 13,
   "id": "08827947",
   "metadata": {},
   "outputs": [
    {
     "data": {
      "text/html": [
       "<div><style>\n",
       ".dataframe > thead > tr,\n",
       ".dataframe > tbody > tr {\n",
       "  text-align: right;\n",
       "  white-space: pre-wrap;\n",
       "}\n",
       "</style>\n",
       "<small>shape: (3, 6)</small><table border=\"1\" class=\"dataframe\"><thead><tr><th>Niv_Gr_1</th><th>Niv_Gr_2</th><th>Niv_Gr_3</th><th>Nombre</th><th>Niv_Descr_5</th><th>N_Variables</th></tr><tr><td>str</td><td>str</td><td>str</td><td>str</td><td>str</td><td>u32</td></tr></thead><tbody><tr><td>&quot;EOM&quot;</td><td>&quot;OMA&quot;</td><td>&quot;03&quot;</td><td>&quot;EOM-OMA-03-1&quot;</td><td>&quot;Monto&quot;</td><td>1</td></tr><tr><td>&quot;EOM&quot;</td><td>&quot;OMA&quot;</td><td>&quot;03&quot;</td><td>&quot;EOM-OMA-03-2&quot;</td><td>&quot;Número de Oper…</td><td>1</td></tr><tr><td>&quot;EOM&quot;</td><td>&quot;OMA&quot;</td><td>&quot;03&quot;</td><td>&quot;EOM-OMA-03-3&quot;</td><td>&quot;Tasa&quot;</td><td>1</td></tr></tbody></table></div>"
      ],
      "text/plain": [
       "shape: (3, 6)\n",
       "┌──────────┬──────────┬──────────┬──────────────┬───────────────────────┬─────────────┐\n",
       "│ Niv_Gr_1 ┆ Niv_Gr_2 ┆ Niv_Gr_3 ┆ Nombre       ┆ Niv_Descr_5           ┆ N_Variables │\n",
       "│ ---      ┆ ---      ┆ ---      ┆ ---          ┆ ---                   ┆ ---         │\n",
       "│ str      ┆ str      ┆ str      ┆ str          ┆ str                   ┆ u32         │\n",
       "╞══════════╪══════════╪══════════╪══════════════╪═══════════════════════╪═════════════╡\n",
       "│ EOM      ┆ OMA      ┆ 03       ┆ EOM-OMA-03-1 ┆ Monto                 ┆ 1           │\n",
       "│ EOM      ┆ OMA      ┆ 03       ┆ EOM-OMA-03-2 ┆ Número de Operaciones ┆ 1           │\n",
       "│ EOM      ┆ OMA      ┆ 03       ┆ EOM-OMA-03-3 ┆ Tasa                  ┆ 1           │\n",
       "└──────────┴──────────┴──────────┴──────────────┴───────────────────────┴─────────────┘"
      ]
     },
     "execution_count": 13,
     "metadata": {},
     "output_type": "execute_result"
    }
   ],
   "source": [
    "res_nivel_5(\n",
    "    \"EOM\",\"OMA\",\n",
    "    \"Niv_Gr_3\",\"03\",\n",
    "    \"Nombre\",\"Niv_Descr_5\").sort(\"Nombre\")"
   ]
  },
  {
   "cell_type": "markdown",
   "id": "a05a2c24",
   "metadata": {},
   "source": [
    "###### 04 = Monto, Número de Operaciones y Tasa (Dólares - Lempiras)\n"
   ]
  },
  {
   "cell_type": "code",
   "execution_count": 14,
   "id": "4d201dac",
   "metadata": {},
   "outputs": [
    {
     "data": {
      "text/html": [
       "<div><style>\n",
       ".dataframe > thead > tr,\n",
       ".dataframe > tbody > tr {\n",
       "  text-align: right;\n",
       "  white-space: pre-wrap;\n",
       "}\n",
       "</style>\n",
       "<small>shape: (3, 5)</small><table border=\"1\" class=\"dataframe\"><thead><tr><th>Niv_Gr_1</th><th>Niv_Gr_2</th><th>Niv_Gr_3</th><th>Niv_Descr_5</th><th>N_Variables</th></tr><tr><td>str</td><td>str</td><td>str</td><td>str</td><td>u32</td></tr></thead><tbody><tr><td>&quot;EOM&quot;</td><td>&quot;OMA&quot;</td><td>&quot;04&quot;</td><td>&quot;Monto&quot;</td><td>2</td></tr><tr><td>&quot;EOM&quot;</td><td>&quot;OMA&quot;</td><td>&quot;04&quot;</td><td>&quot;Tasa&quot;</td><td>2</td></tr><tr><td>&quot;EOM&quot;</td><td>&quot;OMA&quot;</td><td>&quot;04&quot;</td><td>&quot;Número de Oper…</td><td>2</td></tr></tbody></table></div>"
      ],
      "text/plain": [
       "shape: (3, 5)\n",
       "┌──────────┬──────────┬──────────┬───────────────────────┬─────────────┐\n",
       "│ Niv_Gr_1 ┆ Niv_Gr_2 ┆ Niv_Gr_3 ┆ Niv_Descr_5           ┆ N_Variables │\n",
       "│ ---      ┆ ---      ┆ ---      ┆ ---                   ┆ ---         │\n",
       "│ str      ┆ str      ┆ str      ┆ str                   ┆ u32         │\n",
       "╞══════════╪══════════╪══════════╪═══════════════════════╪═════════════╡\n",
       "│ EOM      ┆ OMA      ┆ 04       ┆ Monto                 ┆ 2           │\n",
       "│ EOM      ┆ OMA      ┆ 04       ┆ Tasa                  ┆ 2           │\n",
       "│ EOM      ┆ OMA      ┆ 04       ┆ Número de Operaciones ┆ 2           │\n",
       "└──────────┴──────────┴──────────┴───────────────────────┴─────────────┘"
      ]
     },
     "execution_count": 14,
     "metadata": {},
     "output_type": "execute_result"
    }
   ],
   "source": [
    "res_nivel_4(\n",
    "    \"EOM\",\"OMA\",\n",
    "    \"Niv_Gr_3\",\n",
    "    \"04\",\n",
    "    \"Niv_Descr_5\")"
   ]
  },
  {
   "cell_type": "code",
   "execution_count": 15,
   "id": "5af1fdd9",
   "metadata": {},
   "outputs": [
    {
     "data": {
      "text/html": [
       "<div><style>\n",
       ".dataframe > thead > tr,\n",
       ".dataframe > tbody > tr {\n",
       "  text-align: right;\n",
       "  white-space: pre-wrap;\n",
       "}\n",
       "</style>\n",
       "<small>shape: (6, 6)</small><table border=\"1\" class=\"dataframe\"><thead><tr><th>Niv_Gr_1</th><th>Niv_Gr_2</th><th>Niv_Gr_3</th><th>Niv_Descr_5</th><th>Niv_Descr_6</th><th>N_Variables</th></tr><tr><td>str</td><td>str</td><td>str</td><td>str</td><td>str</td><td>u32</td></tr></thead><tbody><tr><td>&quot;EOM&quot;</td><td>&quot;OMA&quot;</td><td>&quot;04&quot;</td><td>&quot;Número de Oper…</td><td>&quot;Dólares&quot;</td><td>1</td></tr><tr><td>&quot;EOM&quot;</td><td>&quot;OMA&quot;</td><td>&quot;04&quot;</td><td>&quot;Tasa&quot;</td><td>&quot;Dólares&quot;</td><td>1</td></tr><tr><td>&quot;EOM&quot;</td><td>&quot;OMA&quot;</td><td>&quot;04&quot;</td><td>&quot;Monto&quot;</td><td>&quot;Dólares&quot;</td><td>1</td></tr><tr><td>&quot;EOM&quot;</td><td>&quot;OMA&quot;</td><td>&quot;04&quot;</td><td>&quot;Tasa&quot;</td><td>&quot;Lempiras&quot;</td><td>1</td></tr><tr><td>&quot;EOM&quot;</td><td>&quot;OMA&quot;</td><td>&quot;04&quot;</td><td>&quot;Número de Oper…</td><td>&quot;Lempiras&quot;</td><td>1</td></tr><tr><td>&quot;EOM&quot;</td><td>&quot;OMA&quot;</td><td>&quot;04&quot;</td><td>&quot;Monto&quot;</td><td>&quot;Lempiras&quot;</td><td>1</td></tr></tbody></table></div>"
      ],
      "text/plain": [
       "shape: (6, 6)\n",
       "┌──────────┬──────────┬──────────┬───────────────────────┬─────────────┬─────────────┐\n",
       "│ Niv_Gr_1 ┆ Niv_Gr_2 ┆ Niv_Gr_3 ┆ Niv_Descr_5           ┆ Niv_Descr_6 ┆ N_Variables │\n",
       "│ ---      ┆ ---      ┆ ---      ┆ ---                   ┆ ---         ┆ ---         │\n",
       "│ str      ┆ str      ┆ str      ┆ str                   ┆ str         ┆ u32         │\n",
       "╞══════════╪══════════╪══════════╪═══════════════════════╪═════════════╪═════════════╡\n",
       "│ EOM      ┆ OMA      ┆ 04       ┆ Número de Operaciones ┆ Dólares     ┆ 1           │\n",
       "│ EOM      ┆ OMA      ┆ 04       ┆ Tasa                  ┆ Dólares     ┆ 1           │\n",
       "│ EOM      ┆ OMA      ┆ 04       ┆ Monto                 ┆ Dólares     ┆ 1           │\n",
       "│ EOM      ┆ OMA      ┆ 04       ┆ Tasa                  ┆ Lempiras    ┆ 1           │\n",
       "│ EOM      ┆ OMA      ┆ 04       ┆ Número de Operaciones ┆ Lempiras    ┆ 1           │\n",
       "│ EOM      ┆ OMA      ┆ 04       ┆ Monto                 ┆ Lempiras    ┆ 1           │\n",
       "└──────────┴──────────┴──────────┴───────────────────────┴─────────────┴─────────────┘"
      ]
     },
     "execution_count": 15,
     "metadata": {},
     "output_type": "execute_result"
    }
   ],
   "source": [
    "res_nivel_5(\n",
    "    \"EOM\",\"OMA\",\n",
    "    \"Niv_Gr_3\",\"04\",\n",
    "    \"Niv_Descr_5\",\"Niv_Descr_6\")"
   ]
  },
  {
   "cell_type": "markdown",
   "id": "e135479c",
   "metadata": {},
   "source": [
    "Para ver todas las variables:\n"
   ]
  },
  {
   "cell_type": "code",
   "execution_count": 16,
   "id": "1a03563b",
   "metadata": {},
   "outputs": [
    {
     "data": {
      "text/html": [
       "<div><style>\n",
       ".dataframe > thead > tr,\n",
       ".dataframe > tbody > tr {\n",
       "  text-align: right;\n",
       "  white-space: pre-wrap;\n",
       "}\n",
       "</style>\n",
       "<small>shape: (6, 7)</small><table border=\"1\" class=\"dataframe\"><thead><tr><th>Niv_Gr_1</th><th>Niv_Gr_2</th><th>Niv_Gr_3</th><th>Nombre</th><th>Niv_Descr_5</th><th>Niv_Descr_6</th><th>N_Variables</th></tr><tr><td>str</td><td>str</td><td>str</td><td>str</td><td>str</td><td>str</td><td>u32</td></tr></thead><tbody><tr><td>&quot;EOM&quot;</td><td>&quot;OMA&quot;</td><td>&quot;04&quot;</td><td>&quot;EOM-OMA-04-1&quot;</td><td>&quot;Monto&quot;</td><td>&quot;Dólares&quot;</td><td>1</td></tr><tr><td>&quot;EOM&quot;</td><td>&quot;OMA&quot;</td><td>&quot;04&quot;</td><td>&quot;EOM-OMA-04-2&quot;</td><td>&quot;Monto&quot;</td><td>&quot;Lempiras&quot;</td><td>1</td></tr><tr><td>&quot;EOM&quot;</td><td>&quot;OMA&quot;</td><td>&quot;04&quot;</td><td>&quot;EOM-OMA-04-3&quot;</td><td>&quot;Número de Oper…</td><td>&quot;Dólares&quot;</td><td>1</td></tr><tr><td>&quot;EOM&quot;</td><td>&quot;OMA&quot;</td><td>&quot;04&quot;</td><td>&quot;EOM-OMA-04-4&quot;</td><td>&quot;Número de Oper…</td><td>&quot;Lempiras&quot;</td><td>1</td></tr><tr><td>&quot;EOM&quot;</td><td>&quot;OMA&quot;</td><td>&quot;04&quot;</td><td>&quot;EOM-OMA-04-5&quot;</td><td>&quot;Tasa&quot;</td><td>&quot;Dólares&quot;</td><td>1</td></tr><tr><td>&quot;EOM&quot;</td><td>&quot;OMA&quot;</td><td>&quot;04&quot;</td><td>&quot;EOM-OMA-04-6&quot;</td><td>&quot;Tasa&quot;</td><td>&quot;Lempiras&quot;</td><td>1</td></tr></tbody></table></div>"
      ],
      "text/plain": [
       "shape: (6, 7)\n",
       "┌──────────┬──────────┬──────────┬──────────────┬─────────────┬─────────────┬─────────────┐\n",
       "│ Niv_Gr_1 ┆ Niv_Gr_2 ┆ Niv_Gr_3 ┆ Nombre       ┆ Niv_Descr_5 ┆ Niv_Descr_6 ┆ N_Variables │\n",
       "│ ---      ┆ ---      ┆ ---      ┆ ---          ┆ ---         ┆ ---         ┆ ---         │\n",
       "│ str      ┆ str      ┆ str      ┆ str          ┆ str         ┆ str         ┆ u32         │\n",
       "╞══════════╪══════════╪══════════╪══════════════╪═════════════╪═════════════╪═════════════╡\n",
       "│ EOM      ┆ OMA      ┆ 04       ┆ EOM-OMA-04-1 ┆ Monto       ┆ Dólares     ┆ 1           │\n",
       "│ EOM      ┆ OMA      ┆ 04       ┆ EOM-OMA-04-2 ┆ Monto       ┆ Lempiras    ┆ 1           │\n",
       "│ EOM      ┆ OMA      ┆ 04       ┆ EOM-OMA-04-3 ┆ Número de   ┆ Dólares     ┆ 1           │\n",
       "│          ┆          ┆          ┆              ┆ Operaciones ┆             ┆             │\n",
       "│ EOM      ┆ OMA      ┆ 04       ┆ EOM-OMA-04-4 ┆ Número de   ┆ Lempiras    ┆ 1           │\n",
       "│          ┆          ┆          ┆              ┆ Operaciones ┆             ┆             │\n",
       "│ EOM      ┆ OMA      ┆ 04       ┆ EOM-OMA-04-5 ┆ Tasa        ┆ Dólares     ┆ 1           │\n",
       "│ EOM      ┆ OMA      ┆ 04       ┆ EOM-OMA-04-6 ┆ Tasa        ┆ Lempiras    ┆ 1           │\n",
       "└──────────┴──────────┴──────────┴──────────────┴─────────────┴─────────────┴─────────────┘"
      ]
     },
     "execution_count": 16,
     "metadata": {},
     "output_type": "execute_result"
    }
   ],
   "source": [
    "res_nivel_6(\n",
    "    \"EOM\",\"OMA\",\n",
    "    \"Niv_Gr_3\",\"04\",\n",
    "    \"Nombre\",\"Niv_Descr_5\",\"Niv_Descr_6\").sort(\"Nombre\")"
   ]
  },
  {
   "cell_type": "markdown",
   "id": "eb45d7d8",
   "metadata": {},
   "source": [
    "### ESR = Estadísticas del Sector Real\n"
   ]
  },
  {
   "cell_type": "code",
   "execution_count": 17,
   "id": "d69e1966",
   "metadata": {},
   "outputs": [
    {
     "name": "stdout",
     "output_type": "stream",
     "text": [
      "4447 variables\n",
      "7 grupos\n",
      "13 subgrupos\n"
     ]
    },
    {
     "data": {
      "text/html": [
       "<div><style>\n",
       ".dataframe > thead > tr,\n",
       ".dataframe > tbody > tr {\n",
       "  text-align: right;\n",
       "  white-space: pre-wrap;\n",
       "}\n",
       "</style>\n",
       "<small>shape: (7, 4)</small><table border=\"1\" class=\"dataframe\"><thead><tr><th>Niv_Gr_1</th><th>Niv_Gr_2</th><th>N_Variables</th><th>N_Niv_Gr_2</th></tr><tr><td>str</td><td>str</td><td>u32</td><td>u32</td></tr></thead><tbody><tr><td>&quot;ESR&quot;</td><td>&quot;COU&quot;</td><td>3608</td><td>1</td></tr><tr><td>&quot;ESR&quot;</td><td>&quot;CCI&quot;</td><td>371</td><td>1</td></tr><tr><td>&quot;ESR&quot;</td><td>&quot;VAB&quot;</td><td>120</td><td>2</td></tr><tr><td>&quot;ESR&quot;</td><td>&quot;PIBA&quot;</td><td>118</td><td>4</td></tr><tr><td>&quot;ESR&quot;</td><td>&quot;PIBT&quot;</td><td>97</td><td>3</td></tr><tr><td>&quot;ESR&quot;</td><td>&quot;ODA&quot;</td><td>94</td><td>1</td></tr><tr><td>&quot;ESR&quot;</td><td>&quot;IMAE&quot;</td><td>39</td><td>1</td></tr></tbody></table></div>"
      ],
      "text/plain": [
       "shape: (7, 4)\n",
       "┌──────────┬──────────┬─────────────┬────────────┐\n",
       "│ Niv_Gr_1 ┆ Niv_Gr_2 ┆ N_Variables ┆ N_Niv_Gr_2 │\n",
       "│ ---      ┆ ---      ┆ ---         ┆ ---        │\n",
       "│ str      ┆ str      ┆ u32         ┆ u32        │\n",
       "╞══════════╪══════════╪═════════════╪════════════╡\n",
       "│ ESR      ┆ COU      ┆ 3608        ┆ 1          │\n",
       "│ ESR      ┆ CCI      ┆ 371         ┆ 1          │\n",
       "│ ESR      ┆ VAB      ┆ 120         ┆ 2          │\n",
       "│ ESR      ┆ PIBA     ┆ 118         ┆ 4          │\n",
       "│ ESR      ┆ PIBT     ┆ 97          ┆ 3          │\n",
       "│ ESR      ┆ ODA      ┆ 94          ┆ 1          │\n",
       "│ ESR      ┆ IMAE     ┆ 39          ┆ 1          │\n",
       "└──────────┴──────────┴─────────────┴────────────┘"
      ]
     },
     "execution_count": 17,
     "metadata": {},
     "output_type": "execute_result"
    }
   ],
   "source": [
    "res_nivel_2(\"ESR\")"
   ]
  },
  {
   "cell_type": "markdown",
   "id": "ef2aa969",
   "metadata": {},
   "source": [
    "- COU = Cuadro de Oferta y Utilización\n",
    "- CCI = Clasificación Cruzada Industria\n",
    "- VAB = Valor Agregado Bruto\n",
    "- PIBA = PIB Anual\n",
    "- PIBT = PIB Trimestral\n",
    "- ODA = Oferta y Demanda Agregada\n",
    "- IMAE = Índice Mensual de la Actividad Económica\n",
    "\n",
    "#### COU = Cuadro de Oferta y Utilización\n"
   ]
  },
  {
   "cell_type": "code",
   "execution_count": 18,
   "id": "ee683f6a",
   "metadata": {},
   "outputs": [
    {
     "name": "stdout",
     "output_type": "stream",
     "text": [
      "1 subgrupos\n",
      "3608 variables\n"
     ]
    },
    {
     "data": {
      "text/html": [
       "<div><style>\n",
       ".dataframe > thead > tr,\n",
       ".dataframe > tbody > tr {\n",
       "  text-align: right;\n",
       "  white-space: pre-wrap;\n",
       "}\n",
       "</style>\n",
       "<small>shape: (1, 4)</small><table border=\"1\" class=\"dataframe\"><thead><tr><th>Niv_Gr_1</th><th>Niv_Gr_2</th><th>Niv_Gr_3</th><th>N_Variables</th></tr><tr><td>str</td><td>str</td><td>str</td><td>u32</td></tr></thead><tbody><tr><td>&quot;ESR&quot;</td><td>&quot;COU&quot;</td><td>&quot;01&quot;</td><td>3608</td></tr></tbody></table></div>"
      ],
      "text/plain": [
       "shape: (1, 4)\n",
       "┌──────────┬──────────┬──────────┬─────────────┐\n",
       "│ Niv_Gr_1 ┆ Niv_Gr_2 ┆ Niv_Gr_3 ┆ N_Variables │\n",
       "│ ---      ┆ ---      ┆ ---      ┆ ---         │\n",
       "│ str      ┆ str      ┆ str      ┆ u32         │\n",
       "╞══════════╪══════════╪══════════╪═════════════╡\n",
       "│ ESR      ┆ COU      ┆ 01       ┆ 3608        │\n",
       "└──────────┴──────────┴──────────┴─────────────┘"
      ]
     },
     "execution_count": 18,
     "metadata": {},
     "output_type": "execute_result"
    }
   ],
   "source": [
    "res_nivel_3(\"ESR\",\"COU\",\"Niv_Gr_3\")"
   ]
  },
  {
   "cell_type": "markdown",
   "id": "231f5732",
   "metadata": {},
   "source": [
    "- CONSUMO INTERMEDIO\n",
    "- OFERTA\n",
    "- UTILIZACIÓN\n",
    "- VALOR AGREGADO\n",
    "- VALOR BRUTO DE PRODUCCIóN\n"
   ]
  },
  {
   "cell_type": "code",
   "execution_count": 19,
   "id": "af562d59",
   "metadata": {},
   "outputs": [
    {
     "data": {
      "text/html": [
       "<div><style>\n",
       ".dataframe > thead > tr,\n",
       ".dataframe > tbody > tr {\n",
       "  text-align: right;\n",
       "  white-space: pre-wrap;\n",
       "}\n",
       "</style>\n",
       "<small>shape: (5, 5)</small><table border=\"1\" class=\"dataframe\"><thead><tr><th>Niv_Gr_1</th><th>Niv_Gr_2</th><th>Niv_Gr_3</th><th>Niv_Descr_1</th><th>N_Variables</th></tr><tr><td>str</td><td>str</td><td>str</td><td>str</td><td>u32</td></tr></thead><tbody><tr><td>&quot;ESR&quot;</td><td>&quot;COU&quot;</td><td>&quot;01&quot;</td><td>&quot;VALOR BRUTO DE…</td><td>1044</td></tr><tr><td>&quot;ESR&quot;</td><td>&quot;COU&quot;</td><td>&quot;01&quot;</td><td>&quot;CONSUMO INTERM…</td><td>1044</td></tr><tr><td>&quot;ESR&quot;</td><td>&quot;COU&quot;</td><td>&quot;01&quot;</td><td>&quot;OFERTA&quot;</td><td>580</td></tr><tr><td>&quot;ESR&quot;</td><td>&quot;COU&quot;</td><td>&quot;01&quot;</td><td>&quot;UTILIZACIÓN&quot;</td><td>580</td></tr><tr><td>&quot;ESR&quot;</td><td>&quot;COU&quot;</td><td>&quot;01&quot;</td><td>&quot;VALOR AGREGADO…</td><td>360</td></tr></tbody></table></div>"
      ],
      "text/plain": [
       "shape: (5, 5)\n",
       "┌──────────┬──────────┬──────────┬───────────────────────────┬─────────────┐\n",
       "│ Niv_Gr_1 ┆ Niv_Gr_2 ┆ Niv_Gr_3 ┆ Niv_Descr_1               ┆ N_Variables │\n",
       "│ ---      ┆ ---      ┆ ---      ┆ ---                       ┆ ---         │\n",
       "│ str      ┆ str      ┆ str      ┆ str                       ┆ u32         │\n",
       "╞══════════╪══════════╪══════════╪═══════════════════════════╪═════════════╡\n",
       "│ ESR      ┆ COU      ┆ 01       ┆ VALOR BRUTO DE PRODUCCIÓN ┆ 1044        │\n",
       "│ ESR      ┆ COU      ┆ 01       ┆ CONSUMO INTERMEDIO        ┆ 1044        │\n",
       "│ ESR      ┆ COU      ┆ 01       ┆ OFERTA                    ┆ 580         │\n",
       "│ ESR      ┆ COU      ┆ 01       ┆ UTILIZACIÓN               ┆ 580         │\n",
       "│ ESR      ┆ COU      ┆ 01       ┆ VALOR AGREGADO            ┆ 360         │\n",
       "└──────────┴──────────┴──────────┴───────────────────────────┴─────────────┘"
      ]
     },
     "execution_count": 19,
     "metadata": {},
     "output_type": "execute_result"
    }
   ],
   "source": [
    "res_nivel_4(\n",
    "    \"ESR\",\"COU\",\n",
    "    \"Niv_Gr_3\",\n",
    "    \"01\",\n",
    "    \"Niv_Descr_1\")"
   ]
  },
  {
   "cell_type": "markdown",
   "id": "c2ec10a8",
   "metadata": {},
   "source": [
    "Si se quiere filtrar por las variables que se enumeraron:\n"
   ]
  },
  {
   "cell_type": "code",
   "execution_count": 20,
   "id": "c6d1b532",
   "metadata": {},
   "outputs": [
    {
     "data": {
      "text/html": [
       "<div><style>\n",
       ".dataframe > thead > tr,\n",
       ".dataframe > tbody > tr {\n",
       "  text-align: right;\n",
       "  white-space: pre-wrap;\n",
       "}\n",
       "</style>\n",
       "<small>shape: (360, 7)</small><table border=\"1\" class=\"dataframe\"><thead><tr><th>Niv_Gr_1</th><th>Niv_Gr_2</th><th>Niv_Gr_3</th><th>Niv_Descr_1</th><th>Nombre</th><th>Descripcion</th><th>N_Variables</th></tr><tr><td>str</td><td>str</td><td>str</td><td>str</td><td>str</td><td>str</td><td>u32</td></tr></thead><tbody><tr><td>&quot;ESR&quot;</td><td>&quot;COU&quot;</td><td>&quot;01&quot;</td><td>&quot;VALOR AGREGADO…</td><td>&quot;ESR-COU-01-222…</td><td>&quot;VALOR AGREGADO…</td><td>1</td></tr><tr><td>&quot;ESR&quot;</td><td>&quot;COU&quot;</td><td>&quot;01&quot;</td><td>&quot;VALOR AGREGADO…</td><td>&quot;ESR-COU-01-228…</td><td>&quot;VALOR AGREGADO…</td><td>1</td></tr><tr><td>&quot;ESR&quot;</td><td>&quot;COU&quot;</td><td>&quot;01&quot;</td><td>&quot;VALOR AGREGADO…</td><td>&quot;ESR-COU-01-228…</td><td>&quot;VALOR AGREGADO…</td><td>1</td></tr><tr><td>&quot;ESR&quot;</td><td>&quot;COU&quot;</td><td>&quot;01&quot;</td><td>&quot;VALOR AGREGADO…</td><td>&quot;ESR-COU-01-228…</td><td>&quot;VALOR AGREGADO…</td><td>1</td></tr><tr><td>&quot;ESR&quot;</td><td>&quot;COU&quot;</td><td>&quot;01&quot;</td><td>&quot;VALOR AGREGADO…</td><td>&quot;ESR-COU-01-229…</td><td>&quot;VALOR AGREGADO…</td><td>1</td></tr><tr><td>&hellip;</td><td>&hellip;</td><td>&hellip;</td><td>&hellip;</td><td>&hellip;</td><td>&hellip;</td><td>&hellip;</td></tr><tr><td>&quot;ESR&quot;</td><td>&quot;COU&quot;</td><td>&quot;01&quot;</td><td>&quot;VALOR AGREGADO…</td><td>&quot;ESR-COU-01-249…</td><td>&quot;VALOR AGREGADO…</td><td>1</td></tr><tr><td>&quot;ESR&quot;</td><td>&quot;COU&quot;</td><td>&quot;01&quot;</td><td>&quot;VALOR AGREGADO…</td><td>&quot;ESR-COU-01-252…</td><td>&quot;VALOR AGREGADO…</td><td>1</td></tr><tr><td>&quot;ESR&quot;</td><td>&quot;COU&quot;</td><td>&quot;01&quot;</td><td>&quot;VALOR AGREGADO…</td><td>&quot;ESR-COU-01-253…</td><td>&quot;VALOR AGREGADO…</td><td>1</td></tr><tr><td>&quot;ESR&quot;</td><td>&quot;COU&quot;</td><td>&quot;01&quot;</td><td>&quot;VALOR AGREGADO…</td><td>&quot;ESR-COU-01-253…</td><td>&quot;VALOR AGREGADO…</td><td>1</td></tr><tr><td>&quot;ESR&quot;</td><td>&quot;COU&quot;</td><td>&quot;01&quot;</td><td>&quot;VALOR AGREGADO…</td><td>&quot;ESR-COU-01-255…</td><td>&quot;VALOR AGREGADO…</td><td>1</td></tr></tbody></table></div>"
      ],
      "text/plain": [
       "shape: (360, 7)\n",
       "┌──────────┬──────────┬──────────┬────────────────┬─────────────────┬────────────────┬─────────────┐\n",
       "│ Niv_Gr_1 ┆ Niv_Gr_2 ┆ Niv_Gr_3 ┆ Niv_Descr_1    ┆ Nombre          ┆ Descripcion    ┆ N_Variables │\n",
       "│ ---      ┆ ---      ┆ ---      ┆ ---            ┆ ---             ┆ ---            ┆ ---         │\n",
       "│ str      ┆ str      ┆ str      ┆ str            ┆ str             ┆ str            ┆ u32         │\n",
       "╞══════════╪══════════╪══════════╪════════════════╪═════════════════╪════════════════╪═════════════╡\n",
       "│ ESR      ┆ COU      ┆ 01       ┆ VALOR AGREGADO ┆ ESR-COU-01-2222 ┆ VALOR AGREGADO ┆ 1           │\n",
       "│          ┆          ┆          ┆                ┆                 ┆ -CONSUMO DE    ┆             │\n",
       "│          ┆          ┆          ┆                ┆                 ┆ CAPITA…        ┆             │\n",
       "│ ESR      ┆ COU      ┆ 01       ┆ VALOR AGREGADO ┆ ESR-COU-01-2281 ┆ VALOR AGREGADO ┆ 1           │\n",
       "│          ┆          ┆          ┆                ┆                 ┆ -CONTRIBUCIONE ┆             │\n",
       "│          ┆          ┆          ┆                ┆                 ┆ S SO…          ┆             │\n",
       "│ ESR      ┆ COU      ┆ 01       ┆ VALOR AGREGADO ┆ ESR-COU-01-2286 ┆ VALOR AGREGADO ┆ 1           │\n",
       "│          ┆          ┆          ┆                ┆                 ┆ -CONTRIBUCIONE ┆             │\n",
       "│          ┆          ┆          ┆                ┆                 ┆ S SO…          ┆             │\n",
       "│ ESR      ┆ COU      ┆ 01       ┆ VALOR AGREGADO ┆ ESR-COU-01-2287 ┆ VALOR AGREGADO ┆ 1           │\n",
       "│          ┆          ┆          ┆                ┆                 ┆ -CONTRIBUCIONE ┆             │\n",
       "│          ┆          ┆          ┆                ┆                 ┆ S SO…          ┆             │\n",
       "│ ESR      ┆ COU      ┆ 01       ┆ VALOR AGREGADO ┆ ESR-COU-01-2290 ┆ VALOR AGREGADO ┆ 1           │\n",
       "│          ┆          ┆          ┆                ┆                 ┆ -CONTRIBUCIONE ┆             │\n",
       "│          ┆          ┆          ┆                ┆                 ┆ S SO…          ┆             │\n",
       "│ …        ┆ …        ┆ …        ┆ …              ┆ …               ┆ …              ┆ …           │\n",
       "│ ESR      ┆ COU      ┆ 01       ┆ VALOR AGREGADO ┆ ESR-COU-01-2498 ┆ VALOR AGREGADO ┆ 1           │\n",
       "│          ┆          ┆          ┆                ┆                 ┆ -SUELDOS Y     ┆             │\n",
       "│          ┆          ┆          ┆                ┆                 ┆ SALARIO…       ┆             │\n",
       "│ ESR      ┆ COU      ┆ 01       ┆ VALOR AGREGADO ┆ ESR-COU-01-2521 ┆ VALOR AGREGADO ┆ 1           │\n",
       "│          ┆          ┆          ┆                ┆                 ┆ -SUELDOS Y     ┆             │\n",
       "│          ┆          ┆          ┆                ┆                 ┆ SALARIO…       ┆             │\n",
       "│ ESR      ┆ COU      ┆ 01       ┆ VALOR AGREGADO ┆ ESR-COU-01-2531 ┆ VALOR AGREGADO ┆ 1           │\n",
       "│          ┆          ┆          ┆                ┆                 ┆ -SUELDOS Y     ┆             │\n",
       "│          ┆          ┆          ┆                ┆                 ┆ SALARIO…       ┆             │\n",
       "│ ESR      ┆ COU      ┆ 01       ┆ VALOR AGREGADO ┆ ESR-COU-01-2539 ┆ VALOR AGREGADO ┆ 1           │\n",
       "│          ┆          ┆          ┆                ┆                 ┆ -SUELDOS Y     ┆             │\n",
       "│          ┆          ┆          ┆                ┆                 ┆ SALARIO…       ┆             │\n",
       "│ ESR      ┆ COU      ┆ 01       ┆ VALOR AGREGADO ┆ ESR-COU-01-2556 ┆ VALOR          ┆ 1           │\n",
       "│          ┆          ┆          ┆                ┆                 ┆ AGREGADO-VALOR ┆             │\n",
       "│          ┆          ┆          ┆                ┆                 ┆ AGREGADO BR…   ┆             │\n",
       "└──────────┴──────────┴──────────┴────────────────┴─────────────────┴────────────────┴─────────────┘"
      ]
     },
     "execution_count": 20,
     "metadata": {},
     "output_type": "execute_result"
    }
   ],
   "source": [
    "res_nivel_6(\n",
    "    \"ESR\",\"COU\",\n",
    "    \"Niv_Gr_3\",\n",
    "    \"01\",\n",
    "    \"Niv_Descr_1\",\"Nombre\",\"Descripcion\").filter(pl.col(\"Niv_Descr_1\") == \"VALOR AGREGADO\")"
   ]
  },
  {
   "cell_type": "markdown",
   "id": "51e41d53",
   "metadata": {},
   "source": [
    "Para saber el contenido de todas las variables:\n"
   ]
  },
  {
   "cell_type": "code",
   "execution_count": 21,
   "id": "c8b50b40",
   "metadata": {},
   "outputs": [
    {
     "data": {
      "text/html": [
       "<div><style>\n",
       ".dataframe > thead > tr,\n",
       ".dataframe > tbody > tr {\n",
       "  text-align: right;\n",
       "  white-space: pre-wrap;\n",
       "}\n",
       "</style>\n",
       "<small>shape: (3_608, 7)</small><table border=\"1\" class=\"dataframe\"><thead><tr><th>Niv_Gr_1</th><th>Niv_Gr_2</th><th>Niv_Gr_3</th><th>Niv_Descr_1</th><th>Nombre</th><th>Descripcion</th><th>N_Variables</th></tr><tr><td>str</td><td>str</td><td>str</td><td>str</td><td>str</td><td>str</td><td>u32</td></tr></thead><tbody><tr><td>&quot;ESR&quot;</td><td>&quot;COU&quot;</td><td>&quot;01&quot;</td><td>&quot;CONSUMO INTERM…</td><td>&quot;ESR-COU-01-1&quot;</td><td>&quot;CONSUMO INTERM…</td><td>1</td></tr><tr><td>&quot;ESR&quot;</td><td>&quot;COU&quot;</td><td>&quot;01&quot;</td><td>&quot;CONSUMO INTERM…</td><td>&quot;ESR-COU-01-2&quot;</td><td>&quot;CONSUMO INTERM…</td><td>1</td></tr><tr><td>&quot;ESR&quot;</td><td>&quot;COU&quot;</td><td>&quot;01&quot;</td><td>&quot;CONSUMO INTERM…</td><td>&quot;ESR-COU-01-3&quot;</td><td>&quot;CONSUMO INTERM…</td><td>1</td></tr><tr><td>&quot;ESR&quot;</td><td>&quot;COU&quot;</td><td>&quot;01&quot;</td><td>&quot;CONSUMO INTERM…</td><td>&quot;ESR-COU-01-4&quot;</td><td>&quot;CONSUMO INTERM…</td><td>1</td></tr><tr><td>&quot;ESR&quot;</td><td>&quot;COU&quot;</td><td>&quot;01&quot;</td><td>&quot;CONSUMO INTERM…</td><td>&quot;ESR-COU-01-5&quot;</td><td>&quot;CONSUMO INTERM…</td><td>1</td></tr><tr><td>&hellip;</td><td>&hellip;</td><td>&hellip;</td><td>&hellip;</td><td>&hellip;</td><td>&hellip;</td><td>&hellip;</td></tr><tr><td>&quot;ESR&quot;</td><td>&quot;COU&quot;</td><td>&quot;01&quot;</td><td>&quot;VALOR BRUTO DE…</td><td>&quot;ESR-COU-01-360…</td><td>&quot;VALOR BRUTO DE…</td><td>1</td></tr><tr><td>&quot;ESR&quot;</td><td>&quot;COU&quot;</td><td>&quot;01&quot;</td><td>&quot;VALOR BRUTO DE…</td><td>&quot;ESR-COU-01-360…</td><td>&quot;VALOR BRUTO DE…</td><td>1</td></tr><tr><td>&quot;ESR&quot;</td><td>&quot;COU&quot;</td><td>&quot;01&quot;</td><td>&quot;VALOR BRUTO DE…</td><td>&quot;ESR-COU-01-360…</td><td>&quot;VALOR BRUTO DE…</td><td>1</td></tr><tr><td>&quot;ESR&quot;</td><td>&quot;COU&quot;</td><td>&quot;01&quot;</td><td>&quot;VALOR BRUTO DE…</td><td>&quot;ESR-COU-01-360…</td><td>&quot;VALOR BRUTO DE…</td><td>1</td></tr><tr><td>&quot;ESR&quot;</td><td>&quot;COU&quot;</td><td>&quot;01&quot;</td><td>&quot;VALOR BRUTO DE…</td><td>&quot;ESR-COU-01-360…</td><td>&quot;VALOR BRUTO DE…</td><td>1</td></tr></tbody></table></div>"
      ],
      "text/plain": [
       "shape: (3_608, 7)\n",
       "┌──────────┬──────────┬──────────┬─────────────────┬────────────────┬────────────────┬─────────────┐\n",
       "│ Niv_Gr_1 ┆ Niv_Gr_2 ┆ Niv_Gr_3 ┆ Niv_Descr_1     ┆ Nombre         ┆ Descripcion    ┆ N_Variables │\n",
       "│ ---      ┆ ---      ┆ ---      ┆ ---             ┆ ---            ┆ ---            ┆ ---         │\n",
       "│ str      ┆ str      ┆ str      ┆ str             ┆ str            ┆ str            ┆ u32         │\n",
       "╞══════════╪══════════╪══════════╪═════════════════╪════════════════╪════════════════╪═════════════╡\n",
       "│ ESR      ┆ COU      ┆ 01       ┆ CONSUMO         ┆ ESR-COU-01-1   ┆ CONSUMO INTERM ┆ 1           │\n",
       "│          ┆          ┆          ┆ INTERMEDIO      ┆                ┆ EDIO-ACEITES Y ┆             │\n",
       "│          ┆          ┆          ┆                 ┆                ┆ GRA…           ┆             │\n",
       "│ ESR      ┆ COU      ┆ 01       ┆ CONSUMO         ┆ ESR-COU-01-2   ┆ CONSUMO INTERM ┆ 1           │\n",
       "│          ┆          ┆          ┆ INTERMEDIO      ┆                ┆ EDIO-ACEITES Y ┆             │\n",
       "│          ┆          ┆          ┆                 ┆                ┆ GRA…           ┆             │\n",
       "│ ESR      ┆ COU      ┆ 01       ┆ CONSUMO         ┆ ESR-COU-01-3   ┆ CONSUMO INTERM ┆ 1           │\n",
       "│          ┆          ┆          ┆ INTERMEDIO      ┆                ┆ EDIO-ACEITES Y ┆             │\n",
       "│          ┆          ┆          ┆                 ┆                ┆ GRA…           ┆             │\n",
       "│ ESR      ┆ COU      ┆ 01       ┆ CONSUMO         ┆ ESR-COU-01-4   ┆ CONSUMO INTERM ┆ 1           │\n",
       "│          ┆          ┆          ┆ INTERMEDIO      ┆                ┆ EDIO-ACEITES Y ┆             │\n",
       "│          ┆          ┆          ┆                 ┆                ┆ GRA…           ┆             │\n",
       "│ ESR      ┆ COU      ┆ 01       ┆ CONSUMO         ┆ ESR-COU-01-5   ┆ CONSUMO INTERM ┆ 1           │\n",
       "│          ┆          ┆          ┆ INTERMEDIO      ┆                ┆ EDIO-ACEITES Y ┆             │\n",
       "│          ┆          ┆          ┆                 ┆                ┆ GRA…           ┆             │\n",
       "│ …        ┆ …        ┆ …        ┆ …               ┆ …              ┆ …              ┆ …           │\n",
       "│ ESR      ┆ COU      ┆ 01       ┆ VALOR BRUTO DE  ┆ ESR-COU-01-360 ┆ VALOR BRUTO DE ┆ 1           │\n",
       "│          ┆          ┆          ┆ PRODUCCIÓN      ┆ 4              ┆ PRODUCCIÓN-VID ┆             │\n",
       "│          ┆          ┆          ┆                 ┆                ┆ RIO…           ┆             │\n",
       "│ ESR      ┆ COU      ┆ 01       ┆ VALOR BRUTO DE  ┆ ESR-COU-01-360 ┆ VALOR BRUTO DE ┆ 1           │\n",
       "│          ┆          ┆          ┆ PRODUCCIÓN      ┆ 5              ┆ PRODUCCIÓN-VID ┆             │\n",
       "│          ┆          ┆          ┆                 ┆                ┆ RIO…           ┆             │\n",
       "│ ESR      ┆ COU      ┆ 01       ┆ VALOR BRUTO DE  ┆ ESR-COU-01-360 ┆ VALOR BRUTO DE ┆ 1           │\n",
       "│          ┆          ┆          ┆ PRODUCCIÓN      ┆ 6              ┆ PRODUCCIÓN-VID ┆             │\n",
       "│          ┆          ┆          ┆                 ┆                ┆ RIO…           ┆             │\n",
       "│ ESR      ┆ COU      ┆ 01       ┆ VALOR BRUTO DE  ┆ ESR-COU-01-360 ┆ VALOR BRUTO DE ┆ 1           │\n",
       "│          ┆          ┆          ┆ PRODUCCIÓN      ┆ 7              ┆ PRODUCCIÓN-VID ┆             │\n",
       "│          ┆          ┆          ┆                 ┆                ┆ RIO…           ┆             │\n",
       "│ ESR      ┆ COU      ┆ 01       ┆ VALOR BRUTO DE  ┆ ESR-COU-01-360 ┆ VALOR BRUTO DE ┆ 1           │\n",
       "│          ┆          ┆          ┆ PRODUCCIÓN      ┆ 8              ┆ PRODUCCIÓN-VID ┆             │\n",
       "│          ┆          ┆          ┆                 ┆                ┆ RIO…           ┆             │\n",
       "└──────────┴──────────┴──────────┴─────────────────┴────────────────┴────────────────┴─────────────┘"
      ]
     },
     "execution_count": 21,
     "metadata": {},
     "output_type": "execute_result"
    }
   ],
   "source": [
    "res_nivel_6(\n",
    "    \"ESR\",\"COU\",\n",
    "    \"Niv_Gr_3\",\n",
    "    \"01\",\n",
    "    \"Niv_Descr_1\",\"Nombre\",\"Descripcion\").sort(\"Descripcion\")"
   ]
  },
  {
   "cell_type": "markdown",
   "id": "8e284f1c",
   "metadata": {},
   "source": [
    "#### CCI = Clasificación Cruzada Industria\n"
   ]
  },
  {
   "cell_type": "code",
   "execution_count": 22,
   "id": "976837a2",
   "metadata": {},
   "outputs": [
    {
     "name": "stdout",
     "output_type": "stream",
     "text": [
      "3 subgrupos\n",
      "371 variables\n"
     ]
    },
    {
     "data": {
      "text/html": [
       "<div><style>\n",
       ".dataframe > thead > tr,\n",
       ".dataframe > tbody > tr {\n",
       "  text-align: right;\n",
       "  white-space: pre-wrap;\n",
       "}\n",
       "</style>\n",
       "<small>shape: (3, 4)</small><table border=\"1\" class=\"dataframe\"><thead><tr><th>Niv_Gr_1</th><th>Niv_Gr_2</th><th>Niv_Descr_1</th><th>N_Variables</th></tr><tr><td>str</td><td>str</td><td>str</td><td>u32</td></tr></thead><tbody><tr><td>&quot;ESR&quot;</td><td>&quot;CCI&quot;</td><td>&quot;Consumo Interm…</td><td>126</td></tr><tr><td>&quot;ESR&quot;</td><td>&quot;CCI&quot;</td><td>&quot;Valor Agregado…</td><td>126</td></tr><tr><td>&quot;ESR&quot;</td><td>&quot;CCI&quot;</td><td>&quot;Producción&quot;</td><td>119</td></tr></tbody></table></div>"
      ],
      "text/plain": [
       "shape: (3, 4)\n",
       "┌──────────┬──────────┬────────────────────┬─────────────┐\n",
       "│ Niv_Gr_1 ┆ Niv_Gr_2 ┆ Niv_Descr_1        ┆ N_Variables │\n",
       "│ ---      ┆ ---      ┆ ---                ┆ ---         │\n",
       "│ str      ┆ str      ┆ str                ┆ u32         │\n",
       "╞══════════╪══════════╪════════════════════╪═════════════╡\n",
       "│ ESR      ┆ CCI      ┆ Consumo Intermedio ┆ 126         │\n",
       "│ ESR      ┆ CCI      ┆ Valor Agregado     ┆ 126         │\n",
       "│ ESR      ┆ CCI      ┆ Producción         ┆ 119         │\n",
       "└──────────┴──────────┴────────────────────┴─────────────┘"
      ]
     },
     "execution_count": 22,
     "metadata": {},
     "output_type": "execute_result"
    }
   ],
   "source": [
    "res_nivel_3(\"ESR\",\"CCI\",\"Niv_Descr_1\")"
   ]
  },
  {
   "cell_type": "markdown",
   "id": "59aa43f8",
   "metadata": {},
   "source": [
    "- Valor Agregado\n",
    "- Consumo Intermedio\n",
    "- Producción\n",
    "\n",
    "\"Niv_Descr_2\" es el NPH\n"
   ]
  },
  {
   "cell_type": "code",
   "execution_count": 23,
   "id": "f2c89095",
   "metadata": {},
   "outputs": [
    {
     "data": {
      "text/html": [
       "<div><style>\n",
       ".dataframe > thead > tr,\n",
       ".dataframe > tbody > tr {\n",
       "  text-align: right;\n",
       "  white-space: pre-wrap;\n",
       "}\n",
       "</style>\n",
       "<small>shape: (53, 6)</small><table border=\"1\" class=\"dataframe\"><thead><tr><th>Niv_Gr_1</th><th>Niv_Gr_2</th><th>Niv_Gr_3</th><th>Niv_Descr_1</th><th>Niv_Descr_2</th><th>N_Variables</th></tr><tr><td>str</td><td>str</td><td>str</td><td>str</td><td>str</td><td>u32</td></tr></thead><tbody><tr><td>&quot;ESR&quot;</td><td>&quot;CCI&quot;</td><td>&quot;01&quot;</td><td>&quot;Producción&quot;</td><td>&quot;Administración…</td><td>7</td></tr><tr><td>&quot;ESR&quot;</td><td>&quot;CCI&quot;</td><td>&quot;01&quot;</td><td>&quot;Valor Agregado…</td><td>&quot;Construcción&quot;</td><td>7</td></tr><tr><td>&quot;ESR&quot;</td><td>&quot;CCI&quot;</td><td>&quot;01&quot;</td><td>&quot;Valor Agregado…</td><td>&quot;Servicios de I…</td><td>7</td></tr><tr><td>&quot;ESR&quot;</td><td>&quot;CCI&quot;</td><td>&quot;01&quot;</td><td>&quot;Valor Agregado…</td><td>&quot;Transporte y A…</td><td>7</td></tr><tr><td>&quot;ESR&quot;</td><td>&quot;CCI&quot;</td><td>&quot;01&quot;</td><td>&quot;Valor Agregado…</td><td>&quot;Comunicaciones…</td><td>7</td></tr><tr><td>&hellip;</td><td>&hellip;</td><td>&hellip;</td><td>&hellip;</td><td>&hellip;</td><td>&hellip;</td></tr><tr><td>&quot;ESR&quot;</td><td>&quot;CCI&quot;</td><td>&quot;01&quot;</td><td>&quot;Consumo Interm…</td><td>&quot;Industrias Man…</td><td>7</td></tr><tr><td>&quot;ESR&quot;</td><td>&quot;CCI&quot;</td><td>&quot;01&quot;</td><td>&quot;Producción&quot;</td><td>&quot;Intermediación…</td><td>7</td></tr><tr><td>&quot;ESR&quot;</td><td>&quot;CCI&quot;</td><td>&quot;01&quot;</td><td>&quot;Valor Agregado…</td><td>&quot;Administración…</td><td>7</td></tr><tr><td>&quot;ESR&quot;</td><td>&quot;CCI&quot;</td><td>&quot;01&quot;</td><td>&quot;Consumo Interm…</td><td>&quot;Agricultura, G…</td><td>7</td></tr><tr><td>&quot;ESR&quot;</td><td>&quot;CCI&quot;</td><td>&quot;01&quot;</td><td>&quot;Valor Agregado…</td><td>&quot;Hoteles y Rest…</td><td>7</td></tr></tbody></table></div>"
      ],
      "text/plain": [
       "shape: (53, 6)\n",
       "┌──────────┬──────────┬──────────┬────────────────────┬──────────────────────────────┬─────────────┐\n",
       "│ Niv_Gr_1 ┆ Niv_Gr_2 ┆ Niv_Gr_3 ┆ Niv_Descr_1        ┆ Niv_Descr_2                  ┆ N_Variables │\n",
       "│ ---      ┆ ---      ┆ ---      ┆ ---                ┆ ---                          ┆ ---         │\n",
       "│ str      ┆ str      ┆ str      ┆ str                ┆ str                          ┆ u32         │\n",
       "╞══════════╪══════════╪══════════╪════════════════════╪══════════════════════════════╪═════════════╡\n",
       "│ ESR      ┆ CCI      ┆ 01       ┆ Producción         ┆ Administración Pública y     ┆ 7           │\n",
       "│          ┆          ┆          ┆                    ┆ Defensa…                     ┆             │\n",
       "│ ESR      ┆ CCI      ┆ 01       ┆ Valor Agregado     ┆ Construcción                 ┆ 7           │\n",
       "│ ESR      ┆ CCI      ┆ 01       ┆ Valor Agregado     ┆ Servicios de Intermediación  ┆ 7           │\n",
       "│          ┆          ┆          ┆                    ┆ Fina…                        ┆             │\n",
       "│ ESR      ┆ CCI      ┆ 01       ┆ Valor Agregado     ┆ Transporte y Almacenamiento  ┆ 7           │\n",
       "│ ESR      ┆ CCI      ┆ 01       ┆ Valor Agregado     ┆ Comunicaciones               ┆ 7           │\n",
       "│ …        ┆ …        ┆ …        ┆ …                  ┆ …                            ┆ …           │\n",
       "│ ESR      ┆ CCI      ┆ 01       ┆ Consumo Intermedio ┆ Industrias Manufactureras    ┆ 7           │\n",
       "│ ESR      ┆ CCI      ┆ 01       ┆ Producción         ┆ Intermediación Financiera    ┆ 7           │\n",
       "│ ESR      ┆ CCI      ┆ 01       ┆ Valor Agregado     ┆ Administración Pública y     ┆ 7           │\n",
       "│          ┆          ┆          ┆                    ┆ Defensa…                     ┆             │\n",
       "│ ESR      ┆ CCI      ┆ 01       ┆ Consumo Intermedio ┆ Agricultura, Ganadería,      ┆ 7           │\n",
       "│          ┆          ┆          ┆                    ┆ Caza, Si…                    ┆             │\n",
       "│ ESR      ┆ CCI      ┆ 01       ┆ Valor Agregado     ┆ Hoteles y Restaurantes       ┆ 7           │\n",
       "└──────────┴──────────┴──────────┴────────────────────┴──────────────────────────────┴─────────────┘"
      ]
     },
     "execution_count": 23,
     "metadata": {},
     "output_type": "execute_result"
    }
   ],
   "source": [
    "res_nivel_5(\n",
    "    \"ESR\",\"CCI\",\n",
    "    \"Niv_Gr_3\",\n",
    "    \"01\",\n",
    "    \"Niv_Descr_1\",\"Niv_Descr_2\")"
   ]
  },
  {
   "cell_type": "markdown",
   "id": "79de6719",
   "metadata": {},
   "source": [
    "\"Niv_Descr_3\" es la NAEH\n"
   ]
  },
  {
   "cell_type": "code",
   "execution_count": 24,
   "id": "fa1bc0c3",
   "metadata": {},
   "outputs": [
    {
     "data": {
      "text/html": [
       "<div><style>\n",
       ".dataframe > thead > tr,\n",
       ".dataframe > tbody > tr {\n",
       "  text-align: right;\n",
       "  white-space: pre-wrap;\n",
       "}\n",
       "</style>\n",
       "<small>shape: (21, 6)</small><table border=\"1\" class=\"dataframe\"><thead><tr><th>Niv_Gr_1</th><th>Niv_Gr_2</th><th>Niv_Gr_3</th><th>Niv_Descr_1</th><th>Niv_Descr_3</th><th>N_Variables</th></tr><tr><td>str</td><td>str</td><td>str</td><td>str</td><td>str</td><td>u32</td></tr></thead><tbody><tr><td>&quot;ESR&quot;</td><td>&quot;CCI&quot;</td><td>&quot;01&quot;</td><td>&quot;Consumo Interm…</td><td>&quot;Gobierno Gener…</td><td>18</td></tr><tr><td>&quot;ESR&quot;</td><td>&quot;CCI&quot;</td><td>&quot;01&quot;</td><td>&quot;Valor Agregado…</td><td>&quot;Gobierno Gener…</td><td>18</td></tr><tr><td>&quot;ESR&quot;</td><td>&quot;CCI&quot;</td><td>&quot;01&quot;</td><td>&quot;Consumo Interm…</td><td>&quot;ISFLSH&quot;</td><td>18</td></tr><tr><td>&quot;ESR&quot;</td><td>&quot;CCI&quot;</td><td>&quot;01&quot;</td><td>&quot;Consumo Interm…</td><td>&quot;SIFMI&quot;</td><td>18</td></tr><tr><td>&quot;ESR&quot;</td><td>&quot;CCI&quot;</td><td>&quot;01&quot;</td><td>&quot;Valor Agregado…</td><td>&quot;ISFLSH&quot;</td><td>18</td></tr><tr><td>&hellip;</td><td>&hellip;</td><td>&hellip;</td><td>&hellip;</td><td>&hellip;</td><td>&hellip;</td></tr><tr><td>&quot;ESR&quot;</td><td>&quot;CCI&quot;</td><td>&quot;01&quot;</td><td>&quot;Producción&quot;</td><td>&quot;Sociedades  No…</td><td>17</td></tr><tr><td>&quot;ESR&quot;</td><td>&quot;CCI&quot;</td><td>&quot;01&quot;</td><td>&quot;Producción&quot;</td><td>&quot;Economía Total…</td><td>17</td></tr><tr><td>&quot;ESR&quot;</td><td>&quot;CCI&quot;</td><td>&quot;01&quot;</td><td>&quot;Producción&quot;</td><td>&quot;ISFLSH&quot;</td><td>17</td></tr><tr><td>&quot;ESR&quot;</td><td>&quot;CCI&quot;</td><td>&quot;01&quot;</td><td>&quot;Producción&quot;</td><td>&quot;Gobierno Gener…</td><td>17</td></tr><tr><td>&quot;ESR&quot;</td><td>&quot;CCI&quot;</td><td>&quot;01&quot;</td><td>&quot;Producción&quot;</td><td>&quot;SIFMI&quot;</td><td>17</td></tr></tbody></table></div>"
      ],
      "text/plain": [
       "shape: (21, 6)\n",
       "┌──────────┬──────────┬──────────┬────────────────────┬────────────────────────────┬─────────────┐\n",
       "│ Niv_Gr_1 ┆ Niv_Gr_2 ┆ Niv_Gr_3 ┆ Niv_Descr_1        ┆ Niv_Descr_3                ┆ N_Variables │\n",
       "│ ---      ┆ ---      ┆ ---      ┆ ---                ┆ ---                        ┆ ---         │\n",
       "│ str      ┆ str      ┆ str      ┆ str                ┆ str                        ┆ u32         │\n",
       "╞══════════╪══════════╪══════════╪════════════════════╪════════════════════════════╪═════════════╡\n",
       "│ ESR      ┆ CCI      ┆ 01       ┆ Consumo Intermedio ┆ Gobierno General           ┆ 18          │\n",
       "│ ESR      ┆ CCI      ┆ 01       ┆ Valor Agregado     ┆ Gobierno General           ┆ 18          │\n",
       "│ ESR      ┆ CCI      ┆ 01       ┆ Consumo Intermedio ┆ ISFLSH                     ┆ 18          │\n",
       "│ ESR      ┆ CCI      ┆ 01       ┆ Consumo Intermedio ┆ SIFMI                      ┆ 18          │\n",
       "│ ESR      ┆ CCI      ┆ 01       ┆ Valor Agregado     ┆ ISFLSH                     ┆ 18          │\n",
       "│ …        ┆ …        ┆ …        ┆ …                  ┆ …                          ┆ …           │\n",
       "│ ESR      ┆ CCI      ┆ 01       ┆ Producción         ┆ Sociedades  No Financieras ┆ 17          │\n",
       "│ ESR      ┆ CCI      ┆ 01       ┆ Producción         ┆ Economía Total             ┆ 17          │\n",
       "│ ESR      ┆ CCI      ┆ 01       ┆ Producción         ┆ ISFLSH                     ┆ 17          │\n",
       "│ ESR      ┆ CCI      ┆ 01       ┆ Producción         ┆ Gobierno General           ┆ 17          │\n",
       "│ ESR      ┆ CCI      ┆ 01       ┆ Producción         ┆ SIFMI                      ┆ 17          │\n",
       "└──────────┴──────────┴──────────┴────────────────────┴────────────────────────────┴─────────────┘"
      ]
     },
     "execution_count": 24,
     "metadata": {},
     "output_type": "execute_result"
    }
   ],
   "source": [
    "res_nivel_5(\n",
    "    \"ESR\",\"CCI\",\n",
    "    \"Niv_Gr_3\",\n",
    "    \"01\",\n",
    "    \"Niv_Descr_1\",\"Niv_Descr_3\")"
   ]
  },
  {
   "cell_type": "markdown",
   "id": "551e7a8a",
   "metadata": {},
   "source": [
    "Para saber el contenido de todas las variables:\n"
   ]
  },
  {
   "cell_type": "code",
   "execution_count": 25,
   "id": "8d2fe1e1",
   "metadata": {},
   "outputs": [
    {
     "data": {
      "text/html": [
       "<div><style>\n",
       ".dataframe > thead > tr,\n",
       ".dataframe > tbody > tr {\n",
       "  text-align: right;\n",
       "  white-space: pre-wrap;\n",
       "}\n",
       "</style>\n",
       "<small>shape: (371, 8)</small><table border=\"1\" class=\"dataframe\"><thead><tr><th>Niv_Gr_1</th><th>Niv_Gr_2</th><th>Niv_Gr_3</th><th>Nombre</th><th>Niv_Descr_1</th><th>Niv_Descr_2</th><th>Niv_Descr_3</th><th>N_Variables</th></tr><tr><td>str</td><td>str</td><td>str</td><td>str</td><td>str</td><td>str</td><td>str</td><td>u32</td></tr></thead><tbody><tr><td>&quot;ESR&quot;</td><td>&quot;CCI&quot;</td><td>&quot;01&quot;</td><td>&quot;ESR-CCI-01-4&quot;</td><td>&quot;Consumo Interm…</td><td>&quot;Actividades In…</td><td>&quot;ISFLSH&quot;</td><td>1</td></tr><tr><td>&quot;ESR&quot;</td><td>&quot;CCI&quot;</td><td>&quot;01&quot;</td><td>&quot;ESR-CCI-01-22&quot;</td><td>&quot;Consumo Interm…</td><td>&quot;Comercio, Repa…</td><td>&quot;Economía Total…</td><td>1</td></tr><tr><td>&quot;ESR&quot;</td><td>&quot;CCI&quot;</td><td>&quot;01&quot;</td><td>&quot;ESR-CCI-01-25&quot;</td><td>&quot;Consumo Interm…</td><td>&quot;Comercio, Repa…</td><td>&quot;ISFLSH&quot;</td><td>1</td></tr><tr><td>&quot;ESR&quot;</td><td>&quot;CCI&quot;</td><td>&quot;01&quot;</td><td>&quot;ESR-CCI-01-28&quot;</td><td>&quot;Consumo Interm…</td><td>&quot;Comercio, Repa…</td><td>&quot;Sociedades  No…</td><td>1</td></tr><tr><td>&quot;ESR&quot;</td><td>&quot;CCI&quot;</td><td>&quot;01&quot;</td><td>&quot;ESR-CCI-01-29&quot;</td><td>&quot;Consumo Interm…</td><td>&quot;Comunicaciones…</td><td>&quot;Economía Total…</td><td>1</td></tr><tr><td>&hellip;</td><td>&hellip;</td><td>&hellip;</td><td>&hellip;</td><td>&hellip;</td><td>&hellip;</td><td>&hellip;</td><td>&hellip;</td></tr><tr><td>&quot;ESR&quot;</td><td>&quot;CCI&quot;</td><td>&quot;01&quot;</td><td>&quot;ESR-CCI-01-322…</td><td>&quot;Valor Agregado…</td><td>&quot;Intermediación…</td><td>&quot;Sociedades  No…</td><td>1</td></tr><tr><td>&quot;ESR&quot;</td><td>&quot;CCI&quot;</td><td>&quot;01&quot;</td><td>&quot;ESR-CCI-01-351…</td><td>&quot;Valor Agregado…</td><td>&quot;Servicios Soci…</td><td>&quot;Economía Total…</td><td>1</td></tr><tr><td>&quot;ESR&quot;</td><td>&quot;CCI&quot;</td><td>&quot;01&quot;</td><td>&quot;ESR-CCI-01-360…</td><td>&quot;Valor Agregado…</td><td>&quot;Total&quot;</td><td>&quot;Hogares&quot;</td><td>1</td></tr><tr><td>&quot;ESR&quot;</td><td>&quot;CCI&quot;</td><td>&quot;01&quot;</td><td>&quot;ESR-CCI-01-362…</td><td>&quot;Valor Agregado…</td><td>&quot;Total&quot;</td><td>&quot;SIFMI&quot;</td><td>1</td></tr><tr><td>&quot;ESR&quot;</td><td>&quot;CCI&quot;</td><td>&quot;01&quot;</td><td>&quot;ESR-CCI-01-364…</td><td>&quot;Valor Agregado…</td><td>&quot;Total&quot;</td><td>&quot;Sociedades  No…</td><td>1</td></tr></tbody></table></div>"
      ],
      "text/plain": [
       "shape: (371, 8)\n",
       "┌──────────┬──────────┬──────────┬─────────────┬────────────┬────────────┬────────────┬────────────┐\n",
       "│ Niv_Gr_1 ┆ Niv_Gr_2 ┆ Niv_Gr_3 ┆ Nombre      ┆ Niv_Descr_ ┆ Niv_Descr_ ┆ Niv_Descr_ ┆ N_Variable │\n",
       "│ ---      ┆ ---      ┆ ---      ┆ ---         ┆ 1          ┆ 2          ┆ 3          ┆ s          │\n",
       "│ str      ┆ str      ┆ str      ┆ str         ┆ ---        ┆ ---        ┆ ---        ┆ ---        │\n",
       "│          ┆          ┆          ┆             ┆ str        ┆ str        ┆ str        ┆ u32        │\n",
       "╞══════════╪══════════╪══════════╪═════════════╪════════════╪════════════╪════════════╪════════════╡\n",
       "│ ESR      ┆ CCI      ┆ 01       ┆ ESR-CCI-01- ┆ Consumo    ┆ Actividade ┆ ISFLSH     ┆ 1          │\n",
       "│          ┆          ┆          ┆ 4           ┆ Intermedio ┆ s Inmobili ┆            ┆            │\n",
       "│          ┆          ┆          ┆             ┆            ┆ arias y    ┆            ┆            │\n",
       "│          ┆          ┆          ┆             ┆            ┆ Empr…      ┆            ┆            │\n",
       "│ ESR      ┆ CCI      ┆ 01       ┆ ESR-CCI-01- ┆ Consumo    ┆ Comercio,  ┆ Economía   ┆ 1          │\n",
       "│          ┆          ┆          ┆ 22          ┆ Intermedio ┆ Reparación ┆ Total      ┆            │\n",
       "│          ┆          ┆          ┆             ┆            ┆ de         ┆            ┆            │\n",
       "│          ┆          ┆          ┆             ┆            ┆ Vehículo…  ┆            ┆            │\n",
       "│ ESR      ┆ CCI      ┆ 01       ┆ ESR-CCI-01- ┆ Consumo    ┆ Comercio,  ┆ ISFLSH     ┆ 1          │\n",
       "│          ┆          ┆          ┆ 25          ┆ Intermedio ┆ Reparación ┆            ┆            │\n",
       "│          ┆          ┆          ┆             ┆            ┆ de         ┆            ┆            │\n",
       "│          ┆          ┆          ┆             ┆            ┆ Vehículo…  ┆            ┆            │\n",
       "│ ESR      ┆ CCI      ┆ 01       ┆ ESR-CCI-01- ┆ Consumo    ┆ Comercio,  ┆ Sociedades ┆ 1          │\n",
       "│          ┆          ┆          ┆ 28          ┆ Intermedio ┆ Reparación ┆ No Financi ┆            │\n",
       "│          ┆          ┆          ┆             ┆            ┆ de         ┆ eras       ┆            │\n",
       "│          ┆          ┆          ┆             ┆            ┆ Vehículo…  ┆            ┆            │\n",
       "│ ESR      ┆ CCI      ┆ 01       ┆ ESR-CCI-01- ┆ Consumo    ┆ Comunicaci ┆ Economía   ┆ 1          │\n",
       "│          ┆          ┆          ┆ 29          ┆ Intermedio ┆ ones       ┆ Total      ┆            │\n",
       "│ …        ┆ …        ┆ …        ┆ …           ┆ …          ┆ …          ┆ …          ┆ …          │\n",
       "│ ESR      ┆ CCI      ┆ 01       ┆ ESR-CCI-01- ┆ Valor      ┆ Intermedia ┆ Sociedades ┆ 1          │\n",
       "│          ┆          ┆          ┆ 322         ┆ Agregado   ┆ ción       ┆ No Financi ┆            │\n",
       "│          ┆          ┆          ┆             ┆            ┆ Financiera ┆ eras       ┆            │\n",
       "│ ESR      ┆ CCI      ┆ 01       ┆ ESR-CCI-01- ┆ Valor      ┆ Servicios  ┆ Economía   ┆ 1          │\n",
       "│          ┆          ┆          ┆ 351         ┆ Agregado   ┆ Sociales y ┆ Total      ┆            │\n",
       "│          ┆          ┆          ┆             ┆            ┆ de Salud   ┆            ┆            │\n",
       "│ ESR      ┆ CCI      ┆ 01       ┆ ESR-CCI-01- ┆ Valor      ┆ Total      ┆ Hogares    ┆ 1          │\n",
       "│          ┆          ┆          ┆ 360         ┆ Agregado   ┆            ┆            ┆            │\n",
       "│ ESR      ┆ CCI      ┆ 01       ┆ ESR-CCI-01- ┆ Valor      ┆ Total      ┆ SIFMI      ┆ 1          │\n",
       "│          ┆          ┆          ┆ 362         ┆ Agregado   ┆            ┆            ┆            │\n",
       "│ ESR      ┆ CCI      ┆ 01       ┆ ESR-CCI-01- ┆ Valor      ┆ Total      ┆ Sociedades ┆ 1          │\n",
       "│          ┆          ┆          ┆ 364         ┆ Agregado   ┆            ┆ No Financi ┆            │\n",
       "│          ┆          ┆          ┆             ┆            ┆            ┆ eras       ┆            │\n",
       "└──────────┴──────────┴──────────┴─────────────┴────────────┴────────────┴────────────┴────────────┘"
      ]
     },
     "execution_count": 25,
     "metadata": {},
     "output_type": "execute_result"
    }
   ],
   "source": [
    "res_nivel_7(\n",
    "    \"ESR\",\"CCI\",\n",
    "    \"Niv_Gr_3\",\n",
    "    \"01\",\n",
    "    \"Nombre\",\"Niv_Descr_1\",\"Niv_Descr_2\",\"Niv_Descr_3\")"
   ]
  },
  {
   "cell_type": "markdown",
   "id": "57681908",
   "metadata": {},
   "source": [
    "#### VAB = Valor Agregado Bruto\n"
   ]
  },
  {
   "cell_type": "code",
   "execution_count": 26,
   "id": "7cbb0d87",
   "metadata": {},
   "outputs": [
    {
     "name": "stdout",
     "output_type": "stream",
     "text": [
      "3 subgrupos\n",
      "120 variables\n"
     ]
    },
    {
     "data": {
      "text/html": [
       "<div><style>\n",
       ".dataframe > thead > tr,\n",
       ".dataframe > tbody > tr {\n",
       "  text-align: right;\n",
       "  white-space: pre-wrap;\n",
       "}\n",
       "</style>\n",
       "<small>shape: (3, 4)</small><table border=\"1\" class=\"dataframe\"><thead><tr><th>Niv_Gr_1</th><th>Niv_Gr_2</th><th>Niv_Descr_4</th><th>N_Variables</th></tr><tr><td>str</td><td>str</td><td>str</td><td>u32</td></tr></thead><tbody><tr><td>&quot;ESR&quot;</td><td>&quot;VAB&quot;</td><td>&quot; Variación &quot;</td><td>60</td></tr><tr><td>&quot;ESR&quot;</td><td>&quot;VAB&quot;</td><td>&quot; Precio &quot;</td><td>32</td></tr><tr><td>&quot;ESR&quot;</td><td>&quot;VAB&quot;</td><td>&quot; Valor &quot;</td><td>28</td></tr></tbody></table></div>"
      ],
      "text/plain": [
       "shape: (3, 4)\n",
       "┌──────────┬──────────┬─────────────┬─────────────┐\n",
       "│ Niv_Gr_1 ┆ Niv_Gr_2 ┆ Niv_Descr_4 ┆ N_Variables │\n",
       "│ ---      ┆ ---      ┆ ---         ┆ ---         │\n",
       "│ str      ┆ str      ┆ str         ┆ u32         │\n",
       "╞══════════╪══════════╪═════════════╪═════════════╡\n",
       "│ ESR      ┆ VAB      ┆  Variación  ┆ 60          │\n",
       "│ ESR      ┆ VAB      ┆  Precio     ┆ 32          │\n",
       "│ ESR      ┆ VAB      ┆  Valor      ┆ 28          │\n",
       "└──────────┴──────────┴─────────────┴─────────────┘"
      ]
     },
     "execution_count": 26,
     "metadata": {},
     "output_type": "execute_result"
    }
   ],
   "source": [
    "res_nivel_3(\"ESR\",\"VAB\",\"Niv_Descr_4\")"
   ]
  },
  {
   "cell_type": "markdown",
   "id": "376cddb3",
   "metadata": {},
   "source": [
    "### ESE = Estadísticas del Sector Externo\n"
   ]
  },
  {
   "cell_type": "code",
   "execution_count": 27,
   "id": "2a2a3593",
   "metadata": {},
   "outputs": [
    {
     "name": "stdout",
     "output_type": "stream",
     "text": [
      "1313 variables\n",
      "6 grupos\n",
      "12 subgrupos\n"
     ]
    },
    {
     "data": {
      "text/html": [
       "<div><style>\n",
       ".dataframe > thead > tr,\n",
       ".dataframe > tbody > tr {\n",
       "  text-align: right;\n",
       "  white-space: pre-wrap;\n",
       "}\n",
       "</style>\n",
       "<small>shape: (6, 4)</small><table border=\"1\" class=\"dataframe\"><thead><tr><th>Niv_Gr_1</th><th>Niv_Gr_2</th><th>N_Variables</th><th>N_Niv_Gr_2</th></tr><tr><td>str</td><td>str</td><td>u32</td><td>u32</td></tr></thead><tbody><tr><td>&quot;ESE&quot;</td><td>&quot;DE&quot;</td><td>737</td><td>4</td></tr><tr><td>&quot;ESE&quot;</td><td>&quot;CEB&quot;</td><td>339</td><td>4</td></tr><tr><td>&quot;ESE&quot;</td><td>&quot;BP&quot;</td><td>182</td><td>1</td></tr><tr><td>&quot;ESE&quot;</td><td>&quot;IES&quot;</td><td>28</td><td>1</td></tr><tr><td>&quot;ESE&quot;</td><td>&quot;PII&quot;</td><td>17</td><td>1</td></tr><tr><td>&quot;ESE&quot;</td><td>&quot;IED&quot;</td><td>10</td><td>1</td></tr></tbody></table></div>"
      ],
      "text/plain": [
       "shape: (6, 4)\n",
       "┌──────────┬──────────┬─────────────┬────────────┐\n",
       "│ Niv_Gr_1 ┆ Niv_Gr_2 ┆ N_Variables ┆ N_Niv_Gr_2 │\n",
       "│ ---      ┆ ---      ┆ ---         ┆ ---        │\n",
       "│ str      ┆ str      ┆ u32         ┆ u32        │\n",
       "╞══════════╪══════════╪═════════════╪════════════╡\n",
       "│ ESE      ┆ DE       ┆ 737         ┆ 4          │\n",
       "│ ESE      ┆ CEB      ┆ 339         ┆ 4          │\n",
       "│ ESE      ┆ BP       ┆ 182         ┆ 1          │\n",
       "│ ESE      ┆ IES      ┆ 28          ┆ 1          │\n",
       "│ ESE      ┆ PII      ┆ 17          ┆ 1          │\n",
       "│ ESE      ┆ IED      ┆ 10          ┆ 1          │\n",
       "└──────────┴──────────┴─────────────┴────────────┘"
      ]
     },
     "execution_count": 27,
     "metadata": {},
     "output_type": "execute_result"
    }
   ],
   "source": [
    "res_nivel_2(\"ESE\")"
   ]
  },
  {
   "cell_type": "markdown",
   "id": "8389138b",
   "metadata": {},
   "source": [
    "- DE = Deuda Externa\n",
    "- CEB = Comercio Exterior de Bienes\n",
    "- BP = Balanza de Pagos\n",
    "- IES = Ingresos y Egresos de Servicios\n",
    "- PII = Posición de Inversión Inernacional\n",
    "- IED = Inversión Extranjera Directa\n",
    "\n",
    "\n",
    "#### DE = Deuda Externa\n"
   ]
  },
  {
   "cell_type": "code",
   "execution_count": 28,
   "id": "e9f0a20c",
   "metadata": {},
   "outputs": [
    {
     "name": "stdout",
     "output_type": "stream",
     "text": [
      "4 subgrupos\n",
      "737 variables\n"
     ]
    },
    {
     "data": {
      "text/html": [
       "<div><style>\n",
       ".dataframe > thead > tr,\n",
       ".dataframe > tbody > tr {\n",
       "  text-align: right;\n",
       "  white-space: pre-wrap;\n",
       "}\n",
       "</style>\n",
       "<small>shape: (4, 4)</small><table border=\"1\" class=\"dataframe\"><thead><tr><th>Niv_Gr_1</th><th>Niv_Gr_2</th><th>Niv_Gr_3</th><th>N_Variables</th></tr><tr><td>str</td><td>str</td><td>str</td><td>u32</td></tr></thead><tbody><tr><td>&quot;ESE&quot;</td><td>&quot;DE&quot;</td><td>&quot;03&quot;</td><td>672</td></tr><tr><td>&quot;ESE&quot;</td><td>&quot;DE&quot;</td><td>&quot;04&quot;</td><td>55</td></tr><tr><td>&quot;ESE&quot;</td><td>&quot;DE&quot;</td><td>&quot;02&quot;</td><td>6</td></tr><tr><td>&quot;ESE&quot;</td><td>&quot;DE&quot;</td><td>&quot;01&quot;</td><td>4</td></tr></tbody></table></div>"
      ],
      "text/plain": [
       "shape: (4, 4)\n",
       "┌──────────┬──────────┬──────────┬─────────────┐\n",
       "│ Niv_Gr_1 ┆ Niv_Gr_2 ┆ Niv_Gr_3 ┆ N_Variables │\n",
       "│ ---      ┆ ---      ┆ ---      ┆ ---         │\n",
       "│ str      ┆ str      ┆ str      ┆ u32         │\n",
       "╞══════════╪══════════╪══════════╪═════════════╡\n",
       "│ ESE      ┆ DE       ┆ 03       ┆ 672         │\n",
       "│ ESE      ┆ DE       ┆ 04       ┆ 55          │\n",
       "│ ESE      ┆ DE       ┆ 02       ┆ 6           │\n",
       "│ ESE      ┆ DE       ┆ 01       ┆ 4           │\n",
       "└──────────┴──────────┴──────────┴─────────────┘"
      ]
     },
     "execution_count": 28,
     "metadata": {},
     "output_type": "execute_result"
    }
   ],
   "source": [
    "res_nivel_3(\"ESE\",\"DE\",\"Niv_Gr_3\")"
   ]
  },
  {
   "cell_type": "markdown",
   "id": "54068e59",
   "metadata": {},
   "source": [
    "###### 01 - Deudor\n"
   ]
  },
  {
   "cell_type": "code",
   "execution_count": 29,
   "id": "31aaf68f",
   "metadata": {},
   "outputs": [
    {
     "data": {
      "text/html": [
       "<div><style>\n",
       ".dataframe > thead > tr,\n",
       ".dataframe > tbody > tr {\n",
       "  text-align: right;\n",
       "  white-space: pre-wrap;\n",
       "}\n",
       "</style>\n",
       "<small>shape: (4, 6)</small><table border=\"1\" class=\"dataframe\"><thead><tr><th>Niv_Gr_1</th><th>Niv_Gr_2</th><th>Niv_Gr_3</th><th>Niv_Descr_1</th><th>Niv_Descr_2</th><th>N_Variables</th></tr><tr><td>str</td><td>str</td><td>str</td><td>str</td><td>str</td><td>u32</td></tr></thead><tbody><tr><td>&quot;ESE&quot;</td><td>&quot;DE&quot;</td><td>&quot;01&quot;</td><td>&quot;Deudor&quot;</td><td>&quot;Empresas Públi…</td><td>1</td></tr><tr><td>&quot;ESE&quot;</td><td>&quot;DE&quot;</td><td>&quot;01&quot;</td><td>&quot;Deudor&quot;</td><td>&quot;Autoridad Mone…</td><td>1</td></tr><tr><td>&quot;ESE&quot;</td><td>&quot;DE&quot;</td><td>&quot;01&quot;</td><td>&quot;Deudor&quot;</td><td>&quot;Instituciones …</td><td>1</td></tr><tr><td>&quot;ESE&quot;</td><td>&quot;DE&quot;</td><td>&quot;01&quot;</td><td>&quot;Deudor&quot;</td><td>&quot;Gobierno Gener…</td><td>1</td></tr></tbody></table></div>"
      ],
      "text/plain": [
       "shape: (4, 6)\n",
       "┌──────────┬──────────┬──────────┬─────────────┬───────────────────────────────────┬─────────────┐\n",
       "│ Niv_Gr_1 ┆ Niv_Gr_2 ┆ Niv_Gr_3 ┆ Niv_Descr_1 ┆ Niv_Descr_2                       ┆ N_Variables │\n",
       "│ ---      ┆ ---      ┆ ---      ┆ ---         ┆ ---                               ┆ ---         │\n",
       "│ str      ┆ str      ┆ str      ┆ str         ┆ str                               ┆ u32         │\n",
       "╞══════════╪══════════╪══════════╪═════════════╪═══════════════════════════════════╪═════════════╡\n",
       "│ ESE      ┆ DE       ┆ 01       ┆ Deudor      ┆ Empresas Públicas no Financieras  ┆ 1           │\n",
       "│ ESE      ┆ DE       ┆ 01       ┆ Deudor      ┆ Autoridad Monetaria               ┆ 1           │\n",
       "│ ESE      ┆ DE       ┆ 01       ┆ Deudor      ┆ Instituciones Públicas Financier… ┆ 1           │\n",
       "│ ESE      ┆ DE       ┆ 01       ┆ Deudor      ┆ Gobierno General                  ┆ 1           │\n",
       "└──────────┴──────────┴──────────┴─────────────┴───────────────────────────────────┴─────────────┘"
      ]
     },
     "execution_count": 29,
     "metadata": {},
     "output_type": "execute_result"
    }
   ],
   "source": [
    "res_nivel_5(\n",
    "    \"ESE\",\"DE\",\n",
    "    \"Niv_Gr_3\",\n",
    "    \"01\",\n",
    "    \"Niv_Descr_1\",\"Niv_Descr_2\")"
   ]
  },
  {
   "cell_type": "markdown",
   "id": "84c48c52",
   "metadata": {},
   "source": [
    "Para ver todas las variables:\n"
   ]
  },
  {
   "cell_type": "code",
   "execution_count": 30,
   "id": "358e7b6f",
   "metadata": {},
   "outputs": [
    {
     "data": {
      "text/html": [
       "<div><style>\n",
       ".dataframe > thead > tr,\n",
       ".dataframe > tbody > tr {\n",
       "  text-align: right;\n",
       "  white-space: pre-wrap;\n",
       "}\n",
       "</style>\n",
       "<small>shape: (4, 7)</small><table border=\"1\" class=\"dataframe\"><thead><tr><th>Niv_Gr_1</th><th>Niv_Gr_2</th><th>Niv_Gr_3</th><th>Nombre</th><th>Niv_Descr_1</th><th>Niv_Descr_2</th><th>N_Variables</th></tr><tr><td>str</td><td>str</td><td>str</td><td>str</td><td>str</td><td>str</td><td>u32</td></tr></thead><tbody><tr><td>&quot;ESE&quot;</td><td>&quot;DE&quot;</td><td>&quot;01&quot;</td><td>&quot;ESE-DE-01-1&quot;</td><td>&quot;Deudor&quot;</td><td>&quot;Autoridad Mone…</td><td>1</td></tr><tr><td>&quot;ESE&quot;</td><td>&quot;DE&quot;</td><td>&quot;01&quot;</td><td>&quot;ESE-DE-01-2&quot;</td><td>&quot;Deudor&quot;</td><td>&quot;Empresas Públi…</td><td>1</td></tr><tr><td>&quot;ESE&quot;</td><td>&quot;DE&quot;</td><td>&quot;01&quot;</td><td>&quot;ESE-DE-01-3&quot;</td><td>&quot;Deudor&quot;</td><td>&quot;Gobierno Gener…</td><td>1</td></tr><tr><td>&quot;ESE&quot;</td><td>&quot;DE&quot;</td><td>&quot;01&quot;</td><td>&quot;ESE-DE-01-4&quot;</td><td>&quot;Deudor&quot;</td><td>&quot;Instituciones …</td><td>1</td></tr></tbody></table></div>"
      ],
      "text/plain": [
       "shape: (4, 7)\n",
       "┌──────────┬──────────┬──────────┬─────────────┬─────────────┬───────────────────────┬─────────────┐\n",
       "│ Niv_Gr_1 ┆ Niv_Gr_2 ┆ Niv_Gr_3 ┆ Nombre      ┆ Niv_Descr_1 ┆ Niv_Descr_2           ┆ N_Variables │\n",
       "│ ---      ┆ ---      ┆ ---      ┆ ---         ┆ ---         ┆ ---                   ┆ ---         │\n",
       "│ str      ┆ str      ┆ str      ┆ str         ┆ str         ┆ str                   ┆ u32         │\n",
       "╞══════════╪══════════╪══════════╪═════════════╪═════════════╪═══════════════════════╪═════════════╡\n",
       "│ ESE      ┆ DE       ┆ 01       ┆ ESE-DE-01-1 ┆ Deudor      ┆ Autoridad Monetaria   ┆ 1           │\n",
       "│ ESE      ┆ DE       ┆ 01       ┆ ESE-DE-01-2 ┆ Deudor      ┆ Empresas Públicas no  ┆ 1           │\n",
       "│          ┆          ┆          ┆             ┆             ┆ Financieras           ┆             │\n",
       "│ ESE      ┆ DE       ┆ 01       ┆ ESE-DE-01-3 ┆ Deudor      ┆ Gobierno General      ┆ 1           │\n",
       "│ ESE      ┆ DE       ┆ 01       ┆ ESE-DE-01-4 ┆ Deudor      ┆ Instituciones         ┆ 1           │\n",
       "│          ┆          ┆          ┆             ┆             ┆ Públicas Financier…   ┆             │\n",
       "└──────────┴──────────┴──────────┴─────────────┴─────────────┴───────────────────────┴─────────────┘"
      ]
     },
     "execution_count": 30,
     "metadata": {},
     "output_type": "execute_result"
    }
   ],
   "source": [
    "res_nivel_6(\n",
    "    \"ESE\",\"DE\",\n",
    "    \"Niv_Gr_3\",\"01\",\n",
    "    \"Nombre\",\"Niv_Descr_1\",\"Niv_Descr_2\").sort(\"Nombre\")"
   ]
  },
  {
   "cell_type": "markdown",
   "id": "1ee9a919",
   "metadata": {},
   "source": [
    "###### 02 - Acreedor\n"
   ]
  },
  {
   "cell_type": "code",
   "execution_count": 31,
   "id": "f498e7bf",
   "metadata": {},
   "outputs": [
    {
     "data": {
      "text/html": [
       "<div><style>\n",
       ".dataframe > thead > tr,\n",
       ".dataframe > tbody > tr {\n",
       "  text-align: right;\n",
       "  white-space: pre-wrap;\n",
       "}\n",
       "</style>\n",
       "<small>shape: (6, 6)</small><table border=\"1\" class=\"dataframe\"><thead><tr><th>Niv_Gr_1</th><th>Niv_Gr_2</th><th>Niv_Gr_3</th><th>Niv_Descr_1</th><th>Niv_Descr_2</th><th>N_Variables</th></tr><tr><td>str</td><td>str</td><td>str</td><td>str</td><td>str</td><td>u32</td></tr></thead><tbody><tr><td>&quot;ESE&quot;</td><td>&quot;DE&quot;</td><td>&quot;02&quot;</td><td>&quot;Acreedor&quot;</td><td>&quot;Sector Público…</td><td>1</td></tr><tr><td>&quot;ESE&quot;</td><td>&quot;DE&quot;</td><td>&quot;02&quot;</td><td>&quot;Acreedor&quot;</td><td>&quot;Sector Privado…</td><td>1</td></tr><tr><td>&quot;ESE&quot;</td><td>&quot;DE&quot;</td><td>&quot;02&quot;</td><td>&quot;Acreedor&quot;</td><td>&quot;Sector Público…</td><td>1</td></tr><tr><td>&quot;ESE&quot;</td><td>&quot;DE&quot;</td><td>&quot;02&quot;</td><td>&quot;Acreedor&quot;</td><td>&quot;Sector Privado…</td><td>1</td></tr><tr><td>&quot;ESE&quot;</td><td>&quot;DE&quot;</td><td>&quot;02&quot;</td><td>&quot;Acreedor&quot;</td><td>&quot;Sector Público…</td><td>1</td></tr><tr><td>&quot;ESE&quot;</td><td>&quot;DE&quot;</td><td>&quot;02&quot;</td><td>&quot;Acreedor&quot;</td><td>&quot;Sector Privado…</td><td>1</td></tr></tbody></table></div>"
      ],
      "text/plain": [
       "shape: (6, 6)\n",
       "┌──────────┬──────────┬──────────┬─────────────┬─────────────────────────────┬─────────────┐\n",
       "│ Niv_Gr_1 ┆ Niv_Gr_2 ┆ Niv_Gr_3 ┆ Niv_Descr_1 ┆ Niv_Descr_2                 ┆ N_Variables │\n",
       "│ ---      ┆ ---      ┆ ---      ┆ ---         ┆ ---                         ┆ ---         │\n",
       "│ str      ┆ str      ┆ str      ┆ str         ┆ str                         ┆ u32         │\n",
       "╞══════════╪══════════╪══════════╪═════════════╪═════════════════════════════╪═════════════╡\n",
       "│ ESE      ┆ DE       ┆ 02       ┆ Acreedor    ┆ Sector Público Bilateral    ┆ 1           │\n",
       "│ ESE      ┆ DE       ┆ 02       ┆ Acreedor    ┆ Sector Privado Multilateral ┆ 1           │\n",
       "│ ESE      ┆ DE       ┆ 02       ┆ Acreedor    ┆ Sector Público Comercial    ┆ 1           │\n",
       "│ ESE      ┆ DE       ┆ 02       ┆ Acreedor    ┆ Sector Privado Bilateral    ┆ 1           │\n",
       "│ ESE      ┆ DE       ┆ 02       ┆ Acreedor    ┆ Sector Público Multilateral ┆ 1           │\n",
       "│ ESE      ┆ DE       ┆ 02       ┆ Acreedor    ┆ Sector Privado Comercial    ┆ 1           │\n",
       "└──────────┴──────────┴──────────┴─────────────┴─────────────────────────────┴─────────────┘"
      ]
     },
     "execution_count": 31,
     "metadata": {},
     "output_type": "execute_result"
    }
   ],
   "source": [
    "res_nivel_5(\n",
    "    \"ESE\",\"DE\",\n",
    "    \"Niv_Gr_3\",\n",
    "    \"02\",\n",
    "    \"Niv_Descr_1\",\"Niv_Descr_2\")"
   ]
  },
  {
   "cell_type": "markdown",
   "id": "751469e4",
   "metadata": {},
   "source": [
    "Para ver todas las variables:\n"
   ]
  },
  {
   "cell_type": "code",
   "execution_count": 32,
   "id": "0297f44e",
   "metadata": {},
   "outputs": [
    {
     "data": {
      "text/html": [
       "<div><style>\n",
       ".dataframe > thead > tr,\n",
       ".dataframe > tbody > tr {\n",
       "  text-align: right;\n",
       "  white-space: pre-wrap;\n",
       "}\n",
       "</style>\n",
       "<small>shape: (6, 7)</small><table border=\"1\" class=\"dataframe\"><thead><tr><th>Niv_Gr_1</th><th>Niv_Gr_2</th><th>Niv_Gr_3</th><th>Nombre</th><th>Niv_Descr_1</th><th>Niv_Descr_2</th><th>N_Variables</th></tr><tr><td>str</td><td>str</td><td>str</td><td>str</td><td>str</td><td>str</td><td>u32</td></tr></thead><tbody><tr><td>&quot;ESE&quot;</td><td>&quot;DE&quot;</td><td>&quot;02&quot;</td><td>&quot;ESE-DE-02-1&quot;</td><td>&quot;Acreedor&quot;</td><td>&quot;Sector Privado…</td><td>1</td></tr><tr><td>&quot;ESE&quot;</td><td>&quot;DE&quot;</td><td>&quot;02&quot;</td><td>&quot;ESE-DE-02-2&quot;</td><td>&quot;Acreedor&quot;</td><td>&quot;Sector Público…</td><td>1</td></tr><tr><td>&quot;ESE&quot;</td><td>&quot;DE&quot;</td><td>&quot;02&quot;</td><td>&quot;ESE-DE-02-3&quot;</td><td>&quot;Acreedor&quot;</td><td>&quot;Sector Público…</td><td>1</td></tr><tr><td>&quot;ESE&quot;</td><td>&quot;DE&quot;</td><td>&quot;02&quot;</td><td>&quot;ESE-DE-02-4&quot;</td><td>&quot;Acreedor&quot;</td><td>&quot;Sector Privado…</td><td>1</td></tr><tr><td>&quot;ESE&quot;</td><td>&quot;DE&quot;</td><td>&quot;02&quot;</td><td>&quot;ESE-DE-02-5&quot;</td><td>&quot;Acreedor&quot;</td><td>&quot;Sector Público…</td><td>1</td></tr><tr><td>&quot;ESE&quot;</td><td>&quot;DE&quot;</td><td>&quot;02&quot;</td><td>&quot;ESE-DE-02-6&quot;</td><td>&quot;Acreedor&quot;</td><td>&quot;Sector Privado…</td><td>1</td></tr></tbody></table></div>"
      ],
      "text/plain": [
       "shape: (6, 7)\n",
       "┌──────────┬──────────┬──────────┬─────────────┬─────────────┬────────────────┬─────────────┐\n",
       "│ Niv_Gr_1 ┆ Niv_Gr_2 ┆ Niv_Gr_3 ┆ Nombre      ┆ Niv_Descr_1 ┆ Niv_Descr_2    ┆ N_Variables │\n",
       "│ ---      ┆ ---      ┆ ---      ┆ ---         ┆ ---         ┆ ---            ┆ ---         │\n",
       "│ str      ┆ str      ┆ str      ┆ str         ┆ str         ┆ str            ┆ u32         │\n",
       "╞══════════╪══════════╪══════════╪═════════════╪═════════════╪════════════════╪═════════════╡\n",
       "│ ESE      ┆ DE       ┆ 02       ┆ ESE-DE-02-1 ┆ Acreedor    ┆ Sector Privado ┆ 1           │\n",
       "│          ┆          ┆          ┆             ┆             ┆ Bilateral      ┆             │\n",
       "│ ESE      ┆ DE       ┆ 02       ┆ ESE-DE-02-2 ┆ Acreedor    ┆ Sector Público ┆ 1           │\n",
       "│          ┆          ┆          ┆             ┆             ┆ Bilateral      ┆             │\n",
       "│ ESE      ┆ DE       ┆ 02       ┆ ESE-DE-02-3 ┆ Acreedor    ┆ Sector Público ┆ 1           │\n",
       "│          ┆          ┆          ┆             ┆             ┆ Comercial      ┆             │\n",
       "│ ESE      ┆ DE       ┆ 02       ┆ ESE-DE-02-4 ┆ Acreedor    ┆ Sector Privado ┆ 1           │\n",
       "│          ┆          ┆          ┆             ┆             ┆ Comercial      ┆             │\n",
       "│ ESE      ┆ DE       ┆ 02       ┆ ESE-DE-02-5 ┆ Acreedor    ┆ Sector Público ┆ 1           │\n",
       "│          ┆          ┆          ┆             ┆             ┆ Multilateral   ┆             │\n",
       "│ ESE      ┆ DE       ┆ 02       ┆ ESE-DE-02-6 ┆ Acreedor    ┆ Sector Privado ┆ 1           │\n",
       "│          ┆          ┆          ┆             ┆             ┆ Multilateral   ┆             │\n",
       "└──────────┴──────────┴──────────┴─────────────┴─────────────┴────────────────┴─────────────┘"
      ]
     },
     "execution_count": 32,
     "metadata": {},
     "output_type": "execute_result"
    }
   ],
   "source": [
    "res_nivel_6(\n",
    "    \"ESE\",\"DE\",\n",
    "    \"Niv_Gr_3\",\"02\",\n",
    "    \"Nombre\",\"Niv_Descr_1\",\"Niv_Descr_2\").sort(\"Nombre\")"
   ]
  },
  {
   "cell_type": "markdown",
   "id": "1a960fc4",
   "metadata": {},
   "source": [
    "###### 03 - Acreedor\n"
   ]
  },
  {
   "cell_type": "code",
   "execution_count": 33,
   "id": "b25645c8",
   "metadata": {},
   "outputs": [
    {
     "data": {
      "text/html": [
       "<div><style>\n",
       ".dataframe > thead > tr,\n",
       ".dataframe > tbody > tr {\n",
       "  text-align: right;\n",
       "  white-space: pre-wrap;\n",
       "}\n",
       "</style>\n",
       "<small>shape: (6, 5)</small><table border=\"1\" class=\"dataframe\"><thead><tr><th>Niv_Gr_1</th><th>Niv_Gr_2</th><th>Niv_Gr_3</th><th>Niv_Descr_1</th><th>N_Variables</th></tr><tr><td>str</td><td>str</td><td>str</td><td>str</td><td>u32</td></tr></thead><tbody><tr><td>&quot;ESE&quot;</td><td>&quot;DE&quot;</td><td>&quot;03&quot;</td><td>&quot;Banco Central&quot;</td><td>144</td></tr><tr><td>&quot;ESE&quot;</td><td>&quot;DE&quot;</td><td>&quot;03&quot;</td><td>&quot;Gobierno gener…</td><td>144</td></tr><tr><td>&quot;ESE&quot;</td><td>&quot;DE&quot;</td><td>&quot;03&quot;</td><td>&quot;Otras sociedad…</td><td>120</td></tr><tr><td>&quot;ESE&quot;</td><td>&quot;DE&quot;</td><td>&quot;03&quot;</td><td>&quot;Sociedades no …</td><td>120</td></tr><tr><td>&quot;ESE&quot;</td><td>&quot;DE&quot;</td><td>&quot;03&quot;</td><td>&quot;Otros Sectores…</td><td>120</td></tr><tr><td>&quot;ESE&quot;</td><td>&quot;DE&quot;</td><td>&quot;03&quot;</td><td>&quot;Saldo bruto de…</td><td>24</td></tr></tbody></table></div>"
      ],
      "text/plain": [
       "shape: (6, 5)\n",
       "┌──────────┬──────────┬──────────┬─────────────────────────────────┬─────────────┐\n",
       "│ Niv_Gr_1 ┆ Niv_Gr_2 ┆ Niv_Gr_3 ┆ Niv_Descr_1                     ┆ N_Variables │\n",
       "│ ---      ┆ ---      ┆ ---      ┆ ---                             ┆ ---         │\n",
       "│ str      ┆ str      ┆ str      ┆ str                             ┆ u32         │\n",
       "╞══════════╪══════════╪══════════╪═════════════════════════════════╪═════════════╡\n",
       "│ ESE      ┆ DE       ┆ 03       ┆ Banco Central                   ┆ 144         │\n",
       "│ ESE      ┆ DE       ┆ 03       ┆ Gobierno general                ┆ 144         │\n",
       "│ ESE      ┆ DE       ┆ 03       ┆ Otras sociedades financieras    ┆ 120         │\n",
       "│ ESE      ┆ DE       ┆ 03       ┆ Sociedades no financieras       ┆ 120         │\n",
       "│ ESE      ┆ DE       ┆ 03       ┆ Otros Sectores                  ┆ 120         │\n",
       "│ ESE      ┆ DE       ┆ 03       ┆ Saldo bruto de la deuda externa ┆ 24          │\n",
       "└──────────┴──────────┴──────────┴─────────────────────────────────┴─────────────┘"
      ]
     },
     "execution_count": 33,
     "metadata": {},
     "output_type": "execute_result"
    }
   ],
   "source": [
    "res_nivel_4(\n",
    "    \"ESE\",\"DE\",\n",
    "    \"Niv_Gr_3\",\n",
    "    \"03\",\n",
    "    \"Niv_Descr_1\")"
   ]
  },
  {
   "cell_type": "markdown",
   "id": "6db31a41",
   "metadata": {},
   "source": [
    "- Banco Central\n",
    "- Gobierno general\n",
    "- Otras sociedades financieras\n",
    "- Otros Sectores\n",
    "- Saldo bruto de la deuda externa\n",
    "- Sociedades no financieras\n"
   ]
  },
  {
   "cell_type": "code",
   "execution_count": 34,
   "id": "458d3a2a",
   "metadata": {},
   "outputs": [
    {
     "data": {
      "text/html": [
       "<div><style>\n",
       ".dataframe > thead > tr,\n",
       ".dataframe > tbody > tr {\n",
       "  text-align: right;\n",
       "  white-space: pre-wrap;\n",
       "}\n",
       "</style>\n",
       "<small>shape: (12, 6)</small><table border=\"1\" class=\"dataframe\"><thead><tr><th>Niv_Gr_1</th><th>Niv_Gr_2</th><th>Niv_Gr_3</th><th>Niv_Descr_1</th><th>Niv_Descr_2</th><th>N_Variables</th></tr><tr><td>str</td><td>str</td><td>str</td><td>str</td><td>str</td><td>u32</td></tr></thead><tbody><tr><td>&quot;ESE&quot;</td><td>&quot;DE&quot;</td><td>&quot;03&quot;</td><td>&quot;Banco Central&quot;</td><td>&quot;Asignación de …</td><td>16</td></tr><tr><td>&quot;ESE&quot;</td><td>&quot;DE&quot;</td><td>&quot;03&quot;</td><td>&quot;Banco Central&quot;</td><td>&quot;Otros pasivos …</td><td>16</td></tr><tr><td>&quot;ESE&quot;</td><td>&quot;DE&quot;</td><td>&quot;03&quot;</td><td>&quot;Banco Central&quot;</td><td>&quot;Préstamos &quot;</td><td>16</td></tr><tr><td>&quot;ESE&quot;</td><td>&quot;DE&quot;</td><td>&quot;03&quot;</td><td>&quot;Banco Central&quot;</td><td>&quot;Moneda y depós…</td><td>16</td></tr><tr><td>&quot;ESE&quot;</td><td>&quot;DE&quot;</td><td>&quot;03&quot;</td><td>&quot;Banco Central&quot;</td><td>&quot;Títulos de deu…</td><td>16</td></tr><tr><td>&hellip;</td><td>&hellip;</td><td>&hellip;</td><td>&hellip;</td><td>&hellip;</td><td>&hellip;</td></tr><tr><td>&quot;ESE&quot;</td><td>&quot;DE&quot;</td><td>&quot;03&quot;</td><td>&quot;Banco Central&quot;</td><td>&quot;Préstamos&quot;</td><td>8</td></tr><tr><td>&quot;ESE&quot;</td><td>&quot;DE&quot;</td><td>&quot;03&quot;</td><td>&quot;Banco Central&quot;</td><td>&quot;Títulos de deu…</td><td>8</td></tr><tr><td>&quot;ESE&quot;</td><td>&quot;DE&quot;</td><td>&quot;03&quot;</td><td>&quot;Banco Central&quot;</td><td>&quot;Créditos y ant…</td><td>8</td></tr><tr><td>&quot;ESE&quot;</td><td>&quot;DE&quot;</td><td>&quot;03&quot;</td><td>&quot;Banco Central&quot;</td><td>&quot;Otros pasivos …</td><td>8</td></tr><tr><td>&quot;ESE&quot;</td><td>&quot;DE&quot;</td><td>&quot;03&quot;</td><td>&quot;Banco Central&quot;</td><td>&quot;Moneda y depós…</td><td>8</td></tr></tbody></table></div>"
      ],
      "text/plain": [
       "shape: (12, 6)\n",
       "┌──────────┬──────────┬──────────┬───────────────┬───────────────────────────────────┬─────────────┐\n",
       "│ Niv_Gr_1 ┆ Niv_Gr_2 ┆ Niv_Gr_3 ┆ Niv_Descr_1   ┆ Niv_Descr_2                       ┆ N_Variables │\n",
       "│ ---      ┆ ---      ┆ ---      ┆ ---           ┆ ---                               ┆ ---         │\n",
       "│ str      ┆ str      ┆ str      ┆ str           ┆ str                               ┆ u32         │\n",
       "╞══════════╪══════════╪══════════╪═══════════════╪═══════════════════════════════════╪═════════════╡\n",
       "│ ESE      ┆ DE       ┆ 03       ┆ Banco Central ┆ Asignación de Derechos especiale… ┆ 16          │\n",
       "│ ESE      ┆ DE       ┆ 03       ┆ Banco Central ┆ Otros pasivos de deuda            ┆ 16          │\n",
       "│ ESE      ┆ DE       ┆ 03       ┆ Banco Central ┆ Préstamos                         ┆ 16          │\n",
       "│ ESE      ┆ DE       ┆ 03       ┆ Banco Central ┆ Moneda y depósitos                ┆ 16          │\n",
       "│ ESE      ┆ DE       ┆ 03       ┆ Banco Central ┆ Títulos de deuda                  ┆ 16          │\n",
       "│ …        ┆ …        ┆ …        ┆ …             ┆ …                                 ┆ …           │\n",
       "│ ESE      ┆ DE       ┆ 03       ┆ Banco Central ┆ Préstamos                         ┆ 8           │\n",
       "│ ESE      ┆ DE       ┆ 03       ┆ Banco Central ┆ Títulos de deuda                  ┆ 8           │\n",
       "│ ESE      ┆ DE       ┆ 03       ┆ Banco Central ┆ Créditos y anticipos comerciales  ┆ 8           │\n",
       "│ ESE      ┆ DE       ┆ 03       ┆ Banco Central ┆ Otros pasivos de deuda            ┆ 8           │\n",
       "│ ESE      ┆ DE       ┆ 03       ┆ Banco Central ┆ Moneda y depósitos                ┆ 8           │\n",
       "└──────────┴──────────┴──────────┴───────────────┴───────────────────────────────────┴─────────────┘"
      ]
     },
     "execution_count": 34,
     "metadata": {},
     "output_type": "execute_result"
    }
   ],
   "source": [
    "res_nivel_5(\n",
    "    \"ESE\",\"DE\",\n",
    "    \"Niv_Gr_3\",\n",
    "    \"03\",\n",
    "    \"Niv_Descr_1\",\"Niv_Descr_2\"\n",
    "    ).filter(\n",
    "        pl.col(\"Niv_Descr_1\") == \"Banco Central\")"
   ]
  },
  {
   "cell_type": "markdown",
   "id": "69f57ab5",
   "metadata": {},
   "source": [
    "- Asignación de Derechos especiales de giro\n",
    "- Asignación de Derechos especiales de giro \n",
    "- Créditos y anticipos comerciales\n",
    "- Créditos y anticipos comerciales \n",
    "- Moneda y depósitos\n",
    "- Moneda y depósitos \n",
    "- Otros pasivos de deuda\n",
    "- Otros pasivos de deuda \n",
    "- Préstamos\n",
    "- Préstamos \n",
    "- Tí­tulos de deuda\n",
    "- Tí­tulos de deuda \n",
    "- Saldo bruto de la deuda externa\n",
    "- Saldo bruto de la deuda externa \n"
   ]
  },
  {
   "cell_type": "code",
   "execution_count": 35,
   "id": "93f1bf30",
   "metadata": {},
   "outputs": [
    {
     "data": {
      "text/html": [
       "<div><style>\n",
       ".dataframe > thead > tr,\n",
       ".dataframe > tbody > tr {\n",
       "  text-align: right;\n",
       "  white-space: pre-wrap;\n",
       "}\n",
       "</style>\n",
       "<small>shape: (14, 5)</small><table border=\"1\" class=\"dataframe\"><thead><tr><th>Niv_Gr_1</th><th>Niv_Gr_2</th><th>Niv_Gr_3</th><th>Niv_Descr_2</th><th>N_Variables</th></tr><tr><td>str</td><td>str</td><td>str</td><td>str</td><td>u32</td></tr></thead><tbody><tr><td>&quot;ESE&quot;</td><td>&quot;DE&quot;</td><td>&quot;03&quot;</td><td>&quot;Créditos y ant…</td><td>80</td></tr><tr><td>&quot;ESE&quot;</td><td>&quot;DE&quot;</td><td>&quot;03&quot;</td><td>&quot;Títulos de deu…</td><td>80</td></tr><tr><td>&quot;ESE&quot;</td><td>&quot;DE&quot;</td><td>&quot;03&quot;</td><td>&quot;Otros pasivos …</td><td>80</td></tr><tr><td>&quot;ESE&quot;</td><td>&quot;DE&quot;</td><td>&quot;03&quot;</td><td>&quot;Moneda y depós…</td><td>80</td></tr><tr><td>&quot;ESE&quot;</td><td>&quot;DE&quot;</td><td>&quot;03&quot;</td><td>&quot;Préstamos &quot;</td><td>80</td></tr><tr><td>&hellip;</td><td>&hellip;</td><td>&hellip;</td><td>&hellip;</td><td>&hellip;</td></tr><tr><td>&quot;ESE&quot;</td><td>&quot;DE&quot;</td><td>&quot;03&quot;</td><td>&quot;Otros pasivos …</td><td>40</td></tr><tr><td>&quot;ESE&quot;</td><td>&quot;DE&quot;</td><td>&quot;03&quot;</td><td>&quot;Asignación de …</td><td>32</td></tr><tr><td>&quot;ESE&quot;</td><td>&quot;DE&quot;</td><td>&quot;03&quot;</td><td>&quot;Asignación de …</td><td>16</td></tr><tr><td>&quot;ESE&quot;</td><td>&quot;DE&quot;</td><td>&quot;03&quot;</td><td>&quot;Saldo bruto de…</td><td>16</td></tr><tr><td>&quot;ESE&quot;</td><td>&quot;DE&quot;</td><td>&quot;03&quot;</td><td>&quot;Saldo bruto de…</td><td>8</td></tr></tbody></table></div>"
      ],
      "text/plain": [
       "shape: (14, 5)\n",
       "┌──────────┬──────────┬──────────┬───────────────────────────────────┬─────────────┐\n",
       "│ Niv_Gr_1 ┆ Niv_Gr_2 ┆ Niv_Gr_3 ┆ Niv_Descr_2                       ┆ N_Variables │\n",
       "│ ---      ┆ ---      ┆ ---      ┆ ---                               ┆ ---         │\n",
       "│ str      ┆ str      ┆ str      ┆ str                               ┆ u32         │\n",
       "╞══════════╪══════════╪══════════╪═══════════════════════════════════╪═════════════╡\n",
       "│ ESE      ┆ DE       ┆ 03       ┆ Créditos y anticipos comerciales… ┆ 80          │\n",
       "│ ESE      ┆ DE       ┆ 03       ┆ Títulos de deuda                  ┆ 80          │\n",
       "│ ESE      ┆ DE       ┆ 03       ┆ Otros pasivos de deuda            ┆ 80          │\n",
       "│ ESE      ┆ DE       ┆ 03       ┆ Moneda y depósitos                ┆ 80          │\n",
       "│ ESE      ┆ DE       ┆ 03       ┆ Préstamos                         ┆ 80          │\n",
       "│ …        ┆ …        ┆ …        ┆ …                                 ┆ …           │\n",
       "│ ESE      ┆ DE       ┆ 03       ┆ Otros pasivos de deuda            ┆ 40          │\n",
       "│ ESE      ┆ DE       ┆ 03       ┆ Asignación de Derechos especiale… ┆ 32          │\n",
       "│ ESE      ┆ DE       ┆ 03       ┆ Asignación de Derechos especiale… ┆ 16          │\n",
       "│ ESE      ┆ DE       ┆ 03       ┆ Saldo bruto de la deuda externa   ┆ 16          │\n",
       "│ ESE      ┆ DE       ┆ 03       ┆ Saldo bruto de la deuda externa   ┆ 8           │\n",
       "└──────────┴──────────┴──────────┴───────────────────────────────────┴─────────────┘"
      ]
     },
     "execution_count": 35,
     "metadata": {},
     "output_type": "execute_result"
    }
   ],
   "source": [
    "res_nivel_4(\n",
    "    \"ESE\",\"DE\",\n",
    "    \"Niv_Gr_3\",\n",
    "    \"03\",\n",
    "    \"Niv_Descr_2\")"
   ]
  },
  {
   "cell_type": "markdown",
   "id": "458d989b",
   "metadata": {},
   "source": [
    "Para ver todas las variables (Nota: el nivel de descripción sigue):\n"
   ]
  },
  {
   "cell_type": "code",
   "execution_count": 36,
   "id": "7eed712d",
   "metadata": {},
   "outputs": [
    {
     "data": {
      "text/html": [
       "<div><style>\n",
       ".dataframe > thead > tr,\n",
       ".dataframe > tbody > tr {\n",
       "  text-align: right;\n",
       "  white-space: pre-wrap;\n",
       "}\n",
       "</style>\n",
       "<small>shape: (672, 21)</small><table border=\"1\" class=\"dataframe\"><thead><tr><th>Id</th><th>Nombre</th><th>Descripcion</th><th>Periodicidad</th><th>Grupo</th><th>CorrelativoGrupo</th><th>Niv_Descr_1</th><th>Niv_Descr_2</th><th>Niv_Descr_3</th><th>Niv_Descr_4</th><th>Niv_Descr_5</th><th>Niv_Descr_6</th><th>Niv_Descr_7</th><th>Niv_Descr_8</th><th>Niv_Descr</th><th>Niv_Gr_1</th><th>Niv_Gr_2</th><th>Niv_Gr_3</th><th>Niv_Gr_4</th><th>Niv_Gr_5</th><th>Niv_Gr</th></tr><tr><td>i64</td><td>str</td><td>str</td><td>str</td><td>str</td><td>str</td><td>str</td><td>str</td><td>str</td><td>str</td><td>str</td><td>str</td><td>str</td><td>str</td><td>i64</td><td>str</td><td>str</td><td>str</td><td>str</td><td>str</td><td>i64</td></tr></thead><tbody><tr><td>6720</td><td>&quot;ESE-DE-03-1&quot;</td><td>&quot;Banco Central-…</td><td>&quot;Trimestral&quot;</td><td>&quot;ESE-DE-03&quot;</td><td>&quot;1&quot;</td><td>&quot;Banco Central&quot;</td><td>&quot;Asignación de …</td><td>&quot;0&quot;</td><td>&quot;3 meses&quot;</td><td>null</td><td>null</td><td>null</td><td>null</td><td>4</td><td>&quot;ESE&quot;</td><td>&quot;DE&quot;</td><td>&quot;03&quot;</td><td>null</td><td>null</td><td>12</td></tr><tr><td>6721</td><td>&quot;ESE-DE-03-2&quot;</td><td>&quot;Banco Central-…</td><td>&quot;Trimestral&quot;</td><td>&quot;ESE-DE-03&quot;</td><td>&quot;2&quot;</td><td>&quot;Banco Central&quot;</td><td>&quot;Asignación de …</td><td>&quot;12&quot;</td><td>&quot;18 meses&quot;</td><td>null</td><td>null</td><td>null</td><td>null</td><td>4</td><td>&quot;ESE&quot;</td><td>&quot;DE&quot;</td><td>&quot;03&quot;</td><td>null</td><td>null</td><td>12</td></tr><tr><td>6722</td><td>&quot;ESE-DE-03-3&quot;</td><td>&quot;Banco Central-…</td><td>&quot;Trimestral&quot;</td><td>&quot;ESE-DE-03&quot;</td><td>&quot;3&quot;</td><td>&quot;Banco Central&quot;</td><td>&quot;Asignación de …</td><td>&quot;18&quot;</td><td>&quot;24 meses&quot;</td><td>null</td><td>null</td><td>null</td><td>null</td><td>4</td><td>&quot;ESE&quot;</td><td>&quot;DE&quot;</td><td>&quot;03&quot;</td><td>null</td><td>null</td><td>12</td></tr><tr><td>6723</td><td>&quot;ESE-DE-03-4&quot;</td><td>&quot;Banco Central-…</td><td>&quot;Trimestral&quot;</td><td>&quot;ESE-DE-03&quot;</td><td>&quot;4&quot;</td><td>&quot;Banco Central&quot;</td><td>&quot;Asignación de …</td><td>&quot;2 años en adel…</td><td>null</td><td>null</td><td>null</td><td>null</td><td>null</td><td>3</td><td>&quot;ESE&quot;</td><td>&quot;DE&quot;</td><td>&quot;03&quot;</td><td>null</td><td>null</td><td>11</td></tr><tr><td>6724</td><td>&quot;ESE-DE-03-5&quot;</td><td>&quot;Banco Central-…</td><td>&quot;Trimestral&quot;</td><td>&quot;ESE-DE-03&quot;</td><td>&quot;5&quot;</td><td>&quot;Banco Central&quot;</td><td>&quot;Asignación de …</td><td>&quot;3&quot;</td><td>&quot;6 meses&quot;</td><td>null</td><td>null</td><td>null</td><td>null</td><td>4</td><td>&quot;ESE&quot;</td><td>&quot;DE&quot;</td><td>&quot;03&quot;</td><td>null</td><td>null</td><td>12</td></tr><tr><td>&hellip;</td><td>&hellip;</td><td>&hellip;</td><td>&hellip;</td><td>&hellip;</td><td>&hellip;</td><td>&hellip;</td><td>&hellip;</td><td>&hellip;</td><td>&hellip;</td><td>&hellip;</td><td>&hellip;</td><td>&hellip;</td><td>&hellip;</td><td>&hellip;</td><td>&hellip;</td><td>&hellip;</td><td>&hellip;</td><td>&hellip;</td><td>&hellip;</td><td>&hellip;</td></tr><tr><td>7387</td><td>&quot;ESE-DE-03-668&quot;</td><td>&quot;Sociedades no …</td><td>&quot;Trimestral&quot;</td><td>&quot;ESE-DE-03&quot;</td><td>&quot;668&quot;</td><td>&quot;Sociedades no …</td><td>&quot;Títulos de deu…</td><td>&quot; Principal&quot;</td><td>&quot;2 años en adel…</td><td>null</td><td>null</td><td>null</td><td>null</td><td>4</td><td>&quot;ESE&quot;</td><td>&quot;DE&quot;</td><td>&quot;03&quot;</td><td>null</td><td>null</td><td>12</td></tr><tr><td>7388</td><td>&quot;ESE-DE-03-669&quot;</td><td>&quot;Sociedades no …</td><td>&quot;Trimestral&quot;</td><td>&quot;ESE-DE-03&quot;</td><td>&quot;669&quot;</td><td>&quot;Sociedades no …</td><td>&quot;Títulos de deu…</td><td>&quot; Principal&quot;</td><td>&quot;3&quot;</td><td>&quot;6 meses&quot;</td><td>null</td><td>null</td><td>null</td><td>5</td><td>&quot;ESE&quot;</td><td>&quot;DE&quot;</td><td>&quot;03&quot;</td><td>null</td><td>null</td><td>13</td></tr><tr><td>7389</td><td>&quot;ESE-DE-03-670&quot;</td><td>&quot;Sociedades no …</td><td>&quot;Trimestral&quot;</td><td>&quot;ESE-DE-03&quot;</td><td>&quot;670&quot;</td><td>&quot;Sociedades no …</td><td>&quot;Títulos de deu…</td><td>&quot; Principal&quot;</td><td>&quot;6&quot;</td><td>&quot;9 meses&quot;</td><td>null</td><td>null</td><td>null</td><td>5</td><td>&quot;ESE&quot;</td><td>&quot;DE&quot;</td><td>&quot;03&quot;</td><td>null</td><td>null</td><td>13</td></tr><tr><td>7390</td><td>&quot;ESE-DE-03-671&quot;</td><td>&quot;Sociedades no …</td><td>&quot;Trimestral&quot;</td><td>&quot;ESE-DE-03&quot;</td><td>&quot;671&quot;</td><td>&quot;Sociedades no …</td><td>&quot;Títulos de deu…</td><td>&quot; Principal&quot;</td><td>&quot;9&quot;</td><td>&quot;12 meses&quot;</td><td>null</td><td>null</td><td>null</td><td>5</td><td>&quot;ESE&quot;</td><td>&quot;DE&quot;</td><td>&quot;03&quot;</td><td>null</td><td>null</td><td>13</td></tr><tr><td>7391</td><td>&quot;ESE-DE-03-672&quot;</td><td>&quot;Sociedades no …</td><td>&quot;Trimestral&quot;</td><td>&quot;ESE-DE-03&quot;</td><td>&quot;672&quot;</td><td>&quot;Sociedades no …</td><td>&quot;Títulos de deu…</td><td>&quot; Principal&quot;</td><td>&quot;De pago inmedi…</td><td>null</td><td>null</td><td>null</td><td>null</td><td>4</td><td>&quot;ESE&quot;</td><td>&quot;DE&quot;</td><td>&quot;03&quot;</td><td>null</td><td>null</td><td>12</td></tr></tbody></table></div>"
      ],
      "text/plain": [
       "shape: (672, 21)\n",
       "┌──────┬───────────────┬──────────────┬──────────────┬───┬──────────┬──────────┬──────────┬────────┐\n",
       "│ Id   ┆ Nombre        ┆ Descripcion  ┆ Periodicidad ┆ … ┆ Niv_Gr_3 ┆ Niv_Gr_4 ┆ Niv_Gr_5 ┆ Niv_Gr │\n",
       "│ ---  ┆ ---           ┆ ---          ┆ ---          ┆   ┆ ---      ┆ ---      ┆ ---      ┆ ---    │\n",
       "│ i64  ┆ str           ┆ str          ┆ str          ┆   ┆ str      ┆ str      ┆ str      ┆ i64    │\n",
       "╞══════╪═══════════════╪══════════════╪══════════════╪═══╪══════════╪══════════╪══════════╪════════╡\n",
       "│ 6720 ┆ ESE-DE-03-1   ┆ Banco Centra ┆ Trimestral   ┆ … ┆ 03       ┆ null     ┆ null     ┆ 12     │\n",
       "│      ┆               ┆ l-Asignación ┆              ┆   ┆          ┆          ┆          ┆        │\n",
       "│      ┆               ┆ de Dere…     ┆              ┆   ┆          ┆          ┆          ┆        │\n",
       "│ 6721 ┆ ESE-DE-03-2   ┆ Banco Centra ┆ Trimestral   ┆ … ┆ 03       ┆ null     ┆ null     ┆ 12     │\n",
       "│      ┆               ┆ l-Asignación ┆              ┆   ┆          ┆          ┆          ┆        │\n",
       "│      ┆               ┆ de Dere…     ┆              ┆   ┆          ┆          ┆          ┆        │\n",
       "│ 6722 ┆ ESE-DE-03-3   ┆ Banco Centra ┆ Trimestral   ┆ … ┆ 03       ┆ null     ┆ null     ┆ 12     │\n",
       "│      ┆               ┆ l-Asignación ┆              ┆   ┆          ┆          ┆          ┆        │\n",
       "│      ┆               ┆ de Dere…     ┆              ┆   ┆          ┆          ┆          ┆        │\n",
       "│ 6723 ┆ ESE-DE-03-4   ┆ Banco Centra ┆ Trimestral   ┆ … ┆ 03       ┆ null     ┆ null     ┆ 11     │\n",
       "│      ┆               ┆ l-Asignación ┆              ┆   ┆          ┆          ┆          ┆        │\n",
       "│      ┆               ┆ de Dere…     ┆              ┆   ┆          ┆          ┆          ┆        │\n",
       "│ 6724 ┆ ESE-DE-03-5   ┆ Banco Centra ┆ Trimestral   ┆ … ┆ 03       ┆ null     ┆ null     ┆ 12     │\n",
       "│      ┆               ┆ l-Asignación ┆              ┆   ┆          ┆          ┆          ┆        │\n",
       "│      ┆               ┆ de Dere…     ┆              ┆   ┆          ┆          ┆          ┆        │\n",
       "│ …    ┆ …             ┆ …            ┆ …            ┆ … ┆ …        ┆ …        ┆ …        ┆ …      │\n",
       "│ 7387 ┆ ESE-DE-03-668 ┆ Sociedades   ┆ Trimestral   ┆ … ┆ 03       ┆ null     ┆ null     ┆ 12     │\n",
       "│      ┆               ┆ no financier ┆              ┆   ┆          ┆          ┆          ┆        │\n",
       "│      ┆               ┆ as-Título…   ┆              ┆   ┆          ┆          ┆          ┆        │\n",
       "│ 7388 ┆ ESE-DE-03-669 ┆ Sociedades   ┆ Trimestral   ┆ … ┆ 03       ┆ null     ┆ null     ┆ 13     │\n",
       "│      ┆               ┆ no financier ┆              ┆   ┆          ┆          ┆          ┆        │\n",
       "│      ┆               ┆ as-Título…   ┆              ┆   ┆          ┆          ┆          ┆        │\n",
       "│ 7389 ┆ ESE-DE-03-670 ┆ Sociedades   ┆ Trimestral   ┆ … ┆ 03       ┆ null     ┆ null     ┆ 13     │\n",
       "│      ┆               ┆ no financier ┆              ┆   ┆          ┆          ┆          ┆        │\n",
       "│      ┆               ┆ as-Título…   ┆              ┆   ┆          ┆          ┆          ┆        │\n",
       "│ 7390 ┆ ESE-DE-03-671 ┆ Sociedades   ┆ Trimestral   ┆ … ┆ 03       ┆ null     ┆ null     ┆ 13     │\n",
       "│      ┆               ┆ no financier ┆              ┆   ┆          ┆          ┆          ┆        │\n",
       "│      ┆               ┆ as-Título…   ┆              ┆   ┆          ┆          ┆          ┆        │\n",
       "│ 7391 ┆ ESE-DE-03-672 ┆ Sociedades   ┆ Trimestral   ┆ … ┆ 03       ┆ null     ┆ null     ┆ 12     │\n",
       "│      ┆               ┆ no financier ┆              ┆   ┆          ┆          ┆          ┆        │\n",
       "│      ┆               ┆ as-Título…   ┆              ┆   ┆          ┆          ┆          ┆        │\n",
       "└──────┴───────────────┴──────────────┴──────────────┴───┴──────────┴──────────┴──────────┴────────┘"
      ]
     },
     "execution_count": 36,
     "metadata": {},
     "output_type": "execute_result"
    }
   ],
   "source": [
    "df_all.filter(\n",
    "    pl.col(\"Niv_Gr_1\") == \"ESE\",\n",
    "    pl.col(\"Niv_Gr_2\") == \"DE\",\n",
    "    pl.col(\"Niv_Gr_3\") == \"03\")"
   ]
  },
  {
   "cell_type": "markdown",
   "id": "84019ca7",
   "metadata": {},
   "source": [
    "###### 04 - Acreedor\n",
    "\n",
    "- Gobierno general\n",
    "- Banco Central\n",
    "- Otros Sectores\n",
    "- Otras sociedades financieras\n",
    "- Sociedades no financieras\n",
    "- Deuda externa total a corto plazo\n"
   ]
  },
  {
   "cell_type": "code",
   "execution_count": 37,
   "id": "42ccaf52",
   "metadata": {},
   "outputs": [
    {
     "data": {
      "text/html": [
       "<div><style>\n",
       ".dataframe > thead > tr,\n",
       ".dataframe > tbody > tr {\n",
       "  text-align: right;\n",
       "  white-space: pre-wrap;\n",
       "}\n",
       "</style>\n",
       "<small>shape: (6, 5)</small><table border=\"1\" class=\"dataframe\"><thead><tr><th>Niv_Gr_1</th><th>Niv_Gr_2</th><th>Niv_Gr_3</th><th>Niv_Descr_1</th><th>N_Variables</th></tr><tr><td>str</td><td>str</td><td>str</td><td>str</td><td>u32</td></tr></thead><tbody><tr><td>&quot;ESE&quot;</td><td>&quot;DE&quot;</td><td>&quot;04&quot;</td><td>&quot;Banco Central&quot;</td><td>12</td></tr><tr><td>&quot;ESE&quot;</td><td>&quot;DE&quot;</td><td>&quot;04&quot;</td><td>&quot;Gobierno gener…</td><td>12</td></tr><tr><td>&quot;ESE&quot;</td><td>&quot;DE&quot;</td><td>&quot;04&quot;</td><td>&quot;Otras sociedad…</td><td>10</td></tr><tr><td>&quot;ESE&quot;</td><td>&quot;DE&quot;</td><td>&quot;04&quot;</td><td>&quot;Sociedades no …</td><td>10</td></tr><tr><td>&quot;ESE&quot;</td><td>&quot;DE&quot;</td><td>&quot;04&quot;</td><td>&quot;Otros Sectores…</td><td>10</td></tr><tr><td>&quot;ESE&quot;</td><td>&quot;DE&quot;</td><td>&quot;04&quot;</td><td>&quot;Deuda externa …</td><td>1</td></tr></tbody></table></div>"
      ],
      "text/plain": [
       "shape: (6, 5)\n",
       "┌──────────┬──────────┬──────────┬───────────────────────────────────┬─────────────┐\n",
       "│ Niv_Gr_1 ┆ Niv_Gr_2 ┆ Niv_Gr_3 ┆ Niv_Descr_1                       ┆ N_Variables │\n",
       "│ ---      ┆ ---      ┆ ---      ┆ ---                               ┆ ---         │\n",
       "│ str      ┆ str      ┆ str      ┆ str                               ┆ u32         │\n",
       "╞══════════╪══════════╪══════════╪═══════════════════════════════════╪═════════════╡\n",
       "│ ESE      ┆ DE       ┆ 04       ┆ Banco Central                     ┆ 12          │\n",
       "│ ESE      ┆ DE       ┆ 04       ┆ Gobierno general                  ┆ 12          │\n",
       "│ ESE      ┆ DE       ┆ 04       ┆ Otras sociedades financieras      ┆ 10          │\n",
       "│ ESE      ┆ DE       ┆ 04       ┆ Sociedades no financieras         ┆ 10          │\n",
       "│ ESE      ┆ DE       ┆ 04       ┆ Otros Sectores                    ┆ 10          │\n",
       "│ ESE      ┆ DE       ┆ 04       ┆ Deuda externa total a corto plaz… ┆ 1           │\n",
       "└──────────┴──────────┴──────────┴───────────────────────────────────┴─────────────┘"
      ]
     },
     "execution_count": 37,
     "metadata": {},
     "output_type": "execute_result"
    }
   ],
   "source": [
    "res_nivel_4(\n",
    "    \"ESE\",\"DE\",\n",
    "    \"Niv_Gr_3\",\n",
    "    \"04\",\n",
    "    \"Niv_Descr_1\")"
   ]
  },
  {
   "cell_type": "markdown",
   "id": "9014f16b",
   "metadata": {},
   "source": [
    "- A corto plazo según el vencimiento original\n",
    "- A largo plazo exigible dentro de un año o antes\n",
    "- Deuda externa total a corto plazo\n"
   ]
  },
  {
   "cell_type": "code",
   "execution_count": 38,
   "id": "2ccc322e",
   "metadata": {},
   "outputs": [
    {
     "data": {
      "text/html": [
       "<div><style>\n",
       ".dataframe > thead > tr,\n",
       ".dataframe > tbody > tr {\n",
       "  text-align: right;\n",
       "  white-space: pre-wrap;\n",
       "}\n",
       "</style>\n",
       "<small>shape: (3, 5)</small><table border=\"1\" class=\"dataframe\"><thead><tr><th>Niv_Gr_1</th><th>Niv_Gr_2</th><th>Niv_Gr_3</th><th>Niv_Descr_2</th><th>N_Variables</th></tr><tr><td>str</td><td>str</td><td>str</td><td>str</td><td>u32</td></tr></thead><tbody><tr><td>&quot;ESE&quot;</td><td>&quot;DE&quot;</td><td>&quot;04&quot;</td><td>&quot;A corto plazo …</td><td>27</td></tr><tr><td>&quot;ESE&quot;</td><td>&quot;DE&quot;</td><td>&quot;04&quot;</td><td>&quot;A largo plazo …</td><td>27</td></tr><tr><td>&quot;ESE&quot;</td><td>&quot;DE&quot;</td><td>&quot;04&quot;</td><td>&quot;Deuda externa …</td><td>1</td></tr></tbody></table></div>"
      ],
      "text/plain": [
       "shape: (3, 5)\n",
       "┌──────────┬──────────┬──────────┬───────────────────────────────────┬─────────────┐\n",
       "│ Niv_Gr_1 ┆ Niv_Gr_2 ┆ Niv_Gr_3 ┆ Niv_Descr_2                       ┆ N_Variables │\n",
       "│ ---      ┆ ---      ┆ ---      ┆ ---                               ┆ ---         │\n",
       "│ str      ┆ str      ┆ str      ┆ str                               ┆ u32         │\n",
       "╞══════════╪══════════╪══════════╪═══════════════════════════════════╪═════════════╡\n",
       "│ ESE      ┆ DE       ┆ 04       ┆ A corto plazo según el vencimien… ┆ 27          │\n",
       "│ ESE      ┆ DE       ┆ 04       ┆ A largo plazo exigible dentro de… ┆ 27          │\n",
       "│ ESE      ┆ DE       ┆ 04       ┆ Deuda externa total a corto plaz… ┆ 1           │\n",
       "└──────────┴──────────┴──────────┴───────────────────────────────────┴─────────────┘"
      ]
     },
     "execution_count": 38,
     "metadata": {},
     "output_type": "execute_result"
    }
   ],
   "source": [
    "res_nivel_4(\n",
    "    \"ESE\",\"DE\",\n",
    "    \"Niv_Gr_3\",\n",
    "    \"04\",\n",
    "    \"Niv_Descr_2\")"
   ]
  },
  {
   "cell_type": "markdown",
   "id": "b96f6c0c",
   "metadata": {},
   "source": [
    "- Asignación de Derechos especiales de giro\n",
    "- Moneda y depósitos\n",
    "- Tí­tulos de deuda\n",
    "- Préstamos\n",
    "- Créditos y anticipos comerciales\n",
    "- Otros pasivos de deuda\n",
    "- Deuda externa total a corto plazo (según el vencimiento residual)\n"
   ]
  },
  {
   "cell_type": "code",
   "execution_count": 39,
   "id": "7aa45b95",
   "metadata": {},
   "outputs": [
    {
     "data": {
      "text/html": [
       "<div><style>\n",
       ".dataframe > thead > tr,\n",
       ".dataframe > tbody > tr {\n",
       "  text-align: right;\n",
       "  white-space: pre-wrap;\n",
       "}\n",
       "</style>\n",
       "<small>shape: (7, 5)</small><table border=\"1\" class=\"dataframe\"><thead><tr><th>Niv_Gr_1</th><th>Niv_Gr_2</th><th>Niv_Gr_3</th><th>Niv_Descr_3</th><th>N_Variables</th></tr><tr><td>str</td><td>str</td><td>str</td><td>str</td><td>u32</td></tr></thead><tbody><tr><td>&quot;ESE&quot;</td><td>&quot;DE&quot;</td><td>&quot;04&quot;</td><td>&quot;Títulos de deu…</td><td>10</td></tr><tr><td>&quot;ESE&quot;</td><td>&quot;DE&quot;</td><td>&quot;04&quot;</td><td>&quot;Otros pasivos …</td><td>10</td></tr><tr><td>&quot;ESE&quot;</td><td>&quot;DE&quot;</td><td>&quot;04&quot;</td><td>&quot;Créditos y ant…</td><td>10</td></tr><tr><td>&quot;ESE&quot;</td><td>&quot;DE&quot;</td><td>&quot;04&quot;</td><td>&quot;Moneda y depós…</td><td>10</td></tr><tr><td>&quot;ESE&quot;</td><td>&quot;DE&quot;</td><td>&quot;04&quot;</td><td>&quot;Préstamos&quot;</td><td>10</td></tr><tr><td>&quot;ESE&quot;</td><td>&quot;DE&quot;</td><td>&quot;04&quot;</td><td>&quot;Asignación de …</td><td>4</td></tr><tr><td>&quot;ESE&quot;</td><td>&quot;DE&quot;</td><td>&quot;04&quot;</td><td>&quot;Deuda externa …</td><td>1</td></tr></tbody></table></div>"
      ],
      "text/plain": [
       "shape: (7, 5)\n",
       "┌──────────┬──────────┬──────────┬───────────────────────────────────┬─────────────┐\n",
       "│ Niv_Gr_1 ┆ Niv_Gr_2 ┆ Niv_Gr_3 ┆ Niv_Descr_3                       ┆ N_Variables │\n",
       "│ ---      ┆ ---      ┆ ---      ┆ ---                               ┆ ---         │\n",
       "│ str      ┆ str      ┆ str      ┆ str                               ┆ u32         │\n",
       "╞══════════╪══════════╪══════════╪═══════════════════════════════════╪═════════════╡\n",
       "│ ESE      ┆ DE       ┆ 04       ┆ Títulos de deuda                  ┆ 10          │\n",
       "│ ESE      ┆ DE       ┆ 04       ┆ Otros pasivos de deuda            ┆ 10          │\n",
       "│ ESE      ┆ DE       ┆ 04       ┆ Créditos y anticipos comerciales  ┆ 10          │\n",
       "│ ESE      ┆ DE       ┆ 04       ┆ Moneda y depósitos                ┆ 10          │\n",
       "│ ESE      ┆ DE       ┆ 04       ┆ Préstamos                         ┆ 10          │\n",
       "│ ESE      ┆ DE       ┆ 04       ┆ Asignación de Derechos especiale… ┆ 4           │\n",
       "│ ESE      ┆ DE       ┆ 04       ┆ Deuda externa total a corto plaz… ┆ 1           │\n",
       "└──────────┴──────────┴──────────┴───────────────────────────────────┴─────────────┘"
      ]
     },
     "execution_count": 39,
     "metadata": {},
     "output_type": "execute_result"
    }
   ],
   "source": [
    "res_nivel_4(\n",
    "    \"ESE\",\"DE\",\n",
    "    \"Niv_Gr_3\",\n",
    "    \"04\",\n",
    "    \"Niv_Descr_3\")"
   ]
  },
  {
   "cell_type": "markdown",
   "id": "49adeec2",
   "metadata": {},
   "source": [
    "Para ver todas las variables:\n"
   ]
  },
  {
   "cell_type": "code",
   "execution_count": 40,
   "id": "c3745072",
   "metadata": {},
   "outputs": [
    {
     "data": {
      "text/html": [
       "<div><style>\n",
       ".dataframe > thead > tr,\n",
       ".dataframe > tbody > tr {\n",
       "  text-align: right;\n",
       "  white-space: pre-wrap;\n",
       "}\n",
       "</style>\n",
       "<small>shape: (55, 8)</small><table border=\"1\" class=\"dataframe\"><thead><tr><th>Niv_Gr_1</th><th>Niv_Gr_2</th><th>Niv_Gr_3</th><th>Nombre</th><th>Niv_Descr_1</th><th>Niv_Descr_2</th><th>Niv_Descr_3</th><th>N_Variables</th></tr><tr><td>str</td><td>str</td><td>str</td><td>str</td><td>str</td><td>str</td><td>str</td><td>u32</td></tr></thead><tbody><tr><td>&quot;ESE&quot;</td><td>&quot;DE&quot;</td><td>&quot;04&quot;</td><td>&quot;ESE-DE-04-26&quot;</td><td>&quot;Otros Sectores…</td><td>&quot;A corto plazo …</td><td>&quot;Títulos de deu…</td><td>1</td></tr><tr><td>&quot;ESE&quot;</td><td>&quot;DE&quot;</td><td>&quot;04&quot;</td><td>&quot;ESE-DE-04-28&quot;</td><td>&quot;Otros Sectores…</td><td>&quot;A corto plazo …</td><td>&quot;Créditos y ant…</td><td>1</td></tr><tr><td>&quot;ESE&quot;</td><td>&quot;DE&quot;</td><td>&quot;04&quot;</td><td>&quot;ESE-DE-04-35&quot;</td><td>&quot;Otras sociedad…</td><td>&quot;A corto plazo …</td><td>&quot;Moneda y depós…</td><td>1</td></tr><tr><td>&quot;ESE&quot;</td><td>&quot;DE&quot;</td><td>&quot;04&quot;</td><td>&quot;ESE-DE-04-39&quot;</td><td>&quot;Otras sociedad…</td><td>&quot;A corto plazo …</td><td>&quot;Otros pasivos …</td><td>1</td></tr><tr><td>&quot;ESE&quot;</td><td>&quot;DE&quot;</td><td>&quot;04&quot;</td><td>&quot;ESE-DE-04-16&quot;</td><td>&quot;Banco Central&quot;</td><td>&quot;A corto plazo …</td><td>&quot;Préstamos&quot;</td><td>1</td></tr><tr><td>&hellip;</td><td>&hellip;</td><td>&hellip;</td><td>&hellip;</td><td>&hellip;</td><td>&hellip;</td><td>&hellip;</td><td>&hellip;</td></tr><tr><td>&quot;ESE&quot;</td><td>&quot;DE&quot;</td><td>&quot;04&quot;</td><td>&quot;ESE-DE-04-34&quot;</td><td>&quot;Otros Sectores…</td><td>&quot;A largo plazo …</td><td>&quot;Otros pasivos …</td><td>1</td></tr><tr><td>&quot;ESE&quot;</td><td>&quot;DE&quot;</td><td>&quot;04&quot;</td><td>&quot;ESE-DE-04-38&quot;</td><td>&quot;Otras sociedad…</td><td>&quot;A corto plazo …</td><td>&quot;Créditos y ant…</td><td>1</td></tr><tr><td>&quot;ESE&quot;</td><td>&quot;DE&quot;</td><td>&quot;04&quot;</td><td>&quot;ESE-DE-04-47&quot;</td><td>&quot;Sociedades no …</td><td>&quot;A corto plazo …</td><td>&quot;Préstamos&quot;</td><td>1</td></tr><tr><td>&quot;ESE&quot;</td><td>&quot;DE&quot;</td><td>&quot;04&quot;</td><td>&quot;ESE-DE-04-50&quot;</td><td>&quot;Sociedades no …</td><td>&quot;A largo plazo …</td><td>&quot;Moneda y depós…</td><td>1</td></tr><tr><td>&quot;ESE&quot;</td><td>&quot;DE&quot;</td><td>&quot;04&quot;</td><td>&quot;ESE-DE-04-53&quot;</td><td>&quot;Sociedades no …</td><td>&quot;A largo plazo …</td><td>&quot;Créditos y ant…</td><td>1</td></tr></tbody></table></div>"
      ],
      "text/plain": [
       "shape: (55, 8)\n",
       "┌──────────┬──────────┬──────────┬─────────────┬────────────┬────────────┬────────────┬────────────┐\n",
       "│ Niv_Gr_1 ┆ Niv_Gr_2 ┆ Niv_Gr_3 ┆ Nombre      ┆ Niv_Descr_ ┆ Niv_Descr_ ┆ Niv_Descr_ ┆ N_Variable │\n",
       "│ ---      ┆ ---      ┆ ---      ┆ ---         ┆ 1          ┆ 2          ┆ 3          ┆ s          │\n",
       "│ str      ┆ str      ┆ str      ┆ str         ┆ ---        ┆ ---        ┆ ---        ┆ ---        │\n",
       "│          ┆          ┆          ┆             ┆ str        ┆ str        ┆ str        ┆ u32        │\n",
       "╞══════════╪══════════╪══════════╪═════════════╪════════════╪════════════╪════════════╪════════════╡\n",
       "│ ESE      ┆ DE       ┆ 04       ┆ ESE-DE-04-2 ┆ Otros      ┆ A corto    ┆ Títulos de ┆ 1          │\n",
       "│          ┆          ┆          ┆ 6           ┆ Sectores   ┆ plazo      ┆ deuda      ┆            │\n",
       "│          ┆          ┆          ┆             ┆            ┆ según el   ┆            ┆            │\n",
       "│          ┆          ┆          ┆             ┆            ┆ vencimien… ┆            ┆            │\n",
       "│ ESE      ┆ DE       ┆ 04       ┆ ESE-DE-04-2 ┆ Otros      ┆ A corto    ┆ Créditos y ┆ 1          │\n",
       "│          ┆          ┆          ┆ 8           ┆ Sectores   ┆ plazo      ┆ anticipos  ┆            │\n",
       "│          ┆          ┆          ┆             ┆            ┆ según el   ┆ comerciale ┆            │\n",
       "│          ┆          ┆          ┆             ┆            ┆ vencimien… ┆ s          ┆            │\n",
       "│ ESE      ┆ DE       ┆ 04       ┆ ESE-DE-04-3 ┆ Otras      ┆ A corto    ┆ Moneda y   ┆ 1          │\n",
       "│          ┆          ┆          ┆ 5           ┆ sociedades ┆ plazo      ┆ depósitos  ┆            │\n",
       "│          ┆          ┆          ┆             ┆ financiera ┆ según el   ┆            ┆            │\n",
       "│          ┆          ┆          ┆             ┆ s          ┆ vencimien… ┆            ┆            │\n",
       "│ ESE      ┆ DE       ┆ 04       ┆ ESE-DE-04-3 ┆ Otras      ┆ A corto    ┆ Otros      ┆ 1          │\n",
       "│          ┆          ┆          ┆ 9           ┆ sociedades ┆ plazo      ┆ pasivos de ┆            │\n",
       "│          ┆          ┆          ┆             ┆ financiera ┆ según el   ┆ deuda      ┆            │\n",
       "│          ┆          ┆          ┆             ┆ s          ┆ vencimien… ┆            ┆            │\n",
       "│ ESE      ┆ DE       ┆ 04       ┆ ESE-DE-04-1 ┆ Banco      ┆ A corto    ┆ Préstamos  ┆ 1          │\n",
       "│          ┆          ┆          ┆ 6           ┆ Central    ┆ plazo      ┆            ┆            │\n",
       "│          ┆          ┆          ┆             ┆            ┆ según el   ┆            ┆            │\n",
       "│          ┆          ┆          ┆             ┆            ┆ vencimien… ┆            ┆            │\n",
       "│ …        ┆ …        ┆ …        ┆ …           ┆ …          ┆ …          ┆ …          ┆ …          │\n",
       "│ ESE      ┆ DE       ┆ 04       ┆ ESE-DE-04-3 ┆ Otros      ┆ A largo    ┆ Otros      ┆ 1          │\n",
       "│          ┆          ┆          ┆ 4           ┆ Sectores   ┆ plazo      ┆ pasivos de ┆            │\n",
       "│          ┆          ┆          ┆             ┆            ┆ exigible   ┆ deuda      ┆            │\n",
       "│          ┆          ┆          ┆             ┆            ┆ dentro de… ┆            ┆            │\n",
       "│ ESE      ┆ DE       ┆ 04       ┆ ESE-DE-04-3 ┆ Otras      ┆ A corto    ┆ Créditos y ┆ 1          │\n",
       "│          ┆          ┆          ┆ 8           ┆ sociedades ┆ plazo      ┆ anticipos  ┆            │\n",
       "│          ┆          ┆          ┆             ┆ financiera ┆ según el   ┆ comerciale ┆            │\n",
       "│          ┆          ┆          ┆             ┆ s          ┆ vencimien… ┆ s          ┆            │\n",
       "│ ESE      ┆ DE       ┆ 04       ┆ ESE-DE-04-4 ┆ Sociedades ┆ A corto    ┆ Préstamos  ┆ 1          │\n",
       "│          ┆          ┆          ┆ 7           ┆ no financi ┆ plazo      ┆            ┆            │\n",
       "│          ┆          ┆          ┆             ┆ eras       ┆ según el   ┆            ┆            │\n",
       "│          ┆          ┆          ┆             ┆            ┆ vencimien… ┆            ┆            │\n",
       "│ ESE      ┆ DE       ┆ 04       ┆ ESE-DE-04-5 ┆ Sociedades ┆ A largo    ┆ Moneda y   ┆ 1          │\n",
       "│          ┆          ┆          ┆ 0           ┆ no financi ┆ plazo      ┆ depósitos  ┆            │\n",
       "│          ┆          ┆          ┆             ┆ eras       ┆ exigible   ┆            ┆            │\n",
       "│          ┆          ┆          ┆             ┆            ┆ dentro de… ┆            ┆            │\n",
       "│ ESE      ┆ DE       ┆ 04       ┆ ESE-DE-04-5 ┆ Sociedades ┆ A largo    ┆ Créditos y ┆ 1          │\n",
       "│          ┆          ┆          ┆ 3           ┆ no financi ┆ plazo      ┆ anticipos  ┆            │\n",
       "│          ┆          ┆          ┆             ┆ eras       ┆ exigible   ┆ comerciale ┆            │\n",
       "│          ┆          ┆          ┆             ┆            ┆ dentro de… ┆ s          ┆            │\n",
       "└──────────┴──────────┴──────────┴─────────────┴────────────┴────────────┴────────────┴────────────┘"
      ]
     },
     "execution_count": 40,
     "metadata": {},
     "output_type": "execute_result"
    }
   ],
   "source": [
    "res_nivel_7(\n",
    "    \"ESE\",\"DE\",\n",
    "    \"Niv_Gr_3\",\n",
    "    \"04\",\n",
    "    \"Nombre\",\"Niv_Descr_1\",\"Niv_Descr_2\",\"Niv_Descr_3\")"
   ]
  },
  {
   "cell_type": "markdown",
   "id": "f2ae1969",
   "metadata": {},
   "source": [
    "### EMF = Estadísiticas Monetarias y Financieras\n"
   ]
  },
  {
   "cell_type": "code",
   "execution_count": 41,
   "id": "aeb6f144",
   "metadata": {},
   "outputs": [
    {
     "name": "stdout",
     "output_type": "stream",
     "text": [
      "158 variables\n",
      "4 grupos\n",
      "12 subgrupos\n"
     ]
    },
    {
     "data": {
      "text/html": [
       "<div><style>\n",
       ".dataframe > thead > tr,\n",
       ".dataframe > tbody > tr {\n",
       "  text-align: right;\n",
       "  white-space: pre-wrap;\n",
       "}\n",
       "</style>\n",
       "<small>shape: (4, 4)</small><table border=\"1\" class=\"dataframe\"><thead><tr><th>Niv_Gr_1</th><th>Niv_Gr_2</th><th>N_Variables</th><th>N_Niv_Gr_2</th></tr><tr><td>str</td><td>str</td><td>u32</td><td>u32</td></tr></thead><tbody><tr><td>&quot;EMF&quot;</td><td>&quot;AMCC&quot;</td><td>102</td><td>6</td></tr><tr><td>&quot;EMF&quot;</td><td>&quot;TI&quot;</td><td>38</td><td>3</td></tr><tr><td>&quot;EMF&quot;</td><td>&quot;PFS&quot;</td><td>12</td><td>2</td></tr><tr><td>&quot;EMF&quot;</td><td>&quot;EBM&quot;</td><td>6</td><td>1</td></tr></tbody></table></div>"
      ],
      "text/plain": [
       "shape: (4, 4)\n",
       "┌──────────┬──────────┬─────────────┬────────────┐\n",
       "│ Niv_Gr_1 ┆ Niv_Gr_2 ┆ N_Variables ┆ N_Niv_Gr_2 │\n",
       "│ ---      ┆ ---      ┆ ---         ┆ ---        │\n",
       "│ str      ┆ str      ┆ u32         ┆ u32        │\n",
       "╞══════════╪══════════╪═════════════╪════════════╡\n",
       "│ EMF      ┆ AMCC     ┆ 102         ┆ 6          │\n",
       "│ EMF      ┆ TI       ┆ 38          ┆ 3          │\n",
       "│ EMF      ┆ PFS      ┆ 12          ┆ 2          │\n",
       "│ EMF      ┆ EBM      ┆ 6           ┆ 1          │\n",
       "└──────────┴──────────┴─────────────┴────────────┘"
      ]
     },
     "execution_count": 41,
     "metadata": {},
     "output_type": "execute_result"
    }
   ],
   "source": [
    "res_nivel_2(\"EMF\")"
   ]
  },
  {
   "cell_type": "markdown",
   "id": "a1cb7771",
   "metadata": {},
   "source": [
    "#### AMCC = Agregados Monetarios, Crédito y Captación\n"
   ]
  },
  {
   "cell_type": "code",
   "execution_count": 42,
   "id": "9907e286",
   "metadata": {},
   "outputs": [
    {
     "name": "stdout",
     "output_type": "stream",
     "text": [
      "6 subgrupos\n",
      "102 variables\n"
     ]
    },
    {
     "data": {
      "text/html": [
       "<div><style>\n",
       ".dataframe > thead > tr,\n",
       ".dataframe > tbody > tr {\n",
       "  text-align: right;\n",
       "  white-space: pre-wrap;\n",
       "}\n",
       "</style>\n",
       "<small>shape: (6, 4)</small><table border=\"1\" class=\"dataframe\"><thead><tr><th>Niv_Gr_1</th><th>Niv_Gr_2</th><th>Niv_Gr_3</th><th>N_Variables</th></tr><tr><td>str</td><td>str</td><td>str</td><td>u32</td></tr></thead><tbody><tr><td>&quot;EMF&quot;</td><td>&quot;AMCC&quot;</td><td>&quot;01&quot;</td><td>46</td></tr><tr><td>&quot;EMF&quot;</td><td>&quot;AMCC&quot;</td><td>&quot;02&quot;</td><td>16</td></tr><tr><td>&quot;EMF&quot;</td><td>&quot;AMCC&quot;</td><td>&quot;03&quot;</td><td>6</td></tr><tr><td>&quot;EMF&quot;</td><td>&quot;AMCC&quot;</td><td>&quot;04&quot;</td><td>6</td></tr><tr><td>&quot;EMF&quot;</td><td>&quot;AMCC&quot;</td><td>&quot;05&quot;</td><td>14</td></tr><tr><td>&quot;EMF&quot;</td><td>&quot;AMCC&quot;</td><td>&quot;06&quot;</td><td>14</td></tr></tbody></table></div>"
      ],
      "text/plain": [
       "shape: (6, 4)\n",
       "┌──────────┬──────────┬──────────┬─────────────┐\n",
       "│ Niv_Gr_1 ┆ Niv_Gr_2 ┆ Niv_Gr_3 ┆ N_Variables │\n",
       "│ ---      ┆ ---      ┆ ---      ┆ ---         │\n",
       "│ str      ┆ str      ┆ str      ┆ u32         │\n",
       "╞══════════╪══════════╪══════════╪═════════════╡\n",
       "│ EMF      ┆ AMCC     ┆ 01       ┆ 46          │\n",
       "│ EMF      ┆ AMCC     ┆ 02       ┆ 16          │\n",
       "│ EMF      ┆ AMCC     ┆ 03       ┆ 6           │\n",
       "│ EMF      ┆ AMCC     ┆ 04       ┆ 6           │\n",
       "│ EMF      ┆ AMCC     ┆ 05       ┆ 14          │\n",
       "│ EMF      ┆ AMCC     ┆ 06       ┆ 14          │\n",
       "└──────────┴──────────┴──────────┴─────────────┘"
      ]
     },
     "execution_count": 42,
     "metadata": {},
     "output_type": "execute_result"
    }
   ],
   "source": [
    "res_nivel_3(\"EMF\",\"AMCC\",\"Niv_Gr_3\").sort(\"Niv_Gr_3\")"
   ]
  },
  {
   "cell_type": "markdown",
   "id": "08dc9470",
   "metadata": {},
   "source": [
    "##### 01 \n"
   ]
  },
  {
   "cell_type": "code",
   "execution_count": 43,
   "id": "7a244147",
   "metadata": {},
   "outputs": [
    {
     "data": {
      "text/html": [
       "<div><style>\n",
       ".dataframe > thead > tr,\n",
       ".dataframe > tbody > tr {\n",
       "  text-align: right;\n",
       "  white-space: pre-wrap;\n",
       "}\n",
       "</style>\n",
       "<small>shape: (7, 5)</small><table border=\"1\" class=\"dataframe\"><thead><tr><th>Niv_Gr_1</th><th>Niv_Gr_2</th><th>Niv_Gr_3</th><th>Niv_Descr_5</th><th>N_Variables</th></tr><tr><td>str</td><td>str</td><td>str</td><td>str</td><td>u32</td></tr></thead><tbody><tr><td>&quot;EMF&quot;</td><td>&quot;AMCC&quot;</td><td>&quot;01&quot;</td><td>&quot; Captación Otr…</td><td>8</td></tr><tr><td>&quot;EMF&quot;</td><td>&quot;AMCC&quot;</td><td>&quot;01&quot;</td><td>&quot; Captación Ban…</td><td>8</td></tr><tr><td>&quot;EMF&quot;</td><td>&quot;AMCC&quot;</td><td>&quot;01&quot;</td><td>&quot; Crédito Secto…</td><td>6</td></tr><tr><td>&quot;EMF&quot;</td><td>&quot;AMCC&quot;</td><td>&quot;01&quot;</td><td>&quot; Crédito de lo…</td><td>6</td></tr><tr><td>&quot;EMF&quot;</td><td>&quot;AMCC&quot;</td><td>&quot;01&quot;</td><td>&quot; Crédito Otras…</td><td>6</td></tr><tr><td>&quot;EMF&quot;</td><td>&quot;AMCC&quot;</td><td>&quot;01&quot;</td><td>&quot; Agregados Mon…</td><td>6</td></tr><tr><td>&quot;EMF&quot;</td><td>&quot;AMCC&quot;</td><td>&quot;01&quot;</td><td>&quot; Crédito Otras…</td><td>6</td></tr></tbody></table></div>"
      ],
      "text/plain": [
       "shape: (7, 5)\n",
       "┌──────────┬──────────┬──────────┬───────────────────────────────────┬─────────────┐\n",
       "│ Niv_Gr_1 ┆ Niv_Gr_2 ┆ Niv_Gr_3 ┆ Niv_Descr_5                       ┆ N_Variables │\n",
       "│ ---      ┆ ---      ┆ ---      ┆ ---                               ┆ ---         │\n",
       "│ str      ┆ str      ┆ str      ┆ str                               ┆ u32         │\n",
       "╞══════════╪══════════╪══════════╪═══════════════════════════════════╪═════════════╡\n",
       "│ EMF      ┆ AMCC     ┆ 01       ┆  Captación Otras Sociedades de D… ┆ 8           │\n",
       "│ EMF      ┆ AMCC     ┆ 01       ┆  Captación Bancos Comerciales     ┆ 8           │\n",
       "│ EMF      ┆ AMCC     ┆ 01       ┆  Crédito Sector Financiero        ┆ 6           │\n",
       "│ EMF      ┆ AMCC     ┆ 01       ┆  Crédito de los Bancos Comercial… ┆ 6           │\n",
       "│ EMF      ┆ AMCC     ┆ 01       ┆  Crédito Otras Sociedades de Dep… ┆ 6           │\n",
       "│ EMF      ┆ AMCC     ┆ 01       ┆  Agregados Monetarios             ┆ 6           │\n",
       "│ EMF      ┆ AMCC     ┆ 01       ┆  Crédito Otras Sociedades Financ… ┆ 6           │\n",
       "└──────────┴──────────┴──────────┴───────────────────────────────────┴─────────────┘"
      ]
     },
     "execution_count": 43,
     "metadata": {},
     "output_type": "execute_result"
    }
   ],
   "source": [
    "res_nivel_4(\n",
    "    \"EMF\",\"AMCC\",\n",
    "    \"Niv_Gr_3\",\"01\",\n",
    "    \"Niv_Descr_5\")"
   ]
  },
  {
   "cell_type": "code",
   "execution_count": 44,
   "id": "5f385ba8",
   "metadata": {},
   "outputs": [
    {
     "data": {
      "text/html": [
       "<div><style>\n",
       ".dataframe > thead > tr,\n",
       ".dataframe > tbody > tr {\n",
       "  text-align: right;\n",
       "  white-space: pre-wrap;\n",
       "}\n",
       "</style>\n",
       "<small>shape: (7, 5)</small><table border=\"1\" class=\"dataframe\"><thead><tr><th>Niv_Gr_1</th><th>Niv_Gr_2</th><th>Niv_Gr_3</th><th>Niv_Descr_6</th><th>N_Variables</th></tr><tr><td>str</td><td>str</td><td>str</td><td>str</td><td>u32</td></tr></thead><tbody><tr><td>&quot;EMF&quot;</td><td>&quot;AMCC&quot;</td><td>&quot;01&quot;</td><td>&quot; Total&quot;</td><td>12</td></tr><tr><td>&quot;EMF&quot;</td><td>&quot;AMCC&quot;</td><td>&quot;01&quot;</td><td>&quot; Empresas Priv…</td><td>12</td></tr><tr><td>&quot;EMF&quot;</td><td>&quot;AMCC&quot;</td><td>&quot;01&quot;</td><td>&quot; Hogares&quot;</td><td>12</td></tr><tr><td>&quot;EMF&quot;</td><td>&quot;AMCC&quot;</td><td>&quot;01&quot;</td><td>&quot; Otros Sectore…</td><td>4</td></tr><tr><td>&quot;EMF&quot;</td><td>&quot;AMCC&quot;</td><td>&quot;01&quot;</td><td>&quot; M2&quot;</td><td>2</td></tr><tr><td>&quot;EMF&quot;</td><td>&quot;AMCC&quot;</td><td>&quot;01&quot;</td><td>&quot; M3&quot;</td><td>2</td></tr><tr><td>&quot;EMF&quot;</td><td>&quot;AMCC&quot;</td><td>&quot;01&quot;</td><td>&quot; M1&quot;</td><td>2</td></tr></tbody></table></div>"
      ],
      "text/plain": [
       "shape: (7, 5)\n",
       "┌──────────┬──────────┬──────────┬────────────────────┬─────────────┐\n",
       "│ Niv_Gr_1 ┆ Niv_Gr_2 ┆ Niv_Gr_3 ┆ Niv_Descr_6        ┆ N_Variables │\n",
       "│ ---      ┆ ---      ┆ ---      ┆ ---                ┆ ---         │\n",
       "│ str      ┆ str      ┆ str      ┆ str                ┆ u32         │\n",
       "╞══════════╪══════════╪══════════╪════════════════════╪═════════════╡\n",
       "│ EMF      ┆ AMCC     ┆ 01       ┆  Total             ┆ 12          │\n",
       "│ EMF      ┆ AMCC     ┆ 01       ┆  Empresas Privadas ┆ 12          │\n",
       "│ EMF      ┆ AMCC     ┆ 01       ┆  Hogares           ┆ 12          │\n",
       "│ EMF      ┆ AMCC     ┆ 01       ┆  Otros Sectores    ┆ 4           │\n",
       "│ EMF      ┆ AMCC     ┆ 01       ┆  M2                ┆ 2           │\n",
       "│ EMF      ┆ AMCC     ┆ 01       ┆  M3                ┆ 2           │\n",
       "│ EMF      ┆ AMCC     ┆ 01       ┆  M1                ┆ 2           │\n",
       "└──────────┴──────────┴──────────┴────────────────────┴─────────────┘"
      ]
     },
     "execution_count": 44,
     "metadata": {},
     "output_type": "execute_result"
    }
   ],
   "source": [
    "res_nivel_4(\n",
    "    \"EMF\",\"AMCC\",\n",
    "    \"Niv_Gr_3\",\"01\",\n",
    "    \"Niv_Descr_6\")"
   ]
  },
  {
   "cell_type": "markdown",
   "id": "fbeb5ef5",
   "metadata": {},
   "source": [
    "Para ver todas las variables:\n"
   ]
  },
  {
   "cell_type": "code",
   "execution_count": 45,
   "id": "1a56a484",
   "metadata": {},
   "outputs": [
    {
     "data": {
      "text/html": [
       "<div><style>\n",
       ".dataframe > thead > tr,\n",
       ".dataframe > tbody > tr {\n",
       "  text-align: right;\n",
       "  white-space: pre-wrap;\n",
       "}\n",
       "</style>\n",
       "<small>shape: (46, 8)</small><table border=\"1\" class=\"dataframe\"><thead><tr><th>Niv_Gr_1</th><th>Niv_Gr_2</th><th>Niv_Gr_3</th><th>Nombre</th><th>Niv_Descr_4</th><th>Niv_Descr_5</th><th>Niv_Descr_6</th><th>N_Variables</th></tr><tr><td>str</td><td>str</td><td>str</td><td>str</td><td>str</td><td>str</td><td>str</td><td>u32</td></tr></thead><tbody><tr><td>&quot;EMF&quot;</td><td>&quot;AMCC&quot;</td><td>&quot;01&quot;</td><td>&quot;EMF-AMCC-01-1&quot;</td><td>&quot; VariaciónM1 &quot;</td><td>&quot; Agregados Mon…</td><td>&quot; M1&quot;</td><td>1</td></tr><tr><td>&quot;EMF&quot;</td><td>&quot;AMCC&quot;</td><td>&quot;01&quot;</td><td>&quot;EMF-AMCC-01-10…</td><td>&quot; VariaciónCapt…</td><td>&quot; Captación Ban…</td><td>&quot; Hogares&quot;</td><td>1</td></tr><tr><td>&quot;EMF&quot;</td><td>&quot;AMCC&quot;</td><td>&quot;01&quot;</td><td>&quot;EMF-AMCC-01-11…</td><td>&quot; CaptaciónBCOt…</td><td>&quot; Captación Ban…</td><td>&quot; Otros Sectore…</td><td>1</td></tr><tr><td>&quot;EMF&quot;</td><td>&quot;AMCC&quot;</td><td>&quot;01&quot;</td><td>&quot;EMF-AMCC-01-12…</td><td>&quot; VariaciónCapt…</td><td>&quot; Captación Ban…</td><td>&quot; Otros Sectore…</td><td>1</td></tr><tr><td>&quot;EMF&quot;</td><td>&quot;AMCC&quot;</td><td>&quot;01&quot;</td><td>&quot;EMF-AMCC-01-13…</td><td>&quot; VariaciónCapt…</td><td>&quot; Captación Ban…</td><td>&quot; Total&quot;</td><td>1</td></tr><tr><td>&hellip;</td><td>&hellip;</td><td>&hellip;</td><td>&hellip;</td><td>&hellip;</td><td>&hellip;</td><td>&hellip;</td><td>&hellip;</td></tr><tr><td>&quot;EMF&quot;</td><td>&quot;AMCC&quot;</td><td>&quot;01&quot;</td><td>&quot;EMF-AMCC-01-5&quot;</td><td>&quot; M3 &quot;</td><td>&quot; Agregados Mon…</td><td>&quot; M3&quot;</td><td>1</td></tr><tr><td>&quot;EMF&quot;</td><td>&quot;AMCC&quot;</td><td>&quot;01&quot;</td><td>&quot;EMF-AMCC-01-6&quot;</td><td>&quot; VariaciónM3 &quot;</td><td>&quot; Agregados Mon…</td><td>&quot; M3&quot;</td><td>1</td></tr><tr><td>&quot;EMF&quot;</td><td>&quot;AMCC&quot;</td><td>&quot;01&quot;</td><td>&quot;EMF-AMCC-01-7&quot;</td><td>&quot; CaptaciónBCOt…</td><td>&quot; Captación Ban…</td><td>&quot; Empresas Priv…</td><td>1</td></tr><tr><td>&quot;EMF&quot;</td><td>&quot;AMCC&quot;</td><td>&quot;01&quot;</td><td>&quot;EMF-AMCC-01-8&quot;</td><td>&quot; VariaciónCapt…</td><td>&quot; Captación Ban…</td><td>&quot; Empresas Priv…</td><td>1</td></tr><tr><td>&quot;EMF&quot;</td><td>&quot;AMCC&quot;</td><td>&quot;01&quot;</td><td>&quot;EMF-AMCC-01-9&quot;</td><td>&quot; CaptaciónBCHo…</td><td>&quot; Captación Ban…</td><td>&quot; Hogares&quot;</td><td>1</td></tr></tbody></table></div>"
      ],
      "text/plain": [
       "shape: (46, 8)\n",
       "┌──────────┬──────────┬──────────┬─────────────┬────────────┬────────────┬────────────┬────────────┐\n",
       "│ Niv_Gr_1 ┆ Niv_Gr_2 ┆ Niv_Gr_3 ┆ Nombre      ┆ Niv_Descr_ ┆ Niv_Descr_ ┆ Niv_Descr_ ┆ N_Variable │\n",
       "│ ---      ┆ ---      ┆ ---      ┆ ---         ┆ 4          ┆ 5          ┆ 6          ┆ s          │\n",
       "│ str      ┆ str      ┆ str      ┆ str         ┆ ---        ┆ ---        ┆ ---        ┆ ---        │\n",
       "│          ┆          ┆          ┆             ┆ str        ┆ str        ┆ str        ┆ u32        │\n",
       "╞══════════╪══════════╪══════════╪═════════════╪════════════╪════════════╪════════════╪════════════╡\n",
       "│ EMF      ┆ AMCC     ┆ 01       ┆ EMF-AMCC-01 ┆ VariaciónM ┆ Agregados  ┆  M1        ┆ 1          │\n",
       "│          ┆          ┆          ┆ -1          ┆ 1          ┆ Monetarios ┆            ┆            │\n",
       "│ EMF      ┆ AMCC     ┆ 01       ┆ EMF-AMCC-01 ┆ VariaciónC ┆ Captación  ┆  Hogares   ┆ 1          │\n",
       "│          ┆          ┆          ┆ -10         ┆ aptaciónBC ┆ Bancos Com ┆            ┆            │\n",
       "│          ┆          ┆          ┆             ┆ Hogares    ┆ erciales   ┆            ┆            │\n",
       "│ EMF      ┆ AMCC     ┆ 01       ┆ EMF-AMCC-01 ┆ CaptaciónB ┆ Captación  ┆ Otros      ┆ 1          │\n",
       "│          ┆          ┆          ┆ -11         ┆ COtrosSect ┆ Bancos Com ┆ Sectores   ┆            │\n",
       "│          ┆          ┆          ┆             ┆ ores       ┆ erciales   ┆            ┆            │\n",
       "│ EMF      ┆ AMCC     ┆ 01       ┆ EMF-AMCC-01 ┆ VariaciónC ┆ Captación  ┆ Otros      ┆ 1          │\n",
       "│          ┆          ┆          ┆ -12         ┆ aptaciónBC ┆ Bancos Com ┆ Sectores   ┆            │\n",
       "│          ┆          ┆          ┆             ┆ OtrosSecto ┆ erciales   ┆            ┆            │\n",
       "│          ┆          ┆          ┆             ┆ r…         ┆            ┆            ┆            │\n",
       "│ EMF      ┆ AMCC     ┆ 01       ┆ EMF-AMCC-01 ┆ VariaciónC ┆ Captación  ┆  Total     ┆ 1          │\n",
       "│          ┆          ┆          ┆ -13         ┆ aptaciónBC ┆ Bancos Com ┆            ┆            │\n",
       "│          ┆          ┆          ┆             ┆ Total      ┆ erciales   ┆            ┆            │\n",
       "│ …        ┆ …        ┆ …        ┆ …           ┆ …          ┆ …          ┆ …          ┆ …          │\n",
       "│ EMF      ┆ AMCC     ┆ 01       ┆ EMF-AMCC-01 ┆  M3        ┆ Agregados  ┆  M3        ┆ 1          │\n",
       "│          ┆          ┆          ┆ -5          ┆            ┆ Monetarios ┆            ┆            │\n",
       "│ EMF      ┆ AMCC     ┆ 01       ┆ EMF-AMCC-01 ┆ VariaciónM ┆ Agregados  ┆  M3        ┆ 1          │\n",
       "│          ┆          ┆          ┆ -6          ┆ 3          ┆ Monetarios ┆            ┆            │\n",
       "│ EMF      ┆ AMCC     ┆ 01       ┆ EMF-AMCC-01 ┆ CaptaciónB ┆ Captación  ┆ Empresas   ┆ 1          │\n",
       "│          ┆          ┆          ┆ -7          ┆ COtrasSoci ┆ Bancos Com ┆ Privadas   ┆            │\n",
       "│          ┆          ┆          ┆             ┆ edadesnoFi ┆ erciales   ┆            ┆            │\n",
       "│          ┆          ┆          ┆             ┆ n…         ┆            ┆            ┆            │\n",
       "│ EMF      ┆ AMCC     ┆ 01       ┆ EMF-AMCC-01 ┆ VariaciónC ┆ Captación  ┆ Empresas   ┆ 1          │\n",
       "│          ┆          ┆          ┆ -8          ┆ aptaciónBC ┆ Bancos Com ┆ Privadas   ┆            │\n",
       "│          ┆          ┆          ┆             ┆ OtrasSocie ┆ erciales   ┆            ┆            │\n",
       "│          ┆          ┆          ┆             ┆ d…         ┆            ┆            ┆            │\n",
       "│ EMF      ┆ AMCC     ┆ 01       ┆ EMF-AMCC-01 ┆ CaptaciónB ┆ Captación  ┆  Hogares   ┆ 1          │\n",
       "│          ┆          ┆          ┆ -9          ┆ CHogares   ┆ Bancos Com ┆            ┆            │\n",
       "│          ┆          ┆          ┆             ┆            ┆ erciales   ┆            ┆            │\n",
       "└──────────┴──────────┴──────────┴─────────────┴────────────┴────────────┴────────────┴────────────┘"
      ]
     },
     "execution_count": 45,
     "metadata": {},
     "output_type": "execute_result"
    }
   ],
   "source": [
    "res_nivel_7(\n",
    "    \"EMF\",\"AMCC\",\n",
    "    \"Niv_Gr_3\",\"01\",\n",
    "    \"Nombre\",\"Niv_Descr_4\",\"Niv_Descr_5\",\"Niv_Descr_6\").sort(\"Nombre\")"
   ]
  },
  {
   "cell_type": "markdown",
   "id": "c8459003",
   "metadata": {},
   "source": [
    "##### 02 \n"
   ]
  },
  {
   "cell_type": "code",
   "execution_count": 46,
   "id": "9a8da8d2",
   "metadata": {},
   "outputs": [
    {
     "data": {
      "text/html": [
       "<div><style>\n",
       ".dataframe > thead > tr,\n",
       ".dataframe > tbody > tr {\n",
       "  text-align: right;\n",
       "  white-space: pre-wrap;\n",
       "}\n",
       "</style>\n",
       "<small>shape: (2, 5)</small><table border=\"1\" class=\"dataframe\"><thead><tr><th>Niv_Gr_1</th><th>Niv_Gr_2</th><th>Niv_Gr_3</th><th>Niv_Descr_1</th><th>N_Variables</th></tr><tr><td>str</td><td>str</td><td>str</td><td>str</td><td>u32</td></tr></thead><tbody><tr><td>&quot;EMF&quot;</td><td>&quot;AMCC&quot;</td><td>&quot;02&quot;</td><td>&quot;Captación Banc…</td><td>8</td></tr><tr><td>&quot;EMF&quot;</td><td>&quot;AMCC&quot;</td><td>&quot;02&quot;</td><td>&quot;Captación Otra…</td><td>8</td></tr></tbody></table></div>"
      ],
      "text/plain": [
       "shape: (2, 5)\n",
       "┌──────────┬──────────┬──────────┬───────────────────────────────────┬─────────────┐\n",
       "│ Niv_Gr_1 ┆ Niv_Gr_2 ┆ Niv_Gr_3 ┆ Niv_Descr_1                       ┆ N_Variables │\n",
       "│ ---      ┆ ---      ┆ ---      ┆ ---                               ┆ ---         │\n",
       "│ str      ┆ str      ┆ str      ┆ str                               ┆ u32         │\n",
       "╞══════════╪══════════╪══════════╪═══════════════════════════════════╪═════════════╡\n",
       "│ EMF      ┆ AMCC     ┆ 02       ┆ Captación Bancos Comerciales      ┆ 8           │\n",
       "│ EMF      ┆ AMCC     ┆ 02       ┆ Captación Otras Sociedades de De… ┆ 8           │\n",
       "└──────────┴──────────┴──────────┴───────────────────────────────────┴─────────────┘"
      ]
     },
     "execution_count": 46,
     "metadata": {},
     "output_type": "execute_result"
    }
   ],
   "source": [
    "res_nivel_4(\n",
    "    \"EMF\",\"AMCC\",\n",
    "    \"Niv_Gr_3\",\"02\",\n",
    "    \"Niv_Descr_1\")"
   ]
  },
  {
   "cell_type": "code",
   "execution_count": 47,
   "id": "331a814c",
   "metadata": {},
   "outputs": [
    {
     "data": {
      "text/html": [
       "<div><style>\n",
       ".dataframe > thead > tr,\n",
       ".dataframe > tbody > tr {\n",
       "  text-align: right;\n",
       "  white-space: pre-wrap;\n",
       "}\n",
       "</style>\n",
       "<small>shape: (16, 5)</small><table border=\"1\" class=\"dataframe\"><thead><tr><th>Niv_Gr_1</th><th>Niv_Gr_2</th><th>Niv_Gr_3</th><th>Niv_Descr_2</th><th>N_Variables</th></tr><tr><td>str</td><td>str</td><td>str</td><td>str</td><td>u32</td></tr></thead><tbody><tr><td>&quot;EMF&quot;</td><td>&quot;AMCC&quot;</td><td>&quot;02&quot;</td><td>&quot;CaptaciónBCHog…</td><td>1</td></tr><tr><td>&quot;EMF&quot;</td><td>&quot;AMCC&quot;</td><td>&quot;02&quot;</td><td>&quot;CaptaciónBCOtr…</td><td>1</td></tr><tr><td>&quot;EMF&quot;</td><td>&quot;AMCC&quot;</td><td>&quot;02&quot;</td><td>&quot;Captacióndelos…</td><td>1</td></tr><tr><td>&quot;EMF&quot;</td><td>&quot;AMCC&quot;</td><td>&quot;02&quot;</td><td>&quot;CaptaciónOSDHo…</td><td>1</td></tr><tr><td>&quot;EMF&quot;</td><td>&quot;AMCC&quot;</td><td>&quot;02&quot;</td><td>&quot;VariaciónCapta…</td><td>1</td></tr><tr><td>&hellip;</td><td>&hellip;</td><td>&hellip;</td><td>&hellip;</td><td>&hellip;</td></tr><tr><td>&quot;EMF&quot;</td><td>&quot;AMCC&quot;</td><td>&quot;02&quot;</td><td>&quot;VariaciónCapta…</td><td>1</td></tr><tr><td>&quot;EMF&quot;</td><td>&quot;AMCC&quot;</td><td>&quot;02&quot;</td><td>&quot;CaptaciónOSDOt…</td><td>1</td></tr><tr><td>&quot;EMF&quot;</td><td>&quot;AMCC&quot;</td><td>&quot;02&quot;</td><td>&quot;Captacióndelas…</td><td>1</td></tr><tr><td>&quot;EMF&quot;</td><td>&quot;AMCC&quot;</td><td>&quot;02&quot;</td><td>&quot;VariaciónCapta…</td><td>1</td></tr><tr><td>&quot;EMF&quot;</td><td>&quot;AMCC&quot;</td><td>&quot;02&quot;</td><td>&quot;VariaciónCapta…</td><td>1</td></tr></tbody></table></div>"
      ],
      "text/plain": [
       "shape: (16, 5)\n",
       "┌──────────┬──────────┬──────────┬───────────────────────────────────┬─────────────┐\n",
       "│ Niv_Gr_1 ┆ Niv_Gr_2 ┆ Niv_Gr_3 ┆ Niv_Descr_2                       ┆ N_Variables │\n",
       "│ ---      ┆ ---      ┆ ---      ┆ ---                               ┆ ---         │\n",
       "│ str      ┆ str      ┆ str      ┆ str                               ┆ u32         │\n",
       "╞══════════╪══════════╪══════════╪═══════════════════════════════════╪═════════════╡\n",
       "│ EMF      ┆ AMCC     ┆ 02       ┆ CaptaciónBCHogares                ┆ 1           │\n",
       "│ EMF      ┆ AMCC     ┆ 02       ┆ CaptaciónBCOtrasSociedadesnoFina… ┆ 1           │\n",
       "│ EMF      ┆ AMCC     ┆ 02       ┆ CaptacióndelosBancosComercialesT… ┆ 1           │\n",
       "│ EMF      ┆ AMCC     ┆ 02       ┆ CaptaciónOSDHogares               ┆ 1           │\n",
       "│ EMF      ┆ AMCC     ┆ 02       ┆ VariaciónCaptaciónBCOtrasSocieda… ┆ 1           │\n",
       "│ …        ┆ …        ┆ …        ┆ …                                 ┆ …           │\n",
       "│ EMF      ┆ AMCC     ┆ 02       ┆ VariaciónCaptaciónBCOtrosSectore… ┆ 1           │\n",
       "│ EMF      ┆ AMCC     ┆ 02       ┆ CaptaciónOSDOtrosSectores         ┆ 1           │\n",
       "│ EMF      ┆ AMCC     ┆ 02       ┆ CaptacióndelasOSDTotal            ┆ 1           │\n",
       "│ EMF      ┆ AMCC     ┆ 02       ┆ VariaciónCaptaciónBCHogares       ┆ 1           │\n",
       "│ EMF      ┆ AMCC     ┆ 02       ┆ VariaciónCaptaciónOSDOtrasSocied… ┆ 1           │\n",
       "└──────────┴──────────┴──────────┴───────────────────────────────────┴─────────────┘"
      ]
     },
     "execution_count": 47,
     "metadata": {},
     "output_type": "execute_result"
    }
   ],
   "source": [
    "res_nivel_4(\n",
    "    \"EMF\",\"AMCC\",\n",
    "    \"Niv_Gr_3\",\"02\",\n",
    "    \"Niv_Descr_2\")"
   ]
  },
  {
   "cell_type": "code",
   "execution_count": 48,
   "id": "33d9071b",
   "metadata": {},
   "outputs": [
    {
     "data": {
      "text/html": [
       "<div><style>\n",
       ".dataframe > thead > tr,\n",
       ".dataframe > tbody > tr {\n",
       "  text-align: right;\n",
       "  white-space: pre-wrap;\n",
       "}\n",
       "</style>\n",
       "<small>shape: (4, 5)</small><table border=\"1\" class=\"dataframe\"><thead><tr><th>Niv_Gr_1</th><th>Niv_Gr_2</th><th>Niv_Gr_3</th><th>Niv_Descr_3</th><th>N_Variables</th></tr><tr><td>str</td><td>str</td><td>str</td><td>str</td><td>u32</td></tr></thead><tbody><tr><td>&quot;EMF&quot;</td><td>&quot;AMCC&quot;</td><td>&quot;02&quot;</td><td>&quot;Hogares&quot;</td><td>4</td></tr><tr><td>&quot;EMF&quot;</td><td>&quot;AMCC&quot;</td><td>&quot;02&quot;</td><td>&quot;Empresas Priva…</td><td>4</td></tr><tr><td>&quot;EMF&quot;</td><td>&quot;AMCC&quot;</td><td>&quot;02&quot;</td><td>&quot;Total&quot;</td><td>4</td></tr><tr><td>&quot;EMF&quot;</td><td>&quot;AMCC&quot;</td><td>&quot;02&quot;</td><td>&quot;Otros Sectores…</td><td>4</td></tr></tbody></table></div>"
      ],
      "text/plain": [
       "shape: (4, 5)\n",
       "┌──────────┬──────────┬──────────┬───────────────────┬─────────────┐\n",
       "│ Niv_Gr_1 ┆ Niv_Gr_2 ┆ Niv_Gr_3 ┆ Niv_Descr_3       ┆ N_Variables │\n",
       "│ ---      ┆ ---      ┆ ---      ┆ ---               ┆ ---         │\n",
       "│ str      ┆ str      ┆ str      ┆ str               ┆ u32         │\n",
       "╞══════════╪══════════╪══════════╪═══════════════════╪═════════════╡\n",
       "│ EMF      ┆ AMCC     ┆ 02       ┆ Hogares           ┆ 4           │\n",
       "│ EMF      ┆ AMCC     ┆ 02       ┆ Empresas Privadas ┆ 4           │\n",
       "│ EMF      ┆ AMCC     ┆ 02       ┆ Total             ┆ 4           │\n",
       "│ EMF      ┆ AMCC     ┆ 02       ┆ Otros Sectores    ┆ 4           │\n",
       "└──────────┴──────────┴──────────┴───────────────────┴─────────────┘"
      ]
     },
     "execution_count": 48,
     "metadata": {},
     "output_type": "execute_result"
    }
   ],
   "source": [
    "res_nivel_4(\n",
    "    \"EMF\",\"AMCC\",\n",
    "    \"Niv_Gr_3\",\"02\",\n",
    "    \"Niv_Descr_3\")"
   ]
  },
  {
   "cell_type": "markdown",
   "id": "458e8d9d",
   "metadata": {},
   "source": [
    "Para ver todas las variables:\n"
   ]
  },
  {
   "cell_type": "code",
   "execution_count": 49,
   "id": "8676c460",
   "metadata": {},
   "outputs": [
    {
     "data": {
      "text/html": [
       "<div><style>\n",
       ".dataframe > thead > tr,\n",
       ".dataframe > tbody > tr {\n",
       "  text-align: right;\n",
       "  white-space: pre-wrap;\n",
       "}\n",
       "</style>\n",
       "<small>shape: (16, 8)</small><table border=\"1\" class=\"dataframe\"><thead><tr><th>Niv_Gr_1</th><th>Niv_Gr_2</th><th>Niv_Gr_3</th><th>Nombre</th><th>Niv_Descr_1</th><th>Niv_Descr_2</th><th>Niv_Descr_3</th><th>N_Variables</th></tr><tr><td>str</td><td>str</td><td>str</td><td>str</td><td>str</td><td>str</td><td>str</td><td>u32</td></tr></thead><tbody><tr><td>&quot;EMF&quot;</td><td>&quot;AMCC&quot;</td><td>&quot;02&quot;</td><td>&quot;EMF-AMCC-02-1&quot;</td><td>&quot;Captación Banc…</td><td>&quot;CaptaciónBCHog…</td><td>&quot;Hogares&quot;</td><td>1</td></tr><tr><td>&quot;EMF&quot;</td><td>&quot;AMCC&quot;</td><td>&quot;02&quot;</td><td>&quot;EMF-AMCC-02-10…</td><td>&quot;Captación Otra…</td><td>&quot;CaptaciónOSDHo…</td><td>&quot;Hogares&quot;</td><td>1</td></tr><tr><td>&quot;EMF&quot;</td><td>&quot;AMCC&quot;</td><td>&quot;02&quot;</td><td>&quot;EMF-AMCC-02-11…</td><td>&quot;Captación Otra…</td><td>&quot;CaptaciónOSDOt…</td><td>&quot;Empresas Priva…</td><td>1</td></tr><tr><td>&quot;EMF&quot;</td><td>&quot;AMCC&quot;</td><td>&quot;02&quot;</td><td>&quot;EMF-AMCC-02-12…</td><td>&quot;Captación Otra…</td><td>&quot;CaptaciónOSDOt…</td><td>&quot;Otros Sectores…</td><td>1</td></tr><tr><td>&quot;EMF&quot;</td><td>&quot;AMCC&quot;</td><td>&quot;02&quot;</td><td>&quot;EMF-AMCC-02-13…</td><td>&quot;Captación Otra…</td><td>&quot;VariaciónCapta…</td><td>&quot;Total&quot;</td><td>1</td></tr><tr><td>&hellip;</td><td>&hellip;</td><td>&hellip;</td><td>&hellip;</td><td>&hellip;</td><td>&hellip;</td><td>&hellip;</td><td>&hellip;</td></tr><tr><td>&quot;EMF&quot;</td><td>&quot;AMCC&quot;</td><td>&quot;02&quot;</td><td>&quot;EMF-AMCC-02-5&quot;</td><td>&quot;Captación Banc…</td><td>&quot;VariaciónCapta…</td><td>&quot;Hogares&quot;</td><td>1</td></tr><tr><td>&quot;EMF&quot;</td><td>&quot;AMCC&quot;</td><td>&quot;02&quot;</td><td>&quot;EMF-AMCC-02-6&quot;</td><td>&quot;Captación Banc…</td><td>&quot;VariaciónCapta…</td><td>&quot;Empresas Priva…</td><td>1</td></tr><tr><td>&quot;EMF&quot;</td><td>&quot;AMCC&quot;</td><td>&quot;02&quot;</td><td>&quot;EMF-AMCC-02-7&quot;</td><td>&quot;Captación Banc…</td><td>&quot;VariaciónCapta…</td><td>&quot;Otros Sectores…</td><td>1</td></tr><tr><td>&quot;EMF&quot;</td><td>&quot;AMCC&quot;</td><td>&quot;02&quot;</td><td>&quot;EMF-AMCC-02-8&quot;</td><td>&quot;Captación Banc…</td><td>&quot;VariaciónCapta…</td><td>&quot;Total&quot;</td><td>1</td></tr><tr><td>&quot;EMF&quot;</td><td>&quot;AMCC&quot;</td><td>&quot;02&quot;</td><td>&quot;EMF-AMCC-02-9&quot;</td><td>&quot;Captación Otra…</td><td>&quot;Captacióndelas…</td><td>&quot;Total&quot;</td><td>1</td></tr></tbody></table></div>"
      ],
      "text/plain": [
       "shape: (16, 8)\n",
       "┌──────────┬──────────┬──────────┬─────────────┬────────────┬────────────┬────────────┬────────────┐\n",
       "│ Niv_Gr_1 ┆ Niv_Gr_2 ┆ Niv_Gr_3 ┆ Nombre      ┆ Niv_Descr_ ┆ Niv_Descr_ ┆ Niv_Descr_ ┆ N_Variable │\n",
       "│ ---      ┆ ---      ┆ ---      ┆ ---         ┆ 1          ┆ 2          ┆ 3          ┆ s          │\n",
       "│ str      ┆ str      ┆ str      ┆ str         ┆ ---        ┆ ---        ┆ ---        ┆ ---        │\n",
       "│          ┆          ┆          ┆             ┆ str        ┆ str        ┆ str        ┆ u32        │\n",
       "╞══════════╪══════════╪══════════╪═════════════╪════════════╪════════════╪════════════╪════════════╡\n",
       "│ EMF      ┆ AMCC     ┆ 02       ┆ EMF-AMCC-02 ┆ Captación  ┆ CaptaciónB ┆ Hogares    ┆ 1          │\n",
       "│          ┆          ┆          ┆ -1          ┆ Bancos Com ┆ CHogares   ┆            ┆            │\n",
       "│          ┆          ┆          ┆             ┆ erciales   ┆            ┆            ┆            │\n",
       "│ EMF      ┆ AMCC     ┆ 02       ┆ EMF-AMCC-02 ┆ Captación  ┆ CaptaciónO ┆ Hogares    ┆ 1          │\n",
       "│          ┆          ┆          ┆ -10         ┆ Otras      ┆ SDHogares  ┆            ┆            │\n",
       "│          ┆          ┆          ┆             ┆ Sociedades ┆            ┆            ┆            │\n",
       "│          ┆          ┆          ┆             ┆ de De…     ┆            ┆            ┆            │\n",
       "│ EMF      ┆ AMCC     ┆ 02       ┆ EMF-AMCC-02 ┆ Captación  ┆ CaptaciónO ┆ Empresas   ┆ 1          │\n",
       "│          ┆          ┆          ┆ -11         ┆ Otras      ┆ SDOtrasSoc ┆ Privadas   ┆            │\n",
       "│          ┆          ┆          ┆             ┆ Sociedades ┆ iedadesnoF ┆            ┆            │\n",
       "│          ┆          ┆          ┆             ┆ de De…     ┆ in…        ┆            ┆            │\n",
       "│ EMF      ┆ AMCC     ┆ 02       ┆ EMF-AMCC-02 ┆ Captación  ┆ CaptaciónO ┆ Otros      ┆ 1          │\n",
       "│          ┆          ┆          ┆ -12         ┆ Otras      ┆ SDOtrosSec ┆ Sectores   ┆            │\n",
       "│          ┆          ┆          ┆             ┆ Sociedades ┆ tores      ┆            ┆            │\n",
       "│          ┆          ┆          ┆             ┆ de De…     ┆            ┆            ┆            │\n",
       "│ EMF      ┆ AMCC     ┆ 02       ┆ EMF-AMCC-02 ┆ Captación  ┆ VariaciónC ┆ Total      ┆ 1          │\n",
       "│          ┆          ┆          ┆ -13         ┆ Otras      ┆ aptaciónde ┆            ┆            │\n",
       "│          ┆          ┆          ┆             ┆ Sociedades ┆ lasOSDTota ┆            ┆            │\n",
       "│          ┆          ┆          ┆             ┆ de De…     ┆ l          ┆            ┆            │\n",
       "│ …        ┆ …        ┆ …        ┆ …           ┆ …          ┆ …          ┆ …          ┆ …          │\n",
       "│ EMF      ┆ AMCC     ┆ 02       ┆ EMF-AMCC-02 ┆ Captación  ┆ VariaciónC ┆ Hogares    ┆ 1          │\n",
       "│          ┆          ┆          ┆ -5          ┆ Bancos Com ┆ aptaciónBC ┆            ┆            │\n",
       "│          ┆          ┆          ┆             ┆ erciales   ┆ Hogares    ┆            ┆            │\n",
       "│ EMF      ┆ AMCC     ┆ 02       ┆ EMF-AMCC-02 ┆ Captación  ┆ VariaciónC ┆ Empresas   ┆ 1          │\n",
       "│          ┆          ┆          ┆ -6          ┆ Bancos Com ┆ aptaciónBC ┆ Privadas   ┆            │\n",
       "│          ┆          ┆          ┆             ┆ erciales   ┆ OtrasSocie ┆            ┆            │\n",
       "│          ┆          ┆          ┆             ┆            ┆ da…        ┆            ┆            │\n",
       "│ EMF      ┆ AMCC     ┆ 02       ┆ EMF-AMCC-02 ┆ Captación  ┆ VariaciónC ┆ Otros      ┆ 1          │\n",
       "│          ┆          ┆          ┆ -7          ┆ Bancos Com ┆ aptaciónBC ┆ Sectores   ┆            │\n",
       "│          ┆          ┆          ┆             ┆ erciales   ┆ OtrosSecto ┆            ┆            │\n",
       "│          ┆          ┆          ┆             ┆            ┆ re…        ┆            ┆            │\n",
       "│ EMF      ┆ AMCC     ┆ 02       ┆ EMF-AMCC-02 ┆ Captación  ┆ VariaciónC ┆ Total      ┆ 1          │\n",
       "│          ┆          ┆          ┆ -8          ┆ Bancos Com ┆ aptaciónBC ┆            ┆            │\n",
       "│          ┆          ┆          ┆             ┆ erciales   ┆ Total      ┆            ┆            │\n",
       "│ EMF      ┆ AMCC     ┆ 02       ┆ EMF-AMCC-02 ┆ Captación  ┆ Captaciónd ┆ Total      ┆ 1          │\n",
       "│          ┆          ┆          ┆ -9          ┆ Otras      ┆ elasOSDTot ┆            ┆            │\n",
       "│          ┆          ┆          ┆             ┆ Sociedades ┆ al         ┆            ┆            │\n",
       "│          ┆          ┆          ┆             ┆ de De…     ┆            ┆            ┆            │\n",
       "└──────────┴──────────┴──────────┴─────────────┴────────────┴────────────┴────────────┴────────────┘"
      ]
     },
     "execution_count": 49,
     "metadata": {},
     "output_type": "execute_result"
    }
   ],
   "source": [
    "res_nivel_7(\n",
    "    \"EMF\",\"AMCC\",\n",
    "    \"Niv_Gr_3\",\"02\",\n",
    "    \"Nombre\",\"Niv_Descr_1\",\"Niv_Descr_2\",\"Niv_Descr_3\").sort(\"Nombre\")"
   ]
  },
  {
   "cell_type": "markdown",
   "id": "07dd36ff",
   "metadata": {},
   "source": [
    "##### 03 Crédito de los Bancos Comerciales\n"
   ]
  },
  {
   "cell_type": "code",
   "execution_count": 50,
   "id": "53b3c67e",
   "metadata": {},
   "outputs": [
    {
     "data": {
      "text/html": [
       "<div><style>\n",
       ".dataframe > thead > tr,\n",
       ".dataframe > tbody > tr {\n",
       "  text-align: right;\n",
       "  white-space: pre-wrap;\n",
       "}\n",
       "</style>\n",
       "<small>shape: (1, 5)</small><table border=\"1\" class=\"dataframe\"><thead><tr><th>Niv_Gr_1</th><th>Niv_Gr_2</th><th>Niv_Gr_3</th><th>Niv_Descr_1</th><th>N_Variables</th></tr><tr><td>str</td><td>str</td><td>str</td><td>str</td><td>u32</td></tr></thead><tbody><tr><td>&quot;EMF&quot;</td><td>&quot;AMCC&quot;</td><td>&quot;03&quot;</td><td>&quot;Crédito de los…</td><td>6</td></tr></tbody></table></div>"
      ],
      "text/plain": [
       "shape: (1, 5)\n",
       "┌──────────┬──────────┬──────────┬───────────────────────────────────┬─────────────┐\n",
       "│ Niv_Gr_1 ┆ Niv_Gr_2 ┆ Niv_Gr_3 ┆ Niv_Descr_1                       ┆ N_Variables │\n",
       "│ ---      ┆ ---      ┆ ---      ┆ ---                               ┆ ---         │\n",
       "│ str      ┆ str      ┆ str      ┆ str                               ┆ u32         │\n",
       "╞══════════╪══════════╪══════════╪═══════════════════════════════════╪═════════════╡\n",
       "│ EMF      ┆ AMCC     ┆ 03       ┆ Crédito de los Bancos Comerciale… ┆ 6           │\n",
       "└──────────┴──────────┴──────────┴───────────────────────────────────┴─────────────┘"
      ]
     },
     "execution_count": 50,
     "metadata": {},
     "output_type": "execute_result"
    }
   ],
   "source": [
    "res_nivel_4(\n",
    "    \"EMF\",\"AMCC\",\n",
    "    \"Niv_Gr_3\",\"03\",\n",
    "    \"Niv_Descr_1\")"
   ]
  },
  {
   "cell_type": "code",
   "execution_count": 51,
   "id": "83cdc5fa",
   "metadata": {},
   "outputs": [
    {
     "data": {
      "text/html": [
       "<div><style>\n",
       ".dataframe > thead > tr,\n",
       ".dataframe > tbody > tr {\n",
       "  text-align: right;\n",
       "  white-space: pre-wrap;\n",
       "}\n",
       "</style>\n",
       "<small>shape: (6, 6)</small><table border=\"1\" class=\"dataframe\"><thead><tr><th>Niv_Gr_1</th><th>Niv_Gr_2</th><th>Niv_Gr_3</th><th>Niv_Descr_2</th><th>Niv_Descr_4</th><th>N_Variables</th></tr><tr><td>str</td><td>str</td><td>str</td><td>str</td><td>str</td><td>u32</td></tr></thead><tbody><tr><td>&quot;EMF&quot;</td><td>&quot;AMCC&quot;</td><td>&quot;03&quot;</td><td>&quot;VariaciónCrédi…</td><td>&quot;Variación&quot;</td><td>1</td></tr><tr><td>&quot;EMF&quot;</td><td>&quot;AMCC&quot;</td><td>&quot;03&quot;</td><td>&quot;CréditodelosBa…</td><td>&quot;Saldo&quot;</td><td>1</td></tr><tr><td>&quot;EMF&quot;</td><td>&quot;AMCC&quot;</td><td>&quot;03&quot;</td><td>&quot;VariaciónCrédi…</td><td>&quot;Variación&quot;</td><td>1</td></tr><tr><td>&quot;EMF&quot;</td><td>&quot;AMCC&quot;</td><td>&quot;03&quot;</td><td>&quot;VariaciónCrédi…</td><td>&quot;Variación&quot;</td><td>1</td></tr><tr><td>&quot;EMF&quot;</td><td>&quot;AMCC&quot;</td><td>&quot;03&quot;</td><td>&quot;CréditoBCEmpre…</td><td>&quot;Saldo&quot;</td><td>1</td></tr><tr><td>&quot;EMF&quot;</td><td>&quot;AMCC&quot;</td><td>&quot;03&quot;</td><td>&quot;CréditoBCHogar…</td><td>&quot;Saldo&quot;</td><td>1</td></tr></tbody></table></div>"
      ],
      "text/plain": [
       "shape: (6, 6)\n",
       "┌──────────┬──────────┬──────────┬───────────────────────────────────┬─────────────┬─────────────┐\n",
       "│ Niv_Gr_1 ┆ Niv_Gr_2 ┆ Niv_Gr_3 ┆ Niv_Descr_2                       ┆ Niv_Descr_4 ┆ N_Variables │\n",
       "│ ---      ┆ ---      ┆ ---      ┆ ---                               ┆ ---         ┆ ---         │\n",
       "│ str      ┆ str      ┆ str      ┆ str                               ┆ str         ┆ u32         │\n",
       "╞══════════╪══════════╪══════════╪═══════════════════════════════════╪═════════════╪═════════════╡\n",
       "│ EMF      ┆ AMCC     ┆ 03       ┆ VariaciónCréditoBCHogares         ┆ Variación   ┆ 1           │\n",
       "│ EMF      ┆ AMCC     ┆ 03       ┆ CréditodelosBancosComercialesTot… ┆ Saldo       ┆ 1           │\n",
       "│ EMF      ┆ AMCC     ┆ 03       ┆ VariaciónCréditoBCEmpresasPrivad… ┆ Variación   ┆ 1           │\n",
       "│ EMF      ┆ AMCC     ┆ 03       ┆ VariaciónCréditodelosBancosComer… ┆ Variación   ┆ 1           │\n",
       "│ EMF      ┆ AMCC     ┆ 03       ┆ CréditoBCEmpresasPrivadas         ┆ Saldo       ┆ 1           │\n",
       "│ EMF      ┆ AMCC     ┆ 03       ┆ CréditoBCHogares                  ┆ Saldo       ┆ 1           │\n",
       "└──────────┴──────────┴──────────┴───────────────────────────────────┴─────────────┴─────────────┘"
      ]
     },
     "execution_count": 51,
     "metadata": {},
     "output_type": "execute_result"
    }
   ],
   "source": [
    "res_nivel_5(\n",
    "    \"EMF\",\"AMCC\",\n",
    "    \"Niv_Gr_3\",\"03\",\n",
    "    \"Niv_Descr_2\",\"Niv_Descr_4\")"
   ]
  },
  {
   "cell_type": "markdown",
   "id": "314c3645",
   "metadata": {},
   "source": [
    "Para ver todas las variables:\n"
   ]
  },
  {
   "cell_type": "code",
   "execution_count": 52,
   "id": "3c8caeaa",
   "metadata": {},
   "outputs": [
    {
     "data": {
      "text/html": [
       "<div><style>\n",
       ".dataframe > thead > tr,\n",
       ".dataframe > tbody > tr {\n",
       "  text-align: right;\n",
       "  white-space: pre-wrap;\n",
       "}\n",
       "</style>\n",
       "<small>shape: (6, 8)</small><table border=\"1\" class=\"dataframe\"><thead><tr><th>Niv_Gr_1</th><th>Niv_Gr_2</th><th>Niv_Gr_3</th><th>Nombre</th><th>Niv_Descr_1</th><th>Niv_Descr_2</th><th>Niv_Descr_4</th><th>N_Variables</th></tr><tr><td>str</td><td>str</td><td>str</td><td>str</td><td>str</td><td>str</td><td>str</td><td>u32</td></tr></thead><tbody><tr><td>&quot;EMF&quot;</td><td>&quot;AMCC&quot;</td><td>&quot;03&quot;</td><td>&quot;EMF-AMCC-03-1&quot;</td><td>&quot;Crédito de los…</td><td>&quot;CréditoBCEmpre…</td><td>&quot;Saldo&quot;</td><td>1</td></tr><tr><td>&quot;EMF&quot;</td><td>&quot;AMCC&quot;</td><td>&quot;03&quot;</td><td>&quot;EMF-AMCC-03-2&quot;</td><td>&quot;Crédito de los…</td><td>&quot;CréditoBCHogar…</td><td>&quot;Saldo&quot;</td><td>1</td></tr><tr><td>&quot;EMF&quot;</td><td>&quot;AMCC&quot;</td><td>&quot;03&quot;</td><td>&quot;EMF-AMCC-03-3&quot;</td><td>&quot;Crédito de los…</td><td>&quot;CréditodelosBa…</td><td>&quot;Saldo&quot;</td><td>1</td></tr><tr><td>&quot;EMF&quot;</td><td>&quot;AMCC&quot;</td><td>&quot;03&quot;</td><td>&quot;EMF-AMCC-03-4&quot;</td><td>&quot;Crédito de los…</td><td>&quot;VariaciónCrédi…</td><td>&quot;Variación&quot;</td><td>1</td></tr><tr><td>&quot;EMF&quot;</td><td>&quot;AMCC&quot;</td><td>&quot;03&quot;</td><td>&quot;EMF-AMCC-03-5&quot;</td><td>&quot;Crédito de los…</td><td>&quot;VariaciónCrédi…</td><td>&quot;Variación&quot;</td><td>1</td></tr><tr><td>&quot;EMF&quot;</td><td>&quot;AMCC&quot;</td><td>&quot;03&quot;</td><td>&quot;EMF-AMCC-03-6&quot;</td><td>&quot;Crédito de los…</td><td>&quot;VariaciónCrédi…</td><td>&quot;Variación&quot;</td><td>1</td></tr></tbody></table></div>"
      ],
      "text/plain": [
       "shape: (6, 8)\n",
       "┌──────────┬──────────┬──────────┬─────────────┬────────────┬────────────┬────────────┬────────────┐\n",
       "│ Niv_Gr_1 ┆ Niv_Gr_2 ┆ Niv_Gr_3 ┆ Nombre      ┆ Niv_Descr_ ┆ Niv_Descr_ ┆ Niv_Descr_ ┆ N_Variable │\n",
       "│ ---      ┆ ---      ┆ ---      ┆ ---         ┆ 1          ┆ 2          ┆ 4          ┆ s          │\n",
       "│ str      ┆ str      ┆ str      ┆ str         ┆ ---        ┆ ---        ┆ ---        ┆ ---        │\n",
       "│          ┆          ┆          ┆             ┆ str        ┆ str        ┆ str        ┆ u32        │\n",
       "╞══════════╪══════════╪══════════╪═════════════╪════════════╪════════════╪════════════╪════════════╡\n",
       "│ EMF      ┆ AMCC     ┆ 03       ┆ EMF-AMCC-03 ┆ Crédito de ┆ CréditoBCE ┆ Saldo      ┆ 1          │\n",
       "│          ┆          ┆          ┆ -1          ┆ los Bancos ┆ mpresasPri ┆            ┆            │\n",
       "│          ┆          ┆          ┆             ┆ Comerciale ┆ vadas      ┆            ┆            │\n",
       "│          ┆          ┆          ┆             ┆ …          ┆            ┆            ┆            │\n",
       "│ EMF      ┆ AMCC     ┆ 03       ┆ EMF-AMCC-03 ┆ Crédito de ┆ CréditoBCH ┆ Saldo      ┆ 1          │\n",
       "│          ┆          ┆          ┆ -2          ┆ los Bancos ┆ ogares     ┆            ┆            │\n",
       "│          ┆          ┆          ┆             ┆ Comerciale ┆            ┆            ┆            │\n",
       "│          ┆          ┆          ┆             ┆ …          ┆            ┆            ┆            │\n",
       "│ EMF      ┆ AMCC     ┆ 03       ┆ EMF-AMCC-03 ┆ Crédito de ┆ Créditodel ┆ Saldo      ┆ 1          │\n",
       "│          ┆          ┆          ┆ -3          ┆ los Bancos ┆ osBancosCo ┆            ┆            │\n",
       "│          ┆          ┆          ┆             ┆ Comerciale ┆ mercialesT ┆            ┆            │\n",
       "│          ┆          ┆          ┆             ┆ …          ┆ ot…        ┆            ┆            │\n",
       "│ EMF      ┆ AMCC     ┆ 03       ┆ EMF-AMCC-03 ┆ Crédito de ┆ VariaciónC ┆ Variación  ┆ 1          │\n",
       "│          ┆          ┆          ┆ -4          ┆ los Bancos ┆ réditoBCEm ┆            ┆            │\n",
       "│          ┆          ┆          ┆             ┆ Comerciale ┆ presasPriv ┆            ┆            │\n",
       "│          ┆          ┆          ┆             ┆ …          ┆ ad…        ┆            ┆            │\n",
       "│ EMF      ┆ AMCC     ┆ 03       ┆ EMF-AMCC-03 ┆ Crédito de ┆ VariaciónC ┆ Variación  ┆ 1          │\n",
       "│          ┆          ┆          ┆ -5          ┆ los Bancos ┆ réditoBCHo ┆            ┆            │\n",
       "│          ┆          ┆          ┆             ┆ Comerciale ┆ gares      ┆            ┆            │\n",
       "│          ┆          ┆          ┆             ┆ …          ┆            ┆            ┆            │\n",
       "│ EMF      ┆ AMCC     ┆ 03       ┆ EMF-AMCC-03 ┆ Crédito de ┆ VariaciónC ┆ Variación  ┆ 1          │\n",
       "│          ┆          ┆          ┆ -6          ┆ los Bancos ┆ réditodelo ┆            ┆            │\n",
       "│          ┆          ┆          ┆             ┆ Comerciale ┆ sBancosCom ┆            ┆            │\n",
       "│          ┆          ┆          ┆             ┆ …          ┆ er…        ┆            ┆            │\n",
       "└──────────┴──────────┴──────────┴─────────────┴────────────┴────────────┴────────────┴────────────┘"
      ]
     },
     "execution_count": 52,
     "metadata": {},
     "output_type": "execute_result"
    }
   ],
   "source": [
    "res_nivel_7(\n",
    "    \"EMF\",\"AMCC\",\n",
    "    \"Niv_Gr_3\",\"03\",\n",
    "    \"Nombre\",\"Niv_Descr_1\",\"Niv_Descr_2\",\"Niv_Descr_4\").sort(\"Nombre\")"
   ]
  },
  {
   "cell_type": "markdown",
   "id": "eed702c5",
   "metadata": {},
   "source": [
    "##### 04 Crédito de los Bancos Comerciales\n"
   ]
  },
  {
   "cell_type": "code",
   "execution_count": 53,
   "id": "71a4ea25",
   "metadata": {},
   "outputs": [
    {
     "data": {
      "text/html": [
       "<div><style>\n",
       ".dataframe > thead > tr,\n",
       ".dataframe > tbody > tr {\n",
       "  text-align: right;\n",
       "  white-space: pre-wrap;\n",
       "}\n",
       "</style>\n",
       "<small>shape: (1, 5)</small><table border=\"1\" class=\"dataframe\"><thead><tr><th>Niv_Gr_1</th><th>Niv_Gr_2</th><th>Niv_Gr_3</th><th>Niv_Descr_1</th><th>N_Variables</th></tr><tr><td>str</td><td>str</td><td>str</td><td>str</td><td>u32</td></tr></thead><tbody><tr><td>&quot;EMF&quot;</td><td>&quot;AMCC&quot;</td><td>&quot;04&quot;</td><td>&quot;Crédito Otras …</td><td>6</td></tr></tbody></table></div>"
      ],
      "text/plain": [
       "shape: (1, 5)\n",
       "┌──────────┬──────────┬──────────┬───────────────────────────────────┬─────────────┐\n",
       "│ Niv_Gr_1 ┆ Niv_Gr_2 ┆ Niv_Gr_3 ┆ Niv_Descr_1                       ┆ N_Variables │\n",
       "│ ---      ┆ ---      ┆ ---      ┆ ---                               ┆ ---         │\n",
       "│ str      ┆ str      ┆ str      ┆ str                               ┆ u32         │\n",
       "╞══════════╪══════════╪══════════╪═══════════════════════════════════╪═════════════╡\n",
       "│ EMF      ┆ AMCC     ┆ 04       ┆ Crédito Otras Sociedades de Depó… ┆ 6           │\n",
       "└──────────┴──────────┴──────────┴───────────────────────────────────┴─────────────┘"
      ]
     },
     "execution_count": 53,
     "metadata": {},
     "output_type": "execute_result"
    }
   ],
   "source": [
    "res_nivel_4(\n",
    "    \"EMF\",\"AMCC\",\n",
    "    \"Niv_Gr_3\",\"04\",\n",
    "    \"Niv_Descr_1\")"
   ]
  },
  {
   "cell_type": "code",
   "execution_count": 54,
   "id": "f0a79d19",
   "metadata": {},
   "outputs": [
    {
     "data": {
      "text/html": [
       "<div><style>\n",
       ".dataframe > thead > tr,\n",
       ".dataframe > tbody > tr {\n",
       "  text-align: right;\n",
       "  white-space: pre-wrap;\n",
       "}\n",
       "</style>\n",
       "<small>shape: (6, 6)</small><table border=\"1\" class=\"dataframe\"><thead><tr><th>Niv_Gr_1</th><th>Niv_Gr_2</th><th>Niv_Gr_3</th><th>Niv_Descr_2</th><th>Niv_Descr_4</th><th>N_Variables</th></tr><tr><td>str</td><td>str</td><td>str</td><td>str</td><td>str</td><td>u32</td></tr></thead><tbody><tr><td>&quot;EMF&quot;</td><td>&quot;AMCC&quot;</td><td>&quot;04&quot;</td><td>&quot;VariaciónCrédi…</td><td>&quot;Variación&quot;</td><td>1</td></tr><tr><td>&quot;EMF&quot;</td><td>&quot;AMCC&quot;</td><td>&quot;04&quot;</td><td>&quot;CréditodelasOS…</td><td>&quot;Saldo&quot;</td><td>1</td></tr><tr><td>&quot;EMF&quot;</td><td>&quot;AMCC&quot;</td><td>&quot;04&quot;</td><td>&quot;CréditodelasOS…</td><td>&quot;Saldo&quot;</td><td>1</td></tr><tr><td>&quot;EMF&quot;</td><td>&quot;AMCC&quot;</td><td>&quot;04&quot;</td><td>&quot;VariaciónCrédi…</td><td>&quot;Variación&quot;</td><td>1</td></tr><tr><td>&quot;EMF&quot;</td><td>&quot;AMCC&quot;</td><td>&quot;04&quot;</td><td>&quot;VariaciónCrédi…</td><td>&quot;Variación&quot;</td><td>1</td></tr><tr><td>&quot;EMF&quot;</td><td>&quot;AMCC&quot;</td><td>&quot;04&quot;</td><td>&quot;CréditodelasOS…</td><td>&quot;Saldo&quot;</td><td>1</td></tr></tbody></table></div>"
      ],
      "text/plain": [
       "shape: (6, 6)\n",
       "┌──────────┬──────────┬──────────┬───────────────────────────────────┬─────────────┬─────────────┐\n",
       "│ Niv_Gr_1 ┆ Niv_Gr_2 ┆ Niv_Gr_3 ┆ Niv_Descr_2                       ┆ Niv_Descr_4 ┆ N_Variables │\n",
       "│ ---      ┆ ---      ┆ ---      ┆ ---                               ┆ ---         ┆ ---         │\n",
       "│ str      ┆ str      ┆ str      ┆ str                               ┆ str         ┆ u32         │\n",
       "╞══════════╪══════════╪══════════╪═══════════════════════════════════╪═════════════╪═════════════╡\n",
       "│ EMF      ┆ AMCC     ┆ 04       ┆ VariaciónCréditodelasOSDaEmpresa… ┆ Variación   ┆ 1           │\n",
       "│ EMF      ┆ AMCC     ┆ 04       ┆ CréditodelasOSDaEmpresasPrivadas  ┆ Saldo       ┆ 1           │\n",
       "│ EMF      ┆ AMCC     ┆ 04       ┆ CréditodelasOSDaHogares           ┆ Saldo       ┆ 1           │\n",
       "│ EMF      ┆ AMCC     ┆ 04       ┆ VariaciónCréditodelasOSDaHogares  ┆ Variación   ┆ 1           │\n",
       "│ EMF      ┆ AMCC     ┆ 04       ┆ VariaciónCréditodelasOSDTotal     ┆ Variación   ┆ 1           │\n",
       "│ EMF      ┆ AMCC     ┆ 04       ┆ CréditodelasOSDTotal              ┆ Saldo       ┆ 1           │\n",
       "└──────────┴──────────┴──────────┴───────────────────────────────────┴─────────────┴─────────────┘"
      ]
     },
     "execution_count": 54,
     "metadata": {},
     "output_type": "execute_result"
    }
   ],
   "source": [
    "res_nivel_5(\n",
    "    \"EMF\",\"AMCC\",\n",
    "    \"Niv_Gr_3\",\"04\",\n",
    "    \"Niv_Descr_2\",\"Niv_Descr_4\")"
   ]
  },
  {
   "cell_type": "markdown",
   "id": "e330fb82",
   "metadata": {},
   "source": [
    "Para ver todas las variables:\n"
   ]
  },
  {
   "cell_type": "code",
   "execution_count": 55,
   "id": "1b62ffa5",
   "metadata": {},
   "outputs": [
    {
     "data": {
      "text/html": [
       "<div><style>\n",
       ".dataframe > thead > tr,\n",
       ".dataframe > tbody > tr {\n",
       "  text-align: right;\n",
       "  white-space: pre-wrap;\n",
       "}\n",
       "</style>\n",
       "<small>shape: (6, 8)</small><table border=\"1\" class=\"dataframe\"><thead><tr><th>Niv_Gr_1</th><th>Niv_Gr_2</th><th>Niv_Gr_3</th><th>Nombre</th><th>Niv_Descr_1</th><th>Niv_Descr_2</th><th>Niv_Descr_4</th><th>N_Variables</th></tr><tr><td>str</td><td>str</td><td>str</td><td>str</td><td>str</td><td>str</td><td>str</td><td>u32</td></tr></thead><tbody><tr><td>&quot;EMF&quot;</td><td>&quot;AMCC&quot;</td><td>&quot;04&quot;</td><td>&quot;EMF-AMCC-04-1&quot;</td><td>&quot;Crédito Otras …</td><td>&quot;CréditodelasOS…</td><td>&quot;Saldo&quot;</td><td>1</td></tr><tr><td>&quot;EMF&quot;</td><td>&quot;AMCC&quot;</td><td>&quot;04&quot;</td><td>&quot;EMF-AMCC-04-2&quot;</td><td>&quot;Crédito Otras …</td><td>&quot;CréditodelasOS…</td><td>&quot;Saldo&quot;</td><td>1</td></tr><tr><td>&quot;EMF&quot;</td><td>&quot;AMCC&quot;</td><td>&quot;04&quot;</td><td>&quot;EMF-AMCC-04-3&quot;</td><td>&quot;Crédito Otras …</td><td>&quot;CréditodelasOS…</td><td>&quot;Saldo&quot;</td><td>1</td></tr><tr><td>&quot;EMF&quot;</td><td>&quot;AMCC&quot;</td><td>&quot;04&quot;</td><td>&quot;EMF-AMCC-04-4&quot;</td><td>&quot;Crédito Otras …</td><td>&quot;VariaciónCrédi…</td><td>&quot;Variación&quot;</td><td>1</td></tr><tr><td>&quot;EMF&quot;</td><td>&quot;AMCC&quot;</td><td>&quot;04&quot;</td><td>&quot;EMF-AMCC-04-5&quot;</td><td>&quot;Crédito Otras …</td><td>&quot;VariaciónCrédi…</td><td>&quot;Variación&quot;</td><td>1</td></tr><tr><td>&quot;EMF&quot;</td><td>&quot;AMCC&quot;</td><td>&quot;04&quot;</td><td>&quot;EMF-AMCC-04-6&quot;</td><td>&quot;Crédito Otras …</td><td>&quot;VariaciónCrédi…</td><td>&quot;Variación&quot;</td><td>1</td></tr></tbody></table></div>"
      ],
      "text/plain": [
       "shape: (6, 8)\n",
       "┌──────────┬──────────┬──────────┬─────────────┬────────────┬────────────┬────────────┬────────────┐\n",
       "│ Niv_Gr_1 ┆ Niv_Gr_2 ┆ Niv_Gr_3 ┆ Nombre      ┆ Niv_Descr_ ┆ Niv_Descr_ ┆ Niv_Descr_ ┆ N_Variable │\n",
       "│ ---      ┆ ---      ┆ ---      ┆ ---         ┆ 1          ┆ 2          ┆ 4          ┆ s          │\n",
       "│ str      ┆ str      ┆ str      ┆ str         ┆ ---        ┆ ---        ┆ ---        ┆ ---        │\n",
       "│          ┆          ┆          ┆             ┆ str        ┆ str        ┆ str        ┆ u32        │\n",
       "╞══════════╪══════════╪══════════╪═════════════╪════════════╪════════════╪════════════╪════════════╡\n",
       "│ EMF      ┆ AMCC     ┆ 04       ┆ EMF-AMCC-04 ┆ Crédito    ┆ Créditodel ┆ Saldo      ┆ 1          │\n",
       "│          ┆          ┆          ┆ -1          ┆ Otras      ┆ asOSDaEmpr ┆            ┆            │\n",
       "│          ┆          ┆          ┆             ┆ Sociedades ┆ esasPrivad ┆            ┆            │\n",
       "│          ┆          ┆          ┆             ┆ de Depó…   ┆ as         ┆            ┆            │\n",
       "│ EMF      ┆ AMCC     ┆ 04       ┆ EMF-AMCC-04 ┆ Crédito    ┆ Créditodel ┆ Saldo      ┆ 1          │\n",
       "│          ┆          ┆          ┆ -2          ┆ Otras      ┆ asOSDaHoga ┆            ┆            │\n",
       "│          ┆          ┆          ┆             ┆ Sociedades ┆ res        ┆            ┆            │\n",
       "│          ┆          ┆          ┆             ┆ de Depó…   ┆            ┆            ┆            │\n",
       "│ EMF      ┆ AMCC     ┆ 04       ┆ EMF-AMCC-04 ┆ Crédito    ┆ Créditodel ┆ Saldo      ┆ 1          │\n",
       "│          ┆          ┆          ┆ -3          ┆ Otras      ┆ asOSDTotal ┆            ┆            │\n",
       "│          ┆          ┆          ┆             ┆ Sociedades ┆            ┆            ┆            │\n",
       "│          ┆          ┆          ┆             ┆ de Depó…   ┆            ┆            ┆            │\n",
       "│ EMF      ┆ AMCC     ┆ 04       ┆ EMF-AMCC-04 ┆ Crédito    ┆ VariaciónC ┆ Variación  ┆ 1          │\n",
       "│          ┆          ┆          ┆ -4          ┆ Otras      ┆ réditodela ┆            ┆            │\n",
       "│          ┆          ┆          ┆             ┆ Sociedades ┆ sOSDaEmpre ┆            ┆            │\n",
       "│          ┆          ┆          ┆             ┆ de Depó…   ┆ sa…        ┆            ┆            │\n",
       "│ EMF      ┆ AMCC     ┆ 04       ┆ EMF-AMCC-04 ┆ Crédito    ┆ VariaciónC ┆ Variación  ┆ 1          │\n",
       "│          ┆          ┆          ┆ -5          ┆ Otras      ┆ réditodela ┆            ┆            │\n",
       "│          ┆          ┆          ┆             ┆ Sociedades ┆ sOSDaHogar ┆            ┆            │\n",
       "│          ┆          ┆          ┆             ┆ de Depó…   ┆ es         ┆            ┆            │\n",
       "│ EMF      ┆ AMCC     ┆ 04       ┆ EMF-AMCC-04 ┆ Crédito    ┆ VariaciónC ┆ Variación  ┆ 1          │\n",
       "│          ┆          ┆          ┆ -6          ┆ Otras      ┆ réditodela ┆            ┆            │\n",
       "│          ┆          ┆          ┆             ┆ Sociedades ┆ sOSDTotal  ┆            ┆            │\n",
       "│          ┆          ┆          ┆             ┆ de Depó…   ┆            ┆            ┆            │\n",
       "└──────────┴──────────┴──────────┴─────────────┴────────────┴────────────┴────────────┴────────────┘"
      ]
     },
     "execution_count": 55,
     "metadata": {},
     "output_type": "execute_result"
    }
   ],
   "source": [
    "res_nivel_7(\n",
    "    \"EMF\",\"AMCC\",\n",
    "    \"Niv_Gr_3\",\"04\",\n",
    "    \"Nombre\",\"Niv_Descr_1\",\"Niv_Descr_2\",\"Niv_Descr_4\").sort(\"Nombre\")"
   ]
  },
  {
   "cell_type": "markdown",
   "id": "c85ef60c",
   "metadata": {},
   "source": [
    "##### 05 Saldo de Préstamos (Millones de Lempiras)\n"
   ]
  },
  {
   "cell_type": "code",
   "execution_count": 56,
   "id": "7a644c42",
   "metadata": {},
   "outputs": [
    {
     "data": {
      "text/html": [
       "<div><style>\n",
       ".dataframe > thead > tr,\n",
       ".dataframe > tbody > tr {\n",
       "  text-align: right;\n",
       "  white-space: pre-wrap;\n",
       "}\n",
       "</style>\n",
       "<small>shape: (1, 5)</small><table border=\"1\" class=\"dataframe\"><thead><tr><th>Niv_Gr_1</th><th>Niv_Gr_2</th><th>Niv_Gr_3</th><th>Niv_Descr_1</th><th>N_Variables</th></tr><tr><td>str</td><td>str</td><td>str</td><td>str</td><td>u32</td></tr></thead><tbody><tr><td>&quot;EMF&quot;</td><td>&quot;AMCC&quot;</td><td>&quot;05&quot;</td><td>&quot;Saldo de prést…</td><td>14</td></tr></tbody></table></div>"
      ],
      "text/plain": [
       "shape: (1, 5)\n",
       "┌──────────┬──────────┬──────────┬────────────────────┬─────────────┐\n",
       "│ Niv_Gr_1 ┆ Niv_Gr_2 ┆ Niv_Gr_3 ┆ Niv_Descr_1        ┆ N_Variables │\n",
       "│ ---      ┆ ---      ┆ ---      ┆ ---                ┆ ---         │\n",
       "│ str      ┆ str      ┆ str      ┆ str                ┆ u32         │\n",
       "╞══════════╪══════════╪══════════╪════════════════════╪═════════════╡\n",
       "│ EMF      ┆ AMCC     ┆ 05       ┆ Saldo de préstamos ┆ 14          │\n",
       "└──────────┴──────────┴──────────┴────────────────────┴─────────────┘"
      ]
     },
     "execution_count": 56,
     "metadata": {},
     "output_type": "execute_result"
    }
   ],
   "source": [
    "res_nivel_4(\n",
    "    \"EMF\",\"AMCC\",\n",
    "    \"Niv_Gr_3\",\"05\",\n",
    "    \"Niv_Descr_1\")"
   ]
  },
  {
   "cell_type": "code",
   "execution_count": 57,
   "id": "18fec09b",
   "metadata": {},
   "outputs": [
    {
     "data": {
      "text/html": [
       "<div><style>\n",
       ".dataframe > thead > tr,\n",
       ".dataframe > tbody > tr {\n",
       "  text-align: right;\n",
       "  white-space: pre-wrap;\n",
       "}\n",
       "</style>\n",
       "<small>shape: (2, 6)</small><table border=\"1\" class=\"dataframe\"><thead><tr><th>Niv_Gr_1</th><th>Niv_Gr_2</th><th>Niv_Gr_3</th><th>Niv_Descr_1</th><th>Niv_Descr_4</th><th>N_Variables</th></tr><tr><td>str</td><td>str</td><td>str</td><td>str</td><td>str</td><td>u32</td></tr></thead><tbody><tr><td>&quot;EMF&quot;</td><td>&quot;AMCC&quot;</td><td>&quot;05&quot;</td><td>&quot;Saldo de prést…</td><td>&quot;Saldo&quot;</td><td>7</td></tr><tr><td>&quot;EMF&quot;</td><td>&quot;AMCC&quot;</td><td>&quot;05&quot;</td><td>&quot;Saldo de prést…</td><td>&quot;Variación&quot;</td><td>7</td></tr></tbody></table></div>"
      ],
      "text/plain": [
       "shape: (2, 6)\n",
       "┌──────────┬──────────┬──────────┬────────────────────┬─────────────┬─────────────┐\n",
       "│ Niv_Gr_1 ┆ Niv_Gr_2 ┆ Niv_Gr_3 ┆ Niv_Descr_1        ┆ Niv_Descr_4 ┆ N_Variables │\n",
       "│ ---      ┆ ---      ┆ ---      ┆ ---                ┆ ---         ┆ ---         │\n",
       "│ str      ┆ str      ┆ str      ┆ str                ┆ str         ┆ u32         │\n",
       "╞══════════╪══════════╪══════════╪════════════════════╪═════════════╪═════════════╡\n",
       "│ EMF      ┆ AMCC     ┆ 05       ┆ Saldo de préstamos ┆ Saldo       ┆ 7           │\n",
       "│ EMF      ┆ AMCC     ┆ 05       ┆ Saldo de préstamos ┆ Variación   ┆ 7           │\n",
       "└──────────┴──────────┴──────────┴────────────────────┴─────────────┴─────────────┘"
      ]
     },
     "execution_count": 57,
     "metadata": {},
     "output_type": "execute_result"
    }
   ],
   "source": [
    "res_nivel_5(\n",
    "    \"EMF\",\"AMCC\",\n",
    "    \"Niv_Gr_3\",\"05\",\n",
    "    \"Niv_Descr_1\",\"Niv_Descr_4\")"
   ]
  },
  {
   "cell_type": "markdown",
   "id": "3ad93d56",
   "metadata": {},
   "source": [
    "Para ver todas las variables:\n"
   ]
  },
  {
   "cell_type": "code",
   "execution_count": 58,
   "id": "5143f492",
   "metadata": {},
   "outputs": [
    {
     "data": {
      "text/html": [
       "<div><style>\n",
       ".dataframe > thead > tr,\n",
       ".dataframe > tbody > tr {\n",
       "  text-align: right;\n",
       "  white-space: pre-wrap;\n",
       "}\n",
       "</style>\n",
       "<small>shape: (14, 8)</small><table border=\"1\" class=\"dataframe\"><thead><tr><th>Niv_Gr_1</th><th>Niv_Gr_2</th><th>Niv_Gr_3</th><th>Nombre</th><th>Niv_Descr_1</th><th>Niv_Descr_3</th><th>Niv_Descr_4</th><th>N_Variables</th></tr><tr><td>str</td><td>str</td><td>str</td><td>str</td><td>str</td><td>str</td><td>str</td><td>u32</td></tr></thead><tbody><tr><td>&quot;EMF&quot;</td><td>&quot;AMCC&quot;</td><td>&quot;05&quot;</td><td>&quot;EMF-AMCC-05-4&quot;</td><td>&quot;Saldo de prést…</td><td>&quot;Industria&quot;</td><td>&quot;Saldo&quot;</td><td>1</td></tr><tr><td>&quot;EMF&quot;</td><td>&quot;AMCC&quot;</td><td>&quot;05&quot;</td><td>&quot;EMF-AMCC-05-2&quot;</td><td>&quot;Saldo de prést…</td><td>&quot;Comercio&quot;</td><td>&quot;Saldo&quot;</td><td>1</td></tr><tr><td>&quot;EMF&quot;</td><td>&quot;AMCC&quot;</td><td>&quot;05&quot;</td><td>&quot;EMF-AMCC-05-5&quot;</td><td>&quot;Saldo de prést…</td><td>&quot;PropiedadRaíz&quot;</td><td>&quot;Saldo&quot;</td><td>1</td></tr><tr><td>&quot;EMF&quot;</td><td>&quot;AMCC&quot;</td><td>&quot;05&quot;</td><td>&quot;EMF-AMCC-05-3&quot;</td><td>&quot;Saldo de prést…</td><td>&quot;Consumo&quot;</td><td>&quot;Saldo&quot;</td><td>1</td></tr><tr><td>&quot;EMF&quot;</td><td>&quot;AMCC&quot;</td><td>&quot;05&quot;</td><td>&quot;EMF-AMCC-05-6&quot;</td><td>&quot;Saldo de prést…</td><td>&quot;Servicios&quot;</td><td>&quot;Saldo&quot;</td><td>1</td></tr><tr><td>&hellip;</td><td>&hellip;</td><td>&hellip;</td><td>&hellip;</td><td>&hellip;</td><td>&hellip;</td><td>&hellip;</td><td>&hellip;</td></tr><tr><td>&quot;EMF&quot;</td><td>&quot;AMCC&quot;</td><td>&quot;05&quot;</td><td>&quot;EMF-AMCC-05-10…</td><td>&quot;Saldo de prést…</td><td>&quot;VariaciónConsu…</td><td>&quot;Variación&quot;</td><td>1</td></tr><tr><td>&quot;EMF&quot;</td><td>&quot;AMCC&quot;</td><td>&quot;05&quot;</td><td>&quot;EMF-AMCC-05-9&quot;</td><td>&quot;Saldo de prést…</td><td>&quot;VariaciónComer…</td><td>&quot;Variación&quot;</td><td>1</td></tr><tr><td>&quot;EMF&quot;</td><td>&quot;AMCC&quot;</td><td>&quot;05&quot;</td><td>&quot;EMF-AMCC-05-14…</td><td>&quot;Saldo de prést…</td><td>&quot;VariaciónTotal…</td><td>&quot;Variación&quot;</td><td>1</td></tr><tr><td>&quot;EMF&quot;</td><td>&quot;AMCC&quot;</td><td>&quot;05&quot;</td><td>&quot;EMF-AMCC-05-11…</td><td>&quot;Saldo de prést…</td><td>&quot;VariaciónIndus…</td><td>&quot;Variación&quot;</td><td>1</td></tr><tr><td>&quot;EMF&quot;</td><td>&quot;AMCC&quot;</td><td>&quot;05&quot;</td><td>&quot;EMF-AMCC-05-12…</td><td>&quot;Saldo de prést…</td><td>&quot;VariaciónPropi…</td><td>&quot;Variación&quot;</td><td>1</td></tr></tbody></table></div>"
      ],
      "text/plain": [
       "shape: (14, 8)\n",
       "┌──────────┬──────────┬──────────┬─────────────┬────────────┬────────────┬────────────┬────────────┐\n",
       "│ Niv_Gr_1 ┆ Niv_Gr_2 ┆ Niv_Gr_3 ┆ Nombre      ┆ Niv_Descr_ ┆ Niv_Descr_ ┆ Niv_Descr_ ┆ N_Variable │\n",
       "│ ---      ┆ ---      ┆ ---      ┆ ---         ┆ 1          ┆ 3          ┆ 4          ┆ s          │\n",
       "│ str      ┆ str      ┆ str      ┆ str         ┆ ---        ┆ ---        ┆ ---        ┆ ---        │\n",
       "│          ┆          ┆          ┆             ┆ str        ┆ str        ┆ str        ┆ u32        │\n",
       "╞══════════╪══════════╪══════════╪═════════════╪════════════╪════════════╪════════════╪════════════╡\n",
       "│ EMF      ┆ AMCC     ┆ 05       ┆ EMF-AMCC-05 ┆ Saldo de   ┆ Industria  ┆ Saldo      ┆ 1          │\n",
       "│          ┆          ┆          ┆ -4          ┆ préstamos  ┆            ┆            ┆            │\n",
       "│ EMF      ┆ AMCC     ┆ 05       ┆ EMF-AMCC-05 ┆ Saldo de   ┆ Comercio   ┆ Saldo      ┆ 1          │\n",
       "│          ┆          ┆          ┆ -2          ┆ préstamos  ┆            ┆            ┆            │\n",
       "│ EMF      ┆ AMCC     ┆ 05       ┆ EMF-AMCC-05 ┆ Saldo de   ┆ PropiedadR ┆ Saldo      ┆ 1          │\n",
       "│          ┆          ┆          ┆ -5          ┆ préstamos  ┆ aíz        ┆            ┆            │\n",
       "│ EMF      ┆ AMCC     ┆ 05       ┆ EMF-AMCC-05 ┆ Saldo de   ┆ Consumo    ┆ Saldo      ┆ 1          │\n",
       "│          ┆          ┆          ┆ -3          ┆ préstamos  ┆            ┆            ┆            │\n",
       "│ EMF      ┆ AMCC     ┆ 05       ┆ EMF-AMCC-05 ┆ Saldo de   ┆ Servicios  ┆ Saldo      ┆ 1          │\n",
       "│          ┆          ┆          ┆ -6          ┆ préstamos  ┆            ┆            ┆            │\n",
       "│ …        ┆ …        ┆ …        ┆ …           ┆ …          ┆ …          ┆ …          ┆ …          │\n",
       "│ EMF      ┆ AMCC     ┆ 05       ┆ EMF-AMCC-05 ┆ Saldo de   ┆ VariaciónC ┆ Variación  ┆ 1          │\n",
       "│          ┆          ┆          ┆ -10         ┆ préstamos  ┆ onsumo     ┆            ┆            │\n",
       "│ EMF      ┆ AMCC     ┆ 05       ┆ EMF-AMCC-05 ┆ Saldo de   ┆ VariaciónC ┆ Variación  ┆ 1          │\n",
       "│          ┆          ┆          ┆ -9          ┆ préstamos  ┆ omercio    ┆            ┆            │\n",
       "│ EMF      ┆ AMCC     ┆ 05       ┆ EMF-AMCC-05 ┆ Saldo de   ┆ VariaciónT ┆ Variación  ┆ 1          │\n",
       "│          ┆          ┆          ┆ -14         ┆ préstamos  ┆ otal       ┆            ┆            │\n",
       "│ EMF      ┆ AMCC     ┆ 05       ┆ EMF-AMCC-05 ┆ Saldo de   ┆ VariaciónI ┆ Variación  ┆ 1          │\n",
       "│          ┆          ┆          ┆ -11         ┆ préstamos  ┆ ndustria   ┆            ┆            │\n",
       "│ EMF      ┆ AMCC     ┆ 05       ┆ EMF-AMCC-05 ┆ Saldo de   ┆ VariaciónP ┆ Variación  ┆ 1          │\n",
       "│          ┆          ┆          ┆ -12         ┆ préstamos  ┆ ropiedadRa ┆            ┆            │\n",
       "│          ┆          ┆          ┆             ┆            ┆ íz         ┆            ┆            │\n",
       "└──────────┴──────────┴──────────┴─────────────┴────────────┴────────────┴────────────┴────────────┘"
      ]
     },
     "execution_count": 58,
     "metadata": {},
     "output_type": "execute_result"
    }
   ],
   "source": [
    "res_nivel_7(\n",
    "    \"EMF\",\"AMCC\",\n",
    "    \"Niv_Gr_3\",\"05\",\n",
    "    \"Nombre\",\"Niv_Descr_1\",\"Niv_Descr_3\",\"Niv_Descr_4\").sort(\"Niv_Descr_4\")"
   ]
  },
  {
   "cell_type": "markdown",
   "id": "c25343e5",
   "metadata": {},
   "source": [
    "##### 06 Préstamos Nuevos (Flujos acumulados en millones de lempiras)\n"
   ]
  },
  {
   "cell_type": "code",
   "execution_count": 59,
   "id": "10a7d4b7",
   "metadata": {},
   "outputs": [
    {
     "data": {
      "text/html": [
       "<div><style>\n",
       ".dataframe > thead > tr,\n",
       ".dataframe > tbody > tr {\n",
       "  text-align: right;\n",
       "  white-space: pre-wrap;\n",
       "}\n",
       "</style>\n",
       "<small>shape: (1, 5)</small><table border=\"1\" class=\"dataframe\"><thead><tr><th>Niv_Gr_1</th><th>Niv_Gr_2</th><th>Niv_Gr_3</th><th>Niv_Descr_1</th><th>N_Variables</th></tr><tr><td>str</td><td>str</td><td>str</td><td>str</td><td>u32</td></tr></thead><tbody><tr><td>&quot;EMF&quot;</td><td>&quot;AMCC&quot;</td><td>&quot;06&quot;</td><td>&quot;Préstamos nuev…</td><td>14</td></tr></tbody></table></div>"
      ],
      "text/plain": [
       "shape: (1, 5)\n",
       "┌──────────┬──────────┬──────────┬──────────────────┬─────────────┐\n",
       "│ Niv_Gr_1 ┆ Niv_Gr_2 ┆ Niv_Gr_3 ┆ Niv_Descr_1      ┆ N_Variables │\n",
       "│ ---      ┆ ---      ┆ ---      ┆ ---              ┆ ---         │\n",
       "│ str      ┆ str      ┆ str      ┆ str              ┆ u32         │\n",
       "╞══════════╪══════════╪══════════╪══════════════════╪═════════════╡\n",
       "│ EMF      ┆ AMCC     ┆ 06       ┆ Préstamos nuevos ┆ 14          │\n",
       "└──────────┴──────────┴──────────┴──────────────────┴─────────────┘"
      ]
     },
     "execution_count": 59,
     "metadata": {},
     "output_type": "execute_result"
    }
   ],
   "source": [
    "res_nivel_4(\n",
    "    \"EMF\",\"AMCC\",\n",
    "    \"Niv_Gr_3\",\"06\",\n",
    "    \"Niv_Descr_1\")"
   ]
  },
  {
   "cell_type": "code",
   "execution_count": 60,
   "id": "5ea36d3e",
   "metadata": {},
   "outputs": [
    {
     "data": {
      "text/html": [
       "<div><style>\n",
       ".dataframe > thead > tr,\n",
       ".dataframe > tbody > tr {\n",
       "  text-align: right;\n",
       "  white-space: pre-wrap;\n",
       "}\n",
       "</style>\n",
       "<small>shape: (2, 6)</small><table border=\"1\" class=\"dataframe\"><thead><tr><th>Niv_Gr_1</th><th>Niv_Gr_2</th><th>Niv_Gr_3</th><th>Niv_Descr_1</th><th>Niv_Descr_4</th><th>N_Variables</th></tr><tr><td>str</td><td>str</td><td>str</td><td>str</td><td>str</td><td>u32</td></tr></thead><tbody><tr><td>&quot;EMF&quot;</td><td>&quot;AMCC&quot;</td><td>&quot;06&quot;</td><td>&quot;Préstamos nuev…</td><td>&quot;Variación&quot;</td><td>7</td></tr><tr><td>&quot;EMF&quot;</td><td>&quot;AMCC&quot;</td><td>&quot;06&quot;</td><td>&quot;Préstamos nuev…</td><td>&quot;Saldo&quot;</td><td>7</td></tr></tbody></table></div>"
      ],
      "text/plain": [
       "shape: (2, 6)\n",
       "┌──────────┬──────────┬──────────┬──────────────────┬─────────────┬─────────────┐\n",
       "│ Niv_Gr_1 ┆ Niv_Gr_2 ┆ Niv_Gr_3 ┆ Niv_Descr_1      ┆ Niv_Descr_4 ┆ N_Variables │\n",
       "│ ---      ┆ ---      ┆ ---      ┆ ---              ┆ ---         ┆ ---         │\n",
       "│ str      ┆ str      ┆ str      ┆ str              ┆ str         ┆ u32         │\n",
       "╞══════════╪══════════╪══════════╪══════════════════╪═════════════╪═════════════╡\n",
       "│ EMF      ┆ AMCC     ┆ 06       ┆ Préstamos nuevos ┆ Variación   ┆ 7           │\n",
       "│ EMF      ┆ AMCC     ┆ 06       ┆ Préstamos nuevos ┆ Saldo       ┆ 7           │\n",
       "└──────────┴──────────┴──────────┴──────────────────┴─────────────┴─────────────┘"
      ]
     },
     "execution_count": 60,
     "metadata": {},
     "output_type": "execute_result"
    }
   ],
   "source": [
    "res_nivel_5(\n",
    "    \"EMF\",\"AMCC\",\n",
    "    \"Niv_Gr_3\",\"06\",\n",
    "    \"Niv_Descr_1\",\"Niv_Descr_4\")"
   ]
  },
  {
   "cell_type": "markdown",
   "id": "c5461d20",
   "metadata": {},
   "source": [
    "Para ver todas las variables:\n"
   ]
  },
  {
   "cell_type": "code",
   "execution_count": 61,
   "id": "4947ede2",
   "metadata": {},
   "outputs": [
    {
     "data": {
      "text/html": [
       "<div><style>\n",
       ".dataframe > thead > tr,\n",
       ".dataframe > tbody > tr {\n",
       "  text-align: right;\n",
       "  white-space: pre-wrap;\n",
       "}\n",
       "</style>\n",
       "<small>shape: (14, 8)</small><table border=\"1\" class=\"dataframe\"><thead><tr><th>Niv_Gr_1</th><th>Niv_Gr_2</th><th>Niv_Gr_3</th><th>Nombre</th><th>Niv_Descr_1</th><th>Niv_Descr_3</th><th>Niv_Descr_4</th><th>N_Variables</th></tr><tr><td>str</td><td>str</td><td>str</td><td>str</td><td>str</td><td>str</td><td>str</td><td>u32</td></tr></thead><tbody><tr><td>&quot;EMF&quot;</td><td>&quot;AMCC&quot;</td><td>&quot;06&quot;</td><td>&quot;EMF-AMCC-06-6&quot;</td><td>&quot;Préstamos nuev…</td><td>&quot;Servicios&quot;</td><td>&quot;Saldo&quot;</td><td>1</td></tr><tr><td>&quot;EMF&quot;</td><td>&quot;AMCC&quot;</td><td>&quot;06&quot;</td><td>&quot;EMF-AMCC-06-3&quot;</td><td>&quot;Préstamos nuev…</td><td>&quot;Consumo&quot;</td><td>&quot;Saldo&quot;</td><td>1</td></tr><tr><td>&quot;EMF&quot;</td><td>&quot;AMCC&quot;</td><td>&quot;06&quot;</td><td>&quot;EMF-AMCC-06-5&quot;</td><td>&quot;Préstamos nuev…</td><td>&quot;PropiedadRaíz&quot;</td><td>&quot;Saldo&quot;</td><td>1</td></tr><tr><td>&quot;EMF&quot;</td><td>&quot;AMCC&quot;</td><td>&quot;06&quot;</td><td>&quot;EMF-AMCC-06-7&quot;</td><td>&quot;Préstamos nuev…</td><td>&quot;Total&quot;</td><td>&quot;Saldo&quot;</td><td>1</td></tr><tr><td>&quot;EMF&quot;</td><td>&quot;AMCC&quot;</td><td>&quot;06&quot;</td><td>&quot;EMF-AMCC-06-4&quot;</td><td>&quot;Préstamos nuev…</td><td>&quot;Industria&quot;</td><td>&quot;Saldo&quot;</td><td>1</td></tr><tr><td>&hellip;</td><td>&hellip;</td><td>&hellip;</td><td>&hellip;</td><td>&hellip;</td><td>&hellip;</td><td>&hellip;</td><td>&hellip;</td></tr><tr><td>&quot;EMF&quot;</td><td>&quot;AMCC&quot;</td><td>&quot;06&quot;</td><td>&quot;EMF-AMCC-06-9&quot;</td><td>&quot;Préstamos nuev…</td><td>&quot;VariaciónComer…</td><td>&quot;Variación&quot;</td><td>1</td></tr><tr><td>&quot;EMF&quot;</td><td>&quot;AMCC&quot;</td><td>&quot;06&quot;</td><td>&quot;EMF-AMCC-06-13…</td><td>&quot;Préstamos nuev…</td><td>&quot;VariaciónServi…</td><td>&quot;Variación&quot;</td><td>1</td></tr><tr><td>&quot;EMF&quot;</td><td>&quot;AMCC&quot;</td><td>&quot;06&quot;</td><td>&quot;EMF-AMCC-06-12…</td><td>&quot;Préstamos nuev…</td><td>&quot;VariaciónPropi…</td><td>&quot;Variación&quot;</td><td>1</td></tr><tr><td>&quot;EMF&quot;</td><td>&quot;AMCC&quot;</td><td>&quot;06&quot;</td><td>&quot;EMF-AMCC-06-11…</td><td>&quot;Préstamos nuev…</td><td>&quot;VariaciónIndus…</td><td>&quot;Variación&quot;</td><td>1</td></tr><tr><td>&quot;EMF&quot;</td><td>&quot;AMCC&quot;</td><td>&quot;06&quot;</td><td>&quot;EMF-AMCC-06-14…</td><td>&quot;Préstamos nuev…</td><td>&quot;VariaciónTotal…</td><td>&quot;Variación&quot;</td><td>1</td></tr></tbody></table></div>"
      ],
      "text/plain": [
       "shape: (14, 8)\n",
       "┌──────────┬──────────┬──────────┬─────────────┬────────────┬────────────┬────────────┬────────────┐\n",
       "│ Niv_Gr_1 ┆ Niv_Gr_2 ┆ Niv_Gr_3 ┆ Nombre      ┆ Niv_Descr_ ┆ Niv_Descr_ ┆ Niv_Descr_ ┆ N_Variable │\n",
       "│ ---      ┆ ---      ┆ ---      ┆ ---         ┆ 1          ┆ 3          ┆ 4          ┆ s          │\n",
       "│ str      ┆ str      ┆ str      ┆ str         ┆ ---        ┆ ---        ┆ ---        ┆ ---        │\n",
       "│          ┆          ┆          ┆             ┆ str        ┆ str        ┆ str        ┆ u32        │\n",
       "╞══════════╪══════════╪══════════╪═════════════╪════════════╪════════════╪════════════╪════════════╡\n",
       "│ EMF      ┆ AMCC     ┆ 06       ┆ EMF-AMCC-06 ┆ Préstamos  ┆ Servicios  ┆ Saldo      ┆ 1          │\n",
       "│          ┆          ┆          ┆ -6          ┆ nuevos     ┆            ┆            ┆            │\n",
       "│ EMF      ┆ AMCC     ┆ 06       ┆ EMF-AMCC-06 ┆ Préstamos  ┆ Consumo    ┆ Saldo      ┆ 1          │\n",
       "│          ┆          ┆          ┆ -3          ┆ nuevos     ┆            ┆            ┆            │\n",
       "│ EMF      ┆ AMCC     ┆ 06       ┆ EMF-AMCC-06 ┆ Préstamos  ┆ PropiedadR ┆ Saldo      ┆ 1          │\n",
       "│          ┆          ┆          ┆ -5          ┆ nuevos     ┆ aíz        ┆            ┆            │\n",
       "│ EMF      ┆ AMCC     ┆ 06       ┆ EMF-AMCC-06 ┆ Préstamos  ┆ Total      ┆ Saldo      ┆ 1          │\n",
       "│          ┆          ┆          ┆ -7          ┆ nuevos     ┆            ┆            ┆            │\n",
       "│ EMF      ┆ AMCC     ┆ 06       ┆ EMF-AMCC-06 ┆ Préstamos  ┆ Industria  ┆ Saldo      ┆ 1          │\n",
       "│          ┆          ┆          ┆ -4          ┆ nuevos     ┆            ┆            ┆            │\n",
       "│ …        ┆ …        ┆ …        ┆ …           ┆ …          ┆ …          ┆ …          ┆ …          │\n",
       "│ EMF      ┆ AMCC     ┆ 06       ┆ EMF-AMCC-06 ┆ Préstamos  ┆ VariaciónC ┆ Variación  ┆ 1          │\n",
       "│          ┆          ┆          ┆ -9          ┆ nuevos     ┆ omercio    ┆            ┆            │\n",
       "│ EMF      ┆ AMCC     ┆ 06       ┆ EMF-AMCC-06 ┆ Préstamos  ┆ VariaciónS ┆ Variación  ┆ 1          │\n",
       "│          ┆          ┆          ┆ -13         ┆ nuevos     ┆ ervicios   ┆            ┆            │\n",
       "│ EMF      ┆ AMCC     ┆ 06       ┆ EMF-AMCC-06 ┆ Préstamos  ┆ VariaciónP ┆ Variación  ┆ 1          │\n",
       "│          ┆          ┆          ┆ -12         ┆ nuevos     ┆ ropiedadRa ┆            ┆            │\n",
       "│          ┆          ┆          ┆             ┆            ┆ íz         ┆            ┆            │\n",
       "│ EMF      ┆ AMCC     ┆ 06       ┆ EMF-AMCC-06 ┆ Préstamos  ┆ VariaciónI ┆ Variación  ┆ 1          │\n",
       "│          ┆          ┆          ┆ -11         ┆ nuevos     ┆ ndustria   ┆            ┆            │\n",
       "│ EMF      ┆ AMCC     ┆ 06       ┆ EMF-AMCC-06 ┆ Préstamos  ┆ VariaciónT ┆ Variación  ┆ 1          │\n",
       "│          ┆          ┆          ┆ -14         ┆ nuevos     ┆ otal       ┆            ┆            │\n",
       "└──────────┴──────────┴──────────┴─────────────┴────────────┴────────────┴────────────┴────────────┘"
      ]
     },
     "execution_count": 61,
     "metadata": {},
     "output_type": "execute_result"
    }
   ],
   "source": [
    "res_nivel_7(\n",
    "    \"EMF\",\"AMCC\",\n",
    "    \"Niv_Gr_3\",\"06\",\n",
    "    \"Nombre\",\"Niv_Descr_1\",\"Niv_Descr_3\",\"Niv_Descr_4\").sort(\"Niv_Descr_4\")"
   ]
  },
  {
   "cell_type": "markdown",
   "id": "4b3cbdd6",
   "metadata": {},
   "source": [
    "#### TI = Tasas de Interés\n"
   ]
  },
  {
   "cell_type": "code",
   "execution_count": 62,
   "id": "9e6526ff",
   "metadata": {},
   "outputs": [
    {
     "name": "stdout",
     "output_type": "stream",
     "text": [
      "3 subgrupos\n",
      "38 variables\n"
     ]
    },
    {
     "data": {
      "text/html": [
       "<div><style>\n",
       ".dataframe > thead > tr,\n",
       ".dataframe > tbody > tr {\n",
       "  text-align: right;\n",
       "  white-space: pre-wrap;\n",
       "}\n",
       "</style>\n",
       "<small>shape: (3, 4)</small><table border=\"1\" class=\"dataframe\"><thead><tr><th>Niv_Gr_1</th><th>Niv_Gr_2</th><th>Niv_Gr_3</th><th>N_Variables</th></tr><tr><td>str</td><td>str</td><td>str</td><td>u32</td></tr></thead><tbody><tr><td>&quot;EMF&quot;</td><td>&quot;TI&quot;</td><td>&quot;01&quot;</td><td>8</td></tr><tr><td>&quot;EMF&quot;</td><td>&quot;TI&quot;</td><td>&quot;02&quot;</td><td>20</td></tr><tr><td>&quot;EMF&quot;</td><td>&quot;TI&quot;</td><td>&quot;03&quot;</td><td>10</td></tr></tbody></table></div>"
      ],
      "text/plain": [
       "shape: (3, 4)\n",
       "┌──────────┬──────────┬──────────┬─────────────┐\n",
       "│ Niv_Gr_1 ┆ Niv_Gr_2 ┆ Niv_Gr_3 ┆ N_Variables │\n",
       "│ ---      ┆ ---      ┆ ---      ┆ ---         │\n",
       "│ str      ┆ str      ┆ str      ┆ u32         │\n",
       "╞══════════╪══════════╪══════════╪═════════════╡\n",
       "│ EMF      ┆ TI       ┆ 01       ┆ 8           │\n",
       "│ EMF      ┆ TI       ┆ 02       ┆ 20          │\n",
       "│ EMF      ┆ TI       ┆ 03       ┆ 10          │\n",
       "└──────────┴──────────┴──────────┴─────────────┘"
      ]
     },
     "execution_count": 62,
     "metadata": {},
     "output_type": "execute_result"
    }
   ],
   "source": [
    "res_nivel_3(\"EMF\",\"TI\",\"Niv_Gr_3\").sort(\"Niv_Gr_3\")"
   ]
  },
  {
   "cell_type": "markdown",
   "id": "d6617e51",
   "metadata": {},
   "source": [
    "##### 01 \n"
   ]
  },
  {
   "cell_type": "code",
   "execution_count": 63,
   "id": "7de26f77",
   "metadata": {},
   "outputs": [
    {
     "data": {
      "text/html": [
       "<div><style>\n",
       ".dataframe > thead > tr,\n",
       ".dataframe > tbody > tr {\n",
       "  text-align: right;\n",
       "  white-space: pre-wrap;\n",
       "}\n",
       "</style>\n",
       "<small>shape: (1, 5)</small><table border=\"1\" class=\"dataframe\"><thead><tr><th>Niv_Gr_1</th><th>Niv_Gr_2</th><th>Niv_Gr_3</th><th>Niv_Descr_1</th><th>N_Variables</th></tr><tr><td>str</td><td>str</td><td>str</td><td>str</td><td>u32</td></tr></thead><tbody><tr><td>&quot;EMF&quot;</td><td>&quot;TI&quot;</td><td>&quot;01&quot;</td><td>&quot;EMF&quot;</td><td>8</td></tr></tbody></table></div>"
      ],
      "text/plain": [
       "shape: (1, 5)\n",
       "┌──────────┬──────────┬──────────┬─────────────┬─────────────┐\n",
       "│ Niv_Gr_1 ┆ Niv_Gr_2 ┆ Niv_Gr_3 ┆ Niv_Descr_1 ┆ N_Variables │\n",
       "│ ---      ┆ ---      ┆ ---      ┆ ---         ┆ ---         │\n",
       "│ str      ┆ str      ┆ str      ┆ str         ┆ u32         │\n",
       "╞══════════╪══════════╪══════════╪═════════════╪═════════════╡\n",
       "│ EMF      ┆ TI       ┆ 01       ┆ EMF         ┆ 8           │\n",
       "└──────────┴──────────┴──────────┴─────────────┴─────────────┘"
      ]
     },
     "execution_count": 63,
     "metadata": {},
     "output_type": "execute_result"
    }
   ],
   "source": [
    "res_nivel_4(\n",
    "    \"EMF\",\"TI\",\n",
    "    \"Niv_Gr_3\",\"01\",\n",
    "    \"Niv_Descr_1\")"
   ]
  },
  {
   "cell_type": "code",
   "execution_count": 64,
   "id": "53da5710",
   "metadata": {},
   "outputs": [
    {
     "data": {
      "text/html": [
       "<div><style>\n",
       ".dataframe > thead > tr,\n",
       ".dataframe > tbody > tr {\n",
       "  text-align: right;\n",
       "  white-space: pre-wrap;\n",
       "}\n",
       "</style>\n",
       "<small>shape: (8, 6)</small><table border=\"1\" class=\"dataframe\"><thead><tr><th>Niv_Gr_1</th><th>Niv_Gr_2</th><th>Niv_Gr_3</th><th>Niv_Descr_1</th><th>Niv_Descr_4</th><th>N_Variables</th></tr><tr><td>str</td><td>str</td><td>str</td><td>str</td><td>str</td><td>u32</td></tr></thead><tbody><tr><td>&quot;EMF&quot;</td><td>&quot;TI&quot;</td><td>&quot;01&quot;</td><td>&quot;EMF&quot;</td><td>&quot; PasivadeChequ…</td><td>1</td></tr><tr><td>&quot;EMF&quot;</td><td>&quot;TI&quot;</td><td>&quot;01&quot;</td><td>&quot;EMF&quot;</td><td>&quot; PasivaaPlazoM…</td><td>1</td></tr><tr><td>&quot;EMF&quot;</td><td>&quot;TI&quot;</td><td>&quot;01&quot;</td><td>&quot;EMF&quot;</td><td>&quot; PasivadeAhorr…</td><td>1</td></tr><tr><td>&quot;EMF&quot;</td><td>&quot;TI&quot;</td><td>&quot;01&quot;</td><td>&quot;EMF&quot;</td><td>&quot; ActivaMonedaE…</td><td>1</td></tr><tr><td>&quot;EMF&quot;</td><td>&quot;TI&quot;</td><td>&quot;01&quot;</td><td>&quot;EMF&quot;</td><td>&quot; PasivadeChequ…</td><td>1</td></tr><tr><td>&quot;EMF&quot;</td><td>&quot;TI&quot;</td><td>&quot;01&quot;</td><td>&quot;EMF&quot;</td><td>&quot; PasivadeAhorr…</td><td>1</td></tr><tr><td>&quot;EMF&quot;</td><td>&quot;TI&quot;</td><td>&quot;01&quot;</td><td>&quot;EMF&quot;</td><td>&quot; PasivaaPlazoM…</td><td>1</td></tr><tr><td>&quot;EMF&quot;</td><td>&quot;TI&quot;</td><td>&quot;01&quot;</td><td>&quot;EMF&quot;</td><td>&quot; ActivaMonedaN…</td><td>1</td></tr></tbody></table></div>"
      ],
      "text/plain": [
       "shape: (8, 6)\n",
       "┌──────────┬──────────┬──────────┬─────────────┬───────────────────────────────────┬─────────────┐\n",
       "│ Niv_Gr_1 ┆ Niv_Gr_2 ┆ Niv_Gr_3 ┆ Niv_Descr_1 ┆ Niv_Descr_4                       ┆ N_Variables │\n",
       "│ ---      ┆ ---      ┆ ---      ┆ ---         ┆ ---                               ┆ ---         │\n",
       "│ str      ┆ str      ┆ str      ┆ str         ┆ str                               ┆ u32         │\n",
       "╞══════════╪══════════╪══════════╪═════════════╪═══════════════════════════════════╪═════════════╡\n",
       "│ EMF      ┆ TI       ┆ 01       ┆ EMF         ┆  PasivadeChequesMonedaExtranjera… ┆ 1           │\n",
       "│ EMF      ┆ TI       ┆ 01       ┆ EMF         ┆  PasivaaPlazoMonedaNacional       ┆ 1           │\n",
       "│ EMF      ┆ TI       ┆ 01       ┆ EMF         ┆  PasivadeAhorroMonedaExtranjera … ┆ 1           │\n",
       "│ EMF      ┆ TI       ┆ 01       ┆ EMF         ┆  ActivaMonedaExtranjera           ┆ 1           │\n",
       "│ EMF      ┆ TI       ┆ 01       ┆ EMF         ┆  PasivadeChequesMonedaNacional    ┆ 1           │\n",
       "│ EMF      ┆ TI       ┆ 01       ┆ EMF         ┆  PasivadeAhorroMonedaNacional     ┆ 1           │\n",
       "│ EMF      ┆ TI       ┆ 01       ┆ EMF         ┆  PasivaaPlazoMonedaExtranjera     ┆ 1           │\n",
       "│ EMF      ┆ TI       ┆ 01       ┆ EMF         ┆  ActivaMonedaNacional             ┆ 1           │\n",
       "└──────────┴──────────┴──────────┴─────────────┴───────────────────────────────────┴─────────────┘"
      ]
     },
     "execution_count": 64,
     "metadata": {},
     "output_type": "execute_result"
    }
   ],
   "source": [
    "res_nivel_5(\n",
    "    \"EMF\",\"TI\",\n",
    "    \"Niv_Gr_3\",\"01\",\n",
    "    \"Niv_Descr_1\",\"Niv_Descr_4\")"
   ]
  },
  {
   "cell_type": "markdown",
   "id": "386fc6ae",
   "metadata": {},
   "source": [
    "Para ver todas las variables:\n"
   ]
  },
  {
   "cell_type": "code",
   "execution_count": 65,
   "id": "619911d6",
   "metadata": {},
   "outputs": [
    {
     "data": {
      "text/html": [
       "<div><style>\n",
       ".dataframe > thead > tr,\n",
       ".dataframe > tbody > tr {\n",
       "  text-align: right;\n",
       "  white-space: pre-wrap;\n",
       "}\n",
       "</style>\n",
       "<small>shape: (8, 8)</small><table border=\"1\" class=\"dataframe\"><thead><tr><th>Niv_Gr_1</th><th>Niv_Gr_2</th><th>Niv_Gr_3</th><th>Nombre</th><th>Niv_Descr_6</th><th>Niv_Descr_5</th><th>Niv_Descr_4</th><th>N_Variables</th></tr><tr><td>str</td><td>str</td><td>str</td><td>str</td><td>str</td><td>str</td><td>str</td><td>u32</td></tr></thead><tbody><tr><td>&quot;EMF&quot;</td><td>&quot;TI&quot;</td><td>&quot;01&quot;</td><td>&quot;EMF-TI-01-1&quot;</td><td>&quot; Moneda Extran…</td><td>&quot; Activa Présta…</td><td>&quot; ActivaMonedaE…</td><td>1</td></tr><tr><td>&quot;EMF&quot;</td><td>&quot;TI&quot;</td><td>&quot;01&quot;</td><td>&quot;EMF-TI-01-2&quot;</td><td>&quot; Moneda Nacion…</td><td>&quot; Activa Présta…</td><td>&quot; ActivaMonedaN…</td><td>1</td></tr><tr><td>&quot;EMF&quot;</td><td>&quot;TI&quot;</td><td>&quot;01&quot;</td><td>&quot;EMF-TI-01-3&quot;</td><td>&quot; Moneda Extran…</td><td>&quot; Pasiva Plazo …</td><td>&quot; PasivaaPlazoM…</td><td>1</td></tr><tr><td>&quot;EMF&quot;</td><td>&quot;TI&quot;</td><td>&quot;01&quot;</td><td>&quot;EMF-TI-01-4&quot;</td><td>&quot; Moneda Nacion…</td><td>&quot; Pasiva Plazo …</td><td>&quot; PasivaaPlazoM…</td><td>1</td></tr><tr><td>&quot;EMF&quot;</td><td>&quot;TI&quot;</td><td>&quot;01&quot;</td><td>&quot;EMF-TI-01-5&quot;</td><td>&quot; Moneda Extran…</td><td>&quot; Pasiva Ahorro…</td><td>&quot; PasivadeAhorr…</td><td>1</td></tr><tr><td>&quot;EMF&quot;</td><td>&quot;TI&quot;</td><td>&quot;01&quot;</td><td>&quot;EMF-TI-01-6&quot;</td><td>&quot; Moneda Nacion…</td><td>&quot; Pasiva Ahorro…</td><td>&quot; PasivadeAhorr…</td><td>1</td></tr><tr><td>&quot;EMF&quot;</td><td>&quot;TI&quot;</td><td>&quot;01&quot;</td><td>&quot;EMF-TI-01-7&quot;</td><td>&quot; Moneda Extran…</td><td>&quot; Pasiva Cheque…</td><td>&quot; PasivadeChequ…</td><td>1</td></tr><tr><td>&quot;EMF&quot;</td><td>&quot;TI&quot;</td><td>&quot;01&quot;</td><td>&quot;EMF-TI-01-8&quot;</td><td>&quot; Moneda Nacion…</td><td>&quot; Pasiva Cheque…</td><td>&quot; PasivadeChequ…</td><td>1</td></tr></tbody></table></div>"
      ],
      "text/plain": [
       "shape: (8, 8)\n",
       "┌──────────┬──────────┬──────────┬─────────────┬────────────┬────────────┬────────────┬────────────┐\n",
       "│ Niv_Gr_1 ┆ Niv_Gr_2 ┆ Niv_Gr_3 ┆ Nombre      ┆ Niv_Descr_ ┆ Niv_Descr_ ┆ Niv_Descr_ ┆ N_Variable │\n",
       "│ ---      ┆ ---      ┆ ---      ┆ ---         ┆ 6          ┆ 5          ┆ 4          ┆ s          │\n",
       "│ str      ┆ str      ┆ str      ┆ str         ┆ ---        ┆ ---        ┆ ---        ┆ ---        │\n",
       "│          ┆          ┆          ┆             ┆ str        ┆ str        ┆ str        ┆ u32        │\n",
       "╞══════════╪══════════╪══════════╪═════════════╪════════════╪════════════╪════════════╪════════════╡\n",
       "│ EMF      ┆ TI       ┆ 01       ┆ EMF-TI-01-1 ┆ Moneda     ┆ Activa     ┆ ActivaMone ┆ 1          │\n",
       "│          ┆          ┆          ┆             ┆ Extranjera ┆ Préstamos  ┆ daExtranje ┆            │\n",
       "│          ┆          ┆          ┆             ┆            ┆            ┆ ra         ┆            │\n",
       "│ EMF      ┆ TI       ┆ 01       ┆ EMF-TI-01-2 ┆ Moneda     ┆ Activa     ┆ ActivaMone ┆ 1          │\n",
       "│          ┆          ┆          ┆             ┆ Nacional   ┆ Préstamos  ┆ daNacional ┆            │\n",
       "│ EMF      ┆ TI       ┆ 01       ┆ EMF-TI-01-3 ┆ Moneda     ┆ Pasiva     ┆ PasivaaPla ┆ 1          │\n",
       "│          ┆          ┆          ┆             ┆ Extranjera ┆ Plazo      ┆ zoMonedaEx ┆            │\n",
       "│          ┆          ┆          ┆             ┆            ┆            ┆ tranjera   ┆            │\n",
       "│ EMF      ┆ TI       ┆ 01       ┆ EMF-TI-01-4 ┆ Moneda     ┆ Pasiva     ┆ PasivaaPla ┆ 1          │\n",
       "│          ┆          ┆          ┆             ┆ Nacional   ┆ Plazo      ┆ zoMonedaNa ┆            │\n",
       "│          ┆          ┆          ┆             ┆            ┆            ┆ cional     ┆            │\n",
       "│ EMF      ┆ TI       ┆ 01       ┆ EMF-TI-01-5 ┆ Moneda     ┆ Pasiva     ┆ PasivadeAh ┆ 1          │\n",
       "│          ┆          ┆          ┆             ┆ Extranjera ┆ Ahorros    ┆ orroMoneda ┆            │\n",
       "│          ┆          ┆          ┆             ┆            ┆            ┆ Extranjera ┆            │\n",
       "│          ┆          ┆          ┆             ┆            ┆            ┆ …          ┆            │\n",
       "│ EMF      ┆ TI       ┆ 01       ┆ EMF-TI-01-6 ┆ Moneda     ┆ Pasiva     ┆ PasivadeAh ┆ 1          │\n",
       "│          ┆          ┆          ┆             ┆ Nacional   ┆ Ahorros    ┆ orroMoneda ┆            │\n",
       "│          ┆          ┆          ┆             ┆            ┆            ┆ Nacional   ┆            │\n",
       "│ EMF      ┆ TI       ┆ 01       ┆ EMF-TI-01-7 ┆ Moneda     ┆ Pasiva     ┆ PasivadeCh ┆ 1          │\n",
       "│          ┆          ┆          ┆             ┆ Extranjera ┆ Cheques    ┆ equesMoned ┆            │\n",
       "│          ┆          ┆          ┆             ┆            ┆            ┆ aExtranjer ┆            │\n",
       "│          ┆          ┆          ┆             ┆            ┆            ┆ a…         ┆            │\n",
       "│ EMF      ┆ TI       ┆ 01       ┆ EMF-TI-01-8 ┆ Moneda     ┆ Pasiva     ┆ PasivadeCh ┆ 1          │\n",
       "│          ┆          ┆          ┆             ┆ Nacional   ┆ Cheques    ┆ equesMoned ┆            │\n",
       "│          ┆          ┆          ┆             ┆            ┆            ┆ aNacional  ┆            │\n",
       "└──────────┴──────────┴──────────┴─────────────┴────────────┴────────────┴────────────┴────────────┘"
      ]
     },
     "execution_count": 65,
     "metadata": {},
     "output_type": "execute_result"
    }
   ],
   "source": [
    "res_nivel_7(\n",
    "    \"EMF\",\"TI\",\n",
    "    \"Niv_Gr_3\",\"01\",\n",
    "    \"Nombre\",\"Niv_Descr_6\",\"Niv_Descr_5\",\"Niv_Descr_4\").sort(\"Niv_Descr_4\")"
   ]
  },
  {
   "cell_type": "markdown",
   "id": "e925ab08",
   "metadata": {},
   "source": [
    "##### 02 \n"
   ]
  },
  {
   "cell_type": "code",
   "execution_count": 66,
   "id": "06aca623",
   "metadata": {},
   "outputs": [
    {
     "data": {
      "text/html": [
       "<div><style>\n",
       ".dataframe > thead > tr,\n",
       ".dataframe > tbody > tr {\n",
       "  text-align: right;\n",
       "  white-space: pre-wrap;\n",
       "}\n",
       "</style>\n",
       "<small>shape: (1, 5)</small><table border=\"1\" class=\"dataframe\"><thead><tr><th>Niv_Gr_1</th><th>Niv_Gr_2</th><th>Niv_Gr_3</th><th>Niv_Descr_1</th><th>N_Variables</th></tr><tr><td>str</td><td>str</td><td>str</td><td>str</td><td>u32</td></tr></thead><tbody><tr><td>&quot;EMF&quot;</td><td>&quot;TI&quot;</td><td>&quot;02&quot;</td><td>&quot;EMF&quot;</td><td>20</td></tr></tbody></table></div>"
      ],
      "text/plain": [
       "shape: (1, 5)\n",
       "┌──────────┬──────────┬──────────┬─────────────┬─────────────┐\n",
       "│ Niv_Gr_1 ┆ Niv_Gr_2 ┆ Niv_Gr_3 ┆ Niv_Descr_1 ┆ N_Variables │\n",
       "│ ---      ┆ ---      ┆ ---      ┆ ---         ┆ ---         │\n",
       "│ str      ┆ str      ┆ str      ┆ str         ┆ u32         │\n",
       "╞══════════╪══════════╪══════════╪═════════════╪═════════════╡\n",
       "│ EMF      ┆ TI       ┆ 02       ┆ EMF         ┆ 20          │\n",
       "└──────────┴──────────┴──────────┴─────────────┴─────────────┘"
      ]
     },
     "execution_count": 66,
     "metadata": {},
     "output_type": "execute_result"
    }
   ],
   "source": [
    "res_nivel_4(\n",
    "    \"EMF\",\"TI\",\n",
    "    \"Niv_Gr_3\",\"02\",\n",
    "    \"Niv_Descr_1\")"
   ]
  },
  {
   "cell_type": "code",
   "execution_count": 67,
   "id": "7c5b4068",
   "metadata": {},
   "outputs": [
    {
     "data": {
      "text/html": [
       "<div><style>\n",
       ".dataframe > thead > tr,\n",
       ".dataframe > tbody > tr {\n",
       "  text-align: right;\n",
       "  white-space: pre-wrap;\n",
       "}\n",
       "</style>\n",
       "<small>shape: (2, 6)</small><table border=\"1\" class=\"dataframe\"><thead><tr><th>Niv_Gr_1</th><th>Niv_Gr_2</th><th>Niv_Gr_3</th><th>Niv_Descr_1</th><th>Niv_Descr_4</th><th>N_Variables</th></tr><tr><td>str</td><td>str</td><td>str</td><td>str</td><td>str</td><td>u32</td></tr></thead><tbody><tr><td>&quot;EMF&quot;</td><td>&quot;TI&quot;</td><td>&quot;02&quot;</td><td>&quot;EMF&quot;</td><td>&quot; Nacional &quot;</td><td>10</td></tr><tr><td>&quot;EMF&quot;</td><td>&quot;TI&quot;</td><td>&quot;02&quot;</td><td>&quot;EMF&quot;</td><td>&quot; Extranjera &quot;</td><td>10</td></tr></tbody></table></div>"
      ],
      "text/plain": [
       "shape: (2, 6)\n",
       "┌──────────┬──────────┬──────────┬─────────────┬──────────────┬─────────────┐\n",
       "│ Niv_Gr_1 ┆ Niv_Gr_2 ┆ Niv_Gr_3 ┆ Niv_Descr_1 ┆ Niv_Descr_4  ┆ N_Variables │\n",
       "│ ---      ┆ ---      ┆ ---      ┆ ---         ┆ ---          ┆ ---         │\n",
       "│ str      ┆ str      ┆ str      ┆ str         ┆ str          ┆ u32         │\n",
       "╞══════════╪══════════╪══════════╪═════════════╪══════════════╪═════════════╡\n",
       "│ EMF      ┆ TI       ┆ 02       ┆ EMF         ┆  Nacional    ┆ 10          │\n",
       "│ EMF      ┆ TI       ┆ 02       ┆ EMF         ┆  Extranjera  ┆ 10          │\n",
       "└──────────┴──────────┴──────────┴─────────────┴──────────────┴─────────────┘"
      ]
     },
     "execution_count": 67,
     "metadata": {},
     "output_type": "execute_result"
    }
   ],
   "source": [
    "res_nivel_5(\n",
    "    \"EMF\",\"TI\",\n",
    "    \"Niv_Gr_3\",\"02\",\n",
    "    \"Niv_Descr_1\",\"Niv_Descr_4\")"
   ]
  },
  {
   "cell_type": "markdown",
   "id": "d75c1d1d",
   "metadata": {},
   "source": [
    "Para ver todas las variables:\n"
   ]
  },
  {
   "cell_type": "code",
   "execution_count": 68,
   "id": "4bc8bbb5",
   "metadata": {},
   "outputs": [
    {
     "data": {
      "text/html": [
       "<div><style>\n",
       ".dataframe > thead > tr,\n",
       ".dataframe > tbody > tr {\n",
       "  text-align: right;\n",
       "  white-space: pre-wrap;\n",
       "}\n",
       "</style>\n",
       "<small>shape: (20, 7)</small><table border=\"1\" class=\"dataframe\"><thead><tr><th>Niv_Gr_1</th><th>Niv_Gr_2</th><th>Niv_Gr_3</th><th>Nombre</th><th>Niv_Descr_4</th><th>Niv_Descr_5</th><th>N_Variables</th></tr><tr><td>str</td><td>str</td><td>str</td><td>str</td><td>str</td><td>str</td><td>u32</td></tr></thead><tbody><tr><td>&quot;EMF&quot;</td><td>&quot;TI&quot;</td><td>&quot;02&quot;</td><td>&quot;EMF-TI-02-11&quot;</td><td>&quot; Extranjera &quot;</td><td>&quot; Vivienda&quot;</td><td>1</td></tr><tr><td>&quot;EMF&quot;</td><td>&quot;TI&quot;</td><td>&quot;02&quot;</td><td>&quot;EMF-TI-02-13&quot;</td><td>&quot; Extranjera &quot;</td><td>&quot; Otros Sectore…</td><td>1</td></tr><tr><td>&quot;EMF&quot;</td><td>&quot;TI&quot;</td><td>&quot;02&quot;</td><td>&quot;EMF-TI-02-6&quot;</td><td>&quot; Extranjera &quot;</td><td>&quot; Construcción&quot;</td><td>1</td></tr><tr><td>&quot;EMF&quot;</td><td>&quot;TI&quot;</td><td>&quot;02&quot;</td><td>&quot;EMF-TI-02-4&quot;</td><td>&quot; Extranjera &quot;</td><td>&quot; Explotación d…</td><td>1</td></tr><tr><td>&quot;EMF&quot;</td><td>&quot;TI&quot;</td><td>&quot;02&quot;</td><td>&quot;EMF-TI-02-7&quot;</td><td>&quot; Extranjera &quot;</td><td>&quot; Consumo&quot;</td><td>1</td></tr><tr><td>&hellip;</td><td>&hellip;</td><td>&hellip;</td><td>&hellip;</td><td>&hellip;</td><td>&hellip;</td><td>&hellip;</td></tr><tr><td>&quot;EMF&quot;</td><td>&quot;TI&quot;</td><td>&quot;02&quot;</td><td>&quot;EMF-TI-02-17&quot;</td><td>&quot; Nacional &quot;</td><td>&quot; Comercio&quot;</td><td>1</td></tr><tr><td>&quot;EMF&quot;</td><td>&quot;TI&quot;</td><td>&quot;02&quot;</td><td>&quot;EMF-TI-02-19&quot;</td><td>&quot; Nacional &quot;</td><td>&quot; Actividades A…</td><td>1</td></tr><tr><td>&quot;EMF&quot;</td><td>&quot;TI&quot;</td><td>&quot;02&quot;</td><td>&quot;EMF-TI-02-1&quot;</td><td>&quot; Nacional &quot;</td><td>&quot; Agricultura, …</td><td>1</td></tr><tr><td>&quot;EMF&quot;</td><td>&quot;TI&quot;</td><td>&quot;02&quot;</td><td>&quot;EMF-TI-02-20&quot;</td><td>&quot; Nacional &quot;</td><td>&quot; Vivienda&quot;</td><td>1</td></tr><tr><td>&quot;EMF&quot;</td><td>&quot;TI&quot;</td><td>&quot;02&quot;</td><td>&quot;EMF-TI-02-2&quot;</td><td>&quot; Nacional &quot;</td><td>&quot; Otros Sectore…</td><td>1</td></tr></tbody></table></div>"
      ],
      "text/plain": [
       "shape: (20, 7)\n",
       "┌──────────┬──────────┬──────────┬──────────────┬──────────────┬─────────────────────┬─────────────┐\n",
       "│ Niv_Gr_1 ┆ Niv_Gr_2 ┆ Niv_Gr_3 ┆ Nombre       ┆ Niv_Descr_4  ┆ Niv_Descr_5         ┆ N_Variables │\n",
       "│ ---      ┆ ---      ┆ ---      ┆ ---          ┆ ---          ┆ ---                 ┆ ---         │\n",
       "│ str      ┆ str      ┆ str      ┆ str          ┆ str          ┆ str                 ┆ u32         │\n",
       "╞══════════╪══════════╪══════════╪══════════════╪══════════════╪═════════════════════╪═════════════╡\n",
       "│ EMF      ┆ TI       ┆ 02       ┆ EMF-TI-02-11 ┆  Extranjera  ┆  Vivienda           ┆ 1           │\n",
       "│ EMF      ┆ TI       ┆ 02       ┆ EMF-TI-02-13 ┆  Extranjera  ┆  Otros Sectores     ┆ 1           │\n",
       "│ EMF      ┆ TI       ┆ 02       ┆ EMF-TI-02-6  ┆  Extranjera  ┆  Construcción       ┆ 1           │\n",
       "│ EMF      ┆ TI       ┆ 02       ┆ EMF-TI-02-4  ┆  Extranjera  ┆ Explotación de      ┆ 1           │\n",
       "│          ┆          ┆          ┆              ┆              ┆ Minas y Canteras    ┆             │\n",
       "│ EMF      ┆ TI       ┆ 02       ┆ EMF-TI-02-7  ┆  Extranjera  ┆  Consumo            ┆ 1           │\n",
       "│ …        ┆ …        ┆ …        ┆ …            ┆ …            ┆ …                   ┆ …           │\n",
       "│ EMF      ┆ TI       ┆ 02       ┆ EMF-TI-02-17 ┆  Nacional    ┆  Comercio           ┆ 1           │\n",
       "│ EMF      ┆ TI       ┆ 02       ┆ EMF-TI-02-19 ┆  Nacional    ┆ Actividades         ┆ 1           │\n",
       "│          ┆          ┆          ┆              ┆              ┆ Alojamiento y       ┆             │\n",
       "│          ┆          ┆          ┆              ┆              ┆ Servi…              ┆             │\n",
       "│ EMF      ┆ TI       ┆ 02       ┆ EMF-TI-02-1  ┆  Nacional    ┆ Agricultura,        ┆ 1           │\n",
       "│          ┆          ┆          ┆              ┆              ┆ Ganadería, Silvicu… ┆             │\n",
       "│ EMF      ┆ TI       ┆ 02       ┆ EMF-TI-02-20 ┆  Nacional    ┆  Vivienda           ┆ 1           │\n",
       "│ EMF      ┆ TI       ┆ 02       ┆ EMF-TI-02-2  ┆  Nacional    ┆  Otros Sectores     ┆ 1           │\n",
       "└──────────┴──────────┴──────────┴──────────────┴──────────────┴─────────────────────┴─────────────┘"
      ]
     },
     "execution_count": 68,
     "metadata": {},
     "output_type": "execute_result"
    }
   ],
   "source": [
    "res_nivel_6(\n",
    "    \"EMF\",\"TI\",\n",
    "    \"Niv_Gr_3\",\"02\",\n",
    "    \"Nombre\",\"Niv_Descr_4\",\"Niv_Descr_5\").sort(\"Niv_Descr_4\")"
   ]
  },
  {
   "cell_type": "markdown",
   "id": "e12edbaa",
   "metadata": {},
   "source": [
    "##### 03 Tasas de Interés Anuales\n"
   ]
  },
  {
   "cell_type": "code",
   "execution_count": 69,
   "id": "a9d4102d",
   "metadata": {},
   "outputs": [
    {
     "data": {
      "text/html": [
       "<div><style>\n",
       ".dataframe > thead > tr,\n",
       ".dataframe > tbody > tr {\n",
       "  text-align: right;\n",
       "  white-space: pre-wrap;\n",
       "}\n",
       "</style>\n",
       "<small>shape: (1, 5)</small><table border=\"1\" class=\"dataframe\"><thead><tr><th>Niv_Gr_1</th><th>Niv_Gr_2</th><th>Niv_Gr_3</th><th>Niv_Descr_1</th><th>N_Variables</th></tr><tr><td>str</td><td>str</td><td>str</td><td>str</td><td>u32</td></tr></thead><tbody><tr><td>&quot;EMF&quot;</td><td>&quot;TI&quot;</td><td>&quot;03&quot;</td><td>&quot;EMF&quot;</td><td>10</td></tr></tbody></table></div>"
      ],
      "text/plain": [
       "shape: (1, 5)\n",
       "┌──────────┬──────────┬──────────┬─────────────┬─────────────┐\n",
       "│ Niv_Gr_1 ┆ Niv_Gr_2 ┆ Niv_Gr_3 ┆ Niv_Descr_1 ┆ N_Variables │\n",
       "│ ---      ┆ ---      ┆ ---      ┆ ---         ┆ ---         │\n",
       "│ str      ┆ str      ┆ str      ┆ str         ┆ u32         │\n",
       "╞══════════╪══════════╪══════════╪═════════════╪═════════════╡\n",
       "│ EMF      ┆ TI       ┆ 03       ┆ EMF         ┆ 10          │\n",
       "└──────────┴──────────┴──────────┴─────────────┴─────────────┘"
      ]
     },
     "execution_count": 69,
     "metadata": {},
     "output_type": "execute_result"
    }
   ],
   "source": [
    "res_nivel_4(\n",
    "    \"EMF\",\"TI\",\n",
    "    \"Niv_Gr_3\",\"03\",\n",
    "    \"Niv_Descr_1\")"
   ]
  },
  {
   "cell_type": "code",
   "execution_count": 70,
   "id": "b5514476",
   "metadata": {},
   "outputs": [
    {
     "data": {
      "text/html": [
       "<div><style>\n",
       ".dataframe > thead > tr,\n",
       ".dataframe > tbody > tr {\n",
       "  text-align: right;\n",
       "  white-space: pre-wrap;\n",
       "}\n",
       "</style>\n",
       "<small>shape: (2, 6)</small><table border=\"1\" class=\"dataframe\"><thead><tr><th>Niv_Gr_1</th><th>Niv_Gr_2</th><th>Niv_Gr_3</th><th>Niv_Descr_1</th><th>Niv_Descr_6</th><th>N_Variables</th></tr><tr><td>str</td><td>str</td><td>str</td><td>str</td><td>str</td><td>u32</td></tr></thead><tbody><tr><td>&quot;EMF&quot;</td><td>&quot;TI&quot;</td><td>&quot;03&quot;</td><td>&quot;EMF&quot;</td><td>&quot; Tasas de Inte…</td><td>8</td></tr><tr><td>&quot;EMF&quot;</td><td>&quot;TI&quot;</td><td>&quot;03&quot;</td><td>&quot;EMF&quot;</td><td>&quot; Tasas de Inte…</td><td>2</td></tr></tbody></table></div>"
      ],
      "text/plain": [
       "shape: (2, 6)\n",
       "┌──────────┬──────────┬──────────┬─────────────┬───────────────────────────────────┬─────────────┐\n",
       "│ Niv_Gr_1 ┆ Niv_Gr_2 ┆ Niv_Gr_3 ┆ Niv_Descr_1 ┆ Niv_Descr_6                       ┆ N_Variables │\n",
       "│ ---      ┆ ---      ┆ ---      ┆ ---         ┆ ---                               ┆ ---         │\n",
       "│ str      ┆ str      ┆ str      ┆ str         ┆ str                               ┆ u32         │\n",
       "╞══════════╪══════════╪══════════╪═════════════╪═══════════════════════════════════╪═════════════╡\n",
       "│ EMF      ┆ TI       ┆ 03       ┆ EMF         ┆  Tasas de Interés Anuales Mínima… ┆ 8           │\n",
       "│ EMF      ┆ TI       ┆ 03       ┆ EMF         ┆  Tasas de Interés Anuales Promed… ┆ 2           │\n",
       "└──────────┴──────────┴──────────┴─────────────┴───────────────────────────────────┴─────────────┘"
      ]
     },
     "execution_count": 70,
     "metadata": {},
     "output_type": "execute_result"
    }
   ],
   "source": [
    "res_nivel_5(\n",
    "    \"EMF\",\"TI\",\n",
    "    \"Niv_Gr_3\",\"03\",\n",
    "    \"Niv_Descr_1\",\"Niv_Descr_6\")"
   ]
  },
  {
   "cell_type": "markdown",
   "id": "2801b5ab",
   "metadata": {},
   "source": [
    "Para ver todas las variables:\n"
   ]
  },
  {
   "cell_type": "code",
   "execution_count": 71,
   "id": "a2041df6",
   "metadata": {},
   "outputs": [
    {
     "data": {
      "text/html": [
       "<div><style>\n",
       ".dataframe > thead > tr,\n",
       ".dataframe > tbody > tr {\n",
       "  text-align: right;\n",
       "  white-space: pre-wrap;\n",
       "}\n",
       "</style>\n",
       "<small>shape: (10, 7)</small><table border=\"1\" class=\"dataframe\"><thead><tr><th>Niv_Gr_1</th><th>Niv_Gr_2</th><th>Niv_Gr_3</th><th>Nombre</th><th>Niv_Descr_6</th><th>Niv_Descr_5</th><th>N_Variables</th></tr><tr><td>str</td><td>str</td><td>str</td><td>str</td><td>str</td><td>str</td><td>u32</td></tr></thead><tbody><tr><td>&quot;EMF&quot;</td><td>&quot;TI&quot;</td><td>&quot;03&quot;</td><td>&quot;EMF-TI-03-6&quot;</td><td>&quot; Tasas de Inte…</td><td>&quot;Activa Máxima …</td><td>1</td></tr><tr><td>&quot;EMF&quot;</td><td>&quot;TI&quot;</td><td>&quot;03&quot;</td><td>&quot;EMF-TI-03-5&quot;</td><td>&quot; Tasas de Inte…</td><td>&quot;Activa Mínima …</td><td>1</td></tr><tr><td>&quot;EMF&quot;</td><td>&quot;TI&quot;</td><td>&quot;03&quot;</td><td>&quot;EMF-TI-03-1&quot;</td><td>&quot; Tasas de Inte…</td><td>&quot;Activa Mínima …</td><td>1</td></tr><tr><td>&quot;EMF&quot;</td><td>&quot;TI&quot;</td><td>&quot;03&quot;</td><td>&quot;EMF-TI-03-7&quot;</td><td>&quot; Tasas de Inte…</td><td>&quot;Pasiva Mínima …</td><td>1</td></tr><tr><td>&quot;EMF&quot;</td><td>&quot;TI&quot;</td><td>&quot;03&quot;</td><td>&quot;EMF-TI-03-2&quot;</td><td>&quot; Tasas de Inte…</td><td>&quot;Activa Máxima …</td><td>1</td></tr><tr><td>&quot;EMF&quot;</td><td>&quot;TI&quot;</td><td>&quot;03&quot;</td><td>&quot;EMF-TI-03-8&quot;</td><td>&quot; Tasas de Inte…</td><td>&quot;Pasiva Máxima …</td><td>1</td></tr><tr><td>&quot;EMF&quot;</td><td>&quot;TI&quot;</td><td>&quot;03&quot;</td><td>&quot;EMF-TI-03-4&quot;</td><td>&quot; Tasas de Inte…</td><td>&quot;Pasiva Máxima …</td><td>1</td></tr><tr><td>&quot;EMF&quot;</td><td>&quot;TI&quot;</td><td>&quot;03&quot;</td><td>&quot;EMF-TI-03-3&quot;</td><td>&quot; Tasas de Inte…</td><td>&quot;Pasiva Mínima …</td><td>1</td></tr><tr><td>&quot;EMF&quot;</td><td>&quot;TI&quot;</td><td>&quot;03&quot;</td><td>&quot;EMF-TI-03-9&quot;</td><td>&quot; Tasas de Inte…</td><td>&quot;Activa Promedi…</td><td>1</td></tr><tr><td>&quot;EMF&quot;</td><td>&quot;TI&quot;</td><td>&quot;03&quot;</td><td>&quot;EMF-TI-03-10&quot;</td><td>&quot; Tasas de Inte…</td><td>&quot;Activa Promedi…</td><td>1</td></tr></tbody></table></div>"
      ],
      "text/plain": [
       "shape: (10, 7)\n",
       "┌──────────┬──────────┬──────────┬──────────────┬──────────────────┬─────────────────┬─────────────┐\n",
       "│ Niv_Gr_1 ┆ Niv_Gr_2 ┆ Niv_Gr_3 ┆ Nombre       ┆ Niv_Descr_6      ┆ Niv_Descr_5     ┆ N_Variables │\n",
       "│ ---      ┆ ---      ┆ ---      ┆ ---          ┆ ---              ┆ ---             ┆ ---         │\n",
       "│ str      ┆ str      ┆ str      ┆ str          ┆ str              ┆ str             ┆ u32         │\n",
       "╞══════════╪══════════╪══════════╪══════════════╪══════════════════╪═════════════════╪═════════════╡\n",
       "│ EMF      ┆ TI       ┆ 03       ┆ EMF-TI-03-6  ┆ Tasas de Interés ┆ Activa Máxima   ┆ 1           │\n",
       "│          ┆          ┆          ┆              ┆ Anuales Mínima…  ┆ en Moneda       ┆             │\n",
       "│          ┆          ┆          ┆              ┆                  ┆ Extranje…       ┆             │\n",
       "│ EMF      ┆ TI       ┆ 03       ┆ EMF-TI-03-5  ┆ Tasas de Interés ┆ Activa Mínima   ┆ 1           │\n",
       "│          ┆          ┆          ┆              ┆ Anuales Mínima…  ┆ en Moneda       ┆             │\n",
       "│          ┆          ┆          ┆              ┆                  ┆ Extranje…       ┆             │\n",
       "│ EMF      ┆ TI       ┆ 03       ┆ EMF-TI-03-1  ┆ Tasas de Interés ┆ Activa Mínima   ┆ 1           │\n",
       "│          ┆          ┆          ┆              ┆ Anuales Mínima…  ┆ en Moneda       ┆             │\n",
       "│          ┆          ┆          ┆              ┆                  ┆ Nacional…       ┆             │\n",
       "│ EMF      ┆ TI       ┆ 03       ┆ EMF-TI-03-7  ┆ Tasas de Interés ┆ Pasiva Mínima   ┆ 1           │\n",
       "│          ┆          ┆          ┆              ┆ Anuales Mínima…  ┆ Plazo 180 días  ┆             │\n",
       "│          ┆          ┆          ┆              ┆                  ┆ Mon…            ┆             │\n",
       "│ EMF      ┆ TI       ┆ 03       ┆ EMF-TI-03-2  ┆ Tasas de Interés ┆ Activa Máxima   ┆ 1           │\n",
       "│          ┆          ┆          ┆              ┆ Anuales Mínima…  ┆ en Moneda       ┆             │\n",
       "│          ┆          ┆          ┆              ┆                  ┆ Nacional…       ┆             │\n",
       "│ EMF      ┆ TI       ┆ 03       ┆ EMF-TI-03-8  ┆ Tasas de Interés ┆ Pasiva Máxima   ┆ 1           │\n",
       "│          ┆          ┆          ┆              ┆ Anuales Mínima…  ┆ Plazo 180 días  ┆             │\n",
       "│          ┆          ┆          ┆              ┆                  ┆ Mon…            ┆             │\n",
       "│ EMF      ┆ TI       ┆ 03       ┆ EMF-TI-03-4  ┆ Tasas de Interés ┆ Pasiva Máxima   ┆ 1           │\n",
       "│          ┆          ┆          ┆              ┆ Anuales Mínima…  ┆ Plazo 180 días  ┆             │\n",
       "│          ┆          ┆          ┆              ┆                  ┆ Mon…            ┆             │\n",
       "│ EMF      ┆ TI       ┆ 03       ┆ EMF-TI-03-3  ┆ Tasas de Interés ┆ Pasiva Mínima   ┆ 1           │\n",
       "│          ┆          ┆          ┆              ┆ Anuales Mínima…  ┆ Plazo 180 días  ┆             │\n",
       "│          ┆          ┆          ┆              ┆                  ┆ Mon…            ┆             │\n",
       "│ EMF      ┆ TI       ┆ 03       ┆ EMF-TI-03-9  ┆ Tasas de Interés ┆ Activa Promedio ┆ 1           │\n",
       "│          ┆          ┆          ┆              ┆ Anuales Promed…  ┆ Ponderada en    ┆             │\n",
       "│          ┆          ┆          ┆              ┆                  ┆ Mon…            ┆             │\n",
       "│ EMF      ┆ TI       ┆ 03       ┆ EMF-TI-03-10 ┆ Tasas de Interés ┆ Activa Promedio ┆ 1           │\n",
       "│          ┆          ┆          ┆              ┆ Anuales Promed…  ┆ Ponderada       ┆             │\n",
       "│          ┆          ┆          ┆              ┆                  ┆ Moneda…         ┆             │\n",
       "└──────────┴──────────┴──────────┴──────────────┴──────────────────┴─────────────────┴─────────────┘"
      ]
     },
     "execution_count": 71,
     "metadata": {},
     "output_type": "execute_result"
    }
   ],
   "source": [
    "res_nivel_6(\n",
    "    \"EMF\",\"TI\",\n",
    "    \"Niv_Gr_3\",\"03\",\n",
    "    \"Nombre\",\"Niv_Descr_6\",\"Niv_Descr_5\").sort(\"Niv_Descr_6\")"
   ]
  },
  {
   "cell_type": "markdown",
   "id": "550dc679",
   "metadata": {},
   "source": [
    "#### PFS = Panorama de las Sociedades Financieras\n"
   ]
  },
  {
   "cell_type": "code",
   "execution_count": 72,
   "id": "262d2bc1",
   "metadata": {},
   "outputs": [
    {
     "name": "stdout",
     "output_type": "stream",
     "text": [
      "2 subgrupos\n",
      "12 variables\n"
     ]
    },
    {
     "data": {
      "text/html": [
       "<div><style>\n",
       ".dataframe > thead > tr,\n",
       ".dataframe > tbody > tr {\n",
       "  text-align: right;\n",
       "  white-space: pre-wrap;\n",
       "}\n",
       "</style>\n",
       "<small>shape: (2, 4)</small><table border=\"1\" class=\"dataframe\"><thead><tr><th>Niv_Gr_1</th><th>Niv_Gr_2</th><th>Niv_Gr_3</th><th>N_Variables</th></tr><tr><td>str</td><td>str</td><td>str</td><td>u32</td></tr></thead><tbody><tr><td>&quot;EMF&quot;</td><td>&quot;PFS&quot;</td><td>&quot;01&quot;</td><td>3</td></tr><tr><td>&quot;EMF&quot;</td><td>&quot;PFS&quot;</td><td>&quot;02&quot;</td><td>9</td></tr></tbody></table></div>"
      ],
      "text/plain": [
       "shape: (2, 4)\n",
       "┌──────────┬──────────┬──────────┬─────────────┐\n",
       "│ Niv_Gr_1 ┆ Niv_Gr_2 ┆ Niv_Gr_3 ┆ N_Variables │\n",
       "│ ---      ┆ ---      ┆ ---      ┆ ---         │\n",
       "│ str      ┆ str      ┆ str      ┆ u32         │\n",
       "╞══════════╪══════════╪══════════╪═════════════╡\n",
       "│ EMF      ┆ PFS      ┆ 01       ┆ 3           │\n",
       "│ EMF      ┆ PFS      ┆ 02       ┆ 9           │\n",
       "└──────────┴──────────┴──────────┴─────────────┘"
      ]
     },
     "execution_count": 72,
     "metadata": {},
     "output_type": "execute_result"
    }
   ],
   "source": [
    "res_nivel_3(\"EMF\",\"PFS\",\"Niv_Gr_3\").sort(\"Niv_Gr_3\")"
   ]
  },
  {
   "cell_type": "markdown",
   "id": "ab4312f1",
   "metadata": {},
   "source": [
    "##### 01 Bancos Comerciales\n"
   ]
  },
  {
   "cell_type": "code",
   "execution_count": 73,
   "id": "3acc3dc5",
   "metadata": {},
   "outputs": [
    {
     "data": {
      "text/html": [
       "<div><style>\n",
       ".dataframe > thead > tr,\n",
       ".dataframe > tbody > tr {\n",
       "  text-align: right;\n",
       "  white-space: pre-wrap;\n",
       "}\n",
       "</style>\n",
       "<small>shape: (3, 5)</small><table border=\"1\" class=\"dataframe\"><thead><tr><th>Niv_Gr_1</th><th>Niv_Gr_2</th><th>Niv_Gr_3</th><th>Niv_Descr_1</th><th>N_Variables</th></tr><tr><td>str</td><td>str</td><td>str</td><td>str</td><td>u32</td></tr></thead><tbody><tr><td>&quot;EMF&quot;</td><td>&quot;PFS&quot;</td><td>&quot;01&quot;</td><td>&quot;Activos Extern…</td><td>1</td></tr><tr><td>&quot;EMF&quot;</td><td>&quot;PFS&quot;</td><td>&quot;01&quot;</td><td>&quot;Pasivos Extern…</td><td>1</td></tr><tr><td>&quot;EMF&quot;</td><td>&quot;PFS&quot;</td><td>&quot;01&quot;</td><td>&quot;Activos Extern…</td><td>1</td></tr></tbody></table></div>"
      ],
      "text/plain": [
       "shape: (3, 5)\n",
       "┌──────────┬──────────┬──────────┬────────────────────────┬─────────────┐\n",
       "│ Niv_Gr_1 ┆ Niv_Gr_2 ┆ Niv_Gr_3 ┆ Niv_Descr_1            ┆ N_Variables │\n",
       "│ ---      ┆ ---      ┆ ---      ┆ ---                    ┆ ---         │\n",
       "│ str      ┆ str      ┆ str      ┆ str                    ┆ u32         │\n",
       "╞══════════╪══════════╪══════════╪════════════════════════╪═════════════╡\n",
       "│ EMF      ┆ PFS      ┆ 01       ┆ Activos Externos       ┆ 1           │\n",
       "│ EMF      ┆ PFS      ┆ 01       ┆ Pasivos Externos       ┆ 1           │\n",
       "│ EMF      ┆ PFS      ┆ 01       ┆ Activos Externos Netos ┆ 1           │\n",
       "└──────────┴──────────┴──────────┴────────────────────────┴─────────────┘"
      ]
     },
     "execution_count": 73,
     "metadata": {},
     "output_type": "execute_result"
    }
   ],
   "source": [
    "res_nivel_4(\n",
    "    \"EMF\",\"PFS\",\n",
    "    \"Niv_Gr_3\",\"01\",\n",
    "    \"Niv_Descr_1\")"
   ]
  },
  {
   "cell_type": "code",
   "execution_count": 74,
   "id": "ac7e9901",
   "metadata": {},
   "outputs": [
    {
     "data": {
      "text/html": [
       "<div><style>\n",
       ".dataframe > thead > tr,\n",
       ".dataframe > tbody > tr {\n",
       "  text-align: right;\n",
       "  white-space: pre-wrap;\n",
       "}\n",
       "</style>\n",
       "<small>shape: (3, 6)</small><table border=\"1\" class=\"dataframe\"><thead><tr><th>Niv_Gr_1</th><th>Niv_Gr_2</th><th>Niv_Gr_3</th><th>Niv_Descr_2</th><th>Niv_Descr_1</th><th>N_Variables</th></tr><tr><td>str</td><td>str</td><td>str</td><td>str</td><td>str</td><td>u32</td></tr></thead><tbody><tr><td>&quot;EMF&quot;</td><td>&quot;PFS&quot;</td><td>&quot;01&quot;</td><td>&quot;Bancos Comerci…</td><td>&quot;Activos Extern…</td><td>1</td></tr><tr><td>&quot;EMF&quot;</td><td>&quot;PFS&quot;</td><td>&quot;01&quot;</td><td>&quot;Bancos Comerci…</td><td>&quot;Activos Extern…</td><td>1</td></tr><tr><td>&quot;EMF&quot;</td><td>&quot;PFS&quot;</td><td>&quot;01&quot;</td><td>&quot;Bancos Comerci…</td><td>&quot;Pasivos Extern…</td><td>1</td></tr></tbody></table></div>"
      ],
      "text/plain": [
       "shape: (3, 6)\n",
       "┌──────────┬──────────┬──────────┬────────────────────┬────────────────────────┬─────────────┐\n",
       "│ Niv_Gr_1 ┆ Niv_Gr_2 ┆ Niv_Gr_3 ┆ Niv_Descr_2        ┆ Niv_Descr_1            ┆ N_Variables │\n",
       "│ ---      ┆ ---      ┆ ---      ┆ ---                ┆ ---                    ┆ ---         │\n",
       "│ str      ┆ str      ┆ str      ┆ str                ┆ str                    ┆ u32         │\n",
       "╞══════════╪══════════╪══════════╪════════════════════╪════════════════════════╪═════════════╡\n",
       "│ EMF      ┆ PFS      ┆ 01       ┆ Bancos Comerciales ┆ Activos Externos       ┆ 1           │\n",
       "│ EMF      ┆ PFS      ┆ 01       ┆ Bancos Comerciales ┆ Activos Externos Netos ┆ 1           │\n",
       "│ EMF      ┆ PFS      ┆ 01       ┆ Bancos Comerciales ┆ Pasivos Externos       ┆ 1           │\n",
       "└──────────┴──────────┴──────────┴────────────────────┴────────────────────────┴─────────────┘"
      ]
     },
     "execution_count": 74,
     "metadata": {},
     "output_type": "execute_result"
    }
   ],
   "source": [
    "res_nivel_5(\n",
    "    \"EMF\",\"PFS\",\n",
    "    \"Niv_Gr_3\",\"01\",\n",
    "    \"Niv_Descr_2\",\"Niv_Descr_1\")"
   ]
  },
  {
   "cell_type": "markdown",
   "id": "300006ae",
   "metadata": {},
   "source": [
    "Para ver todas las variables:\n"
   ]
  },
  {
   "cell_type": "code",
   "execution_count": 75,
   "id": "053b0d9e",
   "metadata": {},
   "outputs": [
    {
     "data": {
      "text/html": [
       "<div><style>\n",
       ".dataframe > thead > tr,\n",
       ".dataframe > tbody > tr {\n",
       "  text-align: right;\n",
       "  white-space: pre-wrap;\n",
       "}\n",
       "</style>\n",
       "<small>shape: (3, 7)</small><table border=\"1\" class=\"dataframe\"><thead><tr><th>Niv_Gr_1</th><th>Niv_Gr_2</th><th>Niv_Gr_3</th><th>Nombre</th><th>Niv_Descr_2</th><th>Niv_Descr_1</th><th>N_Variables</th></tr><tr><td>str</td><td>str</td><td>str</td><td>str</td><td>str</td><td>str</td><td>u32</td></tr></thead><tbody><tr><td>&quot;EMF&quot;</td><td>&quot;PFS&quot;</td><td>&quot;01&quot;</td><td>&quot;EMF-PFS-01-1&quot;</td><td>&quot;Bancos Comerci…</td><td>&quot;Activos Extern…</td><td>1</td></tr><tr><td>&quot;EMF&quot;</td><td>&quot;PFS&quot;</td><td>&quot;01&quot;</td><td>&quot;EMF-PFS-01-2&quot;</td><td>&quot;Bancos Comerci…</td><td>&quot;Activos Extern…</td><td>1</td></tr><tr><td>&quot;EMF&quot;</td><td>&quot;PFS&quot;</td><td>&quot;01&quot;</td><td>&quot;EMF-PFS-01-3&quot;</td><td>&quot;Bancos Comerci…</td><td>&quot;Pasivos Extern…</td><td>1</td></tr></tbody></table></div>"
      ],
      "text/plain": [
       "shape: (3, 7)\n",
       "┌──────────┬──────────┬──────────┬──────────────┬─────────────┬──────────────────┬─────────────┐\n",
       "│ Niv_Gr_1 ┆ Niv_Gr_2 ┆ Niv_Gr_3 ┆ Nombre       ┆ Niv_Descr_2 ┆ Niv_Descr_1      ┆ N_Variables │\n",
       "│ ---      ┆ ---      ┆ ---      ┆ ---          ┆ ---         ┆ ---              ┆ ---         │\n",
       "│ str      ┆ str      ┆ str      ┆ str          ┆ str         ┆ str              ┆ u32         │\n",
       "╞══════════╪══════════╪══════════╪══════════════╪═════════════╪══════════════════╪═════════════╡\n",
       "│ EMF      ┆ PFS      ┆ 01       ┆ EMF-PFS-01-1 ┆ Bancos      ┆ Activos Externos ┆ 1           │\n",
       "│          ┆          ┆          ┆              ┆ Comerciales ┆ Netos            ┆             │\n",
       "│ EMF      ┆ PFS      ┆ 01       ┆ EMF-PFS-01-2 ┆ Bancos      ┆ Activos Externos ┆ 1           │\n",
       "│          ┆          ┆          ┆              ┆ Comerciales ┆                  ┆             │\n",
       "│ EMF      ┆ PFS      ┆ 01       ┆ EMF-PFS-01-3 ┆ Bancos      ┆ Pasivos Externos ┆ 1           │\n",
       "│          ┆          ┆          ┆              ┆ Comerciales ┆                  ┆             │\n",
       "└──────────┴──────────┴──────────┴──────────────┴─────────────┴──────────────────┴─────────────┘"
      ]
     },
     "execution_count": 75,
     "metadata": {},
     "output_type": "execute_result"
    }
   ],
   "source": [
    "res_nivel_6(\n",
    "    \"EMF\",\"PFS\",\n",
    "    \"Niv_Gr_3\",\"01\",\n",
    "    \"Nombre\",\"Niv_Descr_2\",\"Niv_Descr_1\").sort(\"Nombre\")"
   ]
  },
  {
   "cell_type": "markdown",
   "id": "4d377d42",
   "metadata": {},
   "source": [
    "##### 02 Activos y Pasivos Externos\n"
   ]
  },
  {
   "cell_type": "code",
   "execution_count": 76,
   "id": "89e6e798",
   "metadata": {},
   "outputs": [
    {
     "data": {
      "text/html": [
       "<div><style>\n",
       ".dataframe > thead > tr,\n",
       ".dataframe > tbody > tr {\n",
       "  text-align: right;\n",
       "  white-space: pre-wrap;\n",
       "}\n",
       "</style>\n",
       "<small>shape: (3, 5)</small><table border=\"1\" class=\"dataframe\"><thead><tr><th>Niv_Gr_1</th><th>Niv_Gr_2</th><th>Niv_Gr_3</th><th>Niv_Descr_1</th><th>N_Variables</th></tr><tr><td>str</td><td>str</td><td>str</td><td>str</td><td>u32</td></tr></thead><tbody><tr><td>&quot;EMF&quot;</td><td>&quot;PFS&quot;</td><td>&quot;02&quot;</td><td>&quot;Activos Extern…</td><td>3</td></tr><tr><td>&quot;EMF&quot;</td><td>&quot;PFS&quot;</td><td>&quot;02&quot;</td><td>&quot;Activos Extern…</td><td>3</td></tr><tr><td>&quot;EMF&quot;</td><td>&quot;PFS&quot;</td><td>&quot;02&quot;</td><td>&quot;Pasivos Extern…</td><td>3</td></tr></tbody></table></div>"
      ],
      "text/plain": [
       "shape: (3, 5)\n",
       "┌──────────┬──────────┬──────────┬────────────────────────┬─────────────┐\n",
       "│ Niv_Gr_1 ┆ Niv_Gr_2 ┆ Niv_Gr_3 ┆ Niv_Descr_1            ┆ N_Variables │\n",
       "│ ---      ┆ ---      ┆ ---      ┆ ---                    ┆ ---         │\n",
       "│ str      ┆ str      ┆ str      ┆ str                    ┆ u32         │\n",
       "╞══════════╪══════════╪══════════╪════════════════════════╪═════════════╡\n",
       "│ EMF      ┆ PFS      ┆ 02       ┆ Activos Externos       ┆ 3           │\n",
       "│ EMF      ┆ PFS      ┆ 02       ┆ Activos Externos Netos ┆ 3           │\n",
       "│ EMF      ┆ PFS      ┆ 02       ┆ Pasivos Externos       ┆ 3           │\n",
       "└──────────┴──────────┴──────────┴────────────────────────┴─────────────┘"
      ]
     },
     "execution_count": 76,
     "metadata": {},
     "output_type": "execute_result"
    }
   ],
   "source": [
    "res_nivel_4(\n",
    "    \"EMF\",\"PFS\",\n",
    "    \"Niv_Gr_3\",\"02\",\n",
    "    \"Niv_Descr_1\")"
   ]
  },
  {
   "cell_type": "code",
   "execution_count": 77,
   "id": "0a1705fc",
   "metadata": {},
   "outputs": [
    {
     "data": {
      "text/html": [
       "<div><style>\n",
       ".dataframe > thead > tr,\n",
       ".dataframe > tbody > tr {\n",
       "  text-align: right;\n",
       "  white-space: pre-wrap;\n",
       "}\n",
       "</style>\n",
       "<small>shape: (3, 5)</small><table border=\"1\" class=\"dataframe\"><thead><tr><th>Niv_Gr_1</th><th>Niv_Gr_2</th><th>Niv_Gr_3</th><th>Niv_Descr_2</th><th>N_Variables</th></tr><tr><td>str</td><td>str</td><td>str</td><td>str</td><td>u32</td></tr></thead><tbody><tr><td>&quot;EMF&quot;</td><td>&quot;PFS&quot;</td><td>&quot;02&quot;</td><td>&quot;Sociedades de …</td><td>3</td></tr><tr><td>&quot;EMF&quot;</td><td>&quot;PFS&quot;</td><td>&quot;02&quot;</td><td>&quot;Banco Central …</td><td>3</td></tr><tr><td>&quot;EMF&quot;</td><td>&quot;PFS&quot;</td><td>&quot;02&quot;</td><td>&quot;Otras Sociedad…</td><td>3</td></tr></tbody></table></div>"
      ],
      "text/plain": [
       "shape: (3, 5)\n",
       "┌──────────┬──────────┬──────────┬──────────────────────────────┬─────────────┐\n",
       "│ Niv_Gr_1 ┆ Niv_Gr_2 ┆ Niv_Gr_3 ┆ Niv_Descr_2                  ┆ N_Variables │\n",
       "│ ---      ┆ ---      ┆ ---      ┆ ---                          ┆ ---         │\n",
       "│ str      ┆ str      ┆ str      ┆ str                          ┆ u32         │\n",
       "╞══════════╪══════════╪══════════╪══════════════════════════════╪═════════════╡\n",
       "│ EMF      ┆ PFS      ┆ 02       ┆ Sociedades de Depósito       ┆ 3           │\n",
       "│ EMF      ┆ PFS      ┆ 02       ┆ Banco Central de Honduras    ┆ 3           │\n",
       "│ EMF      ┆ PFS      ┆ 02       ┆ Otras Sociedades de Depósito ┆ 3           │\n",
       "└──────────┴──────────┴──────────┴──────────────────────────────┴─────────────┘"
      ]
     },
     "execution_count": 77,
     "metadata": {},
     "output_type": "execute_result"
    }
   ],
   "source": [
    "res_nivel_4(\n",
    "    \"EMF\",\"PFS\",\n",
    "    \"Niv_Gr_3\",\"02\",\n",
    "    \"Niv_Descr_2\")"
   ]
  },
  {
   "cell_type": "markdown",
   "id": "e6ed846f",
   "metadata": {},
   "source": [
    "Para ver todas las variables:\n"
   ]
  },
  {
   "cell_type": "code",
   "execution_count": 78,
   "id": "65daf90d",
   "metadata": {},
   "outputs": [
    {
     "data": {
      "text/html": [
       "<div><style>\n",
       ".dataframe > thead > tr,\n",
       ".dataframe > tbody > tr {\n",
       "  text-align: right;\n",
       "  white-space: pre-wrap;\n",
       "}\n",
       "</style>\n",
       "<small>shape: (9, 7)</small><table border=\"1\" class=\"dataframe\"><thead><tr><th>Niv_Gr_1</th><th>Niv_Gr_2</th><th>Niv_Gr_3</th><th>Nombre</th><th>Niv_Descr_1</th><th>Niv_Descr_2</th><th>N_Variables</th></tr><tr><td>str</td><td>str</td><td>str</td><td>str</td><td>str</td><td>str</td><td>u32</td></tr></thead><tbody><tr><td>&quot;EMF&quot;</td><td>&quot;PFS&quot;</td><td>&quot;02&quot;</td><td>&quot;EMF-PFS-02-1&quot;</td><td>&quot;Activos Extern…</td><td>&quot;Banco Central …</td><td>1</td></tr><tr><td>&quot;EMF&quot;</td><td>&quot;PFS&quot;</td><td>&quot;02&quot;</td><td>&quot;EMF-PFS-02-4&quot;</td><td>&quot;Activos Extern…</td><td>&quot;Banco Central …</td><td>1</td></tr><tr><td>&quot;EMF&quot;</td><td>&quot;PFS&quot;</td><td>&quot;02&quot;</td><td>&quot;EMF-PFS-02-7&quot;</td><td>&quot;Pasivos Extern…</td><td>&quot;Banco Central …</td><td>1</td></tr><tr><td>&quot;EMF&quot;</td><td>&quot;PFS&quot;</td><td>&quot;02&quot;</td><td>&quot;EMF-PFS-02-2&quot;</td><td>&quot;Activos Extern…</td><td>&quot;Otras Sociedad…</td><td>1</td></tr><tr><td>&quot;EMF&quot;</td><td>&quot;PFS&quot;</td><td>&quot;02&quot;</td><td>&quot;EMF-PFS-02-8&quot;</td><td>&quot;Pasivos Extern…</td><td>&quot;Otras Sociedad…</td><td>1</td></tr><tr><td>&quot;EMF&quot;</td><td>&quot;PFS&quot;</td><td>&quot;02&quot;</td><td>&quot;EMF-PFS-02-5&quot;</td><td>&quot;Activos Extern…</td><td>&quot;Otras Sociedad…</td><td>1</td></tr><tr><td>&quot;EMF&quot;</td><td>&quot;PFS&quot;</td><td>&quot;02&quot;</td><td>&quot;EMF-PFS-02-6&quot;</td><td>&quot;Activos Extern…</td><td>&quot;Sociedades de …</td><td>1</td></tr><tr><td>&quot;EMF&quot;</td><td>&quot;PFS&quot;</td><td>&quot;02&quot;</td><td>&quot;EMF-PFS-02-9&quot;</td><td>&quot;Pasivos Extern…</td><td>&quot;Sociedades de …</td><td>1</td></tr><tr><td>&quot;EMF&quot;</td><td>&quot;PFS&quot;</td><td>&quot;02&quot;</td><td>&quot;EMF-PFS-02-3&quot;</td><td>&quot;Activos Extern…</td><td>&quot;Sociedades de …</td><td>1</td></tr></tbody></table></div>"
      ],
      "text/plain": [
       "shape: (9, 7)\n",
       "┌──────────┬──────────┬──────────┬──────────────┬──────────────────┬─────────────────┬─────────────┐\n",
       "│ Niv_Gr_1 ┆ Niv_Gr_2 ┆ Niv_Gr_3 ┆ Nombre       ┆ Niv_Descr_1      ┆ Niv_Descr_2     ┆ N_Variables │\n",
       "│ ---      ┆ ---      ┆ ---      ┆ ---          ┆ ---              ┆ ---             ┆ ---         │\n",
       "│ str      ┆ str      ┆ str      ┆ str          ┆ str              ┆ str             ┆ u32         │\n",
       "╞══════════╪══════════╪══════════╪══════════════╪══════════════════╪═════════════════╪═════════════╡\n",
       "│ EMF      ┆ PFS      ┆ 02       ┆ EMF-PFS-02-1 ┆ Activos Externos ┆ Banco Central   ┆ 1           │\n",
       "│          ┆          ┆          ┆              ┆ Netos            ┆ de Honduras     ┆             │\n",
       "│ EMF      ┆ PFS      ┆ 02       ┆ EMF-PFS-02-4 ┆ Activos Externos ┆ Banco Central   ┆ 1           │\n",
       "│          ┆          ┆          ┆              ┆                  ┆ de Honduras     ┆             │\n",
       "│ EMF      ┆ PFS      ┆ 02       ┆ EMF-PFS-02-7 ┆ Pasivos Externos ┆ Banco Central   ┆ 1           │\n",
       "│          ┆          ┆          ┆              ┆                  ┆ de Honduras     ┆             │\n",
       "│ EMF      ┆ PFS      ┆ 02       ┆ EMF-PFS-02-2 ┆ Activos Externos ┆ Otras           ┆ 1           │\n",
       "│          ┆          ┆          ┆              ┆ Netos            ┆ Sociedades de   ┆             │\n",
       "│          ┆          ┆          ┆              ┆                  ┆ Depósito        ┆             │\n",
       "│ EMF      ┆ PFS      ┆ 02       ┆ EMF-PFS-02-8 ┆ Pasivos Externos ┆ Otras           ┆ 1           │\n",
       "│          ┆          ┆          ┆              ┆                  ┆ Sociedades de   ┆             │\n",
       "│          ┆          ┆          ┆              ┆                  ┆ Depósito        ┆             │\n",
       "│ EMF      ┆ PFS      ┆ 02       ┆ EMF-PFS-02-5 ┆ Activos Externos ┆ Otras           ┆ 1           │\n",
       "│          ┆          ┆          ┆              ┆                  ┆ Sociedades de   ┆             │\n",
       "│          ┆          ┆          ┆              ┆                  ┆ Depósito        ┆             │\n",
       "│ EMF      ┆ PFS      ┆ 02       ┆ EMF-PFS-02-6 ┆ Activos Externos ┆ Sociedades de   ┆ 1           │\n",
       "│          ┆          ┆          ┆              ┆                  ┆ Depósito        ┆             │\n",
       "│ EMF      ┆ PFS      ┆ 02       ┆ EMF-PFS-02-9 ┆ Pasivos Externos ┆ Sociedades de   ┆ 1           │\n",
       "│          ┆          ┆          ┆              ┆                  ┆ Depósito        ┆             │\n",
       "│ EMF      ┆ PFS      ┆ 02       ┆ EMF-PFS-02-3 ┆ Activos Externos ┆ Sociedades de   ┆ 1           │\n",
       "│          ┆          ┆          ┆              ┆ Netos            ┆ Depósito        ┆             │\n",
       "└──────────┴──────────┴──────────┴──────────────┴──────────────────┴─────────────────┴─────────────┘"
      ]
     },
     "execution_count": 78,
     "metadata": {},
     "output_type": "execute_result"
    }
   ],
   "source": [
    "res_nivel_6(\n",
    "    \"EMF\",\"PFS\",\n",
    "    \"Niv_Gr_3\",\"02\",\n",
    "    \"Nombre\",\"Niv_Descr_1\",\"Niv_Descr_2\").sort(\"Niv_Descr_2\")"
   ]
  },
  {
   "cell_type": "markdown",
   "id": "fab76b1f",
   "metadata": {},
   "source": [
    "#### EBM = Emisión y Base Monetaria\n"
   ]
  },
  {
   "cell_type": "code",
   "execution_count": 79,
   "id": "48b4b533",
   "metadata": {},
   "outputs": [
    {
     "name": "stdout",
     "output_type": "stream",
     "text": [
      "1 subgrupos\n",
      "6 variables\n"
     ]
    },
    {
     "data": {
      "text/html": [
       "<div><style>\n",
       ".dataframe > thead > tr,\n",
       ".dataframe > tbody > tr {\n",
       "  text-align: right;\n",
       "  white-space: pre-wrap;\n",
       "}\n",
       "</style>\n",
       "<small>shape: (1, 4)</small><table border=\"1\" class=\"dataframe\"><thead><tr><th>Niv_Gr_1</th><th>Niv_Gr_2</th><th>Niv_Gr_3</th><th>N_Variables</th></tr><tr><td>str</td><td>str</td><td>str</td><td>u32</td></tr></thead><tbody><tr><td>&quot;EMF&quot;</td><td>&quot;EBM&quot;</td><td>&quot;01&quot;</td><td>6</td></tr></tbody></table></div>"
      ],
      "text/plain": [
       "shape: (1, 4)\n",
       "┌──────────┬──────────┬──────────┬─────────────┐\n",
       "│ Niv_Gr_1 ┆ Niv_Gr_2 ┆ Niv_Gr_3 ┆ N_Variables │\n",
       "│ ---      ┆ ---      ┆ ---      ┆ ---         │\n",
       "│ str      ┆ str      ┆ str      ┆ u32         │\n",
       "╞══════════╪══════════╪══════════╪═════════════╡\n",
       "│ EMF      ┆ EBM      ┆ 01       ┆ 6           │\n",
       "└──────────┴──────────┴──────────┴─────────────┘"
      ]
     },
     "execution_count": 79,
     "metadata": {},
     "output_type": "execute_result"
    }
   ],
   "source": [
    "res_nivel_3(\"EMF\",\"EBM\",\"Niv_Gr_3\").sort(\"Niv_Gr_3\")"
   ]
  },
  {
   "cell_type": "code",
   "execution_count": 80,
   "id": "9b3aa906",
   "metadata": {},
   "outputs": [
    {
     "data": {
      "text/html": [
       "<div><style>\n",
       ".dataframe > thead > tr,\n",
       ".dataframe > tbody > tr {\n",
       "  text-align: right;\n",
       "  white-space: pre-wrap;\n",
       "}\n",
       "</style>\n",
       "<small>shape: (3, 5)</small><table border=\"1\" class=\"dataframe\"><thead><tr><th>Niv_Gr_1</th><th>Niv_Gr_2</th><th>Niv_Gr_3</th><th>Niv_Descr_4</th><th>N_Variables</th></tr><tr><td>str</td><td>str</td><td>str</td><td>str</td><td>u32</td></tr></thead><tbody><tr><td>&quot;EMF&quot;</td><td>&quot;EBM&quot;</td><td>&quot;01&quot;</td><td>&quot;Base Monetaria…</td><td>2</td></tr><tr><td>&quot;EMF&quot;</td><td>&quot;EBM&quot;</td><td>&quot;01&quot;</td><td>&quot;Emision Moneta…</td><td>2</td></tr><tr><td>&quot;EMF&quot;</td><td>&quot;EBM&quot;</td><td>&quot;01&quot;</td><td>&quot;Base Monetaria…</td><td>2</td></tr></tbody></table></div>"
      ],
      "text/plain": [
       "shape: (3, 5)\n",
       "┌──────────┬──────────┬──────────┬────────────────────────────┬─────────────┐\n",
       "│ Niv_Gr_1 ┆ Niv_Gr_2 ┆ Niv_Gr_3 ┆ Niv_Descr_4                ┆ N_Variables │\n",
       "│ ---      ┆ ---      ┆ ---      ┆ ---                        ┆ ---         │\n",
       "│ str      ┆ str      ┆ str      ┆ str                        ┆ u32         │\n",
       "╞══════════╪══════════╪══════════╪════════════════════════════╪═════════════╡\n",
       "│ EMF      ┆ EBM      ┆ 01       ┆ Base Monetaria Amplia      ┆ 2           │\n",
       "│ EMF      ┆ EBM      ┆ 01       ┆ Emision Monetaria          ┆ 2           │\n",
       "│ EMF      ┆ EBM      ┆ 01       ┆ Base Monetaria Restringida ┆ 2           │\n",
       "└──────────┴──────────┴──────────┴────────────────────────────┴─────────────┘"
      ]
     },
     "execution_count": 80,
     "metadata": {},
     "output_type": "execute_result"
    }
   ],
   "source": [
    "res_nivel_4(\n",
    "    \"EMF\",\"EBM\",\n",
    "    \"Niv_Gr_3\",\"01\",\n",
    "    \"Niv_Descr_4\")"
   ]
  },
  {
   "cell_type": "code",
   "execution_count": 81,
   "id": "56ad4093",
   "metadata": {},
   "outputs": [
    {
     "data": {
      "text/html": [
       "<div><style>\n",
       ".dataframe > thead > tr,\n",
       ".dataframe > tbody > tr {\n",
       "  text-align: right;\n",
       "  white-space: pre-wrap;\n",
       "}\n",
       "</style>\n",
       "<small>shape: (6, 6)</small><table border=\"1\" class=\"dataframe\"><thead><tr><th>Niv_Gr_1</th><th>Niv_Gr_2</th><th>Niv_Gr_3</th><th>Niv_Descr_4</th><th>Niv_Descr_5</th><th>N_Variables</th></tr><tr><td>str</td><td>str</td><td>str</td><td>str</td><td>str</td><td>u32</td></tr></thead><tbody><tr><td>&quot;EMF&quot;</td><td>&quot;EBM&quot;</td><td>&quot;01&quot;</td><td>&quot;Emision Moneta…</td><td>&quot;Variación&quot;</td><td>1</td></tr><tr><td>&quot;EMF&quot;</td><td>&quot;EBM&quot;</td><td>&quot;01&quot;</td><td>&quot;Base Monetaria…</td><td>&quot;Variación&quot;</td><td>1</td></tr><tr><td>&quot;EMF&quot;</td><td>&quot;EBM&quot;</td><td>&quot;01&quot;</td><td>&quot;Base Monetaria…</td><td>&quot;Saldo&quot;</td><td>1</td></tr><tr><td>&quot;EMF&quot;</td><td>&quot;EBM&quot;</td><td>&quot;01&quot;</td><td>&quot;Base Monetaria…</td><td>&quot;Saldo&quot;</td><td>1</td></tr><tr><td>&quot;EMF&quot;</td><td>&quot;EBM&quot;</td><td>&quot;01&quot;</td><td>&quot;Base Monetaria…</td><td>&quot;Variación&quot;</td><td>1</td></tr><tr><td>&quot;EMF&quot;</td><td>&quot;EBM&quot;</td><td>&quot;01&quot;</td><td>&quot;Emision Moneta…</td><td>&quot;Saldo&quot;</td><td>1</td></tr></tbody></table></div>"
      ],
      "text/plain": [
       "shape: (6, 6)\n",
       "┌──────────┬──────────┬──────────┬────────────────────────────┬─────────────┬─────────────┐\n",
       "│ Niv_Gr_1 ┆ Niv_Gr_2 ┆ Niv_Gr_3 ┆ Niv_Descr_4                ┆ Niv_Descr_5 ┆ N_Variables │\n",
       "│ ---      ┆ ---      ┆ ---      ┆ ---                        ┆ ---         ┆ ---         │\n",
       "│ str      ┆ str      ┆ str      ┆ str                        ┆ str         ┆ u32         │\n",
       "╞══════════╪══════════╪══════════╪════════════════════════════╪═════════════╪═════════════╡\n",
       "│ EMF      ┆ EBM      ┆ 01       ┆ Emision Monetaria          ┆ Variación   ┆ 1           │\n",
       "│ EMF      ┆ EBM      ┆ 01       ┆ Base Monetaria Restringida ┆ Variación   ┆ 1           │\n",
       "│ EMF      ┆ EBM      ┆ 01       ┆ Base Monetaria Amplia      ┆ Saldo       ┆ 1           │\n",
       "│ EMF      ┆ EBM      ┆ 01       ┆ Base Monetaria Restringida ┆ Saldo       ┆ 1           │\n",
       "│ EMF      ┆ EBM      ┆ 01       ┆ Base Monetaria Amplia      ┆ Variación   ┆ 1           │\n",
       "│ EMF      ┆ EBM      ┆ 01       ┆ Emision Monetaria          ┆ Saldo       ┆ 1           │\n",
       "└──────────┴──────────┴──────────┴────────────────────────────┴─────────────┴─────────────┘"
      ]
     },
     "execution_count": 81,
     "metadata": {},
     "output_type": "execute_result"
    }
   ],
   "source": [
    "res_nivel_5(\n",
    "    \"EMF\",\"EBM\",\n",
    "    \"Niv_Gr_3\",\"01\",\n",
    "    \"Niv_Descr_4\",\"Niv_Descr_5\")"
   ]
  },
  {
   "cell_type": "markdown",
   "id": "815458f4",
   "metadata": {},
   "source": [
    "Para ver todas las variables:\n"
   ]
  },
  {
   "cell_type": "code",
   "execution_count": 82,
   "id": "a0e5a681",
   "metadata": {},
   "outputs": [
    {
     "data": {
      "text/html": [
       "<div><style>\n",
       ".dataframe > thead > tr,\n",
       ".dataframe > tbody > tr {\n",
       "  text-align: right;\n",
       "  white-space: pre-wrap;\n",
       "}\n",
       "</style>\n",
       "<small>shape: (6, 7)</small><table border=\"1\" class=\"dataframe\"><thead><tr><th>Niv_Gr_1</th><th>Niv_Gr_2</th><th>Niv_Gr_3</th><th>Nombre</th><th>Niv_Descr_4</th><th>Niv_Descr_5</th><th>N_Variables</th></tr><tr><td>str</td><td>str</td><td>str</td><td>str</td><td>str</td><td>str</td><td>u32</td></tr></thead><tbody><tr><td>&quot;EMF&quot;</td><td>&quot;EBM&quot;</td><td>&quot;01&quot;</td><td>&quot;EMF-EBM-01-1&quot;</td><td>&quot;Emision Moneta…</td><td>&quot;Saldo&quot;</td><td>1</td></tr><tr><td>&quot;EMF&quot;</td><td>&quot;EBM&quot;</td><td>&quot;01&quot;</td><td>&quot;EMF-EBM-01-2&quot;</td><td>&quot;Base Monetaria…</td><td>&quot;Saldo&quot;</td><td>1</td></tr><tr><td>&quot;EMF&quot;</td><td>&quot;EBM&quot;</td><td>&quot;01&quot;</td><td>&quot;EMF-EBM-01-3&quot;</td><td>&quot;Base Monetaria…</td><td>&quot;Saldo&quot;</td><td>1</td></tr><tr><td>&quot;EMF&quot;</td><td>&quot;EBM&quot;</td><td>&quot;01&quot;</td><td>&quot;EMF-EBM-01-4&quot;</td><td>&quot;Emision Moneta…</td><td>&quot;Variación&quot;</td><td>1</td></tr><tr><td>&quot;EMF&quot;</td><td>&quot;EBM&quot;</td><td>&quot;01&quot;</td><td>&quot;EMF-EBM-01-5&quot;</td><td>&quot;Base Monetaria…</td><td>&quot;Variación&quot;</td><td>1</td></tr><tr><td>&quot;EMF&quot;</td><td>&quot;EBM&quot;</td><td>&quot;01&quot;</td><td>&quot;EMF-EBM-01-6&quot;</td><td>&quot;Base Monetaria…</td><td>&quot;Variación&quot;</td><td>1</td></tr></tbody></table></div>"
      ],
      "text/plain": [
       "shape: (6, 7)\n",
       "┌──────────┬──────────┬──────────┬──────────────┬───────────────────┬─────────────┬─────────────┐\n",
       "│ Niv_Gr_1 ┆ Niv_Gr_2 ┆ Niv_Gr_3 ┆ Nombre       ┆ Niv_Descr_4       ┆ Niv_Descr_5 ┆ N_Variables │\n",
       "│ ---      ┆ ---      ┆ ---      ┆ ---          ┆ ---               ┆ ---         ┆ ---         │\n",
       "│ str      ┆ str      ┆ str      ┆ str          ┆ str               ┆ str         ┆ u32         │\n",
       "╞══════════╪══════════╪══════════╪══════════════╪═══════════════════╪═════════════╪═════════════╡\n",
       "│ EMF      ┆ EBM      ┆ 01       ┆ EMF-EBM-01-1 ┆ Emision Monetaria ┆ Saldo       ┆ 1           │\n",
       "│ EMF      ┆ EBM      ┆ 01       ┆ EMF-EBM-01-2 ┆ Base Monetaria    ┆ Saldo       ┆ 1           │\n",
       "│          ┆          ┆          ┆              ┆ Restringida       ┆             ┆             │\n",
       "│ EMF      ┆ EBM      ┆ 01       ┆ EMF-EBM-01-3 ┆ Base Monetaria    ┆ Saldo       ┆ 1           │\n",
       "│          ┆          ┆          ┆              ┆ Amplia            ┆             ┆             │\n",
       "│ EMF      ┆ EBM      ┆ 01       ┆ EMF-EBM-01-4 ┆ Emision Monetaria ┆ Variación   ┆ 1           │\n",
       "│ EMF      ┆ EBM      ┆ 01       ┆ EMF-EBM-01-5 ┆ Base Monetaria    ┆ Variación   ┆ 1           │\n",
       "│          ┆          ┆          ┆              ┆ Restringida       ┆             ┆             │\n",
       "│ EMF      ┆ EBM      ┆ 01       ┆ EMF-EBM-01-6 ┆ Base Monetaria    ┆ Variación   ┆ 1           │\n",
       "│          ┆          ┆          ┆              ┆ Amplia            ┆             ┆             │\n",
       "└──────────┴──────────┴──────────┴──────────────┴───────────────────┴─────────────┴─────────────┘"
      ]
     },
     "execution_count": 82,
     "metadata": {},
     "output_type": "execute_result"
    }
   ],
   "source": [
    "res_nivel_6(\n",
    "    \"EMF\",\"EBM\",\n",
    "    \"Niv_Gr_3\",\"01\",\n",
    "    \"Nombre\",\"Niv_Descr_4\",\"Niv_Descr_5\").sort(\"Nombre\")"
   ]
  },
  {
   "cell_type": "markdown",
   "id": "056ca0b1",
   "metadata": {},
   "source": [
    "### ESP = Estadísticas de Sistema de Pagos\n"
   ]
  },
  {
   "cell_type": "code",
   "execution_count": 83,
   "id": "7245b51c",
   "metadata": {},
   "outputs": [
    {
     "name": "stdout",
     "output_type": "stream",
     "text": [
      "8 variables\n",
      "2 grupos\n",
      "2 subgrupos\n"
     ]
    },
    {
     "data": {
      "text/html": [
       "<div><style>\n",
       ".dataframe > thead > tr,\n",
       ".dataframe > tbody > tr {\n",
       "  text-align: right;\n",
       "  white-space: pre-wrap;\n",
       "}\n",
       "</style>\n",
       "<small>shape: (2, 4)</small><table border=\"1\" class=\"dataframe\"><thead><tr><th>Niv_Gr_1</th><th>Niv_Gr_2</th><th>N_Variables</th><th>N_Niv_Gr_2</th></tr><tr><td>str</td><td>str</td><td>u32</td><td>u32</td></tr></thead><tbody><tr><td>&quot;ESP&quot;</td><td>&quot;ACH&quot;</td><td>4</td><td>1</td></tr><tr><td>&quot;ESP&quot;</td><td>&quot;CCECH&quot;</td><td>4</td><td>1</td></tr></tbody></table></div>"
      ],
      "text/plain": [
       "shape: (2, 4)\n",
       "┌──────────┬──────────┬─────────────┬────────────┐\n",
       "│ Niv_Gr_1 ┆ Niv_Gr_2 ┆ N_Variables ┆ N_Niv_Gr_2 │\n",
       "│ ---      ┆ ---      ┆ ---         ┆ ---        │\n",
       "│ str      ┆ str      ┆ u32         ┆ u32        │\n",
       "╞══════════╪══════════╪═════════════╪════════════╡\n",
       "│ ESP      ┆ ACH      ┆ 4           ┆ 1          │\n",
       "│ ESP      ┆ CCECH    ┆ 4           ┆ 1          │\n",
       "└──────────┴──────────┴─────────────┴────────────┘"
      ]
     },
     "execution_count": 83,
     "metadata": {},
     "output_type": "execute_result"
    }
   ],
   "source": [
    "res_nivel_2(\"ESP\")"
   ]
  },
  {
   "cell_type": "markdown",
   "id": "04838f3e",
   "metadata": {},
   "source": [
    "#### ACH = Operaciones de Crédito Compensadas en Ceproban y Liquidadas en BCH\n"
   ]
  },
  {
   "cell_type": "code",
   "execution_count": 84,
   "id": "2e5213db",
   "metadata": {},
   "outputs": [
    {
     "name": "stdout",
     "output_type": "stream",
     "text": [
      "1 subgrupos\n",
      "4 variables\n"
     ]
    },
    {
     "data": {
      "text/html": [
       "<div><style>\n",
       ".dataframe > thead > tr,\n",
       ".dataframe > tbody > tr {\n",
       "  text-align: right;\n",
       "  white-space: pre-wrap;\n",
       "}\n",
       "</style>\n",
       "<small>shape: (1, 4)</small><table border=\"1\" class=\"dataframe\"><thead><tr><th>Niv_Gr_1</th><th>Niv_Gr_2</th><th>Niv_Gr_3</th><th>N_Variables</th></tr><tr><td>str</td><td>str</td><td>str</td><td>u32</td></tr></thead><tbody><tr><td>&quot;ESP&quot;</td><td>&quot;ACH&quot;</td><td>&quot;01&quot;</td><td>4</td></tr></tbody></table></div>"
      ],
      "text/plain": [
       "shape: (1, 4)\n",
       "┌──────────┬──────────┬──────────┬─────────────┐\n",
       "│ Niv_Gr_1 ┆ Niv_Gr_2 ┆ Niv_Gr_3 ┆ N_Variables │\n",
       "│ ---      ┆ ---      ┆ ---      ┆ ---         │\n",
       "│ str      ┆ str      ┆ str      ┆ u32         │\n",
       "╞══════════╪══════════╪══════════╪═════════════╡\n",
       "│ ESP      ┆ ACH      ┆ 01       ┆ 4           │\n",
       "└──────────┴──────────┴──────────┴─────────────┘"
      ]
     },
     "execution_count": 84,
     "metadata": {},
     "output_type": "execute_result"
    }
   ],
   "source": [
    "res_nivel_3(\"ESP\",\"ACH\",\"Niv_Gr_3\").sort(\"Niv_Gr_3\")"
   ]
  },
  {
   "cell_type": "code",
   "execution_count": 85,
   "id": "7bfaab27",
   "metadata": {},
   "outputs": [
    {
     "data": {
      "text/html": [
       "<div><style>\n",
       ".dataframe > thead > tr,\n",
       ".dataframe > tbody > tr {\n",
       "  text-align: right;\n",
       "  white-space: pre-wrap;\n",
       "}\n",
       "</style>\n",
       "<small>shape: (2, 5)</small><table border=\"1\" class=\"dataframe\"><thead><tr><th>Niv_Gr_1</th><th>Niv_Gr_2</th><th>Niv_Gr_3</th><th>Niv_Descr_5</th><th>N_Variables</th></tr><tr><td>str</td><td>str</td><td>str</td><td>str</td><td>u32</td></tr></thead><tbody><tr><td>&quot;ESP&quot;</td><td>&quot;ACH&quot;</td><td>&quot;01&quot;</td><td>&quot;Monto&quot;</td><td>2</td></tr><tr><td>&quot;ESP&quot;</td><td>&quot;ACH&quot;</td><td>&quot;01&quot;</td><td>&quot;Cantidad&quot;</td><td>2</td></tr></tbody></table></div>"
      ],
      "text/plain": [
       "shape: (2, 5)\n",
       "┌──────────┬──────────┬──────────┬─────────────┬─────────────┐\n",
       "│ Niv_Gr_1 ┆ Niv_Gr_2 ┆ Niv_Gr_3 ┆ Niv_Descr_5 ┆ N_Variables │\n",
       "│ ---      ┆ ---      ┆ ---      ┆ ---         ┆ ---         │\n",
       "│ str      ┆ str      ┆ str      ┆ str         ┆ u32         │\n",
       "╞══════════╪══════════╪══════════╪═════════════╪═════════════╡\n",
       "│ ESP      ┆ ACH      ┆ 01       ┆ Monto       ┆ 2           │\n",
       "│ ESP      ┆ ACH      ┆ 01       ┆ Cantidad    ┆ 2           │\n",
       "└──────────┴──────────┴──────────┴─────────────┴─────────────┘"
      ]
     },
     "execution_count": 85,
     "metadata": {},
     "output_type": "execute_result"
    }
   ],
   "source": [
    "res_nivel_4(\n",
    "    \"ESP\",\"ACH\",\n",
    "    \"Niv_Gr_3\",\"01\",\n",
    "    \"Niv_Descr_5\")"
   ]
  },
  {
   "cell_type": "code",
   "execution_count": 86,
   "id": "03b1ad2b",
   "metadata": {},
   "outputs": [
    {
     "data": {
      "text/html": [
       "<div><style>\n",
       ".dataframe > thead > tr,\n",
       ".dataframe > tbody > tr {\n",
       "  text-align: right;\n",
       "  white-space: pre-wrap;\n",
       "}\n",
       "</style>\n",
       "<small>shape: (2, 5)</small><table border=\"1\" class=\"dataframe\"><thead><tr><th>Niv_Gr_1</th><th>Niv_Gr_2</th><th>Niv_Gr_3</th><th>Niv_Descr_6</th><th>N_Variables</th></tr><tr><td>str</td><td>str</td><td>str</td><td>str</td><td>u32</td></tr></thead><tbody><tr><td>&quot;ESP&quot;</td><td>&quot;ACH&quot;</td><td>&quot;01&quot;</td><td>&quot;Lempiras&quot;</td><td>2</td></tr><tr><td>&quot;ESP&quot;</td><td>&quot;ACH&quot;</td><td>&quot;01&quot;</td><td>&quot;Dólares&quot;</td><td>2</td></tr></tbody></table></div>"
      ],
      "text/plain": [
       "shape: (2, 5)\n",
       "┌──────────┬──────────┬──────────┬─────────────┬─────────────┐\n",
       "│ Niv_Gr_1 ┆ Niv_Gr_2 ┆ Niv_Gr_3 ┆ Niv_Descr_6 ┆ N_Variables │\n",
       "│ ---      ┆ ---      ┆ ---      ┆ ---         ┆ ---         │\n",
       "│ str      ┆ str      ┆ str      ┆ str         ┆ u32         │\n",
       "╞══════════╪══════════╪══════════╪═════════════╪═════════════╡\n",
       "│ ESP      ┆ ACH      ┆ 01       ┆ Lempiras    ┆ 2           │\n",
       "│ ESP      ┆ ACH      ┆ 01       ┆ Dólares     ┆ 2           │\n",
       "└──────────┴──────────┴──────────┴─────────────┴─────────────┘"
      ]
     },
     "execution_count": 86,
     "metadata": {},
     "output_type": "execute_result"
    }
   ],
   "source": [
    "res_nivel_4(\n",
    "    \"ESP\",\"ACH\",\n",
    "    \"Niv_Gr_3\",\"01\",\n",
    "    \"Niv_Descr_6\")"
   ]
  },
  {
   "cell_type": "markdown",
   "id": "73b54f58",
   "metadata": {},
   "source": [
    "Para ver todas las variables:\n"
   ]
  },
  {
   "cell_type": "code",
   "execution_count": 87,
   "id": "788733ff",
   "metadata": {},
   "outputs": [
    {
     "data": {
      "text/html": [
       "<div><style>\n",
       ".dataframe > thead > tr,\n",
       ".dataframe > tbody > tr {\n",
       "  text-align: right;\n",
       "  white-space: pre-wrap;\n",
       "}\n",
       "</style>\n",
       "<small>shape: (4, 7)</small><table border=\"1\" class=\"dataframe\"><thead><tr><th>Niv_Gr_1</th><th>Niv_Gr_2</th><th>Niv_Gr_3</th><th>Nombre</th><th>Niv_Descr_5</th><th>Niv_Descr_6</th><th>N_Variables</th></tr><tr><td>str</td><td>str</td><td>str</td><td>str</td><td>str</td><td>str</td><td>u32</td></tr></thead><tbody><tr><td>&quot;ESP&quot;</td><td>&quot;ACH&quot;</td><td>&quot;01&quot;</td><td>&quot;ESP-ACH-01-1&quot;</td><td>&quot;Cantidad&quot;</td><td>&quot;Dólares&quot;</td><td>1</td></tr><tr><td>&quot;ESP&quot;</td><td>&quot;ACH&quot;</td><td>&quot;01&quot;</td><td>&quot;ESP-ACH-01-2&quot;</td><td>&quot;Cantidad&quot;</td><td>&quot;Lempiras&quot;</td><td>1</td></tr><tr><td>&quot;ESP&quot;</td><td>&quot;ACH&quot;</td><td>&quot;01&quot;</td><td>&quot;ESP-ACH-01-3&quot;</td><td>&quot;Monto&quot;</td><td>&quot;Dólares&quot;</td><td>1</td></tr><tr><td>&quot;ESP&quot;</td><td>&quot;ACH&quot;</td><td>&quot;01&quot;</td><td>&quot;ESP-ACH-01-4&quot;</td><td>&quot;Monto&quot;</td><td>&quot;Lempiras&quot;</td><td>1</td></tr></tbody></table></div>"
      ],
      "text/plain": [
       "shape: (4, 7)\n",
       "┌──────────┬──────────┬──────────┬──────────────┬─────────────┬─────────────┬─────────────┐\n",
       "│ Niv_Gr_1 ┆ Niv_Gr_2 ┆ Niv_Gr_3 ┆ Nombre       ┆ Niv_Descr_5 ┆ Niv_Descr_6 ┆ N_Variables │\n",
       "│ ---      ┆ ---      ┆ ---      ┆ ---          ┆ ---         ┆ ---         ┆ ---         │\n",
       "│ str      ┆ str      ┆ str      ┆ str          ┆ str         ┆ str         ┆ u32         │\n",
       "╞══════════╪══════════╪══════════╪══════════════╪═════════════╪═════════════╪═════════════╡\n",
       "│ ESP      ┆ ACH      ┆ 01       ┆ ESP-ACH-01-1 ┆ Cantidad    ┆ Dólares     ┆ 1           │\n",
       "│ ESP      ┆ ACH      ┆ 01       ┆ ESP-ACH-01-2 ┆ Cantidad    ┆ Lempiras    ┆ 1           │\n",
       "│ ESP      ┆ ACH      ┆ 01       ┆ ESP-ACH-01-3 ┆ Monto       ┆ Dólares     ┆ 1           │\n",
       "│ ESP      ┆ ACH      ┆ 01       ┆ ESP-ACH-01-4 ┆ Monto       ┆ Lempiras    ┆ 1           │\n",
       "└──────────┴──────────┴──────────┴──────────────┴─────────────┴─────────────┴─────────────┘"
      ]
     },
     "execution_count": 87,
     "metadata": {},
     "output_type": "execute_result"
    }
   ],
   "source": [
    "res_nivel_6(\n",
    "    \"ESP\",\"ACH\",\n",
    "    \"Niv_Gr_3\",\"01\",\n",
    "    \"Nombre\",\"Niv_Descr_5\",\"Niv_Descr_6\").sort(\"Nombre\")"
   ]
  },
  {
   "cell_type": "markdown",
   "id": "43e68b0a",
   "metadata": {},
   "source": [
    "#### CCECH = Cheques Compensados en Ceproban y Liquidados en BCH\n"
   ]
  },
  {
   "cell_type": "code",
   "execution_count": 88,
   "id": "ebc6942d",
   "metadata": {},
   "outputs": [
    {
     "name": "stdout",
     "output_type": "stream",
     "text": [
      "1 subgrupos\n",
      "4 variables\n"
     ]
    },
    {
     "data": {
      "text/html": [
       "<div><style>\n",
       ".dataframe > thead > tr,\n",
       ".dataframe > tbody > tr {\n",
       "  text-align: right;\n",
       "  white-space: pre-wrap;\n",
       "}\n",
       "</style>\n",
       "<small>shape: (1, 4)</small><table border=\"1\" class=\"dataframe\"><thead><tr><th>Niv_Gr_1</th><th>Niv_Gr_2</th><th>Niv_Gr_3</th><th>N_Variables</th></tr><tr><td>str</td><td>str</td><td>str</td><td>u32</td></tr></thead><tbody><tr><td>&quot;ESP&quot;</td><td>&quot;CCECH&quot;</td><td>&quot;01&quot;</td><td>4</td></tr></tbody></table></div>"
      ],
      "text/plain": [
       "shape: (1, 4)\n",
       "┌──────────┬──────────┬──────────┬─────────────┐\n",
       "│ Niv_Gr_1 ┆ Niv_Gr_2 ┆ Niv_Gr_3 ┆ N_Variables │\n",
       "│ ---      ┆ ---      ┆ ---      ┆ ---         │\n",
       "│ str      ┆ str      ┆ str      ┆ u32         │\n",
       "╞══════════╪══════════╪══════════╪═════════════╡\n",
       "│ ESP      ┆ CCECH    ┆ 01       ┆ 4           │\n",
       "└──────────┴──────────┴──────────┴─────────────┘"
      ]
     },
     "execution_count": 88,
     "metadata": {},
     "output_type": "execute_result"
    }
   ],
   "source": [
    "res_nivel_3(\"ESP\",\"CCECH\",\"Niv_Gr_3\").sort(\"Niv_Gr_3\")"
   ]
  },
  {
   "cell_type": "code",
   "execution_count": 89,
   "id": "6f7e0e40",
   "metadata": {},
   "outputs": [
    {
     "data": {
      "text/html": [
       "<div><style>\n",
       ".dataframe > thead > tr,\n",
       ".dataframe > tbody > tr {\n",
       "  text-align: right;\n",
       "  white-space: pre-wrap;\n",
       "}\n",
       "</style>\n",
       "<small>shape: (2, 5)</small><table border=\"1\" class=\"dataframe\"><thead><tr><th>Niv_Gr_1</th><th>Niv_Gr_2</th><th>Niv_Gr_3</th><th>Niv_Descr_5</th><th>N_Variables</th></tr><tr><td>str</td><td>str</td><td>str</td><td>str</td><td>u32</td></tr></thead><tbody><tr><td>&quot;ESP&quot;</td><td>&quot;CCECH&quot;</td><td>&quot;01&quot;</td><td>&quot;Monto&quot;</td><td>2</td></tr><tr><td>&quot;ESP&quot;</td><td>&quot;CCECH&quot;</td><td>&quot;01&quot;</td><td>&quot;Cantidad&quot;</td><td>2</td></tr></tbody></table></div>"
      ],
      "text/plain": [
       "shape: (2, 5)\n",
       "┌──────────┬──────────┬──────────┬─────────────┬─────────────┐\n",
       "│ Niv_Gr_1 ┆ Niv_Gr_2 ┆ Niv_Gr_3 ┆ Niv_Descr_5 ┆ N_Variables │\n",
       "│ ---      ┆ ---      ┆ ---      ┆ ---         ┆ ---         │\n",
       "│ str      ┆ str      ┆ str      ┆ str         ┆ u32         │\n",
       "╞══════════╪══════════╪══════════╪═════════════╪═════════════╡\n",
       "│ ESP      ┆ CCECH    ┆ 01       ┆ Monto       ┆ 2           │\n",
       "│ ESP      ┆ CCECH    ┆ 01       ┆ Cantidad    ┆ 2           │\n",
       "└──────────┴──────────┴──────────┴─────────────┴─────────────┘"
      ]
     },
     "execution_count": 89,
     "metadata": {},
     "output_type": "execute_result"
    }
   ],
   "source": [
    "res_nivel_4(\n",
    "    \"ESP\",\"CCECH\",\n",
    "    \"Niv_Gr_3\",\"01\",\n",
    "    \"Niv_Descr_5\")"
   ]
  },
  {
   "cell_type": "code",
   "execution_count": 90,
   "id": "2b5446c5",
   "metadata": {},
   "outputs": [
    {
     "data": {
      "text/html": [
       "<div><style>\n",
       ".dataframe > thead > tr,\n",
       ".dataframe > tbody > tr {\n",
       "  text-align: right;\n",
       "  white-space: pre-wrap;\n",
       "}\n",
       "</style>\n",
       "<small>shape: (2, 5)</small><table border=\"1\" class=\"dataframe\"><thead><tr><th>Niv_Gr_1</th><th>Niv_Gr_2</th><th>Niv_Gr_3</th><th>Niv_Descr_6</th><th>N_Variables</th></tr><tr><td>str</td><td>str</td><td>str</td><td>str</td><td>u32</td></tr></thead><tbody><tr><td>&quot;ESP&quot;</td><td>&quot;CCECH&quot;</td><td>&quot;01&quot;</td><td>&quot;Lempiras&quot;</td><td>2</td></tr><tr><td>&quot;ESP&quot;</td><td>&quot;CCECH&quot;</td><td>&quot;01&quot;</td><td>&quot;Dólares&quot;</td><td>2</td></tr></tbody></table></div>"
      ],
      "text/plain": [
       "shape: (2, 5)\n",
       "┌──────────┬──────────┬──────────┬─────────────┬─────────────┐\n",
       "│ Niv_Gr_1 ┆ Niv_Gr_2 ┆ Niv_Gr_3 ┆ Niv_Descr_6 ┆ N_Variables │\n",
       "│ ---      ┆ ---      ┆ ---      ┆ ---         ┆ ---         │\n",
       "│ str      ┆ str      ┆ str      ┆ str         ┆ u32         │\n",
       "╞══════════╪══════════╪══════════╪═════════════╪═════════════╡\n",
       "│ ESP      ┆ CCECH    ┆ 01       ┆ Lempiras    ┆ 2           │\n",
       "│ ESP      ┆ CCECH    ┆ 01       ┆ Dólares     ┆ 2           │\n",
       "└──────────┴──────────┴──────────┴─────────────┴─────────────┘"
      ]
     },
     "execution_count": 90,
     "metadata": {},
     "output_type": "execute_result"
    }
   ],
   "source": [
    "res_nivel_4(\n",
    "    \"ESP\",\"CCECH\",\n",
    "    \"Niv_Gr_3\",\"01\",\n",
    "    \"Niv_Descr_6\")"
   ]
  },
  {
   "cell_type": "markdown",
   "id": "fd070be3",
   "metadata": {},
   "source": [
    "Para ver todas las variables:\n"
   ]
  },
  {
   "cell_type": "code",
   "execution_count": 91,
   "id": "d2c9bb84",
   "metadata": {},
   "outputs": [
    {
     "data": {
      "text/html": [
       "<div><style>\n",
       ".dataframe > thead > tr,\n",
       ".dataframe > tbody > tr {\n",
       "  text-align: right;\n",
       "  white-space: pre-wrap;\n",
       "}\n",
       "</style>\n",
       "<small>shape: (4, 7)</small><table border=\"1\" class=\"dataframe\"><thead><tr><th>Niv_Gr_1</th><th>Niv_Gr_2</th><th>Niv_Gr_3</th><th>Nombre</th><th>Niv_Descr_5</th><th>Niv_Descr_6</th><th>N_Variables</th></tr><tr><td>str</td><td>str</td><td>str</td><td>str</td><td>str</td><td>str</td><td>u32</td></tr></thead><tbody><tr><td>&quot;ESP&quot;</td><td>&quot;CCECH&quot;</td><td>&quot;01&quot;</td><td>&quot;ESP-CCECH-01-1…</td><td>&quot;Cantidad&quot;</td><td>&quot;Dólares&quot;</td><td>1</td></tr><tr><td>&quot;ESP&quot;</td><td>&quot;CCECH&quot;</td><td>&quot;01&quot;</td><td>&quot;ESP-CCECH-01-2…</td><td>&quot;Cantidad&quot;</td><td>&quot;Lempiras&quot;</td><td>1</td></tr><tr><td>&quot;ESP&quot;</td><td>&quot;CCECH&quot;</td><td>&quot;01&quot;</td><td>&quot;ESP-CCECH-01-3…</td><td>&quot;Monto&quot;</td><td>&quot;Dólares&quot;</td><td>1</td></tr><tr><td>&quot;ESP&quot;</td><td>&quot;CCECH&quot;</td><td>&quot;01&quot;</td><td>&quot;ESP-CCECH-01-4…</td><td>&quot;Monto&quot;</td><td>&quot;Lempiras&quot;</td><td>1</td></tr></tbody></table></div>"
      ],
      "text/plain": [
       "shape: (4, 7)\n",
       "┌──────────┬──────────┬──────────┬────────────────┬─────────────┬─────────────┬─────────────┐\n",
       "│ Niv_Gr_1 ┆ Niv_Gr_2 ┆ Niv_Gr_3 ┆ Nombre         ┆ Niv_Descr_5 ┆ Niv_Descr_6 ┆ N_Variables │\n",
       "│ ---      ┆ ---      ┆ ---      ┆ ---            ┆ ---         ┆ ---         ┆ ---         │\n",
       "│ str      ┆ str      ┆ str      ┆ str            ┆ str         ┆ str         ┆ u32         │\n",
       "╞══════════╪══════════╪══════════╪════════════════╪═════════════╪═════════════╪═════════════╡\n",
       "│ ESP      ┆ CCECH    ┆ 01       ┆ ESP-CCECH-01-1 ┆ Cantidad    ┆ Dólares     ┆ 1           │\n",
       "│ ESP      ┆ CCECH    ┆ 01       ┆ ESP-CCECH-01-2 ┆ Cantidad    ┆ Lempiras    ┆ 1           │\n",
       "│ ESP      ┆ CCECH    ┆ 01       ┆ ESP-CCECH-01-3 ┆ Monto       ┆ Dólares     ┆ 1           │\n",
       "│ ESP      ┆ CCECH    ┆ 01       ┆ ESP-CCECH-01-4 ┆ Monto       ┆ Lempiras    ┆ 1           │\n",
       "└──────────┴──────────┴──────────┴────────────────┴─────────────┴─────────────┴─────────────┘"
      ]
     },
     "execution_count": 91,
     "metadata": {},
     "output_type": "execute_result"
    }
   ],
   "source": [
    "res_nivel_6(\n",
    "    \"ESP\",\"CCECH\",\n",
    "    \"Niv_Gr_3\",\"01\",\n",
    "    \"Nombre\",\"Niv_Descr_5\",\"Niv_Descr_6\").sort(\"Nombre\")"
   ]
  },
  {
   "cell_type": "markdown",
   "id": "adae1357",
   "metadata": {},
   "source": [
    "### EM = Estadísticas Monetarias (TPM y RIN)\n"
   ]
  },
  {
   "cell_type": "code",
   "execution_count": 92,
   "id": "a9b330eb",
   "metadata": {},
   "outputs": [
    {
     "name": "stdout",
     "output_type": "stream",
     "text": [
      "12 variables\n",
      "2 grupos\n",
      "2 subgrupos\n"
     ]
    },
    {
     "data": {
      "text/html": [
       "<div><style>\n",
       ".dataframe > thead > tr,\n",
       ".dataframe > tbody > tr {\n",
       "  text-align: right;\n",
       "  white-space: pre-wrap;\n",
       "}\n",
       "</style>\n",
       "<small>shape: (2, 4)</small><table border=\"1\" class=\"dataframe\"><thead><tr><th>Niv_Gr_1</th><th>Niv_Gr_2</th><th>N_Variables</th><th>N_Niv_Gr_2</th></tr><tr><td>str</td><td>str</td><td>u32</td><td>u32</td></tr></thead><tbody><tr><td>&quot;EM&quot;</td><td>&quot;RIN&quot;</td><td>10</td><td>1</td></tr><tr><td>&quot;EM&quot;</td><td>&quot;TPM&quot;</td><td>2</td><td>1</td></tr></tbody></table></div>"
      ],
      "text/plain": [
       "shape: (2, 4)\n",
       "┌──────────┬──────────┬─────────────┬────────────┐\n",
       "│ Niv_Gr_1 ┆ Niv_Gr_2 ┆ N_Variables ┆ N_Niv_Gr_2 │\n",
       "│ ---      ┆ ---      ┆ ---         ┆ ---        │\n",
       "│ str      ┆ str      ┆ u32         ┆ u32        │\n",
       "╞══════════╪══════════╪═════════════╪════════════╡\n",
       "│ EM       ┆ RIN      ┆ 10          ┆ 1          │\n",
       "│ EM       ┆ TPM      ┆ 2           ┆ 1          │\n",
       "└──────────┴──────────┴─────────────┴────────────┘"
      ]
     },
     "execution_count": 92,
     "metadata": {},
     "output_type": "execute_result"
    }
   ],
   "source": [
    "res_nivel_2(\"EM\")"
   ]
  },
  {
   "cell_type": "markdown",
   "id": "6791b4c2",
   "metadata": {},
   "source": [
    "#### RIN = Reservas Internacionales Netas\n"
   ]
  },
  {
   "cell_type": "code",
   "execution_count": 93,
   "id": "0b908697",
   "metadata": {},
   "outputs": [
    {
     "name": "stdout",
     "output_type": "stream",
     "text": [
      "1 subgrupos\n",
      "10 variables\n"
     ]
    },
    {
     "data": {
      "text/html": [
       "<div><style>\n",
       ".dataframe > thead > tr,\n",
       ".dataframe > tbody > tr {\n",
       "  text-align: right;\n",
       "  white-space: pre-wrap;\n",
       "}\n",
       "</style>\n",
       "<small>shape: (1, 4)</small><table border=\"1\" class=\"dataframe\"><thead><tr><th>Niv_Gr_1</th><th>Niv_Gr_2</th><th>Niv_Gr_3</th><th>N_Variables</th></tr><tr><td>str</td><td>str</td><td>str</td><td>u32</td></tr></thead><tbody><tr><td>&quot;EM&quot;</td><td>&quot;RIN&quot;</td><td>&quot;01&quot;</td><td>10</td></tr></tbody></table></div>"
      ],
      "text/plain": [
       "shape: (1, 4)\n",
       "┌──────────┬──────────┬──────────┬─────────────┐\n",
       "│ Niv_Gr_1 ┆ Niv_Gr_2 ┆ Niv_Gr_3 ┆ N_Variables │\n",
       "│ ---      ┆ ---      ┆ ---      ┆ ---         │\n",
       "│ str      ┆ str      ┆ str      ┆ u32         │\n",
       "╞══════════╪══════════╪══════════╪═════════════╡\n",
       "│ EM       ┆ RIN      ┆ 01       ┆ 10          │\n",
       "└──────────┴──────────┴──────────┴─────────────┘"
      ]
     },
     "execution_count": 93,
     "metadata": {},
     "output_type": "execute_result"
    }
   ],
   "source": [
    "res_nivel_3(\"EM\",\"RIN\",\"Niv_Gr_3\").sort(\"Niv_Gr_3\")"
   ]
  },
  {
   "cell_type": "code",
   "execution_count": 94,
   "id": "96a880fd",
   "metadata": {},
   "outputs": [
    {
     "data": {
      "text/html": [
       "<div><style>\n",
       ".dataframe > thead > tr,\n",
       ".dataframe > tbody > tr {\n",
       "  text-align: right;\n",
       "  white-space: pre-wrap;\n",
       "}\n",
       "</style>\n",
       "<small>shape: (2, 5)</small><table border=\"1\" class=\"dataframe\"><thead><tr><th>Niv_Gr_1</th><th>Niv_Gr_2</th><th>Niv_Gr_3</th><th>Niv_Descr_4</th><th>N_Variables</th></tr><tr><td>str</td><td>str</td><td>str</td><td>str</td><td>u32</td></tr></thead><tbody><tr><td>&quot;EM&quot;</td><td>&quot;RIN&quot;</td><td>&quot;01&quot;</td><td>&quot; Reservas Inte…</td><td>5</td></tr><tr><td>&quot;EM&quot;</td><td>&quot;RIN&quot;</td><td>&quot;01&quot;</td><td>&quot; Activos de Re…</td><td>5</td></tr></tbody></table></div>"
      ],
      "text/plain": [
       "shape: (2, 5)\n",
       "┌──────────┬──────────┬──────────┬──────────────────────────────────┬─────────────┐\n",
       "│ Niv_Gr_1 ┆ Niv_Gr_2 ┆ Niv_Gr_3 ┆ Niv_Descr_4                      ┆ N_Variables │\n",
       "│ ---      ┆ ---      ┆ ---      ┆ ---                              ┆ ---         │\n",
       "│ str      ┆ str      ┆ str      ┆ str                              ┆ u32         │\n",
       "╞══════════╪══════════╪══════════╪══════════════════════════════════╪═════════════╡\n",
       "│ EM       ┆ RIN      ┆ 01       ┆  Reservas Internacionales Netas  ┆ 5           │\n",
       "│ EM       ┆ RIN      ┆ 01       ┆  Activos de Reserva Oficial      ┆ 5           │\n",
       "└──────────┴──────────┴──────────┴──────────────────────────────────┴─────────────┘"
      ]
     },
     "execution_count": 94,
     "metadata": {},
     "output_type": "execute_result"
    }
   ],
   "source": [
    "res_nivel_4(\n",
    "    \"EM\",\"RIN\",\n",
    "    \"Niv_Gr_3\",\"01\",\n",
    "    \"Niv_Descr_4\")"
   ]
  },
  {
   "cell_type": "markdown",
   "id": "ff9cc377",
   "metadata": {},
   "source": [
    "Para ver todas las variables:\n"
   ]
  },
  {
   "cell_type": "code",
   "execution_count": 95,
   "id": "e955106b",
   "metadata": {},
   "outputs": [
    {
     "data": {
      "text/html": [
       "<div><style>\n",
       ".dataframe > thead > tr,\n",
       ".dataframe > tbody > tr {\n",
       "  text-align: right;\n",
       "  white-space: pre-wrap;\n",
       "}\n",
       "</style>\n",
       "<small>shape: (10, 7)</small><table border=\"1\" class=\"dataframe\"><thead><tr><th>Niv_Gr_1</th><th>Niv_Gr_2</th><th>Niv_Gr_3</th><th>Nombre</th><th>Niv_Descr_4</th><th>Niv_Descr_5</th><th>N_Variables</th></tr><tr><td>str</td><td>str</td><td>str</td><td>str</td><td>str</td><td>str</td><td>u32</td></tr></thead><tbody><tr><td>&quot;EM&quot;</td><td>&quot;RIN&quot;</td><td>&quot;01&quot;</td><td>&quot;EM-RIN-01-2&quot;</td><td>&quot; Activos de Re…</td><td>&quot; Variación Int…</td><td>1</td></tr><tr><td>&quot;EM&quot;</td><td>&quot;RIN&quot;</td><td>&quot;01&quot;</td><td>&quot;EM-RIN-01-9&quot;</td><td>&quot; Activos de Re…</td><td>&quot; Variación Abs…</td><td>1</td></tr><tr><td>&quot;EM&quot;</td><td>&quot;RIN&quot;</td><td>&quot;01&quot;</td><td>&quot;EM-RIN-01-10&quot;</td><td>&quot; Activos de Re…</td><td>&quot; Variación Abs…</td><td>1</td></tr><tr><td>&quot;EM&quot;</td><td>&quot;RIN&quot;</td><td>&quot;01&quot;</td><td>&quot;EM-RIN-01-7&quot;</td><td>&quot; Activos de Re…</td><td>&quot; Saldo&quot;</td><td>1</td></tr><tr><td>&quot;EM&quot;</td><td>&quot;RIN&quot;</td><td>&quot;01&quot;</td><td>&quot;EM-RIN-01-8&quot;</td><td>&quot; Activos de Re…</td><td>&quot; Variación Abs…</td><td>1</td></tr><tr><td>&quot;EM&quot;</td><td>&quot;RIN&quot;</td><td>&quot;01&quot;</td><td>&quot;EM-RIN-01-5&quot;</td><td>&quot; Reservas Inte…</td><td>&quot; Variación Abs…</td><td>1</td></tr><tr><td>&quot;EM&quot;</td><td>&quot;RIN&quot;</td><td>&quot;01&quot;</td><td>&quot;EM-RIN-01-6&quot;</td><td>&quot; Reservas Inte…</td><td>&quot; Variación Int…</td><td>1</td></tr><tr><td>&quot;EM&quot;</td><td>&quot;RIN&quot;</td><td>&quot;01&quot;</td><td>&quot;EM-RIN-01-1&quot;</td><td>&quot; Reservas Inte…</td><td>&quot; Saldo&quot;</td><td>1</td></tr><tr><td>&quot;EM&quot;</td><td>&quot;RIN&quot;</td><td>&quot;01&quot;</td><td>&quot;EM-RIN-01-3&quot;</td><td>&quot; Reservas Inte…</td><td>&quot; Variación Abs…</td><td>1</td></tr><tr><td>&quot;EM&quot;</td><td>&quot;RIN&quot;</td><td>&quot;01&quot;</td><td>&quot;EM-RIN-01-4&quot;</td><td>&quot; Reservas Inte…</td><td>&quot; Variación Abs…</td><td>1</td></tr></tbody></table></div>"
      ],
      "text/plain": [
       "shape: (10, 7)\n",
       "┌──────────┬──────────┬──────────┬──────────────┬──────────────────┬─────────────────┬─────────────┐\n",
       "│ Niv_Gr_1 ┆ Niv_Gr_2 ┆ Niv_Gr_3 ┆ Nombre       ┆ Niv_Descr_4      ┆ Niv_Descr_5     ┆ N_Variables │\n",
       "│ ---      ┆ ---      ┆ ---      ┆ ---          ┆ ---              ┆ ---             ┆ ---         │\n",
       "│ str      ┆ str      ┆ str      ┆ str          ┆ str              ┆ str             ┆ u32         │\n",
       "╞══════════╪══════════╪══════════╪══════════════╪══════════════════╪═════════════════╪═════════════╡\n",
       "│ EM       ┆ RIN      ┆ 01       ┆ EM-RIN-01-2  ┆ Activos de       ┆ Variación       ┆ 1           │\n",
       "│          ┆          ┆          ┆              ┆ Reserva Oficial  ┆ Interanual en   ┆             │\n",
       "│          ┆          ┆          ┆              ┆                  ┆ porcent…        ┆             │\n",
       "│ EM       ┆ RIN      ┆ 01       ┆ EM-RIN-01-9  ┆ Activos de       ┆ Variación       ┆ 1           │\n",
       "│          ┆          ┆          ┆              ┆ Reserva Oficial  ┆ Absoluta        ┆             │\n",
       "│          ┆          ┆          ┆              ┆                  ┆ Acumulada       ┆             │\n",
       "│ EM       ┆ RIN      ┆ 01       ┆ EM-RIN-01-10 ┆ Activos de       ┆ Variación       ┆ 1           │\n",
       "│          ┆          ┆          ┆              ┆ Reserva Oficial  ┆ Absoluta        ┆             │\n",
       "│          ┆          ┆          ┆              ┆                  ┆ Interanual      ┆             │\n",
       "│ EM       ┆ RIN      ┆ 01       ┆ EM-RIN-01-7  ┆ Activos de       ┆  Saldo          ┆ 1           │\n",
       "│          ┆          ┆          ┆              ┆ Reserva Oficial  ┆                 ┆             │\n",
       "│ EM       ┆ RIN      ┆ 01       ┆ EM-RIN-01-8  ┆ Activos de       ┆ Variación       ┆ 1           │\n",
       "│          ┆          ┆          ┆              ┆ Reserva Oficial  ┆ Absoluta        ┆             │\n",
       "│          ┆          ┆          ┆              ┆                  ┆ Mensual         ┆             │\n",
       "│ EM       ┆ RIN      ┆ 01       ┆ EM-RIN-01-5  ┆ Reservas         ┆ Variación       ┆ 1           │\n",
       "│          ┆          ┆          ┆              ┆ Internacionales  ┆ Absoluta        ┆             │\n",
       "│          ┆          ┆          ┆              ┆ Netas            ┆ Interanual      ┆             │\n",
       "│ EM       ┆ RIN      ┆ 01       ┆ EM-RIN-01-6  ┆ Reservas         ┆ Variación       ┆ 1           │\n",
       "│          ┆          ┆          ┆              ┆ Internacionales  ┆ Interanual en   ┆             │\n",
       "│          ┆          ┆          ┆              ┆ Netas            ┆ porcent…        ┆             │\n",
       "│ EM       ┆ RIN      ┆ 01       ┆ EM-RIN-01-1  ┆ Reservas         ┆  Saldo          ┆ 1           │\n",
       "│          ┆          ┆          ┆              ┆ Internacionales  ┆                 ┆             │\n",
       "│          ┆          ┆          ┆              ┆ Netas            ┆                 ┆             │\n",
       "│ EM       ┆ RIN      ┆ 01       ┆ EM-RIN-01-3  ┆ Reservas         ┆ Variación       ┆ 1           │\n",
       "│          ┆          ┆          ┆              ┆ Internacionales  ┆ Absoluta        ┆             │\n",
       "│          ┆          ┆          ┆              ┆ Netas            ┆ Mensual         ┆             │\n",
       "│ EM       ┆ RIN      ┆ 01       ┆ EM-RIN-01-4  ┆ Reservas         ┆ Variación       ┆ 1           │\n",
       "│          ┆          ┆          ┆              ┆ Internacionales  ┆ Absoluta        ┆             │\n",
       "│          ┆          ┆          ┆              ┆ Netas            ┆ Acumulada       ┆             │\n",
       "└──────────┴──────────┴──────────┴──────────────┴──────────────────┴─────────────────┴─────────────┘"
      ]
     },
     "execution_count": 95,
     "metadata": {},
     "output_type": "execute_result"
    }
   ],
   "source": [
    "res_nivel_6(\n",
    "    \"EM\",\"RIN\",\n",
    "    \"Niv_Gr_3\",\"01\",\n",
    "    \"Nombre\",\"Niv_Descr_4\",\"Niv_Descr_5\").sort(\"Niv_Descr_4\")"
   ]
  },
  {
   "cell_type": "markdown",
   "id": "eb39dc28",
   "metadata": {},
   "source": [
    "#### TPM = Tasa de Política Monetaria\n"
   ]
  },
  {
   "cell_type": "code",
   "execution_count": 96,
   "id": "0f211a92",
   "metadata": {},
   "outputs": [
    {
     "name": "stdout",
     "output_type": "stream",
     "text": [
      "1 subgrupos\n",
      "2 variables\n"
     ]
    },
    {
     "data": {
      "text/html": [
       "<div><style>\n",
       ".dataframe > thead > tr,\n",
       ".dataframe > tbody > tr {\n",
       "  text-align: right;\n",
       "  white-space: pre-wrap;\n",
       "}\n",
       "</style>\n",
       "<small>shape: (1, 4)</small><table border=\"1\" class=\"dataframe\"><thead><tr><th>Niv_Gr_1</th><th>Niv_Gr_2</th><th>Niv_Gr_3</th><th>N_Variables</th></tr><tr><td>str</td><td>str</td><td>str</td><td>u32</td></tr></thead><tbody><tr><td>&quot;EM&quot;</td><td>&quot;TPM&quot;</td><td>&quot;01&quot;</td><td>2</td></tr></tbody></table></div>"
      ],
      "text/plain": [
       "shape: (1, 4)\n",
       "┌──────────┬──────────┬──────────┬─────────────┐\n",
       "│ Niv_Gr_1 ┆ Niv_Gr_2 ┆ Niv_Gr_3 ┆ N_Variables │\n",
       "│ ---      ┆ ---      ┆ ---      ┆ ---         │\n",
       "│ str      ┆ str      ┆ str      ┆ u32         │\n",
       "╞══════════╪══════════╪══════════╪═════════════╡\n",
       "│ EM       ┆ TPM      ┆ 01       ┆ 2           │\n",
       "└──────────┴──────────┴──────────┴─────────────┘"
      ]
     },
     "execution_count": 96,
     "metadata": {},
     "output_type": "execute_result"
    }
   ],
   "source": [
    "res_nivel_3(\"EM\",\"TPM\",\"Niv_Gr_3\").sort(\"Niv_Gr_3\")"
   ]
  },
  {
   "cell_type": "markdown",
   "id": "8c823037",
   "metadata": {},
   "source": [
    "Para ver todas las variables:\n"
   ]
  },
  {
   "cell_type": "code",
   "execution_count": 97,
   "id": "87689fd1",
   "metadata": {},
   "outputs": [
    {
     "data": {
      "text/html": [
       "<div><style>\n",
       ".dataframe > thead > tr,\n",
       ".dataframe > tbody > tr {\n",
       "  text-align: right;\n",
       "  white-space: pre-wrap;\n",
       "}\n",
       "</style>\n",
       "<small>shape: (2, 7)</small><table border=\"1\" class=\"dataframe\"><thead><tr><th>Niv_Gr_1</th><th>Niv_Gr_2</th><th>Niv_Gr_3</th><th>Nombre</th><th>Niv_Descr_1</th><th>Niv_Descr_2</th><th>N_Variables</th></tr><tr><td>str</td><td>str</td><td>str</td><td>str</td><td>str</td><td>str</td><td>u32</td></tr></thead><tbody><tr><td>&quot;EM&quot;</td><td>&quot;TPM&quot;</td><td>&quot;01&quot;</td><td>&quot;EM-TPM-01-1&quot;</td><td>&quot;Tasa Politica …</td><td>&quot; Diario&quot;</td><td>1</td></tr><tr><td>&quot;EM&quot;</td><td>&quot;TPM&quot;</td><td>&quot;01&quot;</td><td>&quot;EM-TPM-01-2&quot;</td><td>&quot;Tasa Politica …</td><td>&quot; Mensual&quot;</td><td>1</td></tr></tbody></table></div>"
      ],
      "text/plain": [
       "shape: (2, 7)\n",
       "┌──────────┬──────────┬──────────┬─────────────┬───────────────┬─────────────┬─────────────┐\n",
       "│ Niv_Gr_1 ┆ Niv_Gr_2 ┆ Niv_Gr_3 ┆ Nombre      ┆ Niv_Descr_1   ┆ Niv_Descr_2 ┆ N_Variables │\n",
       "│ ---      ┆ ---      ┆ ---      ┆ ---         ┆ ---           ┆ ---         ┆ ---         │\n",
       "│ str      ┆ str      ┆ str      ┆ str         ┆ str           ┆ str         ┆ u32         │\n",
       "╞══════════╪══════════╪══════════╪═════════════╪═══════════════╪═════════════╪═════════════╡\n",
       "│ EM       ┆ TPM      ┆ 01       ┆ EM-TPM-01-1 ┆ Tasa Politica ┆  Diario     ┆ 1           │\n",
       "│          ┆          ┆          ┆             ┆ Monetaria     ┆             ┆             │\n",
       "│ EM       ┆ TPM      ┆ 01       ┆ EM-TPM-01-2 ┆ Tasa Politica ┆  Mensual    ┆ 1           │\n",
       "│          ┆          ┆          ┆             ┆ Monetaria     ┆             ┆             │\n",
       "└──────────┴──────────┴──────────┴─────────────┴───────────────┴─────────────┴─────────────┘"
      ]
     },
     "execution_count": 97,
     "metadata": {},
     "output_type": "execute_result"
    }
   ],
   "source": [
    "res_nivel_6(\n",
    "    \"EM\",\"TPM\",\n",
    "    \"Niv_Gr_3\",\"01\",\n",
    "    \"Nombre\",\"Niv_Descr_1\",\"Niv_Descr_2\").sort(\"Niv_Descr_2\")"
   ]
  },
  {
   "cell_type": "markdown",
   "id": "afb7474f",
   "metadata": {},
   "source": [
    "### EC = Estadísticas Cambiarias\n"
   ]
  },
  {
   "cell_type": "code",
   "execution_count": 98,
   "id": "83334afb",
   "metadata": {},
   "outputs": [
    {
     "name": "stdout",
     "output_type": "stream",
     "text": [
      "3 variables\n",
      "2 grupos\n",
      "2 subgrupos\n"
     ]
    },
    {
     "data": {
      "text/html": [
       "<div><style>\n",
       ".dataframe > thead > tr,\n",
       ".dataframe > tbody > tr {\n",
       "  text-align: right;\n",
       "  white-space: pre-wrap;\n",
       "}\n",
       "</style>\n",
       "<small>shape: (2, 4)</small><table border=\"1\" class=\"dataframe\"><thead><tr><th>Niv_Gr_1</th><th>Niv_Gr_2</th><th>N_Variables</th><th>N_Niv_Gr_2</th></tr><tr><td>str</td><td>str</td><td>u32</td><td>u32</td></tr></thead><tbody><tr><td>&quot;EC&quot;</td><td>&quot;TCN&quot;</td><td>2</td><td>1</td></tr><tr><td>&quot;EC&quot;</td><td>&quot;TCR&quot;</td><td>1</td><td>1</td></tr></tbody></table></div>"
      ],
      "text/plain": [
       "shape: (2, 4)\n",
       "┌──────────┬──────────┬─────────────┬────────────┐\n",
       "│ Niv_Gr_1 ┆ Niv_Gr_2 ┆ N_Variables ┆ N_Niv_Gr_2 │\n",
       "│ ---      ┆ ---      ┆ ---         ┆ ---        │\n",
       "│ str      ┆ str      ┆ u32         ┆ u32        │\n",
       "╞══════════╪══════════╪═════════════╪════════════╡\n",
       "│ EC       ┆ TCN      ┆ 2           ┆ 1          │\n",
       "│ EC       ┆ TCR      ┆ 1           ┆ 1          │\n",
       "└──────────┴──────────┴─────────────┴────────────┘"
      ]
     },
     "execution_count": 98,
     "metadata": {},
     "output_type": "execute_result"
    }
   ],
   "source": [
    "res_nivel_2(\"EC\")"
   ]
  },
  {
   "cell_type": "markdown",
   "id": "95048e44",
   "metadata": {},
   "source": [
    "#### TCR = Tipo de Cambio de Referencia\n"
   ]
  },
  {
   "cell_type": "code",
   "execution_count": 99,
   "id": "25e7d14f",
   "metadata": {},
   "outputs": [
    {
     "name": "stdout",
     "output_type": "stream",
     "text": [
      "1 subgrupos\n",
      "1 variables\n"
     ]
    },
    {
     "data": {
      "text/html": [
       "<div><style>\n",
       ".dataframe > thead > tr,\n",
       ".dataframe > tbody > tr {\n",
       "  text-align: right;\n",
       "  white-space: pre-wrap;\n",
       "}\n",
       "</style>\n",
       "<small>shape: (1, 4)</small><table border=\"1\" class=\"dataframe\"><thead><tr><th>Niv_Gr_1</th><th>Niv_Gr_2</th><th>Niv_Gr_3</th><th>N_Variables</th></tr><tr><td>str</td><td>str</td><td>str</td><td>u32</td></tr></thead><tbody><tr><td>&quot;EC&quot;</td><td>&quot;TCR&quot;</td><td>null</td><td>1</td></tr></tbody></table></div>"
      ],
      "text/plain": [
       "shape: (1, 4)\n",
       "┌──────────┬──────────┬──────────┬─────────────┐\n",
       "│ Niv_Gr_1 ┆ Niv_Gr_2 ┆ Niv_Gr_3 ┆ N_Variables │\n",
       "│ ---      ┆ ---      ┆ ---      ┆ ---         │\n",
       "│ str      ┆ str      ┆ str      ┆ u32         │\n",
       "╞══════════╪══════════╪══════════╪═════════════╡\n",
       "│ EC       ┆ TCR      ┆ null     ┆ 1           │\n",
       "└──────────┴──────────┴──────────┴─────────────┘"
      ]
     },
     "execution_count": 99,
     "metadata": {},
     "output_type": "execute_result"
    }
   ],
   "source": [
    "res_nivel_3(\"EC\",\"TCR\",\"Niv_Gr_3\").sort(\"Niv_Gr_3\")"
   ]
  },
  {
   "cell_type": "markdown",
   "id": "d66a4660",
   "metadata": {},
   "source": [
    "Para ver todas las variables:\n"
   ]
  },
  {
   "cell_type": "code",
   "execution_count": 100,
   "id": "7c10fbf2",
   "metadata": {},
   "outputs": [
    {
     "data": {
      "text/html": [
       "<div><style>\n",
       ".dataframe > thead > tr,\n",
       ".dataframe > tbody > tr {\n",
       "  text-align: right;\n",
       "  white-space: pre-wrap;\n",
       "}\n",
       "</style>\n",
       "<small>shape: (1, 21)</small><table border=\"1\" class=\"dataframe\"><thead><tr><th>Id</th><th>Nombre</th><th>Descripcion</th><th>Periodicidad</th><th>Grupo</th><th>CorrelativoGrupo</th><th>Niv_Descr_1</th><th>Niv_Descr_2</th><th>Niv_Descr_3</th><th>Niv_Descr_4</th><th>Niv_Descr_5</th><th>Niv_Descr_6</th><th>Niv_Descr_7</th><th>Niv_Descr_8</th><th>Niv_Descr</th><th>Niv_Gr_1</th><th>Niv_Gr_2</th><th>Niv_Gr_3</th><th>Niv_Gr_4</th><th>Niv_Gr_5</th><th>Niv_Gr</th></tr><tr><td>i64</td><td>str</td><td>str</td><td>str</td><td>str</td><td>str</td><td>str</td><td>str</td><td>str</td><td>str</td><td>str</td><td>str</td><td>str</td><td>str</td><td>i64</td><td>str</td><td>str</td><td>str</td><td>str</td><td>str</td><td>i64</td></tr></thead><tbody><tr><td>97</td><td>&quot;EC-TCR-01&quot;</td><td>&quot;Estadísticas C…</td><td>&quot;Diario&quot;</td><td>&quot;EC-TCR&quot;</td><td>&quot;01&quot;</td><td>&quot;Estadísticas C…</td><td>&quot; Tipo de Cambi…</td><td>null</td><td>null</td><td>null</td><td>null</td><td>null</td><td>null</td><td>2</td><td>&quot;EC&quot;</td><td>&quot;TCR&quot;</td><td>null</td><td>null</td><td>null</td><td>9</td></tr></tbody></table></div>"
      ],
      "text/plain": [
       "shape: (1, 21)\n",
       "┌─────┬───────────┬───────────────────┬──────────────┬───┬──────────┬──────────┬──────────┬────────┐\n",
       "│ Id  ┆ Nombre    ┆ Descripcion       ┆ Periodicidad ┆ … ┆ Niv_Gr_3 ┆ Niv_Gr_4 ┆ Niv_Gr_5 ┆ Niv_Gr │\n",
       "│ --- ┆ ---       ┆ ---               ┆ ---          ┆   ┆ ---      ┆ ---      ┆ ---      ┆ ---    │\n",
       "│ i64 ┆ str       ┆ str               ┆ str          ┆   ┆ str      ┆ str      ┆ str      ┆ i64    │\n",
       "╞═════╪═══════════╪═══════════════════╪══════════════╪═══╪══════════╪══════════╪══════════╪════════╡\n",
       "│ 97  ┆ EC-TCR-01 ┆ Estadísticas      ┆ Diario       ┆ … ┆ null     ┆ null     ┆ null     ┆ 9      │\n",
       "│     ┆           ┆ Cambiarias - Tipo ┆              ┆   ┆          ┆          ┆          ┆        │\n",
       "│     ┆           ┆ d…                ┆              ┆   ┆          ┆          ┆          ┆        │\n",
       "└─────┴───────────┴───────────────────┴──────────────┴───┴──────────┴──────────┴──────────┴────────┘"
      ]
     },
     "execution_count": 100,
     "metadata": {},
     "output_type": "execute_result"
    }
   ],
   "source": [
    "df_all.filter(pl.col(\"Nombre\") == \"EC-TCR-01\")"
   ]
  },
  {
   "cell_type": "markdown",
   "id": "2e4e1cfe",
   "metadata": {},
   "source": [
    "#### TCN = Tipo de Cambio Nominal\n"
   ]
  },
  {
   "cell_type": "code",
   "execution_count": 101,
   "id": "096396f8",
   "metadata": {},
   "outputs": [
    {
     "name": "stdout",
     "output_type": "stream",
     "text": [
      "1 subgrupos\n",
      "2 variables\n"
     ]
    },
    {
     "data": {
      "text/html": [
       "<div><style>\n",
       ".dataframe > thead > tr,\n",
       ".dataframe > tbody > tr {\n",
       "  text-align: right;\n",
       "  white-space: pre-wrap;\n",
       "}\n",
       "</style>\n",
       "<small>shape: (1, 4)</small><table border=\"1\" class=\"dataframe\"><thead><tr><th>Niv_Gr_1</th><th>Niv_Gr_2</th><th>Niv_Gr_3</th><th>N_Variables</th></tr><tr><td>str</td><td>str</td><td>str</td><td>u32</td></tr></thead><tbody><tr><td>&quot;EC&quot;</td><td>&quot;TCN&quot;</td><td>&quot;01&quot;</td><td>2</td></tr></tbody></table></div>"
      ],
      "text/plain": [
       "shape: (1, 4)\n",
       "┌──────────┬──────────┬──────────┬─────────────┐\n",
       "│ Niv_Gr_1 ┆ Niv_Gr_2 ┆ Niv_Gr_3 ┆ N_Variables │\n",
       "│ ---      ┆ ---      ┆ ---      ┆ ---         │\n",
       "│ str      ┆ str      ┆ str      ┆ u32         │\n",
       "╞══════════╪══════════╪══════════╪═════════════╡\n",
       "│ EC       ┆ TCN      ┆ 01       ┆ 2           │\n",
       "└──────────┴──────────┴──────────┴─────────────┘"
      ]
     },
     "execution_count": 101,
     "metadata": {},
     "output_type": "execute_result"
    }
   ],
   "source": [
    "res_nivel_3(\"EC\",\"TCN\",\"Niv_Gr_3\").sort(\"Niv_Gr_3\")"
   ]
  },
  {
   "cell_type": "markdown",
   "id": "ea553a50",
   "metadata": {},
   "source": [
    "Para ver todas las variables:\n"
   ]
  },
  {
   "cell_type": "code",
   "execution_count": 102,
   "id": "7d58e68b",
   "metadata": {},
   "outputs": [
    {
     "data": {
      "text/html": [
       "<div><style>\n",
       ".dataframe > thead > tr,\n",
       ".dataframe > tbody > tr {\n",
       "  text-align: right;\n",
       "  white-space: pre-wrap;\n",
       "}\n",
       "</style>\n",
       "<small>shape: (2, 7)</small><table border=\"1\" class=\"dataframe\"><thead><tr><th>Niv_Gr_1</th><th>Niv_Gr_2</th><th>Niv_Gr_3</th><th>Nombre</th><th>Niv_Descr_1</th><th>Niv_Descr_2</th><th>N_Variables</th></tr><tr><td>str</td><td>str</td><td>str</td><td>str</td><td>str</td><td>str</td><td>u32</td></tr></thead><tbody><tr><td>&quot;EC&quot;</td><td>&quot;TCN&quot;</td><td>&quot;01&quot;</td><td>&quot;EC-TCN-01-1&quot;</td><td>&quot;Tipo de Cambio…</td><td>&quot; Compra&quot;</td><td>1</td></tr><tr><td>&quot;EC&quot;</td><td>&quot;TCN&quot;</td><td>&quot;01&quot;</td><td>&quot;EC-TCN-01-2&quot;</td><td>&quot;Tipo de Cambio…</td><td>&quot; Venta&quot;</td><td>1</td></tr></tbody></table></div>"
      ],
      "text/plain": [
       "shape: (2, 7)\n",
       "┌──────────┬──────────┬──────────┬─────────────┬────────────────┬─────────────┬─────────────┐\n",
       "│ Niv_Gr_1 ┆ Niv_Gr_2 ┆ Niv_Gr_3 ┆ Nombre      ┆ Niv_Descr_1    ┆ Niv_Descr_2 ┆ N_Variables │\n",
       "│ ---      ┆ ---      ┆ ---      ┆ ---         ┆ ---            ┆ ---         ┆ ---         │\n",
       "│ str      ┆ str      ┆ str      ┆ str         ┆ str            ┆ str         ┆ u32         │\n",
       "╞══════════╪══════════╪══════════╪═════════════╪════════════════╪═════════════╪═════════════╡\n",
       "│ EC       ┆ TCN      ┆ 01       ┆ EC-TCN-01-1 ┆ Tipo de Cambio ┆  Compra     ┆ 1           │\n",
       "│          ┆          ┆          ┆             ┆ Nominal        ┆             ┆             │\n",
       "│ EC       ┆ TCN      ┆ 01       ┆ EC-TCN-01-2 ┆ Tipo de Cambio ┆  Venta      ┆ 1           │\n",
       "│          ┆          ┆          ┆             ┆ Nominal        ┆             ┆             │\n",
       "└──────────┴──────────┴──────────┴─────────────┴────────────────┴─────────────┴─────────────┘"
      ]
     },
     "execution_count": 102,
     "metadata": {},
     "output_type": "execute_result"
    }
   ],
   "source": [
    "res_nivel_6(\n",
    "    \"EC\",\"TCN\",\n",
    "    \"Niv_Gr_3\",\"01\",\n",
    "    \"Nombre\",\"Niv_Descr_1\",\"Niv_Descr_2\").sort(\"Niv_Descr_2\")"
   ]
  },
  {
   "cell_type": "markdown",
   "id": "a720cd5d",
   "metadata": {},
   "source": [
    "### EP = EStadísticas de Precios\n"
   ]
  },
  {
   "cell_type": "code",
   "execution_count": 103,
   "id": "17f6a9e0",
   "metadata": {},
   "outputs": [
    {
     "name": "stdout",
     "output_type": "stream",
     "text": [
      "3 variables\n",
      "1 grupos\n",
      "1 subgrupos\n"
     ]
    },
    {
     "data": {
      "text/html": [
       "<div><style>\n",
       ".dataframe > thead > tr,\n",
       ".dataframe > tbody > tr {\n",
       "  text-align: right;\n",
       "  white-space: pre-wrap;\n",
       "}\n",
       "</style>\n",
       "<small>shape: (1, 4)</small><table border=\"1\" class=\"dataframe\"><thead><tr><th>Niv_Gr_1</th><th>Niv_Gr_2</th><th>N_Variables</th><th>N_Niv_Gr_2</th></tr><tr><td>str</td><td>str</td><td>u32</td><td>u32</td></tr></thead><tbody><tr><td>&quot;EP&quot;</td><td>&quot;IPC&quot;</td><td>3</td><td>1</td></tr></tbody></table></div>"
      ],
      "text/plain": [
       "shape: (1, 4)\n",
       "┌──────────┬──────────┬─────────────┬────────────┐\n",
       "│ Niv_Gr_1 ┆ Niv_Gr_2 ┆ N_Variables ┆ N_Niv_Gr_2 │\n",
       "│ ---      ┆ ---      ┆ ---         ┆ ---        │\n",
       "│ str      ┆ str      ┆ u32         ┆ u32        │\n",
       "╞══════════╪══════════╪═════════════╪════════════╡\n",
       "│ EP       ┆ IPC      ┆ 3           ┆ 1          │\n",
       "└──────────┴──────────┴─────────────┴────────────┘"
      ]
     },
     "execution_count": 103,
     "metadata": {},
     "output_type": "execute_result"
    }
   ],
   "source": [
    "res_nivel_2(\"EP\")"
   ]
  },
  {
   "cell_type": "markdown",
   "id": "6fa88ce8",
   "metadata": {},
   "source": [
    "#### IPC  Índice de Precios al Consumidor\n"
   ]
  },
  {
   "cell_type": "code",
   "execution_count": 104,
   "id": "311921de",
   "metadata": {},
   "outputs": [
    {
     "name": "stdout",
     "output_type": "stream",
     "text": [
      "1 subgrupos\n",
      "3 variables\n"
     ]
    },
    {
     "data": {
      "text/html": [
       "<div><style>\n",
       ".dataframe > thead > tr,\n",
       ".dataframe > tbody > tr {\n",
       "  text-align: right;\n",
       "  white-space: pre-wrap;\n",
       "}\n",
       "</style>\n",
       "<small>shape: (1, 4)</small><table border=\"1\" class=\"dataframe\"><thead><tr><th>Niv_Gr_1</th><th>Niv_Gr_2</th><th>Niv_Gr_3</th><th>N_Variables</th></tr><tr><td>str</td><td>str</td><td>str</td><td>u32</td></tr></thead><tbody><tr><td>&quot;EP&quot;</td><td>&quot;IPC&quot;</td><td>&quot;01&quot;</td><td>3</td></tr></tbody></table></div>"
      ],
      "text/plain": [
       "shape: (1, 4)\n",
       "┌──────────┬──────────┬──────────┬─────────────┐\n",
       "│ Niv_Gr_1 ┆ Niv_Gr_2 ┆ Niv_Gr_3 ┆ N_Variables │\n",
       "│ ---      ┆ ---      ┆ ---      ┆ ---         │\n",
       "│ str      ┆ str      ┆ str      ┆ u32         │\n",
       "╞══════════╪══════════╪══════════╪═════════════╡\n",
       "│ EP       ┆ IPC      ┆ 01       ┆ 3           │\n",
       "└──────────┴──────────┴──────────┴─────────────┘"
      ]
     },
     "execution_count": 104,
     "metadata": {},
     "output_type": "execute_result"
    }
   ],
   "source": [
    "res_nivel_3(\"EP\",\"IPC\",\"Niv_Gr_3\").sort(\"Niv_Gr_3\")"
   ]
  },
  {
   "cell_type": "markdown",
   "id": "46211e98",
   "metadata": {},
   "source": [
    "Para ver todas las variables:\n"
   ]
  },
  {
   "cell_type": "code",
   "execution_count": 105,
   "id": "879be8b1",
   "metadata": {},
   "outputs": [
    {
     "data": {
      "text/html": [
       "<div><style>\n",
       ".dataframe > thead > tr,\n",
       ".dataframe > tbody > tr {\n",
       "  text-align: right;\n",
       "  white-space: pre-wrap;\n",
       "}\n",
       "</style>\n",
       "<small>shape: (3, 7)</small><table border=\"1\" class=\"dataframe\"><thead><tr><th>Niv_Gr_1</th><th>Niv_Gr_2</th><th>Niv_Gr_3</th><th>Nombre</th><th>Niv_Descr_2</th><th>Niv_Descr_4</th><th>N_Variables</th></tr><tr><td>str</td><td>str</td><td>str</td><td>str</td><td>str</td><td>str</td><td>u32</td></tr></thead><tbody><tr><td>&quot;EP&quot;</td><td>&quot;IPC&quot;</td><td>&quot;01&quot;</td><td>&quot;EP-IPC-01-3&quot;</td><td>&quot;IPC&quot;</td><td>&quot; Variación men…</td><td>1</td></tr><tr><td>&quot;EP&quot;</td><td>&quot;IPC&quot;</td><td>&quot;01&quot;</td><td>&quot;EP-IPC-01-1&quot;</td><td>&quot;IPC&quot;</td><td>&quot; Índice&quot;</td><td>1</td></tr><tr><td>&quot;EP&quot;</td><td>&quot;IPC&quot;</td><td>&quot;01&quot;</td><td>&quot;EP-IPC-01-2&quot;</td><td>&quot;IPC&quot;</td><td>&quot; Variación int…</td><td>1</td></tr></tbody></table></div>"
      ],
      "text/plain": [
       "shape: (3, 7)\n",
       "┌──────────┬──────────┬──────────┬─────────────┬─────────────┬───────────────────────┬─────────────┐\n",
       "│ Niv_Gr_1 ┆ Niv_Gr_2 ┆ Niv_Gr_3 ┆ Nombre      ┆ Niv_Descr_2 ┆ Niv_Descr_4           ┆ N_Variables │\n",
       "│ ---      ┆ ---      ┆ ---      ┆ ---         ┆ ---         ┆ ---                   ┆ ---         │\n",
       "│ str      ┆ str      ┆ str      ┆ str         ┆ str         ┆ str                   ┆ u32         │\n",
       "╞══════════╪══════════╪══════════╪═════════════╪═════════════╪═══════════════════════╪═════════════╡\n",
       "│ EP       ┆ IPC      ┆ 01       ┆ EP-IPC-01-3 ┆ IPC         ┆  Variación mensual    ┆ 1           │\n",
       "│ EP       ┆ IPC      ┆ 01       ┆ EP-IPC-01-1 ┆ IPC         ┆  Índice               ┆ 1           │\n",
       "│ EP       ┆ IPC      ┆ 01       ┆ EP-IPC-01-2 ┆ IPC         ┆  Variación interanual ┆ 1           │\n",
       "└──────────┴──────────┴──────────┴─────────────┴─────────────┴───────────────────────┴─────────────┘"
      ]
     },
     "execution_count": 105,
     "metadata": {},
     "output_type": "execute_result"
    }
   ],
   "source": [
    "res_nivel_6(\n",
    "    \"EP\",\"IPC\",\n",
    "    \"Niv_Gr_3\",\"01\",\n",
    "    \"Nombre\",\"Niv_Descr_2\",\"Niv_Descr_4\").sort(\"Niv_Descr_2\")"
   ]
  },
  {
   "cell_type": "markdown",
   "id": "e6f611eb",
   "metadata": {},
   "source": [
    "## Nombre\n",
    "\n",
    "El campo \"Nombre\" es un código que contiene hasta 8 niveles de agrupación (tomando en cuenta una separación por \"-\"), siendo los primeros 7 iguales a las definiciones del campo \"Grupo\".\n"
   ]
  },
  {
   "cell_type": "code",
   "execution_count": 106,
   "id": "757e7bc0",
   "metadata": {},
   "outputs": [
    {
     "data": {
      "text/html": [
       "<div><style>\n",
       ".dataframe > thead > tr,\n",
       ".dataframe > tbody > tr {\n",
       "  text-align: right;\n",
       "  white-space: pre-wrap;\n",
       "}\n",
       "</style>\n",
       "<small>shape: (11_519, 11)</small><table border=\"1\" class=\"dataframe\"><thead><tr><th>Niv_Gr_1</th><th>Niv_Gr_2</th><th>Nombre</th><th>Niv_Descr_1</th><th>Niv_Descr_2</th><th>Niv_Descr_3</th><th>Niv_Descr_4</th><th>Niv_Descr_5</th><th>Niv_Descr_6</th><th>Niv_Descr_7</th><th>Niv_Descr_8</th></tr><tr><td>str</td><td>str</td><td>str</td><td>str</td><td>str</td><td>str</td><td>str</td><td>str</td><td>str</td><td>str</td><td>str</td></tr></thead><tbody><tr><td>&quot;EC&quot;</td><td>&quot;TCR&quot;</td><td>&quot;EC-TCR-01&quot;</td><td>&quot;Estadísticas C…</td><td>&quot; Tipo de Cambi…</td><td>null</td><td>null</td><td>null</td><td>null</td><td>null</td><td>null</td></tr><tr><td>&quot;EC&quot;</td><td>&quot;TCN&quot;</td><td>&quot;EC-TCN-01-1&quot;</td><td>&quot;Tipo de Cambio…</td><td>&quot; Compra&quot;</td><td>null</td><td>null</td><td>null</td><td>null</td><td>null</td><td>null</td></tr><tr><td>&quot;EC&quot;</td><td>&quot;TCN&quot;</td><td>&quot;EC-TCN-01-2&quot;</td><td>&quot;Tipo de Cambio…</td><td>&quot; Venta&quot;</td><td>null</td><td>null</td><td>null</td><td>null</td><td>null</td><td>null</td></tr><tr><td>&quot;EM&quot;</td><td>&quot;RIN&quot;</td><td>&quot;EM-RIN-01-1&quot;</td><td>&quot;EM&quot;</td><td>&quot;RIN&quot;</td><td>&quot;01 &quot;</td><td>&quot; Reservas Inte…</td><td>&quot; Saldo&quot;</td><td>null</td><td>null</td><td>null</td></tr><tr><td>&quot;EM&quot;</td><td>&quot;RIN&quot;</td><td>&quot;EM-RIN-01-3&quot;</td><td>&quot;EM&quot;</td><td>&quot;RIN&quot;</td><td>&quot;01 &quot;</td><td>&quot; Reservas Inte…</td><td>&quot; Variación Abs…</td><td>null</td><td>null</td><td>null</td></tr><tr><td>&hellip;</td><td>&hellip;</td><td>&hellip;</td><td>&hellip;</td><td>&hellip;</td><td>&hellip;</td><td>&hellip;</td><td>&hellip;</td><td>&hellip;</td><td>&hellip;</td><td>&hellip;</td></tr><tr><td>&quot;ESR&quot;</td><td>&quot;ODA&quot;</td><td>&quot;ESR-ODA-01-90&quot;</td><td>&quot;OFERTA GLOBAL&quot;</td><td>&quot;VALOR AGREGADO…</td><td>&quot;INDUSTRIA MANU…</td><td>&quot;VARIACIONES RE…</td><td>null</td><td>null</td><td>null</td><td>null</td></tr><tr><td>&quot;ESR&quot;</td><td>&quot;ODA&quot;</td><td>&quot;ESR-ODA-01-91&quot;</td><td>&quot;OFERTA GLOBAL&quot;</td><td>&quot;VALOR AGREGADO…</td><td>&quot;MENOS: SERVICI…</td><td>&quot;EN MILLONES DE…</td><td>null</td><td>null</td><td>null</td><td>null</td></tr><tr><td>&quot;ESR&quot;</td><td>&quot;ODA&quot;</td><td>&quot;ESR-ODA-01-92&quot;</td><td>&quot;OFERTA GLOBAL&quot;</td><td>&quot;VALOR AGREGADO…</td><td>&quot;MENOS: SERVICI…</td><td>&quot;EN MILLONES DE…</td><td>null</td><td>null</td><td>null</td><td>null</td></tr><tr><td>&quot;ESR&quot;</td><td>&quot;ODA&quot;</td><td>&quot;ESR-ODA-01-93&quot;</td><td>&quot;OFERTA GLOBAL&quot;</td><td>&quot;VALOR AGREGADO…</td><td>&quot;MENOS: SERVICI…</td><td>&quot;VARIACIONES RE…</td><td>null</td><td>null</td><td>null</td><td>null</td></tr><tr><td>&quot;ESR&quot;</td><td>&quot;ODA&quot;</td><td>&quot;ESR-ODA-01-94&quot;</td><td>&quot;OFERTA GLOBAL&quot;</td><td>&quot;VALOR AGREGADO…</td><td>&quot;MENOS: SERVICI…</td><td>&quot;VARIACIONES RE…</td><td>null</td><td>null</td><td>null</td><td>null</td></tr></tbody></table></div>"
      ],
      "text/plain": [
       "shape: (11_519, 11)\n",
       "┌──────────┬──────────┬────────────┬───────────┬───┬───────────┬───────────┬───────────┬───────────┐\n",
       "│ Niv_Gr_1 ┆ Niv_Gr_2 ┆ Nombre     ┆ Niv_Descr ┆ … ┆ Niv_Descr ┆ Niv_Descr ┆ Niv_Descr ┆ Niv_Descr │\n",
       "│ ---      ┆ ---      ┆ ---        ┆ _1        ┆   ┆ _5        ┆ _6        ┆ _7        ┆ _8        │\n",
       "│ str      ┆ str      ┆ str        ┆ ---       ┆   ┆ ---       ┆ ---       ┆ ---       ┆ ---       │\n",
       "│          ┆          ┆            ┆ str       ┆   ┆ str       ┆ str       ┆ str       ┆ str       │\n",
       "╞══════════╪══════════╪════════════╪═══════════╪═══╪═══════════╪═══════════╪═══════════╪═══════════╡\n",
       "│ EC       ┆ TCR      ┆ EC-TCR-01  ┆ Estadísti ┆ … ┆ null      ┆ null      ┆ null      ┆ null      │\n",
       "│          ┆          ┆            ┆ cas Cambi ┆   ┆           ┆           ┆           ┆           │\n",
       "│          ┆          ┆            ┆ arias     ┆   ┆           ┆           ┆           ┆           │\n",
       "│ EC       ┆ TCN      ┆ EC-TCN-01- ┆ Tipo de   ┆ … ┆ null      ┆ null      ┆ null      ┆ null      │\n",
       "│          ┆          ┆ 1          ┆ Cambio    ┆   ┆           ┆           ┆           ┆           │\n",
       "│          ┆          ┆            ┆ Nominal   ┆   ┆           ┆           ┆           ┆           │\n",
       "│ EC       ┆ TCN      ┆ EC-TCN-01- ┆ Tipo de   ┆ … ┆ null      ┆ null      ┆ null      ┆ null      │\n",
       "│          ┆          ┆ 2          ┆ Cambio    ┆   ┆           ┆           ┆           ┆           │\n",
       "│          ┆          ┆            ┆ Nominal   ┆   ┆           ┆           ┆           ┆           │\n",
       "│ EM       ┆ RIN      ┆ EM-RIN-01- ┆ EM        ┆ … ┆  Saldo    ┆ null      ┆ null      ┆ null      │\n",
       "│          ┆          ┆ 1          ┆           ┆   ┆           ┆           ┆           ┆           │\n",
       "│ EM       ┆ RIN      ┆ EM-RIN-01- ┆ EM        ┆ … ┆ Variación ┆ null      ┆ null      ┆ null      │\n",
       "│          ┆          ┆ 3          ┆           ┆   ┆ Absoluta  ┆           ┆           ┆           │\n",
       "│          ┆          ┆            ┆           ┆   ┆ Mensual   ┆           ┆           ┆           │\n",
       "│ …        ┆ …        ┆ …          ┆ …         ┆ … ┆ …         ┆ …         ┆ …         ┆ …         │\n",
       "│ ESR      ┆ ODA      ┆ ESR-ODA-01 ┆ OFERTA    ┆ … ┆ null      ┆ null      ┆ null      ┆ null      │\n",
       "│          ┆          ┆ -90        ┆ GLOBAL    ┆   ┆           ┆           ┆           ┆           │\n",
       "│ ESR      ┆ ODA      ┆ ESR-ODA-01 ┆ OFERTA    ┆ … ┆ null      ┆ null      ┆ null      ┆ null      │\n",
       "│          ┆          ┆ -91        ┆ GLOBAL    ┆   ┆           ┆           ┆           ┆           │\n",
       "│ ESR      ┆ ODA      ┆ ESR-ODA-01 ┆ OFERTA    ┆ … ┆ null      ┆ null      ┆ null      ┆ null      │\n",
       "│          ┆          ┆ -92        ┆ GLOBAL    ┆   ┆           ┆           ┆           ┆           │\n",
       "│ ESR      ┆ ODA      ┆ ESR-ODA-01 ┆ OFERTA    ┆ … ┆ null      ┆ null      ┆ null      ┆ null      │\n",
       "│          ┆          ┆ -93        ┆ GLOBAL    ┆   ┆           ┆           ┆           ┆           │\n",
       "│ ESR      ┆ ODA      ┆ ESR-ODA-01 ┆ OFERTA    ┆ … ┆ null      ┆ null      ┆ null      ┆ null      │\n",
       "│          ┆          ┆ -94        ┆ GLOBAL    ┆   ┆           ┆           ┆           ┆           │\n",
       "└──────────┴──────────┴────────────┴───────────┴───┴───────────┴───────────┴───────────┴───────────┘"
      ]
     },
     "execution_count": 106,
     "metadata": {},
     "output_type": "execute_result"
    }
   ],
   "source": [
    "df_all.select(\n",
    "    \"Niv_Gr_1\",\"Niv_Gr_2\",\"Nombre\",\n",
    "    \"Niv_Descr_1\",\"Niv_Descr_2\",\"Niv_Descr_3\",\"Niv_Descr_4\",\"Niv_Descr_5\",\"Niv_Descr_6\",\"Niv_Descr_7\",\"Niv_Descr_8\").sort(\"Niv_Gr_1\")"
   ]
  },
  {
   "cell_type": "markdown",
   "id": "7f60fd30",
   "metadata": {},
   "source": [
    "## Periodicidad\n"
   ]
  },
  {
   "cell_type": "code",
   "execution_count": 107,
   "id": "tbl-periodicidad",
   "metadata": {},
   "outputs": [
    {
     "name": "stdout",
     "output_type": "stream",
     "text": [
      "11519 variables\n"
     ]
    },
    {
     "data": {
      "text/html": [
       "<div><style>\n",
       ".dataframe > thead > tr,\n",
       ".dataframe > tbody > tr {\n",
       "  text-align: right;\n",
       "  white-space: pre-wrap;\n",
       "}\n",
       "</style>\n",
       "<small>shape: (4, 2)</small><table border=\"1\" class=\"dataframe\"><thead><tr><th>Periodicidad</th><th>N_Variables</th></tr><tr><td>str</td><td>u32</td></tr></thead><tbody><tr><td>&quot;Diario&quot;</td><td>5579</td></tr><tr><td>&quot;Anual&quot;</td><td>4435</td></tr><tr><td>&quot;Trimestral&quot;</td><td>1261</td></tr><tr><td>&quot;Mensual&quot;</td><td>244</td></tr></tbody></table></div>"
      ],
      "text/plain": [
       "shape: (4, 2)\n",
       "┌──────────────┬─────────────┐\n",
       "│ Periodicidad ┆ N_Variables │\n",
       "│ ---          ┆ ---         │\n",
       "│ str          ┆ u32         │\n",
       "╞══════════════╪═════════════╡\n",
       "│ Diario       ┆ 5579        │\n",
       "│ Anual        ┆ 4435        │\n",
       "│ Trimestral   ┆ 1261        │\n",
       "│ Mensual      ┆ 244         │\n",
       "└──────────────┴─────────────┘"
      ]
     },
     "execution_count": 107,
     "metadata": {},
     "output_type": "execute_result"
    }
   ],
   "source": [
    "#| label: tbl-periodicidad\n",
    "#| tbl-cap: Número de Variables por Periodicidad\n",
    "\n",
    "# dfmeta = pl.DataFrame(dfmeta)\n",
    "variable = \"Periodicidad\"\n",
    "res = df_all.group_by(variable\n",
    "    ).agg(\n",
    "    pl.col(\"Periodicidad\").len().alias(\"N_Variables\"),\n",
    "    # pl.col(\"Monto\").sum().alias(\"Millones_USD\")\n",
    "    ).sort(\"N_Variables\",descending=True)\n",
    "pd.DataFrame(res).to_csv(\n",
    "        \"api/periodicidad.csv\",\n",
    "        sep=\";\")\n",
    "print(str(res[\"N_Variables\"].sum()) + \" variables\")\n",
    "res"
   ]
  },
  {
   "cell_type": "markdown",
   "id": "75b46e80",
   "metadata": {},
   "source": [
    "# Graficar una Variable por Id\n"
   ]
  },
  {
   "cell_type": "code",
   "execution_count": 108,
   "id": "18f71dcf",
   "metadata": {},
   "outputs": [
    {
     "name": "stderr",
     "output_type": "stream",
     "text": [
      "C:\\Users\\ec109004\\AppData\\Local\\Temp\\ipykernel_15796\\234590326.py:23: FutureWarning:\n",
      "\n",
      "Passing literal json to 'read_json' is deprecated and will be removed in a future version. To read from a literal string, wrap it in a 'StringIO' object.\n",
      "\n"
     ]
    },
    {
     "data": {
      "text/html": [
       "        <script type=\"text/javascript\">\n",
       "        window.PlotlyConfig = {MathJaxConfig: 'local'};\n",
       "        if (window.MathJax && window.MathJax.Hub && window.MathJax.Hub.Config) {window.MathJax.Hub.Config({SVG: {font: \"STIX-Web\"}});}\n",
       "        if (typeof require !== 'undefined') {\n",
       "        require.undef(\"plotly\");\n",
       "        requirejs.config({\n",
       "            paths: {\n",
       "                'plotly': ['https://cdn.plot.ly/plotly-2.29.1.min']\n",
       "            }\n",
       "        });\n",
       "        require(['plotly'], function(Plotly) {\n",
       "            window._Plotly = Plotly;\n",
       "        });\n",
       "        }\n",
       "        </script>\n",
       "        "
      ]
     },
     "metadata": {},
     "output_type": "display_data"
    },
    {
     "data": {
      "text/html": [
       "<div>                            <div id=\"fe1cf106-95fb-4480-a731-b8487971a13e\" class=\"plotly-graph-div\" style=\"height:500px; width:800px;\"></div>            <script type=\"text/javascript\">                require([\"plotly\"], function(Plotly) {                    window.PLOTLYENV=window.PLOTLYENV || {};                                    if (document.getElementById(\"fe1cf106-95fb-4480-a731-b8487971a13e\")) {                    Plotly.newPlot(                        \"fe1cf106-95fb-4480-a731-b8487971a13e\",                        [{\"hovertemplate\":\"variable=0\\u003cbr\\u003eFecha=%{x}\\u003cbr\\u003evalue=%{y}\\u003cextra\\u003e\\u003c\\u002fextra\\u003e\",\"legendgroup\":\"0\",\"line\":{\"color\":\"#636efa\",\"dash\":\"solid\"},\"marker\":{\"symbol\":\"circle\"},\"mode\":\"lines\",\"name\":\"0\",\"orientation\":\"v\",\"showlegend\":true,\"x\":[\"2023-01-01T00:00:00\",\"2022-01-01T00:00:00\",\"2021-01-01T00:00:00\",\"2020-01-01T00:00:00\",\"2019-01-01T00:00:00\",\"2018-01-01T00:00:00\",\"2017-01-01T00:00:00\",\"2016-01-01T00:00:00\",\"2015-01-01T00:00:00\",\"2014-01-01T00:00:00\",\"2013-01-01T00:00:00\",\"2012-01-01T00:00:00\",\"2011-01-01T00:00:00\",\"2010-01-01T00:00:00\",\"2009-01-01T00:00:00\",\"2008-01-01T00:00:00\",\"2007-01-01T00:00:00\",\"2006-01-01T00:00:00\",\"2005-01-01T00:00:00\",\"2004-01-01T00:00:00\",\"2003-01-01T00:00:00\",\"2002-01-01T00:00:00\",\"2001-01-01T00:00:00\"],\"xaxis\":\"x\",\"y\":[10.7,12.4,13.4,1.8,7.0,4.0,3.9,4.5,10.6,9.0,4.4,7.2,11.7,7.1,2.6,7.6,30.6,29.3,22.5,16.6,13.3,19.4,10.7],\"yaxis\":\"y\",\"type\":\"scatter\"}],                        {\"template\":{\"data\":{\"barpolar\":[{\"marker\":{\"line\":{\"color\":\"white\",\"width\":0.5},\"pattern\":{\"fillmode\":\"overlay\",\"size\":10,\"solidity\":0.2}},\"type\":\"barpolar\"}],\"bar\":[{\"error_x\":{\"color\":\"#2a3f5f\"},\"error_y\":{\"color\":\"#2a3f5f\"},\"marker\":{\"line\":{\"color\":\"white\",\"width\":0.5},\"pattern\":{\"fillmode\":\"overlay\",\"size\":10,\"solidity\":0.2}},\"type\":\"bar\"}],\"carpet\":[{\"aaxis\":{\"endlinecolor\":\"#2a3f5f\",\"gridcolor\":\"#C8D4E3\",\"linecolor\":\"#C8D4E3\",\"minorgridcolor\":\"#C8D4E3\",\"startlinecolor\":\"#2a3f5f\"},\"baxis\":{\"endlinecolor\":\"#2a3f5f\",\"gridcolor\":\"#C8D4E3\",\"linecolor\":\"#C8D4E3\",\"minorgridcolor\":\"#C8D4E3\",\"startlinecolor\":\"#2a3f5f\"},\"type\":\"carpet\"}],\"choropleth\":[{\"colorbar\":{\"outlinewidth\":0,\"ticks\":\"\"},\"type\":\"choropleth\"}],\"contourcarpet\":[{\"colorbar\":{\"outlinewidth\":0,\"ticks\":\"\"},\"type\":\"contourcarpet\"}],\"contour\":[{\"colorbar\":{\"outlinewidth\":0,\"ticks\":\"\"},\"colorscale\":[[0.0,\"#0d0887\"],[0.1111111111111111,\"#46039f\"],[0.2222222222222222,\"#7201a8\"],[0.3333333333333333,\"#9c179e\"],[0.4444444444444444,\"#bd3786\"],[0.5555555555555556,\"#d8576b\"],[0.6666666666666666,\"#ed7953\"],[0.7777777777777778,\"#fb9f3a\"],[0.8888888888888888,\"#fdca26\"],[1.0,\"#f0f921\"]],\"type\":\"contour\"}],\"heatmapgl\":[{\"colorbar\":{\"outlinewidth\":0,\"ticks\":\"\"},\"colorscale\":[[0.0,\"#0d0887\"],[0.1111111111111111,\"#46039f\"],[0.2222222222222222,\"#7201a8\"],[0.3333333333333333,\"#9c179e\"],[0.4444444444444444,\"#bd3786\"],[0.5555555555555556,\"#d8576b\"],[0.6666666666666666,\"#ed7953\"],[0.7777777777777778,\"#fb9f3a\"],[0.8888888888888888,\"#fdca26\"],[1.0,\"#f0f921\"]],\"type\":\"heatmapgl\"}],\"heatmap\":[{\"colorbar\":{\"outlinewidth\":0,\"ticks\":\"\"},\"colorscale\":[[0.0,\"#0d0887\"],[0.1111111111111111,\"#46039f\"],[0.2222222222222222,\"#7201a8\"],[0.3333333333333333,\"#9c179e\"],[0.4444444444444444,\"#bd3786\"],[0.5555555555555556,\"#d8576b\"],[0.6666666666666666,\"#ed7953\"],[0.7777777777777778,\"#fb9f3a\"],[0.8888888888888888,\"#fdca26\"],[1.0,\"#f0f921\"]],\"type\":\"heatmap\"}],\"histogram2dcontour\":[{\"colorbar\":{\"outlinewidth\":0,\"ticks\":\"\"},\"colorscale\":[[0.0,\"#0d0887\"],[0.1111111111111111,\"#46039f\"],[0.2222222222222222,\"#7201a8\"],[0.3333333333333333,\"#9c179e\"],[0.4444444444444444,\"#bd3786\"],[0.5555555555555556,\"#d8576b\"],[0.6666666666666666,\"#ed7953\"],[0.7777777777777778,\"#fb9f3a\"],[0.8888888888888888,\"#fdca26\"],[1.0,\"#f0f921\"]],\"type\":\"histogram2dcontour\"}],\"histogram2d\":[{\"colorbar\":{\"outlinewidth\":0,\"ticks\":\"\"},\"colorscale\":[[0.0,\"#0d0887\"],[0.1111111111111111,\"#46039f\"],[0.2222222222222222,\"#7201a8\"],[0.3333333333333333,\"#9c179e\"],[0.4444444444444444,\"#bd3786\"],[0.5555555555555556,\"#d8576b\"],[0.6666666666666666,\"#ed7953\"],[0.7777777777777778,\"#fb9f3a\"],[0.8888888888888888,\"#fdca26\"],[1.0,\"#f0f921\"]],\"type\":\"histogram2d\"}],\"histogram\":[{\"marker\":{\"pattern\":{\"fillmode\":\"overlay\",\"size\":10,\"solidity\":0.2}},\"type\":\"histogram\"}],\"mesh3d\":[{\"colorbar\":{\"outlinewidth\":0,\"ticks\":\"\"},\"type\":\"mesh3d\"}],\"parcoords\":[{\"line\":{\"colorbar\":{\"outlinewidth\":0,\"ticks\":\"\"}},\"type\":\"parcoords\"}],\"pie\":[{\"automargin\":true,\"type\":\"pie\"}],\"scatter3d\":[{\"line\":{\"colorbar\":{\"outlinewidth\":0,\"ticks\":\"\"}},\"marker\":{\"colorbar\":{\"outlinewidth\":0,\"ticks\":\"\"}},\"type\":\"scatter3d\"}],\"scattercarpet\":[{\"marker\":{\"colorbar\":{\"outlinewidth\":0,\"ticks\":\"\"}},\"type\":\"scattercarpet\"}],\"scattergeo\":[{\"marker\":{\"colorbar\":{\"outlinewidth\":0,\"ticks\":\"\"}},\"type\":\"scattergeo\"}],\"scattergl\":[{\"marker\":{\"colorbar\":{\"outlinewidth\":0,\"ticks\":\"\"}},\"type\":\"scattergl\"}],\"scattermapbox\":[{\"marker\":{\"colorbar\":{\"outlinewidth\":0,\"ticks\":\"\"}},\"type\":\"scattermapbox\"}],\"scatterpolargl\":[{\"marker\":{\"colorbar\":{\"outlinewidth\":0,\"ticks\":\"\"}},\"type\":\"scatterpolargl\"}],\"scatterpolar\":[{\"marker\":{\"colorbar\":{\"outlinewidth\":0,\"ticks\":\"\"}},\"type\":\"scatterpolar\"}],\"scatter\":[{\"fillpattern\":{\"fillmode\":\"overlay\",\"size\":10,\"solidity\":0.2},\"type\":\"scatter\"}],\"scatterternary\":[{\"marker\":{\"colorbar\":{\"outlinewidth\":0,\"ticks\":\"\"}},\"type\":\"scatterternary\"}],\"surface\":[{\"colorbar\":{\"outlinewidth\":0,\"ticks\":\"\"},\"colorscale\":[[0.0,\"#0d0887\"],[0.1111111111111111,\"#46039f\"],[0.2222222222222222,\"#7201a8\"],[0.3333333333333333,\"#9c179e\"],[0.4444444444444444,\"#bd3786\"],[0.5555555555555556,\"#d8576b\"],[0.6666666666666666,\"#ed7953\"],[0.7777777777777778,\"#fb9f3a\"],[0.8888888888888888,\"#fdca26\"],[1.0,\"#f0f921\"]],\"type\":\"surface\"}],\"table\":[{\"cells\":{\"fill\":{\"color\":\"#EBF0F8\"},\"line\":{\"color\":\"white\"}},\"header\":{\"fill\":{\"color\":\"#C8D4E3\"},\"line\":{\"color\":\"white\"}},\"type\":\"table\"}]},\"layout\":{\"annotationdefaults\":{\"arrowcolor\":\"#2a3f5f\",\"arrowhead\":0,\"arrowwidth\":1},\"autotypenumbers\":\"strict\",\"coloraxis\":{\"colorbar\":{\"outlinewidth\":0,\"ticks\":\"\"}},\"colorscale\":{\"diverging\":[[0,\"#8e0152\"],[0.1,\"#c51b7d\"],[0.2,\"#de77ae\"],[0.3,\"#f1b6da\"],[0.4,\"#fde0ef\"],[0.5,\"#f7f7f7\"],[0.6,\"#e6f5d0\"],[0.7,\"#b8e186\"],[0.8,\"#7fbc41\"],[0.9,\"#4d9221\"],[1,\"#276419\"]],\"sequential\":[[0.0,\"#0d0887\"],[0.1111111111111111,\"#46039f\"],[0.2222222222222222,\"#7201a8\"],[0.3333333333333333,\"#9c179e\"],[0.4444444444444444,\"#bd3786\"],[0.5555555555555556,\"#d8576b\"],[0.6666666666666666,\"#ed7953\"],[0.7777777777777778,\"#fb9f3a\"],[0.8888888888888888,\"#fdca26\"],[1.0,\"#f0f921\"]],\"sequentialminus\":[[0.0,\"#0d0887\"],[0.1111111111111111,\"#46039f\"],[0.2222222222222222,\"#7201a8\"],[0.3333333333333333,\"#9c179e\"],[0.4444444444444444,\"#bd3786\"],[0.5555555555555556,\"#d8576b\"],[0.6666666666666666,\"#ed7953\"],[0.7777777777777778,\"#fb9f3a\"],[0.8888888888888888,\"#fdca26\"],[1.0,\"#f0f921\"]]},\"colorway\":[\"#636efa\",\"#EF553B\",\"#00cc96\",\"#ab63fa\",\"#FFA15A\",\"#19d3f3\",\"#FF6692\",\"#B6E880\",\"#FF97FF\",\"#FECB52\"],\"font\":{\"color\":\"#2a3f5f\"},\"geo\":{\"bgcolor\":\"white\",\"lakecolor\":\"white\",\"landcolor\":\"white\",\"showlakes\":true,\"showland\":true,\"subunitcolor\":\"#C8D4E3\"},\"hoverlabel\":{\"align\":\"left\"},\"hovermode\":\"closest\",\"mapbox\":{\"style\":\"light\"},\"paper_bgcolor\":\"white\",\"plot_bgcolor\":\"white\",\"polar\":{\"angularaxis\":{\"gridcolor\":\"#EBF0F8\",\"linecolor\":\"#EBF0F8\",\"ticks\":\"\"},\"bgcolor\":\"white\",\"radialaxis\":{\"gridcolor\":\"#EBF0F8\",\"linecolor\":\"#EBF0F8\",\"ticks\":\"\"}},\"scene\":{\"xaxis\":{\"backgroundcolor\":\"white\",\"gridcolor\":\"#DFE8F3\",\"gridwidth\":2,\"linecolor\":\"#EBF0F8\",\"showbackground\":true,\"ticks\":\"\",\"zerolinecolor\":\"#EBF0F8\"},\"yaxis\":{\"backgroundcolor\":\"white\",\"gridcolor\":\"#DFE8F3\",\"gridwidth\":2,\"linecolor\":\"#EBF0F8\",\"showbackground\":true,\"ticks\":\"\",\"zerolinecolor\":\"#EBF0F8\"},\"zaxis\":{\"backgroundcolor\":\"white\",\"gridcolor\":\"#DFE8F3\",\"gridwidth\":2,\"linecolor\":\"#EBF0F8\",\"showbackground\":true,\"ticks\":\"\",\"zerolinecolor\":\"#EBF0F8\"}},\"shapedefaults\":{\"line\":{\"color\":\"#2a3f5f\"}},\"ternary\":{\"aaxis\":{\"gridcolor\":\"#DFE8F3\",\"linecolor\":\"#A2B1C6\",\"ticks\":\"\"},\"baxis\":{\"gridcolor\":\"#DFE8F3\",\"linecolor\":\"#A2B1C6\",\"ticks\":\"\"},\"bgcolor\":\"white\",\"caxis\":{\"gridcolor\":\"#DFE8F3\",\"linecolor\":\"#A2B1C6\",\"ticks\":\"\"}},\"title\":{\"x\":0.05},\"xaxis\":{\"automargin\":true,\"gridcolor\":\"#EBF0F8\",\"linecolor\":\"#EBF0F8\",\"ticks\":\"\",\"title\":{\"standoff\":15},\"zerolinecolor\":\"#EBF0F8\",\"zerolinewidth\":2},\"yaxis\":{\"automargin\":true,\"gridcolor\":\"#EBF0F8\",\"linecolor\":\"#EBF0F8\",\"ticks\":\"\",\"title\":{\"standoff\":15},\"zerolinecolor\":\"#EBF0F8\",\"zerolinewidth\":2}}},\"xaxis\":{\"anchor\":\"y\",\"domain\":[0.0,1.0],\"title\":{}},\"yaxis\":{\"anchor\":\"x\",\"domain\":[0.0,1.0],\"title\":{}},\"legend\":{\"title\":{\"text\":\"variable\"},\"tracegroupgap\":0},\"title\":{\"text\":\"OFERTA GLOBAL-VALOR AGREGADO BRUTO-MENOS: SERVICIOS DE INTERMEDIACI\\u00d3N FINANCIERA MEDIDOS INDIRECTAMENTE (A PRECIOS B\\u00c1SICOS)-VARIACIONES RELATIVAS CONSTANTE\"},\"autosize\":false,\"width\":800,\"height\":500,\"showlegend\":false},                        {\"responsive\": true}                    ).then(function(){\n",
       "                            \n",
       "var gd = document.getElementById('fe1cf106-95fb-4480-a731-b8487971a13e');\n",
       "var x = new MutationObserver(function (mutations, observer) {{\n",
       "        var display = window.getComputedStyle(gd).display;\n",
       "        if (!display || display === 'none') {{\n",
       "            console.log([gd, 'removed!']);\n",
       "            Plotly.purge(gd);\n",
       "            observer.disconnect();\n",
       "        }}\n",
       "}});\n",
       "\n",
       "// Listen for the removal of the full notebook cells\n",
       "var notebookContainer = gd.closest('#notebook-container');\n",
       "if (notebookContainer) {{\n",
       "    x.observe(notebookContainer, {childList: true});\n",
       "}}\n",
       "\n",
       "// Listen for the clearing of the current output cell\n",
       "var outputEl = gd.closest('.output');\n",
       "if (outputEl) {{\n",
       "    x.observe(outputEl, {childList: true});\n",
       "}}\n",
       "\n",
       "                        })                };                });            </script>        </div>"
      ]
     },
     "metadata": {},
     "output_type": "display_data"
    }
   ],
   "source": [
    "idx = 11517\n",
    "dwld.graph(idx)"
   ]
  }
 ],
 "metadata": {
  "kernelspec": {
   "display_name": "Python 3 (ipykernel)",
   "language": "python",
   "name": "python3"
  },
  "language_info": {
   "codemirror_mode": {
    "name": "ipython",
    "version": 3
   },
   "file_extension": ".py",
   "mimetype": "text/x-python",
   "name": "python",
   "nbconvert_exporter": "python",
   "pygments_lexer": "ipython3",
   "version": "3.12.2"
  }
 },
 "nbformat": 4,
 "nbformat_minor": 5
}
