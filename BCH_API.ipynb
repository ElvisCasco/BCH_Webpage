{
  "cells": [
    {
      "cell_type": "raw",
      "metadata": {},
      "source": [
        "---\n",
        "title: Estadísticas del Banco Central de Honduras\n",
        "authors:\n",
        "  - Gabriela Margoth López Gutierrez\n",
        "  - Elvis Teodoro Casco Alfaro\n",
        "institute: Banco Central de Honduras\n",
        "execute:\n",
        "  echo: false\n",
        "crossref:\n",
        "  fig-title: Gráfico\n",
        "  tbl-title: Tabla\n",
        "  fig-prefix: Gráfico\n",
        "  tbl-prefix: Tabla\n",
        "format:\n",
        "  html:\n",
        "    echo: false\n",
        "    toc: true\n",
        "    toc-depth: 7\n",
        "    code-fold: true\n",
        "    warnings: false\n",
        "keep-ipynb: true\n",
        "---"
      ],
      "id": "c896b60f"
    },
    {
      "cell_type": "markdown",
      "metadata": {},
      "source": [
        "En este proceso se explica la forma en que pueden descargarse los datos disponibles en la [API](https://bchapi-am.developer.azure-api.net/) del Banco Central de Honduras (BCH), utilizando Python.\n",
        "\n",
        "# Funciones\n"
      ],
      "id": "a851091b"
    },
    {
      "cell_type": "code",
      "metadata": {},
      "source": [
        "import urllib.request, json\n",
        "import pandas as pd\n",
        "import plotly.express as px\n",
        "import polars as pl\n",
        "\n",
        "from IPython.display import Markdown\n",
        "from tabulate import tabulate"
      ],
      "id": "e3fa2273",
      "execution_count": null,
      "outputs": []
    },
    {
      "cell_type": "code",
      "metadata": {},
      "source": [
        "# class bchapi():\n",
        "#     def __init__(self):\n",
        "#         self.idslist = None\n",
        "#         self.header = None\n",
        "\n",
        "    # #get_info descarga toda la información de las series disponibles en base a la estructura del url ingresado\n",
        "    # def get_info(self, url, hdr):\n",
        "    #     self.header = hdr\n",
        "    #     req = urllib.request.Request(url, headers=self.header)\n",
        "    #     req.get_method = lambda: 'GET'\n",
        "    #     response = urllib.request.urlopen(req)\n",
        "    #     jsondata = response.read()\n",
        "    #     bytes_data = jsondata\n",
        "    #     data_str = bytes_data.decode('utf-8')\n",
        "    #     data = json.loads(data_str)\n",
        "    #     df = pd.read_json(json.dumps(data))\n",
        "    #     self.idslist = df['Id'].unique()\n",
        "    #     return df\n",
        "\n",
        "    # #graph descarga los valores en formato dataframe de la serie seleccionada en base al id\n",
        "    # def graph(self, id):\n",
        "    #     id = self.idslist[idx] - 1\n",
        "    #     url = f'https://bchapi-am.azure-api.net/api/v1/indicadores/{id}/cifras'\n",
        "    #     df = self.get_info(url, self.header)\n",
        "    #     ts = pd.DataFrame(\n",
        "    #         data = df['Valor'].values, \n",
        "    #         index = pd.DatetimeIndex(df['Fecha']))\n",
        "    #     fig = px.line(\n",
        "    #         ts, \n",
        "    #         title = df['Descripcion'].unique()[0],)\n",
        "    #     fig.update_layout(\n",
        "    #         autosize=False,\n",
        "    #         width=800,\n",
        "    #         height=500,\n",
        "    #         template = 'plotly_white',\n",
        "    #         showlegend=False)\n",
        "    #     fig.update_xaxes(title=None)\n",
        "    #     fig.update_yaxes(title=None)\n",
        "    #     fig.show()"
      ],
      "id": "b371950a",
      "execution_count": null,
      "outputs": []
    },
    {
      "cell_type": "code",
      "metadata": {},
      "source": [
        "# A partir de código elaborado por Gabriela López:\n",
        "# https://colab.research.google.com/drive/1R3zpo3L27ypjD7v_FO7GeFPQ_2GeEFKd?usp=sharing\n",
        "def get_info(url, hdr):\n",
        "    header = hdr\n",
        "    req = urllib.request.Request(url, headers=header)\n",
        "    req.get_method = lambda: 'GET'\n",
        "    response = urllib.request.urlopen(req)\n",
        "    jsondata = response.read()\n",
        "    bytes_data = jsondata\n",
        "    data_str = bytes_data.decode('utf-8')\n",
        "    data = json.loads(data_str)\n",
        "    df = pd.read_json(json.dumps(data))\n",
        "    idslist = df['Id'].unique()\n",
        "    return df\n",
        "\n",
        "def get_df(id):\n",
        "    url_0 = \"https://bchapi-am.azure-api.net/api/v1/indicadores?formato=Json\"\n",
        "    url = f'https://bchapi-am.azure-api.net/api/v1/indicadores/{id}/cifras'\n",
        "    all_variables = get_info(url_0, hdr)\n",
        "    data = get_info(url, hdr)\n",
        "    df = pd.DataFrame(\n",
        "        data = data['Valor'].values, \n",
        "        index = pd.DatetimeIndex(data['Fecha']))\n",
        "    df.columns = [all_variables[\"Descripcion\"][id-1]]\n",
        "    df = pl.from_pandas(df,include_index=True\n",
        "        ).with_columns(\n",
        "            pl.col(\"Fecha\").cast(pl.Date))\n",
        "    return df\n",
        "\n",
        "def get_plot(id):\n",
        "    url_0 = \"https://bchapi-am.azure-api.net/api/v1/indicadores?formato=Json\"\n",
        "    url = f'https://bchapi-am.azure-api.net/api/v1/indicadores/{id}/cifras'\n",
        "    all_variables = get_info(url_0, hdr)\n",
        "    data = get_info(url, hdr)\n",
        "    df = pd.DataFrame(\n",
        "        data = data['Valor'].values, \n",
        "        index = pd.DatetimeIndex(data['Fecha']))\n",
        "    fig = px.line(\n",
        "        df, \n",
        "        # title = all_variables['Descripcion'].unique()[0],\n",
        "        title = all_variables[\"Descripcion\"][id-1]\n",
        "        )\n",
        "    fig.update_layout(\n",
        "        autosize=False,\n",
        "        width=800,\n",
        "        height=500,\n",
        "        template = 'plotly_white',\n",
        "        showlegend=False)\n",
        "    fig.update_xaxes(title=None)\n",
        "    fig.update_yaxes(title=None)\n",
        "    fig.show()"
      ],
      "id": "99703bd0",
      "execution_count": null,
      "outputs": []
    },
    {
      "cell_type": "code",
      "metadata": {},
      "source": [
        "def res_nivel_1():\n",
        "    df = pl.DataFrame(df_all)\n",
        "    variable_0 = \"Niv_Gr_1\"\n",
        "    variable_1 = \"Niv_Gr_2\"\n",
        "    variable_2 = \"Niv_Gr_3\"\n",
        "    df = df.group_by(variable_0\n",
        "        ).agg(\n",
        "            pl.col(variable_0).len().alias(\"N_Variables\"),\n",
        "            pl.col(variable_1).n_unique().alias(\"N_Subgrupos\")\n",
        "        ).sort([\"N_Variables\",\"N_Subgrupos\",],descending=[True,True])\n",
        "    print(str(df[\"N_Variables\"].sum()) + \" variables\")\n",
        "    print(str(df[\"Niv_Gr_1\"].len()) + \" grupos\")\n",
        "    print(str(df[\"N_Subgrupos\"].sum()) + \" subgrupos\")\n",
        "    return df\n",
        "\n",
        "def res_nivel_2(nivel_1):\n",
        "    df = pl.DataFrame(df_all)\n",
        "    variable_0 = \"Niv_Gr_1\"\n",
        "    variable_1 = \"Niv_Gr_2\"\n",
        "    variable_2 = \"Niv_Gr_3\"\n",
        "    df = df.filter(\n",
        "            pl.col(\"Niv_Gr_1\") == nivel_1,\n",
        "        ).group_by(variable_0,variable_1\n",
        "        ).agg(\n",
        "            pl.col(variable_0).len().alias(\"N_Variables\"),\n",
        "            pl.col(variable_2).n_unique().alias(\"N_Niv_Gr_2\")\n",
        "        ).sort([\"N_Variables\",\"N_Niv_Gr_2\",],descending=[True,True])\n",
        "    print(str(df[\"N_Variables\"].sum()) + \" variables\")\n",
        "    print(str(df[\"Niv_Gr_1\"].len()) + \" grupos\")\n",
        "    print(str(df[\"N_Niv_Gr_2\"].sum()) + \" subgrupos\")\n",
        "    return df\n",
        "\n",
        "def res_nivel_3(nivel_1,nivel_2,variable_2):\n",
        "    df = pl.DataFrame(df_all)\n",
        "    variable_0 = \"Niv_Gr_1\"\n",
        "    variable_1 = \"Niv_Gr_2\"\n",
        "    df = df.filter(\n",
        "            pl.col(\"Niv_Gr_1\") == nivel_1,\n",
        "            pl.col(\"Niv_Gr_2\") == nivel_2\n",
        "        ).group_by(\n",
        "            [variable_0,variable_1,variable_2]\n",
        "        ).agg(\n",
        "            # pl.col(\"Niv_Gr_1\").len().alias(\"N_Niv_Gr_2\"),\n",
        "            pl.col(\"Niv_Gr_2\").len().alias(\"N_Variables\"),\n",
        "        ).sort(\"N_Variables\",descending=True)\n",
        "    print(str(len(df)) + \" subgrupos\")\n",
        "    # print(str(df[\"N_Niv_Gr_2\"].sum()) + \" niveles\")\n",
        "    print(str(df[\"N_Variables\"].sum()) + \" variables\")\n",
        "    return df\n",
        "\n",
        "def res_nivel_4(nivel_1,nivel_2,variable_2,def_variable_2,variable_3):\n",
        "    df = pl.DataFrame(df_all)\n",
        "    variable_0 = \"Niv_Gr_1\"\n",
        "    variable_1 = \"Niv_Gr_2\"\n",
        "    df = df.filter(\n",
        "            pl.col(\"Niv_Gr_1\") == nivel_1,\n",
        "            pl.col(\"Niv_Gr_2\") == nivel_2,\n",
        "            pl.col(variable_2) == def_variable_2,\n",
        "        ).group_by(\n",
        "            [variable_0,variable_1,variable_2,variable_3]\n",
        "        ).agg(\n",
        "            pl.col(variable_3).len().alias(\"N_Variables\"),\n",
        "        ).sort(\"N_Variables\",descending=True)\n",
        "    return df\n",
        "\n",
        "def res_nivel_5(\n",
        "    nivel_1,nivel_2,\n",
        "    variable_2,def_variable_2,\n",
        "    variable_3,variable_4):\n",
        "    df = pl.DataFrame(df_all)\n",
        "    variable_0 = \"Niv_Gr_1\"\n",
        "    variable_1 = \"Niv_Gr_2\"\n",
        "    df = df.filter(\n",
        "            pl.col(\"Niv_Gr_1\") == nivel_1,\n",
        "            pl.col(\"Niv_Gr_2\") == nivel_2,\n",
        "            pl.col(variable_2) == def_variable_2,\n",
        "            # pl.col(variable_3) == def_variable_3,\n",
        "        ).group_by(\n",
        "            [variable_0,variable_1,variable_2,variable_3,variable_4]\n",
        "        ).agg(\n",
        "            pl.col(variable_4).len().alias(\"N_Variables\"),\n",
        "        ).sort(\"N_Variables\",descending=True)\n",
        "    return df\n",
        "\n",
        "def res_nivel_6(\n",
        "    nivel_1,nivel_2,\n",
        "    variable_2,def_variable_2,\n",
        "    variable_3,variable_4,variable_5):\n",
        "    df = pl.DataFrame(df_all)\n",
        "    variable_0 = \"Niv_Gr_1\"\n",
        "    variable_1 = \"Niv_Gr_2\"\n",
        "    df = df.filter(\n",
        "            pl.col(\"Niv_Gr_1\") == nivel_1,\n",
        "            pl.col(\"Niv_Gr_2\") == nivel_2,\n",
        "            pl.col(variable_2) == def_variable_2,\n",
        "            # pl.col(variable_3) == variable_3,\n",
        "            # pl.col(variable_3) == def_variable_3,\n",
        "        ).group_by(\n",
        "            [variable_0,variable_1,variable_2,variable_3,variable_4,variable_5]\n",
        "        ).agg(\n",
        "            pl.col(variable_5).len().alias(\"N_Variables\"),\n",
        "        ).sort(\"N_Variables\",descending=True)\n",
        "    return df\n",
        "\n",
        "def res_nivel_7(\n",
        "    nivel_1,nivel_2,\n",
        "    variable_2,def_variable_2,\n",
        "    variable_3,variable_4,variable_5,variable_6):\n",
        "    df = pl.DataFrame(df_all)\n",
        "    variable_0 = \"Niv_Gr_1\"\n",
        "    variable_1 = \"Niv_Gr_2\"\n",
        "    df = df.filter(\n",
        "            pl.col(\"Niv_Gr_1\") == nivel_1,\n",
        "            pl.col(\"Niv_Gr_2\") == nivel_2,\n",
        "            pl.col(variable_2) == def_variable_2,\n",
        "            # pl.col(variable_3) == variable_3,\n",
        "            # pl.col(variable_3) == def_variable_3,\n",
        "        ).group_by(\n",
        "            [variable_0,variable_1,variable_2,variable_3,variable_4,variable_5,variable_6]\n",
        "        ).agg(\n",
        "            pl.col(variable_5).len().alias(\"N_Variables\"),\n",
        "        ).sort(\"N_Variables\",descending=True)\n",
        "    return df"
      ],
      "id": "75b01fce",
      "execution_count": null,
      "outputs": []
    },
    {
      "cell_type": "code",
      "metadata": {},
      "source": [
        "# clave_asignada = \"ff34cff7b0024ea39eb565fccb9f03b6\"\n",
        "# url = \"https://bchapi-am.azure-api.net/api/v1/indicadores?formato=Json\"\n",
        "# hdr ={'Cache-Control': 'no-cache',\n",
        "#       'clave': clave_asignada,}\n",
        "# dfmeta = get_info(url, hdr)\n",
        "# dfmeta"
      ],
      "id": "b5c91a35",
      "execution_count": null,
      "outputs": []
    },
    {
      "cell_type": "markdown",
      "metadata": {},
      "source": [
        "# Acceso a los Datos\n",
        "\n",
        "Una vez que se crea el registro de usuario (usar el botón \"Suscribirse\" en el [sitio web](https://bchapi-am.developer.azure-api.net/), puede verse el procedimiento de registro e inicio de sesión en [YouTube](https://www.youtube.com/watch?v=8ZBllMSsKw4)), se necesita obtener una clave (ver explicación en [YouTube](https://www.youtube.com/watch?v=mV90s74OCfc)), ejecutando una consulta al catálogo de indicadores. Favor sustituir en el código la clave actual por su clave asignada.\n",
        "\n",
        "Para conocer los datos disponibles, se debe ejecutar una consulta al catálogo de indicadores, que contiene información sobre las series disponibles:\n",
        "\n",
        "* Nombre (código)\n",
        "* Descripción\n",
        "* Periodicidad\n",
        "* Grupo\n",
        "* Correlativo del Grupo\n",
        "\n",
        "Como ejemplo de la consulta que contiene todas las variables, se muestran los primeros cinco elementos:\n"
      ],
      "id": "0e66b1e4"
    },
    {
      "cell_type": "code",
      "metadata": {},
      "source": [
        "clave_asignada = \"ff34cff7b0024ea39eb565fccb9f03b6\" #Favor ingresar la clave proporcionada.\n",
        "url = \"https://bchapi-am.azure-api.net/api/v1/indicadores?formato=Json\"\n",
        "hdr ={'Cache-Control': 'no-cache',\n",
        "      'clave': clave_asignada,}\n",
        "dfmeta = get_info(url, hdr)\n",
        "dfmeta.head()"
      ],
      "id": "5eb1e9da",
      "execution_count": null,
      "outputs": []
    },
    {
      "cell_type": "markdown",
      "metadata": {},
      "source": [
        "# Descripción de los Datos\n",
        "\n",
        "## Grupos\n",
        "\n",
        "Las variables están categorizadas en 8 grupos principales y 54 subgrupos. La nomenclatura utilizada permite dividir estos en un máximo de cinco niveles, tomando en cuenta el separador (-). Se explicarán los mismos a continuacion, ordenando de acuerdo al número de niveles (número de subgrupos).\n"
      ],
      "id": "ec9496dc"
    },
    {
      "cell_type": "code",
      "metadata": {},
      "source": [
        "# Agregar niveles de Descripción y Grupo\n",
        "df_all = dfmeta\n",
        "df_all[['Niv_Descr_1','Niv_Descr_2','Niv_Descr_3','Niv_Descr_4','Niv_Descr_5','Niv_Descr_6','Niv_Descr_7','Niv_Descr_8']] = df_all['Descripcion'].str.split(\n",
        "    '-',expand=True)\n",
        "df_all[\"Niv_Descr\"] = df_all.notnull().sum(axis=1) - 6\n",
        "df_all[\n",
        "    ['Niv_Gr_1','Niv_Gr_2','Niv_Gr_3','Niv_Gr_4','Niv_Gr_5']]  = df_all['Grupo'].str.split('-',expand=True)\n",
        "df_all[\"Niv_Gr\"] = df_all.notnull().sum(axis=1) - 2\n",
        "df_all = pl.DataFrame(df_all)\n",
        "df_all.write_csv(\n",
        "        \"api/variables.csv\",\n",
        "        separator=\";\")\n",
        "\n",
        "# Resumen por Grupo\n",
        "variable = \"Grupo\"\n",
        "res_grupo = df_all.group_by(variable\n",
        "    ).agg(\n",
        "    pl.col(\"Id\").len().alias(\"N_Variables\"),\n",
        "    ).sort(\"N_Variables\",descending=True)\n",
        "print(str(res_grupo[\"N_Variables\"].sum()) + \" variables\")\n",
        "print(str(len(res_grupo)) + \" grupos\")\n",
        "res_grupo = pd.DataFrame(res_grupo)\n",
        "res_grupo.columns = [\"Grupo\",\"N_Variables\"]\n",
        "res_grupo[\n",
        "    ['Niv_Gr_1','Niv_Gr_2','Niv_Gr_3','Niv_Gr_4','Niv_Gr_5']]  = res_grupo['Grupo'].str.split('-',expand=True)\n",
        "res_grupo[\"Niv_Gr\"] = res_grupo.notnull().sum(axis=1) - 2\n",
        "res_grupo = res_grupo.sort_values(\n",
        "    [\"Niv_Gr\",\"N_Variables\"], \n",
        "    ascending=[False,False])\n",
        "res_grupo = pl.DataFrame(res_grupo)\n",
        "res_grupo.write_csv(\n",
        "        \"api/grupos.csv\",\n",
        "        separator=\";\")\n",
        "\n",
        "res_grupo"
      ],
      "id": "76a3393f",
      "execution_count": null,
      "outputs": []
    },
    {
      "cell_type": "markdown",
      "metadata": {},
      "source": [
        "Los 8 grupos mencionados permiten consolidar los archivos de acuerdo con el origen de los datos en la página web del BCH, que en su mayoría pueden consultarse en los [reportes dinámicos](https://www.bch.hn/estadisticas-y-publicaciones-economicas/reportes-dinamicos).\n",
        "\n",
        "1. EOM = [Estadísticas de Operaciones Monetarias](https://www.bch.hn/estadisticas-y-publicaciones-economicas/reportes-dinamicos/operaciones-de-mercado-abierto)\n",
        "2. ESR = [Estadísticas del Sector Real](https://www.bch.hn/estadisticas-y-publicaciones-economicas/reportes-dinamicos/sector-real)\n",
        "3. ESE = [Estadísticas del Sector Externo](https://www.bch.hn/estadisticas-y-publicaciones-economicas/reportes-dinamicos/sector-externo)\n",
        "4. EMF = [Estadísiticas Monetarias y Financieras (Sector Fiscal)](https://www.bch.hn/estadisticas-y-publicaciones-economicas/reportes-dinamicos/sector-fiscal)\n",
        "5. EM = [Estadísticas Monetarias (TPM y RIN)](https://www.bch.hn/estadisticas-y-publicaciones-economicas/reportes-dinamicos/sector-monetario)\n",
        "6. ESP = [Estadísticas de Sistema de Pagos](https://www.bch.hn/estadisticas-y-publicaciones-economicas/reportes-dinamicos/sistema-de-pagos)\n",
        "7. EC = [Estadísticas de Tipo de Cambio](https://www.bch.hn/estadisticas-y-publicaciones-economicas/reportes-dinamicos/tipo-de-cambio)\n",
        "8. EP = [Estadísticas de Precios](https://www.bch.hn/estadisticas-y-publicaciones-economicas/reportes-dinamicos/precios)\n",
        "\n",
        "Los grupos se subdividen en 25 subgrupos:\n"
      ],
      "id": "bfc401eb"
    },
    {
      "cell_type": "code",
      "metadata": {},
      "source": [
        "res = res_nivel_1()\n",
        "res"
      ],
      "id": "8c3f1c3e",
      "execution_count": null,
      "outputs": []
    },
    {
      "cell_type": "markdown",
      "metadata": {},
      "source": [
        "A continuación se presentan los detalles de los grupos por nivel de agregación, ordenados de acuerdo al número de variables que contienen.\n",
        "\n",
        "### EOM = Estadísticas de Operaciones Monetarias\n",
        "\n",
        "Los datos están disponibles en la [página web del BCH](https://www.bch.hn/estadisticas-y-publicaciones-economicas/reportes-dinamicos/operaciones-de-mercado-abierto).\n"
      ],
      "id": "ec2f2a7c"
    },
    {
      "cell_type": "code",
      "metadata": {},
      "source": [
        "res_nivel_2(\"EOM\")"
      ],
      "id": "b958f770",
      "execution_count": null,
      "outputs": []
    },
    {
      "cell_type": "markdown",
      "metadata": {},
      "source": [
        "Contiene solamente un subgrupo:\n",
        "\n",
        "- OMA = Operaciones de Mercado Abierto\n",
        "\n",
        "#### OMA = Operaciones de Mercado Abierto\n",
        "\n",
        "Cuatro niveles de agregación:\n",
        "\n",
        "* 01 = Tasas de Rendimiento Diario de Valores Gubernamentales\n",
        "* 02 = Créditos (Niv_Descr_4 = 1-3) e Inversiones (Niv_Descr_4 = 4-6): Monto, Número de Solicitudes y Tasa\n",
        "* 03 = Monto, Número de Operaciones y Tasa\n",
        "* 04 = Monto, Número de Operaciones y Tasa (Dólares - Lempiras)\n",
        "\n",
        "En cada una de las tablas subsiguientes, la columna N_Variables corresponde al número de variables que contiene cada nivel.\n"
      ],
      "id": "d7d56204"
    },
    {
      "cell_type": "code",
      "metadata": {},
      "source": [
        "res_nivel_3(\"EOM\",\"OMA\",\"Niv_Gr_3\").sort(\"Niv_Gr_3\")"
      ],
      "id": "3048c4af",
      "execution_count": null,
      "outputs": []
    },
    {
      "cell_type": "markdown",
      "metadata": {},
      "source": [
        "###### 01 = Tasas de Rendimiento Diario de Valores Gubernamentales \n",
        "\n",
        "Este es el nivel que contiene más variables, todas corresponden a las \"Tasas de Rendimiento Diario de Valores Gubernamentales\":\n"
      ],
      "id": "6a5c1ded"
    },
    {
      "cell_type": "code",
      "metadata": {},
      "source": [
        "res_nivel_4(\n",
        "    \"EOM\",\"OMA\",\n",
        "    \"Niv_Gr_3\",\"01\",\n",
        "    \"Niv_Descr_1\")"
      ],
      "id": "63f85b2f",
      "execution_count": null,
      "outputs": []
    },
    {
      "cell_type": "markdown",
      "metadata": {},
      "source": [
        "Para listar todas las variables:\n"
      ],
      "id": "fed234c1"
    },
    {
      "cell_type": "code",
      "metadata": {},
      "source": [
        "res_nivel_6(\n",
        "    \"EOM\",\"OMA\",\n",
        "    \"Niv_Gr_3\",\"01\",\n",
        "    \"Id\",\"Nombre\",\"Niv_Descr_1\").sort(\"Nombre\")"
      ],
      "id": "e361fb9b",
      "execution_count": null,
      "outputs": []
    },
    {
      "cell_type": "markdown",
      "metadata": {},
      "source": [
        "La consulta para una serie individual puede realizarse solamente mediante el uso de la \"Id\" correspondiente; por ejemplo, el Id 701 da como resultado:\n"
      ],
      "id": "f5b81625"
    },
    {
      "cell_type": "code",
      "metadata": {},
      "source": [
        "Id = 1699\n",
        "df = get_df(Id)\n",
        "# get_plot(Id)\n",
        "df"
      ],
      "id": "71769d47",
      "execution_count": null,
      "outputs": []
    },
    {
      "cell_type": "markdown",
      "metadata": {},
      "source": [
        "###### 02 = Créditos (Niv_Descr_4 = 1-3) e Inversiones (Niv_Descr_4 = 4-6): Monto, Número de Solicitudes y Tasa\n"
      ],
      "id": "422451cb"
    },
    {
      "cell_type": "code",
      "metadata": {},
      "source": [
        "res_nivel_4(\n",
        "    \"EOM\",\"OMA\",\n",
        "    \"Niv_Gr_3\",\"02\",\n",
        "    \"Niv_Descr_5\")"
      ],
      "id": "8941056d",
      "execution_count": null,
      "outputs": []
    },
    {
      "cell_type": "markdown",
      "metadata": {},
      "source": [
        "Todas las variables:\n"
      ],
      "id": "daaafbb6"
    },
    {
      "cell_type": "code",
      "metadata": {},
      "source": [
        "res_nivel_7(\n",
        "    \"EOM\",\"OMA\",\n",
        "    \"Niv_Gr_3\",\"02\",\n",
        "    \"Id\",\"Nombre\",\"Niv_Descr_5\",\"Niv_Descr_6\").sort(\"Nombre\")"
      ],
      "id": "3c43048f",
      "execution_count": null,
      "outputs": []
    },
    {
      "cell_type": "markdown",
      "metadata": {},
      "source": [
        "Resultados de una sola variable:\n"
      ],
      "id": "f8666c22"
    },
    {
      "cell_type": "code",
      "metadata": {},
      "source": [
        "Id = 6261\n",
        "df = get_df(Id)\n",
        "# get_plot(Id)\n",
        "df"
      ],
      "id": "ad35fc71",
      "execution_count": null,
      "outputs": []
    },
    {
      "cell_type": "markdown",
      "metadata": {},
      "source": [
        "###### 03 = Monto, Número de Operaciones y Tasa\n"
      ],
      "id": "9638d8b0"
    },
    {
      "cell_type": "code",
      "metadata": {},
      "source": [
        "res_nivel_4(\n",
        "    \"EOM\",\"OMA\",\n",
        "    \"Niv_Gr_3\",\"03\",\n",
        "    \"Niv_Descr_5\")"
      ],
      "id": "c3666e68",
      "execution_count": null,
      "outputs": []
    },
    {
      "cell_type": "markdown",
      "metadata": {},
      "source": [
        "Todas las variables:\n"
      ],
      "id": "1b3a06e0"
    },
    {
      "cell_type": "code",
      "metadata": {},
      "source": [
        "res_nivel_6(\n",
        "    \"EOM\",\"OMA\",\n",
        "    \"Niv_Gr_3\",\"03\",\n",
        "    \"Id\",\"Nombre\",\"Niv_Descr_5\").sort(\"Nombre\")"
      ],
      "id": "41c48005",
      "execution_count": null,
      "outputs": []
    },
    {
      "cell_type": "markdown",
      "metadata": {},
      "source": [
        "Resultados de una sola variable:\n"
      ],
      "id": "eae87885"
    },
    {
      "cell_type": "code",
      "metadata": {},
      "source": [
        "Id = 6267\n",
        "df = get_df(Id)\n",
        "# get_plot(Id)\n",
        "df"
      ],
      "id": "81208f5e",
      "execution_count": null,
      "outputs": []
    },
    {
      "cell_type": "markdown",
      "metadata": {},
      "source": [
        "###### 04 = Monto, Número de Operaciones y Tasa (Dólares - Lempiras)\n"
      ],
      "id": "bfb74b9e"
    },
    {
      "cell_type": "code",
      "metadata": {},
      "source": [
        "res_nivel_4(\n",
        "    \"EOM\",\"OMA\",\n",
        "    \"Niv_Gr_3\",\n",
        "    \"04\",\n",
        "    \"Niv_Descr_5\")"
      ],
      "id": "3909bb7f",
      "execution_count": null,
      "outputs": []
    },
    {
      "cell_type": "code",
      "metadata": {},
      "source": [
        "res_nivel_5(\n",
        "    \"EOM\",\"OMA\",\n",
        "    \"Niv_Gr_3\",\"04\",\n",
        "    \"Niv_Descr_5\",\"Niv_Descr_6\")"
      ],
      "id": "23ddd1de",
      "execution_count": null,
      "outputs": []
    },
    {
      "cell_type": "markdown",
      "metadata": {},
      "source": [
        "Todas las variables:\n"
      ],
      "id": "f79c4efa"
    },
    {
      "cell_type": "code",
      "metadata": {},
      "source": [
        "res_nivel_7(\n",
        "    \"EOM\",\"OMA\",\n",
        "    \"Niv_Gr_3\",\"04\",\n",
        "    \"Id\",\"Nombre\",\"Niv_Descr_5\",\"Niv_Descr_6\").sort(\"Nombre\")"
      ],
      "id": "8f71e977",
      "execution_count": null,
      "outputs": []
    },
    {
      "cell_type": "markdown",
      "metadata": {},
      "source": [
        "Resultados de una sola variable:\n"
      ],
      "id": "a4eb8904"
    },
    {
      "cell_type": "code",
      "metadata": {},
      "source": [
        "Id = 6270\n",
        "df = get_df(Id)\n",
        "# get_plot(Id)\n",
        "df"
      ],
      "id": "47281bf4",
      "execution_count": null,
      "outputs": []
    },
    {
      "cell_type": "markdown",
      "metadata": {},
      "source": [
        "### ESR = Estadísticas del Sector Real\n"
      ],
      "id": "281c6264"
    },
    {
      "cell_type": "code",
      "metadata": {},
      "source": [
        "res_nivel_2(\"ESR\")"
      ],
      "id": "e6606918",
      "execution_count": null,
      "outputs": []
    },
    {
      "cell_type": "markdown",
      "metadata": {},
      "source": [
        "* COU = Cuadro de Oferta y Utilización\n",
        "* CCI = Clasificación Cruzada Industria\n",
        "* VAB = Valor Agregado Bruto\n",
        "* PIBA = PIB Anual\n",
        "* PIBT = PIB Trimestral\n",
        "* ODA = Oferta y Demanda Agregada\n",
        "* IMAE = Índice Mensual de la Actividad Económica\n",
        "\n",
        "#### COU = Cuadro de Oferta y Utilización\n"
      ],
      "id": "ecd40fb3"
    },
    {
      "cell_type": "code",
      "metadata": {},
      "source": [
        "res_nivel_3(\"ESR\",\"COU\",\"Niv_Gr_3\")"
      ],
      "id": "3e1e4f16",
      "execution_count": null,
      "outputs": []
    },
    {
      "cell_type": "markdown",
      "metadata": {},
      "source": [
        "Detalla la interacción del producto con la actividad (el detalle se toma de acuerdo con la estructura de la columna \"Nombre\"). Para conocer la estructura de las estadísticas derivadas de este cuadro, consultar en la [página web del BCH](https://www.bch.hn/estadisticas-y-publicaciones-economicas/sector-real/cuentas-nacionales-anuales-base-2000/cuadro-oferta-y-utilizacion).\n",
        "\n",
        "El orden está de acuerdo con el Nivel de Descripción 2 (Niv_Descr_2) y Nivel de Descripción 3 (Niv_Descr_3) de la columna Nombre, para los casos de:\n",
        "\n",
        "* VALOR BRUTO DE PRODUCCIÓN\n",
        "* CONSUMO INTERMEDIO\n",
        "* VALOR AGREGADO\n",
        "* OFERTA\n",
        "* UTILIZACIÓN\n",
        "\n",
        "Cada uno de estos detalles corresponde a una hoja de Excel en el archivo anual correspondiente.\n"
      ],
      "id": "47599afa"
    },
    {
      "cell_type": "code",
      "metadata": {},
      "source": [
        "res_nivel_4(\n",
        "    \"ESR\",\"COU\",\n",
        "    \"Niv_Gr_3\",\n",
        "    \"01\",\n",
        "    \"Niv_Descr_1\")"
      ],
      "id": "56f49365",
      "execution_count": null,
      "outputs": []
    },
    {
      "cell_type": "markdown",
      "metadata": {},
      "source": [
        "##### VALOR BRUTO DE PRODUCCIÓN\n",
        "\n",
        "En el cuadro original, las filas son los productos a un nivel de dos dígitos de la Nomenclatura de Productos de Honduras (NPH) y las columnas son las actiivades económicas tomando en cuenta la Nomenclatura de Actividades Económicas de Honduras (NAEH).\n"
      ],
      "id": "6b1d4b49"
    },
    {
      "cell_type": "code",
      "metadata": {},
      "source": [
        "res_nivel_7(\n",
        "    \"ESR\",\"COU\",\n",
        "    \"Niv_Gr_3\",\n",
        "    \"01\",\n",
        "    \"Niv_Descr_1\",\"Id\",\"Nombre\",\"Descripcion\").filter(pl.col(\"Niv_Descr_1\") == \"VALOR BRUTO DE PRODUCCIÓN\")"
      ],
      "id": "3f4b40a1",
      "execution_count": null,
      "outputs": []
    },
    {
      "cell_type": "markdown",
      "metadata": {},
      "source": [
        "Resultados de una sola variable:\n"
      ],
      "id": "36edcac0"
    },
    {
      "cell_type": "code",
      "metadata": {},
      "source": [
        "Id = 10410\n",
        "df = get_df(Id)\n",
        "# get_plot(Id)\n",
        "df"
      ],
      "id": "e7631d35",
      "execution_count": null,
      "outputs": []
    },
    {
      "cell_type": "markdown",
      "metadata": {},
      "source": [
        "##### CONSUMO INTERMEDIO\n",
        "\n",
        "En el cuadro original, las filas son los productos a un nivel de dos dígitos de la Nomenclatura de Productos de Honduras (NPH) y las columnas son las actiivades económicas tomando en cuenta la Nomenclatura de Actividades Económicas de Honduras (NAEH).\n"
      ],
      "id": "56786fbf"
    },
    {
      "cell_type": "code",
      "metadata": {},
      "source": [
        "res_nivel_7(\n",
        "    \"ESR\",\"COU\",\n",
        "    \"Niv_Gr_3\",\n",
        "    \"01\",\n",
        "    \"Niv_Descr_1\",\"Id\",\"Nombre\",\"Descripcion\").filter(pl.col(\"Niv_Descr_1\") == \"CONSUMO INTERMEDIO\")"
      ],
      "id": "4fe4bf6f",
      "execution_count": null,
      "outputs": []
    },
    {
      "cell_type": "markdown",
      "metadata": {},
      "source": [
        "Resultados de una sola variable:\n"
      ],
      "id": "d0803289"
    },
    {
      "cell_type": "code",
      "metadata": {},
      "source": [
        "Id = 7835\n",
        "df = get_df(Id)\n",
        "# get_plot(Id)\n",
        "df"
      ],
      "id": "106e0a6a",
      "execution_count": null,
      "outputs": []
    },
    {
      "cell_type": "markdown",
      "metadata": {},
      "source": [
        "##### VALOR AGREGADO\n",
        "\n",
        "En el cuadro original, las filas son los elementos indispensables para calcular el Valor Agregado Bruto, VAB (Remuneración de los Asalariados, Impuestos sobre la Producción y las Importaciones, Subvenciones, Excedente de Explotación, Ingreso Mixto y Consumo de Capital Fijo) y las columnas son las actiivades económicas tomando en cuenta la Nomenclatura de Actividades Económicas de Honduras (NAEH).\n"
      ],
      "id": "79a1440e"
    },
    {
      "cell_type": "code",
      "metadata": {},
      "source": [
        "res_nivel_7(\n",
        "    \"ESR\",\"COU\",\n",
        "    \"Niv_Gr_3\",\n",
        "    \"01\",\n",
        "    \"Niv_Descr_1\",\"Id\",\"Nombre\",\"Descripcion\").filter(pl.col(\"Niv_Descr_1\") == \"VALOR AGREGADO\")"
      ],
      "id": "e876fcfa",
      "execution_count": null,
      "outputs": []
    },
    {
      "cell_type": "markdown",
      "metadata": {},
      "source": [
        "Resultados de una sola variable:\n"
      ],
      "id": "4e1e27a5"
    },
    {
      "cell_type": "code",
      "metadata": {},
      "source": [
        "Id = 10024\n",
        "df = get_df(Id)\n",
        "# get_plot(Id)\n",
        "df"
      ],
      "id": "c561f136",
      "execution_count": null,
      "outputs": []
    },
    {
      "cell_type": "markdown",
      "metadata": {},
      "source": [
        "##### OFERTA\n",
        "\n",
        "En el cuadro original, las filas son los productos a un nivel de dos dígitos de la Nomenclatura de Productos de Honduras (NPH) y las columnas son los componentes de la Oferta Agregada a Precios de Comprador (Producción, Importaciones CIF, Ajuste CIF/FOB, Impuestos y Subvenciones a los Productos y Márgenes de Distribución).\n"
      ],
      "id": "ebc68711"
    },
    {
      "cell_type": "code",
      "metadata": {},
      "source": [
        "res_nivel_7(\n",
        "    \"ESR\",\"COU\",\n",
        "    \"Niv_Gr_3\",\n",
        "    \"01\",\n",
        "    \"Niv_Descr_1\",\"Id\",\"Nombre\",\"Descripcion\").filter(pl.col(\"Niv_Descr_1\") == \"OFERTA\")"
      ],
      "id": "58685fe4",
      "execution_count": null,
      "outputs": []
    },
    {
      "cell_type": "markdown",
      "metadata": {},
      "source": [
        "Resultados de una sola variable:\n"
      ],
      "id": "789cbc1e"
    },
    {
      "cell_type": "code",
      "metadata": {},
      "source": [
        "Id = 8878\n",
        "df = get_df(Id)\n",
        "# get_plot(Id)\n",
        "df"
      ],
      "id": "fdf39664",
      "execution_count": null,
      "outputs": []
    },
    {
      "cell_type": "markdown",
      "metadata": {},
      "source": [
        "##### UTILIZACIÓN\n",
        "\n",
        "En el cuadro original, las filas son los productos a un nivel de dos dígitos de la Nomenclatura de Productos de Honduras (NPH) y las columnas son los componentes de la Utilización Agregada a Precios de Comprador (Consumo Intermedio, Exportciones FOB, Gasto de Consumo Final y Formación Bruta de Capital).\n"
      ],
      "id": "c3a9cde8"
    },
    {
      "cell_type": "code",
      "metadata": {},
      "source": [
        "res_nivel_7(\n",
        "    \"ESR\",\"COU\",\n",
        "    \"Niv_Gr_3\",\n",
        "    \"01\",\n",
        "    \"Niv_Descr_1\",\"Id\",\"Nombre\",\"Descripcion\").filter(pl.col(\"Niv_Descr_1\") == \"UTILIZACIÓN\")"
      ],
      "id": "7798744d",
      "execution_count": null,
      "outputs": []
    },
    {
      "cell_type": "markdown",
      "metadata": {},
      "source": [
        "Tomar en cuenta que, para realizar el cálculo del VAB por NAEH, se debe sumar las columnas de Valor Bruto de Producción y restar las de Consumo Intermedio; adicionalmente, como los datos correspondientes a Impuestos sobre los Productos y los Márgenes de Distribución solamente se encuentran a nivel de NPH, no se puede tener un VAB total que se obtenga por suma de VAB a nivel de actividad individual, en vista que debe restarse las de Subvenciones a los productos, mismas que se encuentran en el Cuadro de Oferta solamente a nivel de NPH. Esta forma de obtener el VAB se conoce como el cálculo del PIB por el enfoque del Ingreso.\n",
        "\n",
        "Como la Oferta y Utilización están detalladas a nivel de NPH, el VAB por NPH a partir de los dos detalles previos, se puede obtener por dos métodos:\n",
        "\n",
        "1. Suma de Producción + Impuestos - Subvenciones a los Productos + Márgenes de Distribución (Oferta) - Consumo Intermedio (Utilización) => PIB por el enfoque de la Produccion.\n",
        "2. Exportaciones FOB + Gasto de Consumo Final + Formación Bruta de Capital (Utilización) - Importaciones CIF - Ajuste CIF/FOB (Oferta) => PIB por el enfoque del Gasto.\n",
        "\n",
        "Para saber el contenido de todas las variables:\n"
      ],
      "id": "e2641a5c"
    },
    {
      "cell_type": "code",
      "metadata": {},
      "source": [
        "res_nivel_7(\n",
        "    \"ESR\",\"COU\",\n",
        "    \"Niv_Gr_3\",\n",
        "    \"01\",\n",
        "    \"Id\",\"Niv_Descr_1\",\"Nombre\",\"Descripcion\").sort(\"Id\")"
      ],
      "id": "dab39ace",
      "execution_count": null,
      "outputs": []
    },
    {
      "cell_type": "markdown",
      "metadata": {},
      "source": [
        "Resultados de una sola variable:\n"
      ],
      "id": "ad56fa18"
    },
    {
      "cell_type": "code",
      "metadata": {},
      "source": [
        "Id = 9465\n",
        "df = get_df(Id)\n",
        "# get_plot(Id)\n",
        "df"
      ],
      "id": "d72bd569",
      "execution_count": null,
      "outputs": []
    },
    {
      "cell_type": "markdown",
      "metadata": {},
      "source": [
        "#### CCI = Clasificación Cruzada Industria Sector Institucional\n",
        "\n",
        "Para conocer la estructura de las estadísticas derivadas de este cuadro, consultar en la [página web del BCH](https://www.bch.hn/estadisticas-y-publicaciones-economicas/sector-real/cuentas-nacionales-anuales-base-2000/clasificacion-cruzada-industria-sector-institucional).\n",
        "\n",
        "El archivo contiene 3 hojas, que pueden filtrarse de acuerdo con el Nivel de Descripción 1 (Niv_Descr_1) de la variable:\n",
        "\n",
        "* Producción Bruta\n",
        "* Consumo Intermedio\n",
        "* Valor Agregado\n",
        "\n",
        "Los cuadros en cada hoja contienen los valores a nivel de Industria en las filas y a nivel de Sector Institucional en las columnas.\n",
        "\n",
        "Debido a que el VAB implica tomar en cuenta impuestos y subvenciones a nivel de NPH, no es posible obtener el cálculo de esta variable por suma a partir de los cuadros del CCI (ver explicación en el apartado del COU).\n"
      ],
      "id": "da7dcd42"
    },
    {
      "cell_type": "code",
      "metadata": {},
      "source": [
        "res_nivel_3(\"ESR\",\"CCI\",\"Niv_Descr_1\")"
      ],
      "id": "d1bea9fe",
      "execution_count": null,
      "outputs": []
    },
    {
      "cell_type": "markdown",
      "metadata": {},
      "source": [
        "\"Niv_Descr_2\" es la Industria (filas).\n"
      ],
      "id": "3eced968"
    },
    {
      "cell_type": "code",
      "metadata": {},
      "source": [
        "res_nivel_5(\n",
        "    \"ESR\",\"CCI\",\n",
        "    \"Niv_Gr_3\",\n",
        "    \"01\",\n",
        "    \"Niv_Descr_1\",\"Niv_Descr_2\")"
      ],
      "id": "ec14e825",
      "execution_count": null,
      "outputs": []
    },
    {
      "cell_type": "markdown",
      "metadata": {},
      "source": [
        "\"Niv_Descr_3\" es el Sector Institucional (columnas).\n"
      ],
      "id": "a11aad38"
    },
    {
      "cell_type": "code",
      "metadata": {},
      "source": [
        "res_nivel_5(\n",
        "    \"ESR\",\"CCI\",\n",
        "    \"Niv_Gr_3\",\n",
        "    \"01\",\n",
        "    \"Niv_Descr_1\",\"Niv_Descr_3\")"
      ],
      "id": "fe061cfc",
      "execution_count": null,
      "outputs": []
    },
    {
      "cell_type": "markdown",
      "metadata": {},
      "source": [
        "Para saber el contenido de todas las variables:\n"
      ],
      "id": "069fd7f9"
    },
    {
      "cell_type": "code",
      "metadata": {},
      "source": [
        "res_nivel_7(\n",
        "    \"ESR\",\"CCI\",\n",
        "    \"Niv_Gr_3\",\n",
        "    \"01\",\n",
        "    \"Id\",\"Niv_Descr_1\",\"Niv_Descr_2\",\"Niv_Descr_3\")"
      ],
      "id": "18665cb2",
      "execution_count": null,
      "outputs": []
    },
    {
      "cell_type": "markdown",
      "metadata": {},
      "source": [
        "Resultados de una sola variable:\n"
      ],
      "id": "3c618bff"
    },
    {
      "cell_type": "code",
      "metadata": {},
      "source": [
        "Id = 7467\n",
        "df = get_df(Id)\n",
        "# get_plot(Id)\n",
        "df"
      ],
      "id": "53095df9",
      "execution_count": null,
      "outputs": []
    },
    {
      "cell_type": "markdown",
      "metadata": {},
      "source": [
        "#### VAB = Valor Agregado Bruto\n"
      ],
      "id": "274554a5"
    },
    {
      "cell_type": "code",
      "metadata": {},
      "source": [
        "res_nivel_3(\"ESR\",\"VAB\",\"Niv_Gr_3\")"
      ],
      "id": "05fc758a",
      "execution_count": null,
      "outputs": []
    },
    {
      "cell_type": "markdown",
      "metadata": {},
      "source": [
        "##### Valor y Variación, Corrientes y Constantes, por NAEH\n"
      ],
      "id": "6e11067f"
    },
    {
      "cell_type": "code",
      "metadata": {},
      "source": [
        "res_nivel_4(\n",
        "    \"ESR\",\"VAB\",\n",
        "    \"Niv_Gr_3\",\n",
        "    \"01\",\n",
        "    \"Niv_Descr_4\")"
      ],
      "id": "8088cc29",
      "execution_count": null,
      "outputs": []
    },
    {
      "cell_type": "code",
      "metadata": {},
      "source": [
        "res_nivel_5(\n",
        "    \"ESR\",\"VAB\",\n",
        "    \"Niv_Gr_3\",\n",
        "    \"01\",\n",
        "    \"Niv_Descr_4\",\"Niv_Descr_5\")"
      ],
      "id": "41cd2cc7",
      "execution_count": null,
      "outputs": []
    },
    {
      "cell_type": "markdown",
      "metadata": {},
      "source": [
        "Para saber el contenido de todas las variables:\n"
      ],
      "id": "b472bac9"
    },
    {
      "cell_type": "code",
      "metadata": {},
      "source": [
        "res_nivel_7(\n",
        "    \"ESR\",\"VAB\",\n",
        "    \"Niv_Gr_3\",\n",
        "    \"01\",\n",
        "    \"Id\",\"Niv_Descr_4\",\"Niv_Descr_5\",\"Niv_Descr_6\")"
      ],
      "id": "01137c33",
      "execution_count": null,
      "outputs": []
    },
    {
      "cell_type": "markdown",
      "metadata": {},
      "source": [
        "Resultados de una sola variable:\n"
      ],
      "id": "fdfca1d8"
    },
    {
      "cell_type": "code",
      "metadata": {},
      "source": [
        "Id = 220\n",
        "df = get_df(Id)\n",
        "# get_plot(Id)\n",
        "df"
      ],
      "id": "20d2fac5",
      "execution_count": null,
      "outputs": []
    },
    {
      "cell_type": "markdown",
      "metadata": {},
      "source": [
        "##### Precio y Variación, Corrientes y Constantes, por NAEH\n"
      ],
      "id": "89dda3ed"
    },
    {
      "cell_type": "code",
      "metadata": {},
      "source": [
        "res_nivel_4(\n",
        "    \"ESR\",\"VAB\",\n",
        "    \"Niv_Gr_3\",\n",
        "    \"02\",\n",
        "    \"Niv_Descr_4\")"
      ],
      "id": "a7db3809",
      "execution_count": null,
      "outputs": []
    },
    {
      "cell_type": "code",
      "metadata": {},
      "source": [
        "res_nivel_5(\n",
        "    \"ESR\",\"VAB\",\n",
        "    \"Niv_Gr_3\",\n",
        "    \"02\",\n",
        "    \"Niv_Descr_4\",\"Niv_Descr_5\")"
      ],
      "id": "d664f74a",
      "execution_count": null,
      "outputs": []
    },
    {
      "cell_type": "markdown",
      "metadata": {},
      "source": [
        "Notar que aquí el Nivel de Descripción 6 (Niv_Descr_6) no es una buena opción de desagregación, puesto que los componentes son \"Actividad Económica\" y \"Productos Alimenticios, Bebidas y Tabaco\"; esta última está detallada en mayor grado en el Nivel de Descripción 7 (Niv_Descr_7).\n",
        "\n",
        "Para saber el contenido de todas las variables:\n"
      ],
      "id": "fdb8b906"
    },
    {
      "cell_type": "code",
      "metadata": {},
      "source": [
        "res_nivel_7(\n",
        "    \"ESR\",\"VAB\",\n",
        "    \"Niv_Gr_3\",\n",
        "    \"02\",\n",
        "    \"Id\",\"Niv_Descr_4\",\"Niv_Descr_5\",\"Niv_Descr_7\")"
      ],
      "id": "c3b12a65",
      "execution_count": null,
      "outputs": []
    },
    {
      "cell_type": "markdown",
      "metadata": {},
      "source": [
        "Resultados de una sola variable:\n"
      ],
      "id": "d8006c47"
    },
    {
      "cell_type": "code",
      "metadata": {},
      "source": [
        "Id = 273\n",
        "df = get_df(Id)\n",
        "# get_plot(Id)\n",
        "df"
      ],
      "id": "226d2e4e",
      "execution_count": null,
      "outputs": []
    },
    {
      "cell_type": "markdown",
      "metadata": {},
      "source": [
        "#### PIBA = PIB Anual\n",
        "\n",
        "La información se encuentra en la viñeta \"Sector Real\" de la [página web del BCH](https://www.bch.hn/estadisticas-y-publicaciones-economicas/reportes-dinamicos/sector-real).\n"
      ],
      "id": "75d7a726"
    },
    {
      "cell_type": "code",
      "metadata": {},
      "source": [
        "res_nivel_3(\"ESR\",\"PIBA\",\"Niv_Descr_3\")"
      ],
      "id": "c8bb0332",
      "execution_count": null,
      "outputs": []
    },
    {
      "cell_type": "markdown",
      "metadata": {},
      "source": [
        "##### 01 Valores Corrientes y Constantes, por Actividad Económica\n"
      ],
      "id": "1708bd1b"
    },
    {
      "cell_type": "code",
      "metadata": {},
      "source": [
        "res_nivel_4(\n",
        "    \"ESR\",\"PIBA\",\n",
        "    \"Niv_Gr_3\",\n",
        "    \"01\",\n",
        "    \"Niv_Descr_4\")"
      ],
      "id": "9cc29f4e",
      "execution_count": null,
      "outputs": []
    },
    {
      "cell_type": "markdown",
      "metadata": {},
      "source": [
        "* Rama de Actividad Económica (RAE)\n",
        "* Series Agregadas\n",
        "* Variación RAE\n",
        "* Variación Series Agregadas\n"
      ],
      "id": "21310bc0"
    },
    {
      "cell_type": "code",
      "metadata": {},
      "source": [
        "res_nivel_6(\n",
        "    \"ESR\",\"PIBA\",\n",
        "    \"Niv_Gr_3\",\n",
        "    \"01\",\n",
        "    \"Niv_Descr_4\",\"Niv_Descr_5\",\"Niv_Descr_6\")"
      ],
      "id": "c7147066",
      "execution_count": null,
      "outputs": []
    },
    {
      "cell_type": "markdown",
      "metadata": {},
      "source": [
        "Para saber el contenido de todas las variables:\n"
      ],
      "id": "bf147487"
    },
    {
      "cell_type": "code",
      "metadata": {},
      "source": [
        "res_nivel_7(\n",
        "    \"ESR\",\"PIBA\",\n",
        "    \"Niv_Gr_3\",\n",
        "    \"01\",\n",
        "    \"Id\",\"Niv_Descr_4\",\"Niv_Descr_5\",\"Niv_Descr_6\")"
      ],
      "id": "916540e8",
      "execution_count": null,
      "outputs": []
    },
    {
      "cell_type": "markdown",
      "metadata": {},
      "source": [
        "Resultados de una sola variable:\n"
      ],
      "id": "9c10c7a3"
    },
    {
      "cell_type": "code",
      "metadata": {},
      "source": [
        "Id = 101\n",
        "df = get_df(Id)\n",
        "# get_plot(Id)\n",
        "df"
      ],
      "id": "a2859a2c",
      "execution_count": null,
      "outputs": []
    },
    {
      "cell_type": "markdown",
      "metadata": {},
      "source": [
        "##### 02 Precios y Variación, por Componente del Gasto\n"
      ],
      "id": "19938a57"
    },
    {
      "cell_type": "code",
      "metadata": {},
      "source": [
        "res_nivel_4(\n",
        "    \"ESR\",\"PIBA\",\n",
        "    \"Niv_Gr_3\",\n",
        "    \"02\",\n",
        "    \"Niv_Descr_4\")"
      ],
      "id": "aa652fc5",
      "execution_count": null,
      "outputs": []
    },
    {
      "cell_type": "markdown",
      "metadata": {},
      "source": [
        "Tipo de Valores (\"Niv_Descr_5\"):\n",
        "\n",
        "* Corrientes\n",
        "* Constantes\n"
      ],
      "id": "052e803f"
    },
    {
      "cell_type": "code",
      "metadata": {},
      "source": [
        "res_nivel_6(\n",
        "    \"ESR\",\"PIBA\",\n",
        "    \"Niv_Gr_3\",\n",
        "    \"02\",\n",
        "    \"Niv_Descr_4\",\"Niv_Descr_5\",\"Niv_Descr_6\")"
      ],
      "id": "2aa70510",
      "execution_count": null,
      "outputs": []
    },
    {
      "cell_type": "markdown",
      "metadata": {},
      "source": [
        "Para saber el contenido de todas las variables:\n"
      ],
      "id": "63bd5c99"
    },
    {
      "cell_type": "code",
      "metadata": {},
      "source": [
        "res_nivel_7(\n",
        "    \"ESR\",\"PIBA\",\n",
        "    \"Niv_Gr_3\",\n",
        "    \"02\",\n",
        "    \"Id\",\"Niv_Descr_4\",\"Niv_Descr_5\",\"Niv_Descr_6\")"
      ],
      "id": "7e76bfdd",
      "execution_count": null,
      "outputs": []
    },
    {
      "cell_type": "markdown",
      "metadata": {},
      "source": [
        "Resultados de una sola variable:\n"
      ],
      "id": "1da9e6e2"
    },
    {
      "cell_type": "code",
      "metadata": {},
      "source": [
        "Id = 194\n",
        "df = get_df(Id)\n",
        "# get_plot(Id)\n",
        "df"
      ],
      "id": "353360dc",
      "execution_count": null,
      "outputs": []
    },
    {
      "cell_type": "markdown",
      "metadata": {},
      "source": [
        "##### 03 Precios y Variación, por Componente del Ingreso\n"
      ],
      "id": "54542377"
    },
    {
      "cell_type": "code",
      "metadata": {},
      "source": [
        "res_nivel_4(\n",
        "    \"ESR\",\"PIBA\",\n",
        "    \"Niv_Gr_3\",\n",
        "    \"03\",\n",
        "    \"Niv_Descr_4\")"
      ],
      "id": "855cd029",
      "execution_count": null,
      "outputs": []
    },
    {
      "cell_type": "markdown",
      "metadata": {},
      "source": [
        "* Remuneración de los asalariados\n",
        "* Impuestos netos de subvenciones sobre la producción y las importaciones\n",
        "* Excedente de Explotación bruto\n",
        "* Ingreso Mixto bruto\n",
        "* Producto Interno Bruto (pm)\n"
      ],
      "id": "5f0ed2ec"
    },
    {
      "cell_type": "code",
      "metadata": {},
      "source": [
        "res_nivel_5(\n",
        "    \"ESR\",\"PIBA\",\n",
        "    \"Niv_Gr_3\",\n",
        "    \"03\",\n",
        "    \"Niv_Descr_4\",\"Niv_Descr_5\")"
      ],
      "id": "07ecc1e7",
      "execution_count": null,
      "outputs": []
    },
    {
      "cell_type": "markdown",
      "metadata": {},
      "source": [
        "Para saber el contenido de todas las variables:\n"
      ],
      "id": "2be86724"
    },
    {
      "cell_type": "code",
      "metadata": {},
      "source": [
        "res_nivel_7(\n",
        "    \"ESR\",\"PIBA\",\n",
        "    \"Niv_Gr_3\",\n",
        "    \"03\",\n",
        "    \"Id\",\"Nombre\",\"Niv_Descr_4\",\"Niv_Descr_5\")"
      ],
      "id": "2d74812a",
      "execution_count": null,
      "outputs": []
    },
    {
      "cell_type": "markdown",
      "metadata": {},
      "source": [
        "Resultados de una sola variable:\n"
      ],
      "id": "7a566cad"
    },
    {
      "cell_type": "code",
      "metadata": {},
      "source": [
        "Id = 202\n",
        "df = get_df(Id)\n",
        "# get_plot(Id)\n",
        "df"
      ],
      "id": "181e87d7",
      "execution_count": null,
      "outputs": []
    },
    {
      "cell_type": "markdown",
      "metadata": {},
      "source": [
        "##### 04 Dólares y Lempiras\n"
      ],
      "id": "024584aa"
    },
    {
      "cell_type": "code",
      "metadata": {},
      "source": [
        "res_nivel_4(\n",
        "    \"ESR\",\"PIBA\",\n",
        "    \"Niv_Gr_3\",\n",
        "    \"04\",\n",
        "    \"Niv_Descr_4\")"
      ],
      "id": "6e576302",
      "execution_count": null,
      "outputs": []
    },
    {
      "cell_type": "markdown",
      "metadata": {},
      "source": [
        "* Ingreso Nacional\n",
        "* Producto Interno Bruto\n",
        "* Producto Nacional Bruto\n"
      ],
      "id": "61f8872b"
    },
    {
      "cell_type": "code",
      "metadata": {},
      "source": [
        "res_nivel_5(\n",
        "    \"ESR\",\"PIBA\",\n",
        "    \"Niv_Gr_3\",\n",
        "    \"04\",\n",
        "    \"Niv_Descr_4\",\"Niv_Descr_6\")"
      ],
      "id": "cbe30652",
      "execution_count": null,
      "outputs": []
    },
    {
      "cell_type": "markdown",
      "metadata": {},
      "source": [
        "Para saber el contenido de todas las variables:\n"
      ],
      "id": "2f7627c5"
    },
    {
      "cell_type": "code",
      "metadata": {},
      "source": [
        "res_nivel_7(\n",
        "    \"ESR\",\"PIBA\",\n",
        "    \"Niv_Gr_3\",\n",
        "    \"04\",\n",
        "    \"Id\",\"Nombre\",\"Niv_Descr_4\",\"Niv_Descr_6\")"
      ],
      "id": "2b65649c",
      "execution_count": null,
      "outputs": []
    },
    {
      "cell_type": "markdown",
      "metadata": {},
      "source": [
        "Resultados de una sola variable:\n"
      ],
      "id": "3add2c49"
    },
    {
      "cell_type": "code",
      "metadata": {},
      "source": [
        "Id = 211\n",
        "df = get_df(Id)\n",
        "# get_plot(Id)\n",
        "df"
      ],
      "id": "ef063d07",
      "execution_count": null,
      "outputs": []
    },
    {
      "cell_type": "markdown",
      "metadata": {},
      "source": [
        "#### PIBT = PIB Trimestral\n",
        "\n",
        "Esta información se obtiene a partir de los datos del [Portal de Consulta del Sistema de Cuentas Trimestrales](https://sisee.bch.hn/SCNT/PortalPrincipal.aspx).\n"
      ],
      "id": "15f74e24"
    },
    {
      "cell_type": "code",
      "metadata": {},
      "source": [
        "res_nivel_3(\"ESR\",\"PIBT\",\"Niv_Gr_3\")"
      ],
      "id": "81794a35",
      "execution_count": null,
      "outputs": []
    },
    {
      "cell_type": "markdown",
      "metadata": {},
      "source": [
        "* PROD = PIB Trimestral por el Enfoque de la Producción\n",
        "* GAST = PIB Trimestral por el Enfoque del Gasto\n",
        "* TDC = Tasas de Crecimiento\n",
        "\n",
        "##### PROD = PIB Trimestral por el Enfoque de la Producción\n",
        "\n",
        "* Serie Original\n",
        "* Serie Desestacionalizada\n",
        "* Valores Corrientes\n",
        "* Valores Constantes\n",
        "\n",
        "Para saber el contenido de todas las variables:\n"
      ],
      "id": "5977d302"
    },
    {
      "cell_type": "code",
      "metadata": {},
      "source": [
        "res_nivel_7(\n",
        "    \"ESR\",\"PIBT\",\n",
        "    \"Niv_Gr_3\",\n",
        "    \"PROD\",\n",
        "    \"Id\",\"Niv_Descr_1\",\"Niv_Descr_2\",\"Niv_Descr_4\")"
      ],
      "id": "a1e33df3",
      "execution_count": null,
      "outputs": []
    },
    {
      "cell_type": "markdown",
      "metadata": {},
      "source": [
        "Resultados de una sola variable:\n"
      ],
      "id": "7eab44d4"
    },
    {
      "cell_type": "code",
      "metadata": {},
      "source": [
        "Id = 2\n",
        "df = get_df(Id)\n",
        "# get_plot(Id)\n",
        "df"
      ],
      "id": "d3875612",
      "execution_count": null,
      "outputs": []
    },
    {
      "cell_type": "markdown",
      "metadata": {},
      "source": [
        "##### GAST = PIB Trimestral por el Enfoque del Gasto\n",
        "\n",
        "* Serie Original\n",
        "* Serie Desestacionalizada\n",
        "* Valores Corrientes\n",
        "* Valores Constantes\n",
        "\n",
        "Para saber el contenido de todas las variables:\n"
      ],
      "id": "e8f89cac"
    },
    {
      "cell_type": "code",
      "metadata": {},
      "source": [
        "res_nivel_7(\n",
        "    \"ESR\",\"PIBT\",\n",
        "    \"Niv_Gr_3\",\n",
        "    \"GAST\",\n",
        "    \"Id\",\"Niv_Descr_1\",\"Niv_Descr_2\",\"Niv_Descr_4\")"
      ],
      "id": "f2f66de8",
      "execution_count": null,
      "outputs": []
    },
    {
      "cell_type": "markdown",
      "metadata": {},
      "source": [
        "Resultados de una sola variable:\n"
      ],
      "id": "cc0c70f3"
    },
    {
      "cell_type": "code",
      "metadata": {},
      "source": [
        "Id = 8\n",
        "df = get_df(Id)\n",
        "# get_plot(Id)\n",
        "df"
      ],
      "id": "36edaccb",
      "execution_count": null,
      "outputs": []
    },
    {
      "cell_type": "markdown",
      "metadata": {},
      "source": [
        "##### TDC = Tasas de Crecimiento\n",
        "\n",
        "* Serie Original\n",
        "* Serie Desestacionalizada\n",
        "* Valores Corrientes\n",
        "* Valores Constantes\n",
        "\n",
        "Para saber el contenido de todas las variables:\n"
      ],
      "id": "d0e23d46"
    },
    {
      "cell_type": "code",
      "metadata": {},
      "source": [
        "res_nivel_6(\n",
        "    \"ESR\",\"PIBT\",\n",
        "    \"Niv_Gr_3\",\n",
        "    \"TDC\",\n",
        "    \"Id\",\"Nombre\",\"Niv_Descr_1\")"
      ],
      "id": "b1a667ae",
      "execution_count": null,
      "outputs": []
    },
    {
      "cell_type": "markdown",
      "metadata": {},
      "source": [
        "Resultados de una sola variable:\n"
      ],
      "id": "c548232a"
    },
    {
      "cell_type": "code",
      "metadata": {},
      "source": [
        "Id = 98\n",
        "df = get_df(Id)\n",
        "# get_plot(Id)\n",
        "df"
      ],
      "id": "050d5fee",
      "execution_count": null,
      "outputs": []
    },
    {
      "cell_type": "markdown",
      "metadata": {},
      "source": [
        "#### ODA = Oferta y Demanda Agregada\n",
        "\n",
        "* Oferta Global\n",
        "* Demanda Global\n"
      ],
      "id": "cc8dcf64"
    },
    {
      "cell_type": "code",
      "metadata": {},
      "source": [
        "res_nivel_3(\"ESR\",\"ODA\",\"Niv_Descr_1\")"
      ],
      "id": "edc837f9",
      "execution_count": null,
      "outputs": []
    },
    {
      "cell_type": "markdown",
      "metadata": {},
      "source": [
        "##### Oferta Global\n",
        "\n",
        "Estas tablas están agrupadas de dos maneras:\n",
        "\n",
        "1. Variables con valores en \"Niv_Descr_2\" y \"Niv_Descr_3\", corresponde a las siguientes series:\n",
        "\n",
        "* AGRICULTURA, GANADERÍA, CAZA, SILVICULTURA Y PESCA (A PRECIOS BÁSICOS)\n",
        "* COMERCIO, HOTELES Y RESTAURANTES (A PRECIOS BÁSICOS)\n",
        "* CONSTRUCCIÓN (A PRECIOS BÁSICOS)\n",
        "* EXPLOTACIÓN DE MINAS Y CANTERAS (A PRECIOS BÁSICOS)\n",
        "* INDUSTRIA MANUFACTURERA (A PRECIOS BÁSICOS)\n",
        "* MENOS: SERVICIOS DE INTERMEDIACIÓN FINANCIERA MEDIDOS INDIRECTAMENTE (A PRECIOS BÁSICOS)\n",
        "\n",
        "El tipo de valor (\"Niv_Descr_4\") de dichas variables es:\n",
        "\n",
        "* EN MILLONES DE LEMPIRAS CONSTANTES\n",
        "* EN MILLONES DE LEMPIRAS CORRIENTES\n",
        "* VARIACIONES RELATIVAS CONSTANTE\n",
        "* VARIACIONES RELATIVAS CORRIENTES\n"
      ],
      "id": "c732ec44"
    },
    {
      "cell_type": "code",
      "metadata": {},
      "source": [
        "res_nivel_7(\n",
        "    \"ESR\",\"ODA\",\n",
        "    \"Niv_Descr_1\",\n",
        "    \"OFERTA GLOBAL\",\n",
        "    \"Id\",\"Niv_Descr_2\",\"Niv_Descr_3\",\"Niv_Descr_4\"\n",
        "    ).filter((pl.col('Niv_Descr_2') != \"\"))"
      ],
      "id": "ff4b206b",
      "execution_count": null,
      "outputs": []
    },
    {
      "cell_type": "markdown",
      "metadata": {},
      "source": [
        "Resultados de una sola variable:\n"
      ],
      "id": "e5612e1e"
    },
    {
      "cell_type": "code",
      "metadata": {},
      "source": [
        "Id = 11518\n",
        "df = get_df(Id)\n",
        "# get_plot(Id)\n",
        "df"
      ],
      "id": "2030821f",
      "execution_count": null,
      "outputs": []
    },
    {
      "cell_type": "markdown",
      "metadata": {},
      "source": [
        "2. Variables sin valores en \"Niv_Descr_2\" y \"Niv_Descr_3\", corresponde a las siguientes series:\n",
        "\n",
        "* IMPORTACIONES DE BIENES Y SERVICIOS C.I.F.\n",
        "* IMPUESTOS NETOS DE SUBVENCIONES SOBRE LA PRODUCCIÓN Y LAS IMPORTACIONES\n",
        "* OFERTA GLOBAL\n",
        "* OTROS SERVICIOS (A PRECIOS BÃSICOS)\n",
        "* PRODUCTO INTERNO BRUTO A PRECIOS DE MERCADO\n",
        "* TOTAL VALOR AGREGADO BRUTO A PRECIOS BÁSICOS\n",
        "* VALOR AGREGADO BRUTO\n",
        "* VALOR AGREGADO BRUTO A PRECIOS BÁSICOS\n",
        "\n",
        "El tipo de valor (\"Niv_Descr_5\") de dichas variables es:\n",
        "\n",
        "* EN MILLONES DE LEMPIRAS CONSTANTES\n",
        "* EN MILLONES DE LEMPIRAS CORRIENTES\n",
        "* VARIACIONES RELATIVAS CONSTANTE\n",
        "* VARIACIONES RELATIVAS CORRIENTES\n",
        "\n",
        "Para saber el contenido de todas las variables:\n"
      ],
      "id": "d73a78aa"
    },
    {
      "cell_type": "code",
      "metadata": {},
      "source": [
        "res_nivel_7(\n",
        "    \"ESR\",\"ODA\",\n",
        "    \"Niv_Descr_1\",\n",
        "    \"OFERTA GLOBAL\",\n",
        "    \"Id\",\"Niv_Descr_2\",\"Niv_Descr_4\",\"Niv_Descr_5\"\n",
        "    ).filter((pl.col('Niv_Descr_2') == \"\"))"
      ],
      "id": "ae0d2e65",
      "execution_count": null,
      "outputs": []
    },
    {
      "cell_type": "markdown",
      "metadata": {},
      "source": [
        "Resultados de una sola variable:\n"
      ],
      "id": "58395e8e"
    },
    {
      "cell_type": "code",
      "metadata": {},
      "source": [
        "Id = 11473\n",
        "df = get_df(Id)\n",
        "# get_plot(Id)\n",
        "df"
      ],
      "id": "11d7f84a",
      "execution_count": null,
      "outputs": []
    },
    {
      "cell_type": "markdown",
      "metadata": {},
      "source": [
        "##### Demanda Global\n",
        "\n",
        "Estas tablas están agrupadas de dos maneras:\n",
        "\n",
        "1. Variables con valores en \"Niv_Descr_2\" y \"Niv_Descr_3\", corresponde a las siguientes series:\n",
        "\n",
        "* FORMACIÓN BRUTA DE CAPITAL FIJO\n",
        "* GASTOS DE CONSUMO FINAL\n",
        "\n",
        "De \"Niv_Descr_3\" se obtiene:\n",
        "\n",
        "* SECTOR PRIVADO\n",
        "* SECTOR PÚBLICO\n",
        "\n",
        "El tipo de valor (\"Niv_Descr_4\") de dichas variables es:\n",
        "\n",
        "* EN MILLONES DE LEMPIRAS CONSTANTES\n",
        "* EN MILLONES DE LEMPIRAS CORRIENTES\n",
        "* VARIACIONES RELATIVAS CONSTANTE\n",
        "* VARIACIONES RELATIVAS CORRIENTES\n"
      ],
      "id": "d92cb39c"
    },
    {
      "cell_type": "code",
      "metadata": {},
      "source": [
        "res_nivel_7(\n",
        "    \"ESR\",\"ODA\",\n",
        "    \"Niv_Descr_1\",\n",
        "    \"DEMANDA GLOBAL\",\n",
        "    \"Id\",\"Niv_Descr_2\",\"Niv_Descr_3\",\"Niv_Descr_4\"\n",
        "    ).filter((pl.col('Niv_Descr_2') != \"\"))"
      ],
      "id": "33dc9823",
      "execution_count": null,
      "outputs": []
    },
    {
      "cell_type": "markdown",
      "metadata": {},
      "source": [
        "Resultados de una sola variable:\n"
      ],
      "id": "73c1568d"
    },
    {
      "cell_type": "code",
      "metadata": {},
      "source": [
        "Id = 11457\n",
        "df = get_df(Id)\n",
        "# get_plot(Id)\n",
        "df"
      ],
      "id": "692d6788",
      "execution_count": null,
      "outputs": []
    },
    {
      "cell_type": "markdown",
      "metadata": {},
      "source": [
        "2. Variables sin valores en \"Niv_Descr_2\" y \"Niv_Descr_3\", corresponde a las siguientes series:\n",
        "\n",
        "* DEMANDA EXTERNA\n",
        "* DEMANDA GLOBAL\n",
        "* DEMANDA INTERNA\n",
        "* EXPORTACIÓN DE BIENES Y SERVICIOS F.O.B.\n",
        "* FORMACIÓN BRUTA DE CAPITAL FIJO\n",
        "* GASTOS DE CONSUMO FINAL\n",
        "* INVERSIÓN INTERNA BRUTA\n",
        "* VARIACIÓN DE EXISTENCIAS\n",
        "\n",
        "El tipo de valor de dichas variables es:\n",
        "\n",
        "* EN MILLONES DE LEMPIRAS CONSTANTES\n",
        "* EN MILLONES DE LEMPIRAS CORRIENTES\n",
        "* VARIACIONES RELATIVAS CONSTANTE\n",
        "* VARIACIONES RELATIVAS CORRIENTES\n",
        "\n",
        "Para saber el contenido de todas las variables:\n"
      ],
      "id": "afa2f80d"
    },
    {
      "cell_type": "code",
      "metadata": {},
      "source": [
        "res_nivel_7(\n",
        "    \"ESR\",\"ODA\",\n",
        "    \"Niv_Descr_1\",\n",
        "    \"DEMANDA GLOBAL\",\n",
        "    \"Id\",\"Niv_Descr_2\",\"Niv_Descr_4\",\"Niv_Descr_5\"\n",
        "    ).filter((pl.col('Niv_Descr_2') == \"\"))"
      ],
      "id": "f12e771d",
      "execution_count": null,
      "outputs": []
    },
    {
      "cell_type": "markdown",
      "metadata": {},
      "source": [
        "Resultados de una sola variable:\n"
      ],
      "id": "b6579cc2"
    },
    {
      "cell_type": "code",
      "metadata": {},
      "source": [
        "Id = 11440\n",
        "df = get_df(Id)\n",
        "# get_plot(Id)\n",
        "df"
      ],
      "id": "983b0b89",
      "execution_count": null,
      "outputs": []
    },
    {
      "cell_type": "markdown",
      "metadata": {},
      "source": [
        "#### IMAE = Índice Mensual de la Actividad Económica\n",
        "\n",
        "Las actividades (\"Niv_Descr_4\") son:\n",
        "\n",
        "* Agricultura, Ganaderia, Silvicultura y Pesca \n",
        "* Minas y Canteras \n",
        "*  Industria Manufacturera \n",
        "* Electricidad y Agua \n",
        "* ConstrucciÃ³n \n",
        "* Comercio \n",
        "* Hoteles y Restaurantes \n",
        "* Transporte y Almacenamiento \n",
        "* Correo y Telecomunicaciones \n",
        "* Inter. Financiera, Seguros y Fondos de Pensiones \n",
        "* Otros Servicios \n",
        "* Serie Original \n",
        "* Tendencia Ciclo \n",
        "\n",
        "El tipo de valor (\"Niv_Descr_5\") de dichas variables es:\n",
        "\n",
        "* Acumulada\n",
        "* Interanual\n",
        "* Índice\n"
      ],
      "id": "2c0c878b"
    },
    {
      "cell_type": "code",
      "metadata": {},
      "source": [
        "res_nivel_3(\"ESR\",\"IMAE\",\"Niv_Descr_2\")"
      ],
      "id": "f4df910a",
      "execution_count": null,
      "outputs": []
    },
    {
      "cell_type": "markdown",
      "metadata": {},
      "source": [
        "Para saber el contenido de todas las variables:\n"
      ],
      "id": "fc1e9365"
    },
    {
      "cell_type": "code",
      "metadata": {},
      "source": [
        "res_nivel_6(\n",
        "    \"ESR\",\"IMAE\",\n",
        "    \"Niv_Descr_2\",\n",
        "    \"IMAE\",\n",
        "    \"Id\",\"Niv_Descr_4\",\"Niv_Descr_5\")"
      ],
      "id": "54dbf7af",
      "execution_count": null,
      "outputs": []
    },
    {
      "cell_type": "markdown",
      "metadata": {},
      "source": [
        "Resultados de una sola variable:\n"
      ],
      "id": "62b4fe4d"
    },
    {
      "cell_type": "code",
      "metadata": {},
      "source": [
        "Id = 372\n",
        "df = get_df(Id)\n",
        "# get_plot(Id)\n",
        "df"
      ],
      "id": "06b8faae",
      "execution_count": null,
      "outputs": []
    },
    {
      "cell_type": "markdown",
      "metadata": {},
      "source": [
        "### ESE = Estadísticas del Sector Externo\n"
      ],
      "id": "cbe0c71a"
    },
    {
      "cell_type": "code",
      "metadata": {},
      "source": [
        "res_nivel_2(\"ESE\")"
      ],
      "id": "1b6eeca3",
      "execution_count": null,
      "outputs": []
    },
    {
      "cell_type": "markdown",
      "metadata": {},
      "source": [
        "* DE = Deuda Externa\n",
        "* CEB = Comercio Exterior de Bienes\n",
        "* BP = Balanza de Pagos\n",
        "* IES = Ingresos y Egresos de Servicios\n",
        "* PII = Posición de Inversión Inernacional\n",
        "* IED = Inversión Extranjera Directa\n",
        "\n",
        "#### DE = Deuda Externa\n"
      ],
      "id": "5fbb08b6"
    },
    {
      "cell_type": "code",
      "metadata": {},
      "source": [
        "res_nivel_3(\"ESE\",\"DE\",\"Niv_Gr_3\")"
      ],
      "id": "b5747d31",
      "execution_count": null,
      "outputs": []
    },
    {
      "cell_type": "markdown",
      "metadata": {},
      "source": [
        "##### 01 - Deudor\n",
        "\n",
        "Para ver todas las variables:\n"
      ],
      "id": "cb049ed2"
    },
    {
      "cell_type": "code",
      "metadata": {},
      "source": [
        "res_nivel_7(\n",
        "    \"ESE\",\"DE\",\n",
        "    \"Niv_Gr_3\",\"01\",\n",
        "    \"Id\",\"Nombre\",\"Niv_Descr_1\",\"Niv_Descr_2\").sort(\"Nombre\")"
      ],
      "id": "c68c674b",
      "execution_count": null,
      "outputs": []
    },
    {
      "cell_type": "markdown",
      "metadata": {},
      "source": [
        "Resultados de una sola variable:\n"
      ],
      "id": "e4d8b380"
    },
    {
      "cell_type": "code",
      "metadata": {},
      "source": [
        "Id = 6710\n",
        "df = get_df(Id)\n",
        "# get_plot(Id)\n",
        "df"
      ],
      "id": "af98df5d",
      "execution_count": null,
      "outputs": []
    },
    {
      "cell_type": "markdown",
      "metadata": {},
      "source": [
        "##### 02 - Acreedor\n",
        "\n",
        "Para ver todas las variables:\n"
      ],
      "id": "c386e773"
    },
    {
      "cell_type": "code",
      "metadata": {},
      "source": [
        "res_nivel_7(\n",
        "    \"ESE\",\"DE\",\n",
        "    \"Niv_Gr_3\",\"02\",\n",
        "    \"Id\",\"Nombre\",\"Niv_Descr_1\",\"Niv_Descr_2\").sort(\"Nombre\")"
      ],
      "id": "4daa4bf3",
      "execution_count": null,
      "outputs": []
    },
    {
      "cell_type": "markdown",
      "metadata": {},
      "source": [
        "Resultados de una sola variable:\n"
      ],
      "id": "d70e0960"
    },
    {
      "cell_type": "code",
      "metadata": {},
      "source": [
        "Id = 6714\n",
        "df = get_df(Id)\n",
        "# get_plot(Id)\n",
        "df"
      ],
      "id": "6d06115c",
      "execution_count": null,
      "outputs": []
    },
    {
      "cell_type": "markdown",
      "metadata": {},
      "source": [
        "##### 03 - Por Institución\n",
        "\n",
        "* Banco Central\n",
        "* Gobierno general\n",
        "* Otras sociedades financieras\n",
        "* Otros Sectores\n",
        "* Saldo bruto de la deuda externa\n",
        "* Sociedades no financieras\n"
      ],
      "id": "9f76be1e"
    },
    {
      "cell_type": "code",
      "metadata": {},
      "source": [
        "res_nivel_4(\n",
        "    \"ESE\",\"DE\",\n",
        "    \"Niv_Gr_3\",\n",
        "    \"03\",\n",
        "    \"Niv_Descr_1\")"
      ],
      "id": "03d83467",
      "execution_count": null,
      "outputs": []
    },
    {
      "cell_type": "markdown",
      "metadata": {},
      "source": [
        "* Asignación de Derechos especiales de giro\n",
        "* Asignación de Derechos especiales de giro \n",
        "* Créditos y anticipos comerciales\n",
        "* Créditos y anticipos comerciales \n",
        "* Moneda y depósitos\n",
        "* Moneda y depósitos \n",
        "* Otros pasivos de deuda\n",
        "* Otros pasivos de deuda \n",
        "* Préstamos\n",
        "* Préstamos \n",
        "* Tí­tulos de deuda\n",
        "* Tí­tulos de deuda \n",
        "* Saldo bruto de la deuda externa\n",
        "* Saldo bruto de la deuda externa \n"
      ],
      "id": "a3799bcb"
    },
    {
      "cell_type": "code",
      "metadata": {},
      "source": [
        "res_nivel_4(\n",
        "    \"ESE\",\"DE\",\n",
        "    \"Niv_Gr_3\",\n",
        "    \"03\",\n",
        "    \"Niv_Descr_2\")"
      ],
      "id": "9268ef8f",
      "execution_count": null,
      "outputs": []
    },
    {
      "cell_type": "code",
      "metadata": {},
      "source": [
        "res_nivel_7(\n",
        "    \"ESE\",\"DE\",\n",
        "    \"Niv_Gr_3\",\"03\",\n",
        "    \"Id\",\"Niv_Descr_1\",\"Niv_Descr_2\",\"Niv_Descr_3\")"
      ],
      "id": "bf8651f5",
      "execution_count": null,
      "outputs": []
    },
    {
      "cell_type": "markdown",
      "metadata": {},
      "source": [
        "Para ver todas las variables (Nota: el nivel de descripción sigue):\n"
      ],
      "id": "9291dfb7"
    },
    {
      "cell_type": "code",
      "metadata": {},
      "source": [
        "df_all.filter(\n",
        "    pl.col(\"Niv_Gr_1\") == \"ESE\",\n",
        "    pl.col(\"Niv_Gr_2\") == \"DE\",\n",
        "    pl.col(\"Niv_Gr_3\") == \"03\"\n",
        "    ).select(pl.all().exclude(\n",
        "        \"Niv_Descr_6\",\"Niv_Descr_7\",\"Niv_Descr_8\",\n",
        "        \"Niv_Gr_4\",\"Niv_Gr_5\"))"
      ],
      "id": "19d0ee77",
      "execution_count": null,
      "outputs": []
    },
    {
      "cell_type": "markdown",
      "metadata": {},
      "source": [
        "Resultados de una sola variable:\n"
      ],
      "id": "720dd4f2"
    },
    {
      "cell_type": "code",
      "metadata": {},
      "source": [
        "Id = 6720\n",
        "df = get_df(Id)\n",
        "# get_plot(Id)\n",
        "df"
      ],
      "id": "cfdf576f",
      "execution_count": null,
      "outputs": []
    },
    {
      "cell_type": "markdown",
      "metadata": {},
      "source": [
        "##### 04 - Pagos que vencen en un año o menos\n",
        "\n",
        "* Gobierno general\n",
        "* Banco Central\n",
        "* Otros Sectores\n",
        "* Otras sociedades financieras\n",
        "* Sociedades no financieras\n",
        "* Deuda externa total a corto plazo\n"
      ],
      "id": "8d2d2d27"
    },
    {
      "cell_type": "code",
      "metadata": {},
      "source": [
        "res_nivel_4(\n",
        "    \"ESE\",\"DE\",\n",
        "    \"Niv_Gr_3\",\n",
        "    \"04\",\n",
        "    \"Niv_Descr_1\")"
      ],
      "id": "a8d83f1d",
      "execution_count": null,
      "outputs": []
    },
    {
      "cell_type": "markdown",
      "metadata": {},
      "source": [
        "* A corto plazo según el vencimiento original\n",
        "* A largo plazo exigible dentro de un año o antes\n",
        "* Deuda externa total a corto plazo\n"
      ],
      "id": "6891921f"
    },
    {
      "cell_type": "code",
      "metadata": {},
      "source": [
        "res_nivel_4(\n",
        "    \"ESE\",\"DE\",\n",
        "    \"Niv_Gr_3\",\n",
        "    \"04\",\n",
        "    \"Niv_Descr_2\")"
      ],
      "id": "d1611ef7",
      "execution_count": null,
      "outputs": []
    },
    {
      "cell_type": "markdown",
      "metadata": {},
      "source": [
        "* Asignación de Derechos especiales de giro\n",
        "* Moneda y depósitos\n",
        "* Tí­tulos de deuda\n",
        "* Préstamos\n",
        "* Créditos y anticipos comerciales\n",
        "* Otros pasivos de deuda\n",
        "* Deuda externa total a corto plazo (según el vencimiento residual)\n"
      ],
      "id": "6bd5a4fd"
    },
    {
      "cell_type": "code",
      "metadata": {},
      "source": [
        "res_nivel_4(\n",
        "    \"ESE\",\"DE\",\n",
        "    \"Niv_Gr_3\",\n",
        "    \"04\",\n",
        "    \"Niv_Descr_3\")"
      ],
      "id": "1c831c1e",
      "execution_count": null,
      "outputs": []
    },
    {
      "cell_type": "markdown",
      "metadata": {},
      "source": [
        "Para ver todas las variables:\n"
      ],
      "id": "6c5e63ba"
    },
    {
      "cell_type": "code",
      "metadata": {},
      "source": [
        "res_nivel_7(\n",
        "    \"ESE\",\"DE\",\n",
        "    \"Niv_Gr_3\",\n",
        "    \"04\",\n",
        "    \"Id\",\"Niv_Descr_1\",\"Niv_Descr_2\",\"Niv_Descr_3\").sort(\"Id\")"
      ],
      "id": "c3f25ce6",
      "execution_count": null,
      "outputs": []
    },
    {
      "cell_type": "markdown",
      "metadata": {},
      "source": [
        "**OJO: REVISAR LA CONSULTA A PARTIR DE 7392 HASTA 7446**\n",
        "\n",
        "Resultados de una sola variable:\n"
      ],
      "id": "d8f98c20"
    },
    {
      "cell_type": "code",
      "metadata": {},
      "source": [
        "Id = 7447 # 7392 - 7446\n",
        "df = get_df(Id)\n",
        "# get_plot(Id)\n",
        "df"
      ],
      "id": "8d839199",
      "execution_count": null,
      "outputs": []
    },
    {
      "cell_type": "markdown",
      "metadata": {},
      "source": [
        "#### CEB = Comercio Exterior de Bienes\n"
      ],
      "id": "2e90e331"
    },
    {
      "cell_type": "code",
      "metadata": {},
      "source": [
        "res_nivel_3(\"ESE\",\"CEB\",\"Niv_Gr_3\")"
      ],
      "id": "42418229",
      "execution_count": null,
      "outputs": []
    },
    {
      "cell_type": "markdown",
      "metadata": {},
      "source": [
        "##### 01 - Productos\n",
        "\n",
        "* Banano\n",
        "* Café\n",
        "* Aceite de Palma\n",
        "* Camarones\n",
        "* Melones y Sandí­as\n",
        "* Legumbres y Hortalizas\n",
        "* Puros o Cigarros\n",
        "* Textiles\n",
        "* Jabones\n",
        "* Plásticos y su Manufacturas\n",
        "* Papel y Cartón\n"
      ],
      "id": "3622642b"
    },
    {
      "cell_type": "code",
      "metadata": {},
      "source": [
        "res_nivel_4(\n",
        "    \"ESE\",\"CEB\",\n",
        "    \"Niv_Gr_3\",\n",
        "    \"01\",\n",
        "    \"Niv_Descr_5\")"
      ],
      "id": "f2628a49",
      "execution_count": null,
      "outputs": []
    },
    {
      "cell_type": "markdown",
      "metadata": {},
      "source": [
        "* Volumen\n",
        "* Valor\n",
        "* Precio\n"
      ],
      "id": "8ed3d4f3"
    },
    {
      "cell_type": "code",
      "metadata": {},
      "source": [
        "res_nivel_4(\n",
        "    \"ESE\",\"CEB\",\n",
        "    \"Niv_Gr_3\",\n",
        "    \"01\",\n",
        "    \"Niv_Descr_6\")"
      ],
      "id": "cbc40302",
      "execution_count": null,
      "outputs": []
    },
    {
      "cell_type": "markdown",
      "metadata": {},
      "source": [
        "* Trimestral\n",
        "* Anual\n"
      ],
      "id": "e363d853"
    },
    {
      "cell_type": "code",
      "metadata": {},
      "source": [
        "res_nivel_4(\n",
        "    \"ESE\",\"CEB\",\n",
        "    \"Niv_Gr_3\",\n",
        "    \"01\",\n",
        "    \"Niv_Descr_7\")"
      ],
      "id": "77db6d66",
      "execution_count": null,
      "outputs": []
    },
    {
      "cell_type": "markdown",
      "metadata": {},
      "source": [
        "**OJO: \"Niv_Descr_7\" y \"Niv_Descr_8\" son iguales**\n",
        "\n",
        "Para ver todas las variables:\n"
      ],
      "id": "9fb0b76f"
    },
    {
      "cell_type": "code",
      "metadata": {},
      "source": [
        "res_nivel_7(\n",
        "    \"ESE\",\"CEB\",\n",
        "    \"Niv_Gr_3\",\n",
        "    \"01\",\"Id\",\"Niv_Descr_5\",\"Niv_Descr_6\",\"Niv_Descr_7\")"
      ],
      "id": "db0ce2a4",
      "execution_count": null,
      "outputs": []
    },
    {
      "cell_type": "markdown",
      "metadata": {},
      "source": [
        "Resultados de una sola variable:\n"
      ],
      "id": "2b293015"
    },
    {
      "cell_type": "code",
      "metadata": {},
      "source": [
        "Id = 441\n",
        "df = get_df(Id)\n",
        "# get_plot(Id)\n",
        "df"
      ],
      "id": "5952790b",
      "execution_count": null,
      "outputs": []
    },
    {
      "cell_type": "markdown",
      "metadata": {},
      "source": [
        "##### 02 - Combustibles\n",
        "\n",
        "* Gasolina regular\n",
        "* Bunker\n",
        "* Diesel\n",
        "* Total combustibles\n",
        "* Gasolina superior\n",
        "* Kerosene\n",
        "* LPG\n"
      ],
      "id": "eb689f23"
    },
    {
      "cell_type": "code",
      "metadata": {},
      "source": [
        "res_nivel_4(\n",
        "    \"ESE\",\"CEB\",\n",
        "    \"Niv_Gr_3\",\n",
        "    \"02\",\n",
        "    \"Niv_Descr_5\")"
      ],
      "id": "fc25195e",
      "execution_count": null,
      "outputs": []
    },
    {
      "cell_type": "markdown",
      "metadata": {},
      "source": [
        "* Barriles\n",
        "* Valor\n",
        "* Precio\n"
      ],
      "id": "ed384838"
    },
    {
      "cell_type": "code",
      "metadata": {},
      "source": [
        "res_nivel_4(\n",
        "    \"ESE\",\"CEB\",\n",
        "    \"Niv_Gr_3\",\n",
        "    \"02\",\n",
        "    \"Niv_Descr_6\")"
      ],
      "id": "a398c8da",
      "execution_count": null,
      "outputs": []
    },
    {
      "cell_type": "markdown",
      "metadata": {},
      "source": [
        "Para ver todas las variables:\n"
      ],
      "id": "6f946065"
    },
    {
      "cell_type": "code",
      "metadata": {},
      "source": [
        "res_nivel_7(\n",
        "    \"ESE\",\"CEB\",\n",
        "    \"Niv_Gr_3\",\n",
        "    \"02\",\"Id\",\"Nombre\",\"Niv_Descr_5\",\"Niv_Descr_6\")"
      ],
      "id": "632837c3",
      "execution_count": null,
      "outputs": []
    },
    {
      "cell_type": "markdown",
      "metadata": {},
      "source": [
        "Resultados de una sola variable:\n"
      ],
      "id": "4251bd10"
    },
    {
      "cell_type": "code",
      "metadata": {},
      "source": [
        "Id = 503\n",
        "df = get_df(Id)\n",
        "get_plot(Id)\n",
        "df"
      ],
      "id": "612635c1",
      "execution_count": null,
      "outputs": []
    },
    {
      "cell_type": "markdown",
      "metadata": {},
      "source": [
        "##### 03\n",
        "\n",
        "* Importaciones AE \n",
        "* Importaciones BT Sección \n",
        "* Importaciones Secciones \n"
      ],
      "id": "909b4164"
    },
    {
      "cell_type": "code",
      "metadata": {},
      "source": [
        "res_nivel_4(\n",
        "    \"ESE\",\"CEB\",\n",
        "    \"Niv_Gr_3\",\n",
        "    \"03\",\n",
        "    \"Niv_Descr_1\")"
      ],
      "id": "51b358f4",
      "execution_count": null,
      "outputs": []
    },
    {
      "cell_type": "markdown",
      "metadata": {},
      "source": [
        "Los dos primeros grupos solamente tienen un nivel de descripción:\n",
        "\n",
        "###### Importaciones AE\n"
      ],
      "id": "b30a772f"
    },
    {
      "cell_type": "code",
      "metadata": {},
      "source": [
        "res_nivel_7(\n",
        "    \"ESE\",\"CEB\",\n",
        "    \"Niv_Gr_3\",\n",
        "    \"03\",\"Id\",\"Nombre\",\"Niv_Descr_1\",\"Niv_Descr_2\"\n",
        "    ).filter(\n",
        "    pl.col(\"Niv_Descr_1\") == \"Importaciones AE \")"
      ],
      "id": "e38c1161",
      "execution_count": null,
      "outputs": []
    },
    {
      "cell_type": "markdown",
      "metadata": {},
      "source": [
        "###### Importaciones BT Sección \n"
      ],
      "id": "25b41cc7"
    },
    {
      "cell_type": "code",
      "metadata": {},
      "source": [
        "res_nivel_7(\n",
        "    \"ESE\",\"CEB\",\n",
        "    \"Niv_Gr_3\",\n",
        "    \"03\",\"Id\",\"Nombre\",\"Niv_Descr_1\",\"Niv_Descr_2\"\n",
        "    ).filter(\n",
        "    pl.col(\"Niv_Descr_1\") == \"Importaciones BT Sección \")"
      ],
      "id": "7db3c16e",
      "execution_count": null,
      "outputs": []
    },
    {
      "cell_type": "markdown",
      "metadata": {},
      "source": [
        "El tercer grupo tiene dos niveles de descripción\n",
        "\n",
        "###### Importaciones Secciones \n",
        "\n",
        "* Valores en Millones de USD\n",
        "* Peso en Kilos\n"
      ],
      "id": "4423aa5d"
    },
    {
      "cell_type": "code",
      "metadata": {},
      "source": [
        "res_nivel_7(\n",
        "    \"ESE\",\"CEB\",\n",
        "    \"Niv_Gr_3\",\n",
        "    \"03\",\"Id\",\"Niv_Descr_1\",\"Niv_Descr_2\",\"Niv_Descr_3\"\n",
        "    ).filter(\n",
        "    pl.col(\"Niv_Descr_1\") == \"Importaciones Secciones \")"
      ],
      "id": "15494c64",
      "execution_count": null,
      "outputs": []
    },
    {
      "cell_type": "markdown",
      "metadata": {},
      "source": [
        "Para ver todas las variables:\n"
      ],
      "id": "cd9874d6"
    },
    {
      "cell_type": "code",
      "metadata": {},
      "source": [
        "res_nivel_7(\n",
        "    \"ESE\",\"CEB\",\n",
        "    \"Niv_Gr_3\",\n",
        "    \"03\",\"Id\",\"Niv_Descr_1\",\"Niv_Descr_2\",\"Niv_Descr_3\"\n",
        "    )"
      ],
      "id": "ea10caaa",
      "execution_count": null,
      "outputs": []
    },
    {
      "cell_type": "markdown",
      "metadata": {},
      "source": [
        "Resultados de una sola variable:\n"
      ],
      "id": "45a83572"
    },
    {
      "cell_type": "code",
      "metadata": {},
      "source": [
        "Id = 6517\n",
        "df = get_df(Id)\n",
        "# get_plot(Id)\n",
        "df"
      ],
      "id": "21da55a3",
      "execution_count": null,
      "outputs": []
    },
    {
      "cell_type": "markdown",
      "metadata": {},
      "source": [
        "##### 04 AE y BT\n",
        "\n",
        "* Exportaciones AE\n",
        "* Exportaciones BT\n"
      ],
      "id": "a38254a2"
    },
    {
      "cell_type": "code",
      "metadata": {},
      "source": [
        "res_nivel_4(\n",
        "    \"ESE\",\"CEB\",\n",
        "    \"Niv_Gr_3\",\n",
        "    \"04\",\n",
        "    \"Niv_Descr_1\")"
      ],
      "id": "5f47bd87",
      "execution_count": null,
      "outputs": []
    },
    {
      "cell_type": "markdown",
      "metadata": {},
      "source": [
        "* Producto\n",
        "* Grupo Producto\n"
      ],
      "id": "0796ae94"
    },
    {
      "cell_type": "code",
      "metadata": {},
      "source": [
        "res_nivel_4(\n",
        "    \"ESE\",\"CEB\",\n",
        "    \"Niv_Gr_3\",\n",
        "    \"04\",\n",
        "    \"Niv_Descr_2\")"
      ],
      "id": "fcb674ed",
      "execution_count": null,
      "outputs": []
    },
    {
      "cell_type": "markdown",
      "metadata": {},
      "source": [
        "Para ver todas las variables:\n"
      ],
      "id": "8d7027eb"
    },
    {
      "cell_type": "code",
      "metadata": {},
      "source": [
        "res_nivel_7(\n",
        "    \"ESE\",\"CEB\",\n",
        "    \"Niv_Gr_3\",\n",
        "    \"04\",\"Id\",\"Niv_Descr_1\",\"Niv_Descr_2\",\"Niv_Descr_3\"\n",
        "    )"
      ],
      "id": "b88e74bc",
      "execution_count": null,
      "outputs": []
    },
    {
      "cell_type": "markdown",
      "metadata": {},
      "source": [
        "Resultados de una sola variable:\n"
      ],
      "id": "b8c35bf1"
    },
    {
      "cell_type": "code",
      "metadata": {},
      "source": [
        "Id = 6554\n",
        "df = get_df(Id)\n",
        "# get_plot(Id)\n",
        "df"
      ],
      "id": "430c0bb5",
      "execution_count": null,
      "outputs": []
    },
    {
      "cell_type": "markdown",
      "metadata": {},
      "source": [
        "#### BP = Balanza de Pagos\n"
      ],
      "id": "cd7b91b8"
    },
    {
      "cell_type": "code",
      "metadata": {},
      "source": [
        "res_nivel_3(\"ESE\",\"BP\",\"Niv_Gr_3\")"
      ],
      "id": "3400a057",
      "execution_count": null,
      "outputs": []
    },
    {
      "cell_type": "markdown",
      "metadata": {},
      "source": [
        "* Anual\n",
        "* Mensual\n"
      ],
      "id": "baac34aa"
    },
    {
      "cell_type": "code",
      "metadata": {},
      "source": [
        "res_nivel_4(\n",
        "    \"ESE\",\"BP\",\n",
        "    \"Niv_Gr_3\",\n",
        "    \"01\",\n",
        "    \"Niv_Descr_2\")"
      ],
      "id": "1d61b330",
      "execution_count": null,
      "outputs": []
    },
    {
      "cell_type": "markdown",
      "metadata": {},
      "source": [
        "Por Componentes:\n"
      ],
      "id": "11f461dc"
    },
    {
      "cell_type": "code",
      "metadata": {},
      "source": [
        "res_nivel_4(\n",
        "    \"ESE\",\"BP\",\n",
        "    \"Niv_Gr_3\",\n",
        "    \"01\",\n",
        "    \"Niv_Descr_1\")"
      ],
      "id": "de3a23d4",
      "execution_count": null,
      "outputs": []
    },
    {
      "cell_type": "markdown",
      "metadata": {},
      "source": [
        "Para ver todas las variables:\n"
      ],
      "id": "cb75049e"
    },
    {
      "cell_type": "code",
      "metadata": {},
      "source": [
        "res_nivel_7(\n",
        "    \"ESE\",\"BP\",\n",
        "    \"Niv_Gr_3\",\n",
        "    \"01\",\"Id\",\"Nombre\",\"Niv_Descr_2\",\"Niv_Descr_1\").sort(\"Niv_Descr_2\")"
      ],
      "id": "899f3746",
      "execution_count": null,
      "outputs": []
    },
    {
      "cell_type": "markdown",
      "metadata": {},
      "source": [
        "Resultados de una sola variable:\n"
      ],
      "id": "a4533ac2"
    },
    {
      "cell_type": "code",
      "metadata": {},
      "source": [
        "Id = 6292\n",
        "df = get_df(Id)\n",
        "# get_plot(Id)\n",
        "df"
      ],
      "id": "a632042c",
      "execution_count": null,
      "outputs": []
    },
    {
      "cell_type": "markdown",
      "metadata": {},
      "source": [
        "#### IES - Ingresos y Egresos de Servicios\n"
      ],
      "id": "1b28b584"
    },
    {
      "cell_type": "code",
      "metadata": {},
      "source": [
        "res_nivel_3(\"ESE\",\"IES\",\"Niv_Gr_3\")"
      ],
      "id": "f8947cb5",
      "execution_count": null,
      "outputs": []
    },
    {
      "cell_type": "markdown",
      "metadata": {},
      "source": [
        "Periodicidad:\n",
        "\n",
        "* Anual\n",
        "* Trimestral\n"
      ],
      "id": "5b1b1a70"
    },
    {
      "cell_type": "code",
      "metadata": {},
      "source": [
        "res_nivel_4(\n",
        "    \"ESE\",\"IES\",\n",
        "    \"Niv_Descr_3\",\n",
        "    \"01\",\"Niv_Descr_5\")"
      ],
      "id": "6990f988",
      "execution_count": null,
      "outputs": []
    },
    {
      "cell_type": "markdown",
      "metadata": {},
      "source": [
        "Ingresos y Egresos:\n",
        "\n",
        "* Exportaciones (Ingresos)\n",
        "* Importaciones (Egresos)\n"
      ],
      "id": "755c53df"
    },
    {
      "cell_type": "code",
      "metadata": {},
      "source": [
        "res_nivel_4(\n",
        "    \"ESE\",\"IES\",\n",
        "    \"Niv_Descr_3\",\n",
        "    \"01\",\"Niv_Descr_6\")"
      ],
      "id": "caae88a3",
      "execution_count": null,
      "outputs": []
    },
    {
      "cell_type": "markdown",
      "metadata": {},
      "source": [
        "Variables:\n",
        "\n",
        "* Transporte\n",
        "* Viajes\n",
        "* Servicios de Comunicaciones\n",
        "* Otros Servicios Empresariales\n",
        "* Servicios de Gobierno\n",
        "* Otros Servicios\n",
        "* Servicios de Seguro\n",
        "* Servicios de InformÃ¡tica e Información\n",
        "* Servicios de RegalÃ­as y Derechos de Licencia\n"
      ],
      "id": "e40949d9"
    },
    {
      "cell_type": "code",
      "metadata": {},
      "source": [
        "res_nivel_4(\n",
        "    \"ESE\",\"IES\",\n",
        "    \"Niv_Descr_3\",\n",
        "    \"01\",\"Niv_Descr_7\")"
      ],
      "id": "c7696091",
      "execution_count": null,
      "outputs": []
    },
    {
      "cell_type": "markdown",
      "metadata": {},
      "source": [
        "Para ver todas las variables:\n"
      ],
      "id": "694490eb"
    },
    {
      "cell_type": "code",
      "metadata": {},
      "source": [
        "res_nivel_7(\n",
        "    \"ESE\",\"IES\",\n",
        "    \"Niv_Gr_3\",\n",
        "    \"01\",\"Id\",\"Niv_Descr_5\",\"Niv_Descr_6\",\"Niv_Descr_7\")"
      ],
      "id": "ae34cb59",
      "execution_count": null,
      "outputs": []
    },
    {
      "cell_type": "markdown",
      "metadata": {},
      "source": [
        "Resultados de una sola variable:\n"
      ],
      "id": "19b70315"
    },
    {
      "cell_type": "code",
      "metadata": {},
      "source": [
        "Id = 388\n",
        "# df = get_df(Id)\n",
        "get_plot(Id)\n",
        "df"
      ],
      "id": "78f6a49c",
      "execution_count": null,
      "outputs": []
    },
    {
      "cell_type": "markdown",
      "metadata": {},
      "source": [
        "#### PII = Posición de Inversión Inernacional\n"
      ],
      "id": "da0f565d"
    },
    {
      "cell_type": "code",
      "metadata": {},
      "source": [
        "res_nivel_3(\"ESE\",\"PII\",\"Niv_Gr_3\")"
      ],
      "id": "9ef63425",
      "execution_count": null,
      "outputs": []
    },
    {
      "cell_type": "markdown",
      "metadata": {},
      "source": [
        "Agrupación:\n",
        "\n",
        "* Posición de Inversión Internacional por Categorí­a  \n",
        "* Posición de los Activos Financieros con no Residentes por Componente \n",
        "* Posición de los Pasivos Financieros con no Residentes por Componente \n",
        "* Posición de Inversión Internacional Neta por Componente \n"
      ],
      "id": "6458162c"
    },
    {
      "cell_type": "code",
      "metadata": {},
      "source": [
        "res_nivel_4(\n",
        "    \"ESE\",\"PII\",\n",
        "    \"Niv_Gr_3\",\n",
        "    \"01\",\"Niv_Descr_5\")"
      ],
      "id": "90bbd15c",
      "execution_count": null,
      "outputs": []
    },
    {
      "cell_type": "markdown",
      "metadata": {},
      "source": [
        "Cuentas:\n",
        "\n",
        "* Activos \n",
        "* Pasivos\n",
        "* PII Neta\n",
        "* Inversió³n extranjera directa\n",
        "* Inversión de cartera\n",
        "* Derivados financieros\n",
        "* Otra inversión\n",
        "* Activos de reservas lí­quidos oficiales\n"
      ],
      "id": "9f3890d0"
    },
    {
      "cell_type": "code",
      "metadata": {},
      "source": [
        "res_nivel_4(\n",
        "    \"ESE\",\"PII\",\n",
        "    \"Niv_Gr_3\",\n",
        "    \"01\",\"Niv_Descr_6\")"
      ],
      "id": "05b20e49",
      "execution_count": null,
      "outputs": []
    },
    {
      "cell_type": "markdown",
      "metadata": {},
      "source": [
        "Para ver todas las variables:\n"
      ],
      "id": "8c1cfe75"
    },
    {
      "cell_type": "code",
      "metadata": {},
      "source": [
        "res_nivel_7(\n",
        "    \"ESE\",\"PII\",\n",
        "    \"Niv_Gr_3\",\n",
        "    \"01\",\"Id\",\"Nombre\",\"Niv_Descr_5\",\"Niv_Descr_6\")"
      ],
      "id": "c4388bcf",
      "execution_count": null,
      "outputs": []
    },
    {
      "cell_type": "markdown",
      "metadata": {},
      "source": [
        "Resultados de una sola variable:\n"
      ],
      "id": "12f56d2e"
    },
    {
      "cell_type": "code",
      "metadata": {},
      "source": [
        "Id = 496\n",
        "df = get_df(Id)\n",
        "# get_plot(Id)\n",
        "df"
      ],
      "id": "9a958257",
      "execution_count": null,
      "outputs": []
    },
    {
      "cell_type": "markdown",
      "metadata": {},
      "source": [
        "#### IED = Inversión Extranjera Directa\n"
      ],
      "id": "29e67095"
    },
    {
      "cell_type": "code",
      "metadata": {},
      "source": [
        "res_nivel_3(\"ESE\",\"IED\",\"Niv_Gr_3\")"
      ],
      "id": "615fc466",
      "execution_count": null,
      "outputs": []
    },
    {
      "cell_type": "markdown",
      "metadata": {},
      "source": [
        "Para ver todas las variables:\n"
      ],
      "id": "d0e9cd3c"
    },
    {
      "cell_type": "code",
      "metadata": {},
      "source": [
        "res_nivel_6(\n",
        "    \"ESE\",\"IED\",\n",
        "    \"Niv_Gr_3\",\n",
        "    \"01\",\"Id\",\"Nombre\",\"Niv_Descr_4\")"
      ],
      "id": "68917a4e",
      "execution_count": null,
      "outputs": []
    },
    {
      "cell_type": "markdown",
      "metadata": {},
      "source": [
        "Resultados de una sola variable:\n"
      ],
      "id": "5e05a409"
    },
    {
      "cell_type": "code",
      "metadata": {},
      "source": [
        "Id = 409\n",
        "df = get_df(Id)\n",
        "# get_plot(Id)\n",
        "df"
      ],
      "id": "6ceb767f",
      "execution_count": null,
      "outputs": []
    },
    {
      "cell_type": "markdown",
      "metadata": {},
      "source": [
        "### EMF = Estadísiticas Monetarias y Financieras\n"
      ],
      "id": "737118ed"
    },
    {
      "cell_type": "code",
      "metadata": {},
      "source": [
        "res_nivel_2(\"EMF\")"
      ],
      "id": "b8e6b6cd",
      "execution_count": null,
      "outputs": []
    },
    {
      "cell_type": "markdown",
      "metadata": {},
      "source": [
        "#### AMCC = Agregados Monetarios, Crédito y Captación\n"
      ],
      "id": "da726ecb"
    },
    {
      "cell_type": "code",
      "metadata": {},
      "source": [
        "res_nivel_3(\"EMF\",\"AMCC\",\"Niv_Gr_3\").sort(\"Niv_Gr_3\")"
      ],
      "id": "502a1017",
      "execution_count": null,
      "outputs": []
    },
    {
      "cell_type": "markdown",
      "metadata": {},
      "source": [
        "##### 01 Agregados Monetarios, Crédito y Captación\n",
        "\n",
        "Grupos:\n"
      ],
      "id": "7803a4fc"
    },
    {
      "cell_type": "code",
      "metadata": {},
      "source": [
        "res_nivel_4(\n",
        "    \"EMF\",\"AMCC\",\n",
        "    \"Niv_Gr_3\",\"01\",\n",
        "    \"Niv_Descr_5\")"
      ],
      "id": "9aeb0ad0",
      "execution_count": null,
      "outputs": []
    },
    {
      "cell_type": "markdown",
      "metadata": {},
      "source": [
        "Variables:\n"
      ],
      "id": "632a7200"
    },
    {
      "cell_type": "code",
      "metadata": {},
      "source": [
        "res_nivel_4(\n",
        "    \"EMF\",\"AMCC\",\n",
        "    \"Niv_Gr_3\",\"01\",\n",
        "    \"Niv_Descr_6\")"
      ],
      "id": "e91e3558",
      "execution_count": null,
      "outputs": []
    },
    {
      "cell_type": "markdown",
      "metadata": {},
      "source": [
        "Para ver todas las variables:\n"
      ],
      "id": "18cb1e7f"
    },
    {
      "cell_type": "code",
      "metadata": {},
      "source": [
        "res_nivel_7(\n",
        "    \"EMF\",\"AMCC\",\n",
        "    \"Niv_Gr_3\",\"01\",\n",
        "    \"Id\",\"Niv_Descr_5\",\"Niv_Descr_6\",\"Niv_Descr_4\")"
      ],
      "id": "ab58d12f",
      "execution_count": null,
      "outputs": []
    },
    {
      "cell_type": "markdown",
      "metadata": {},
      "source": [
        "Resultados de una sola variable:\n"
      ],
      "id": "3a2dc564"
    },
    {
      "cell_type": "code",
      "metadata": {},
      "source": [
        "Id = 548\n",
        "# df = get_df(Id)\n",
        "get_plot(Id)\n",
        "df"
      ],
      "id": "8e3aca15",
      "execution_count": null,
      "outputs": []
    },
    {
      "cell_type": "markdown",
      "metadata": {},
      "source": [
        "##### 02 Captación: Bancos Comerciales y Otras Sociedades de Depósito (Variación y Saldo)\n"
      ],
      "id": "3499793b"
    },
    {
      "cell_type": "code",
      "metadata": {},
      "source": [
        "res_nivel_4(\n",
        "    \"EMF\",\"AMCC\",\n",
        "    \"Niv_Gr_3\",\"02\",\n",
        "    \"Niv_Descr_1\")"
      ],
      "id": "6345d4cf",
      "execution_count": null,
      "outputs": []
    },
    {
      "cell_type": "code",
      "metadata": {},
      "source": [
        "res_nivel_4(\n",
        "    \"EMF\",\"AMCC\",\n",
        "    \"Niv_Gr_3\",\"02\",\n",
        "    \"Niv_Descr_3\")"
      ],
      "id": "1f2b52d1",
      "execution_count": null,
      "outputs": []
    },
    {
      "cell_type": "code",
      "metadata": {},
      "source": [
        "res_nivel_4(\n",
        "    \"EMF\",\"AMCC\",\n",
        "    \"Niv_Gr_3\",\"02\",\n",
        "    \"Niv_Descr_4\")"
      ],
      "id": "9c8a6662",
      "execution_count": null,
      "outputs": []
    },
    {
      "cell_type": "markdown",
      "metadata": {},
      "source": [
        "Para ver todas las variables:\n"
      ],
      "id": "86de2b52"
    },
    {
      "cell_type": "code",
      "metadata": {},
      "source": [
        "res_nivel_7(\n",
        "    \"EMF\",\"AMCC\",\n",
        "    \"Niv_Gr_3\",\"02\",\n",
        "    \"Id\",\"Niv_Descr_1\",\"Niv_Descr_3\",\"Niv_Descr_4\")"
      ],
      "id": "e8a3320b",
      "execution_count": null,
      "outputs": []
    },
    {
      "cell_type": "markdown",
      "metadata": {},
      "source": [
        "Resultados de una sola variable:\n"
      ],
      "id": "6fbe08f2"
    },
    {
      "cell_type": "code",
      "metadata": {},
      "source": [
        "Id = 622\n",
        "df = get_df(Id)\n",
        "# get_plot(Id)\n",
        "df"
      ],
      "id": "8ea23575",
      "execution_count": null,
      "outputs": []
    },
    {
      "cell_type": "markdown",
      "metadata": {},
      "source": [
        "##### 03 Crédito de los Bancos Comerciales\n"
      ],
      "id": "46af9e5d"
    },
    {
      "cell_type": "code",
      "metadata": {},
      "source": [
        "res_nivel_4(\n",
        "    \"EMF\",\"AMCC\",\n",
        "    \"Niv_Gr_3\",\"03\",\n",
        "    \"Niv_Descr_1\")"
      ],
      "id": "7c32af58",
      "execution_count": null,
      "outputs": []
    },
    {
      "cell_type": "code",
      "metadata": {},
      "source": [
        "res_nivel_4(\n",
        "    \"EMF\",\"AMCC\",\n",
        "    \"Niv_Gr_3\",\"03\",\n",
        "    \"Niv_Descr_4\")"
      ],
      "id": "466e97cf",
      "execution_count": null,
      "outputs": []
    },
    {
      "cell_type": "code",
      "metadata": {},
      "source": [
        "res_nivel_4(\n",
        "    \"EMF\",\"AMCC\",\n",
        "    \"Niv_Gr_3\",\"03\",\n",
        "    \"Niv_Descr_3\")"
      ],
      "id": "a9e391ef",
      "execution_count": null,
      "outputs": []
    },
    {
      "cell_type": "markdown",
      "metadata": {},
      "source": [
        "Para ver todas las variables:\n"
      ],
      "id": "6f4bac8f"
    },
    {
      "cell_type": "code",
      "metadata": {},
      "source": [
        "res_nivel_7(\n",
        "    \"EMF\",\"AMCC\",\n",
        "    \"Niv_Gr_3\",\"03\",\n",
        "    \"Id\",\"Niv_Descr_1\",\"Niv_Descr_3\",\"Niv_Descr_4\")"
      ],
      "id": "0f76dc8a",
      "execution_count": null,
      "outputs": []
    },
    {
      "cell_type": "markdown",
      "metadata": {},
      "source": [
        "Resultados de una sola variable:\n"
      ],
      "id": "295e43cf"
    },
    {
      "cell_type": "code",
      "metadata": {},
      "source": [
        "Id = 638\n",
        "df = get_df(Id)\n",
        "# get_plot(Id)\n",
        "df"
      ],
      "id": "75ac61f3",
      "execution_count": null,
      "outputs": []
    },
    {
      "cell_type": "markdown",
      "metadata": {},
      "source": [
        "##### 04 Crédito Otras Sociedades de Depósito\n"
      ],
      "id": "e491656e"
    },
    {
      "cell_type": "code",
      "metadata": {},
      "source": [
        "res_nivel_4(\n",
        "    \"EMF\",\"AMCC\",\n",
        "    \"Niv_Gr_3\",\"04\",\n",
        "    \"Niv_Descr_1\")"
      ],
      "id": "3e4e5e95",
      "execution_count": null,
      "outputs": []
    },
    {
      "cell_type": "code",
      "metadata": {},
      "source": [
        "res_nivel_5(\n",
        "    \"EMF\",\"AMCC\",\n",
        "    \"Niv_Gr_3\",\"04\",\n",
        "    \"Niv_Descr_3\",\"Niv_Descr_4\")"
      ],
      "id": "e653a5f6",
      "execution_count": null,
      "outputs": []
    },
    {
      "cell_type": "markdown",
      "metadata": {},
      "source": [
        "Para ver todas las variables:\n"
      ],
      "id": "6076dd49"
    },
    {
      "cell_type": "code",
      "metadata": {},
      "source": [
        "res_nivel_7(\n",
        "    \"EMF\",\"AMCC\",\n",
        "    \"Niv_Gr_3\",\"04\",\n",
        "    \"Id\",\"Niv_Descr_1\",\"Niv_Descr_3\",\"Niv_Descr_4\")"
      ],
      "id": "7a98d03c",
      "execution_count": null,
      "outputs": []
    },
    {
      "cell_type": "markdown",
      "metadata": {},
      "source": [
        "Resultados de una sola variable:\n"
      ],
      "id": "1e9726da"
    },
    {
      "cell_type": "code",
      "metadata": {},
      "source": [
        "Id = 648\n",
        "df = get_df(Id)\n",
        "# get_plot(Id)\n",
        "df"
      ],
      "id": "9141e032",
      "execution_count": null,
      "outputs": []
    },
    {
      "cell_type": "markdown",
      "metadata": {},
      "source": [
        "##### 05 Saldo de Préstamos (Millones de Lempiras)\n"
      ],
      "id": "d63cc6aa"
    },
    {
      "cell_type": "code",
      "metadata": {},
      "source": [
        "res_nivel_4(\n",
        "    \"EMF\",\"AMCC\",\n",
        "    \"Niv_Gr_3\",\"05\",\n",
        "    \"Niv_Descr_1\")"
      ],
      "id": "d6b91523",
      "execution_count": null,
      "outputs": []
    },
    {
      "cell_type": "markdown",
      "metadata": {},
      "source": [
        "* Variación\n",
        "* Saldo\n",
        "\n",
        "De los siguientes sectores:\n",
        "\n",
        "* Agropecuaria\n",
        "* Comercio\n",
        "* Consumo\n",
        "* Industria\n",
        "* Propiedad Raí­z\n",
        "* Servicios\n",
        "* Total\n",
        "\n",
        "Para ver todas las variables:\n"
      ],
      "id": "7659c6ea"
    },
    {
      "cell_type": "code",
      "metadata": {},
      "source": [
        "res_nivel_7(\n",
        "    \"EMF\",\"AMCC\",\n",
        "    \"Niv_Gr_3\",\"05\",\n",
        "    \"Id\",\"Niv_Descr_1\",\"Niv_Descr_3\",\"Niv_Descr_4\").sort(\"Niv_Descr_4\")"
      ],
      "id": "31fb1371",
      "execution_count": null,
      "outputs": []
    },
    {
      "cell_type": "markdown",
      "metadata": {},
      "source": [
        "Resultados de una sola variable:\n"
      ],
      "id": "bfe4d921"
    },
    {
      "cell_type": "code",
      "metadata": {},
      "source": [
        "Id = 650\n",
        "df = get_df(Id)\n",
        "# get_plot(Id)\n",
        "df"
      ],
      "id": "1d591c92",
      "execution_count": null,
      "outputs": []
    },
    {
      "cell_type": "markdown",
      "metadata": {},
      "source": [
        "##### 06 Préstamos Nuevos (Flujos acumulados en millones de lempiras)\n"
      ],
      "id": "6c7ab38e"
    },
    {
      "cell_type": "code",
      "metadata": {},
      "source": [
        "res_nivel_4(\n",
        "    \"EMF\",\"AMCC\",\n",
        "    \"Niv_Gr_3\",\"06\",\n",
        "    \"Niv_Descr_1\")"
      ],
      "id": "100b848e",
      "execution_count": null,
      "outputs": []
    },
    {
      "cell_type": "markdown",
      "metadata": {},
      "source": [
        "* Variación\n",
        "* Saldo\n",
        "\n",
        "De los siguientes sectores:\n",
        "\n",
        "* Agropecuaria\n",
        "* Comercio\n",
        "* Consumo\n",
        "* Industria\n",
        "* Propiedad Raí­z\n",
        "* Servicios\n",
        "* Total\n"
      ],
      "id": "86bcd14b"
    },
    {
      "cell_type": "code",
      "metadata": {},
      "source": [
        "res_nivel_5(\n",
        "    \"EMF\",\"AMCC\",\n",
        "    \"Niv_Gr_3\",\"06\",\n",
        "    \"Niv_Descr_1\",\"Niv_Descr_4\")"
      ],
      "id": "348d6c48",
      "execution_count": null,
      "outputs": []
    },
    {
      "cell_type": "markdown",
      "metadata": {},
      "source": [
        "Para ver todas las variables:\n"
      ],
      "id": "c67ba380"
    },
    {
      "cell_type": "code",
      "metadata": {},
      "source": [
        "res_nivel_7(\n",
        "    \"EMF\",\"AMCC\",\n",
        "    \"Niv_Gr_3\",\"06\",\n",
        "    \"Id\",\"Niv_Descr_1\",\"Niv_Descr_3\",\"Niv_Descr_4\").sort(\"Niv_Descr_4\")"
      ],
      "id": "51e4a96d",
      "execution_count": null,
      "outputs": []
    },
    {
      "cell_type": "markdown",
      "metadata": {},
      "source": [
        "Resultados de una sola variable:\n"
      ],
      "id": "183701da"
    },
    {
      "cell_type": "code",
      "metadata": {},
      "source": [
        "Id = 663\n",
        "df = get_df(Id)\n",
        "# get_plot(Id)\n",
        "df"
      ],
      "id": "1ff28520",
      "execution_count": null,
      "outputs": []
    },
    {
      "cell_type": "markdown",
      "metadata": {},
      "source": [
        "#### TI = Tasas de Interés\n"
      ],
      "id": "d127c4a1"
    },
    {
      "cell_type": "code",
      "metadata": {},
      "source": [
        "res_nivel_3(\"EMF\",\"TI\",\"Niv_Gr_3\").sort(\"Niv_Gr_3\")"
      ],
      "id": "b3b72c8c",
      "execution_count": null,
      "outputs": []
    },
    {
      "cell_type": "markdown",
      "metadata": {},
      "source": [
        "##### 01 Tasas de Interés, Activa y Pasiva, por Moneda\n",
        "\n",
        "Por Tipo:\n",
        "\n",
        "* Activa Préstamos \n",
        "* Pasiva Ahorros \n",
        "* Pasiva Cheques \n",
        "* Pasiva Plazo \n"
      ],
      "id": "02771641"
    },
    {
      "cell_type": "code",
      "metadata": {},
      "source": [
        "res_nivel_4(\n",
        "    \"EMF\",\"TI\",\n",
        "    \"Niv_Gr_3\",\"01\",\n",
        "    \"Niv_Descr_5\")"
      ],
      "id": "c8a5d513",
      "execution_count": null,
      "outputs": []
    },
    {
      "cell_type": "markdown",
      "metadata": {},
      "source": [
        "Por Moneda:\n",
        "\n",
        "* Moneda Nacional\n",
        "* Moneda Extranjera\n",
        "\n",
        "Para ver todas las variables:\n"
      ],
      "id": "37547f41"
    },
    {
      "cell_type": "code",
      "metadata": {},
      "source": [
        "res_nivel_7(\n",
        "    \"EMF\",\"TI\",\n",
        "    \"Niv_Gr_3\",\"01\",\n",
        "    \"Id\",\"Nombre\",\"Niv_Descr_5\",\"Niv_Descr_6\")"
      ],
      "id": "53c01b70",
      "execution_count": null,
      "outputs": []
    },
    {
      "cell_type": "markdown",
      "metadata": {},
      "source": [
        "Resultados de una sola variable:\n"
      ],
      "id": "6779f647"
    },
    {
      "cell_type": "code",
      "metadata": {},
      "source": [
        "Id = 587\n",
        "df = get_df(Id)\n",
        "# get_plot(Id)\n",
        "df"
      ],
      "id": "2e76f9a1",
      "execution_count": null,
      "outputs": []
    },
    {
      "cell_type": "markdown",
      "metadata": {},
      "source": [
        "##### 02 Por Actividad\n"
      ],
      "id": "0b5fdbd1"
    },
    {
      "cell_type": "code",
      "metadata": {},
      "source": [
        "res_nivel_4(\n",
        "    \"EMF\",\"TI\",\n",
        "    \"Niv_Gr_3\",\"02\",\n",
        "    \"Niv_Descr_5\")"
      ],
      "id": "c00851b5",
      "execution_count": null,
      "outputs": []
    },
    {
      "cell_type": "markdown",
      "metadata": {},
      "source": [
        "Por Moneda:\n",
        "\n",
        "* Moneda Nacional\n",
        "* Moneda Extranjera\n"
      ],
      "id": "0b3a4d8a"
    },
    {
      "cell_type": "code",
      "metadata": {},
      "source": [
        "res_nivel_5(\n",
        "    \"EMF\",\"TI\",\n",
        "    \"Niv_Gr_3\",\"02\",\n",
        "    \"Niv_Descr_1\",\"Niv_Descr_4\")"
      ],
      "id": "d78eb81c",
      "execution_count": null,
      "outputs": []
    },
    {
      "cell_type": "markdown",
      "metadata": {},
      "source": [
        "Para ver todas las variables:\n"
      ],
      "id": "555aaeb5"
    },
    {
      "cell_type": "code",
      "metadata": {},
      "source": [
        "res_nivel_7(\n",
        "    \"EMF\",\"TI\",\n",
        "    \"Niv_Gr_3\",\"02\",\n",
        "    \"Id\",\"Nombre\",\"Niv_Descr_5\",\"Niv_Descr_4\").sort(\"Niv_Descr_4\")"
      ],
      "id": "899bc697",
      "execution_count": null,
      "outputs": []
    },
    {
      "cell_type": "markdown",
      "metadata": {},
      "source": [
        "Resultados de una sola variable:\n"
      ],
      "id": "062837e3"
    },
    {
      "cell_type": "code",
      "metadata": {},
      "source": [
        "Id = 605\n",
        "df = get_df(Id)\n",
        "# get_plot(Id)\n",
        "df"
      ],
      "id": "b2a5561b",
      "execution_count": null,
      "outputs": []
    },
    {
      "cell_type": "markdown",
      "metadata": {},
      "source": [
        "##### 03 Tasas de Interés Anuales\n",
        "\n",
        "* Tasas de Interés Anuales Mí­nimas y Máximas del Sistema Bancario Comercial\n",
        "* Tasas de Interés Anuales Promedio Ponderadas del Sistema Financiero\n"
      ],
      "id": "483b8033"
    },
    {
      "cell_type": "code",
      "metadata": {},
      "source": [
        "res_nivel_4(\n",
        "    \"EMF\",\"TI\",\n",
        "    \"Niv_Gr_3\",\"03\",\n",
        "    \"Niv_Descr_6\")"
      ],
      "id": "27e1c2eb",
      "execution_count": null,
      "outputs": []
    },
    {
      "cell_type": "markdown",
      "metadata": {},
      "source": [
        "* Activa\n",
        "* Pasiva\n",
        "\n",
        "Por Unidad de Medida:\n",
        "\n",
        "* Máxima\n",
        "* Mínima\n",
        "* Promedio\n",
        "\n",
        "Por Moneda:\n",
        "\n",
        "* Nacional\n",
        "* Extranjera\n",
        "\n",
        "Para ver todas las variables:\n"
      ],
      "id": "72babb96"
    },
    {
      "cell_type": "code",
      "metadata": {},
      "source": [
        "res_nivel_7(\n",
        "    \"EMF\",\"TI\",\n",
        "    \"Niv_Gr_3\",\"03\",\n",
        "    \"Id\",\"Nombre\",\"Niv_Descr_6\",\"Niv_Descr_5\").sort(\"Niv_Descr_6\")"
      ],
      "id": "4d59845c",
      "execution_count": null,
      "outputs": []
    },
    {
      "cell_type": "markdown",
      "metadata": {},
      "source": [
        "Resultados de una sola variable:\n"
      ],
      "id": "8b22450a"
    },
    {
      "cell_type": "code",
      "metadata": {},
      "source": [
        "Id = 689\n",
        "df = get_df(Id)\n",
        "# get_plot(Id)\n",
        "df"
      ],
      "id": "c5c4889a",
      "execution_count": null,
      "outputs": []
    },
    {
      "cell_type": "markdown",
      "metadata": {},
      "source": [
        "#### PFS = Panorama de las Sociedades Financieras\n"
      ],
      "id": "7f1488f3"
    },
    {
      "cell_type": "code",
      "metadata": {},
      "source": [
        "res_nivel_3(\"EMF\",\"PFS\",\"Niv_Gr_3\").sort(\"Niv_Gr_3\")"
      ],
      "id": "f9d30d52",
      "execution_count": null,
      "outputs": []
    },
    {
      "cell_type": "markdown",
      "metadata": {},
      "source": [
        "##### 01 Bancos Comerciales, Activos y Pasivos Externos\n",
        "\n",
        "Para ver todas las variables:\n"
      ],
      "id": "f61c545e"
    },
    {
      "cell_type": "code",
      "metadata": {},
      "source": [
        "res_nivel_7(\n",
        "    \"EMF\",\"PFS\",\n",
        "    \"Niv_Gr_3\",\"01\",\n",
        "    \"Id\",\"Nombre\",\"Niv_Descr_2\",\"Niv_Descr_1\").sort(\"Nombre\")"
      ],
      "id": "eb8f6b92",
      "execution_count": null,
      "outputs": []
    },
    {
      "cell_type": "markdown",
      "metadata": {},
      "source": [
        "Resultados de una sola variable:\n"
      ],
      "id": "1e84c2b7"
    },
    {
      "cell_type": "code",
      "metadata": {},
      "source": [
        "Id = 677\n",
        "df = get_df(Id)\n",
        "# get_plot(Id)\n",
        "df"
      ],
      "id": "8de19b2f",
      "execution_count": null,
      "outputs": []
    },
    {
      "cell_type": "markdown",
      "metadata": {},
      "source": [
        "##### 02 Activos y Pasivos Externos\n"
      ],
      "id": "4c356fd8"
    },
    {
      "cell_type": "code",
      "metadata": {},
      "source": [
        "res_nivel_4(\n",
        "    \"EMF\",\"PFS\",\n",
        "    \"Niv_Gr_3\",\"02\",\n",
        "    \"Niv_Descr_1\")"
      ],
      "id": "ba2754ab",
      "execution_count": null,
      "outputs": []
    },
    {
      "cell_type": "code",
      "metadata": {},
      "source": [
        "res_nivel_4(\n",
        "    \"EMF\",\"PFS\",\n",
        "    \"Niv_Gr_3\",\"02\",\n",
        "    \"Niv_Descr_2\")"
      ],
      "id": "32830b4b",
      "execution_count": null,
      "outputs": []
    },
    {
      "cell_type": "markdown",
      "metadata": {},
      "source": [
        "Para ver todas las variables:\n"
      ],
      "id": "d58e6f3b"
    },
    {
      "cell_type": "code",
      "metadata": {},
      "source": [
        "res_nivel_7(\n",
        "    \"EMF\",\"PFS\",\n",
        "    \"Niv_Gr_3\",\"02\",\n",
        "    \"Id\",\"Nombre\",\"Niv_Descr_1\",\"Niv_Descr_2\")"
      ],
      "id": "3227e441",
      "execution_count": null,
      "outputs": []
    },
    {
      "cell_type": "markdown",
      "metadata": {},
      "source": [
        "Resultados de una sola variable:\n"
      ],
      "id": "9b42878a"
    },
    {
      "cell_type": "code",
      "metadata": {},
      "source": [
        "Id = 687\n",
        "df = get_df(Id)\n",
        "# get_plot(Id)\n",
        "df"
      ],
      "id": "d99fff12",
      "execution_count": null,
      "outputs": []
    },
    {
      "cell_type": "markdown",
      "metadata": {},
      "source": [
        "#### EBM = Emisión y Base Monetaria\n"
      ],
      "id": "65e432b0"
    },
    {
      "cell_type": "code",
      "metadata": {},
      "source": [
        "res_nivel_3(\"EMF\",\"EBM\",\"Niv_Gr_3\").sort(\"Niv_Gr_3\")"
      ],
      "id": "f59226d9",
      "execution_count": null,
      "outputs": []
    },
    {
      "cell_type": "code",
      "metadata": {},
      "source": [
        "res_nivel_4(\n",
        "    \"EMF\",\"EBM\",\n",
        "    \"Niv_Gr_3\",\"01\",\n",
        "    \"Niv_Descr_4\")"
      ],
      "id": "842e6eec",
      "execution_count": null,
      "outputs": []
    },
    {
      "cell_type": "code",
      "metadata": {},
      "source": [
        "res_nivel_5(\n",
        "    \"EMF\",\"EBM\",\n",
        "    \"Niv_Gr_3\",\"01\",\n",
        "    \"Niv_Descr_4\",\"Niv_Descr_5\")"
      ],
      "id": "8446567b",
      "execution_count": null,
      "outputs": []
    },
    {
      "cell_type": "markdown",
      "metadata": {},
      "source": [
        "Para ver todas las variables:\n"
      ],
      "id": "257956dd"
    },
    {
      "cell_type": "code",
      "metadata": {},
      "source": [
        "res_nivel_7(\n",
        "    \"EMF\",\"EBM\",\n",
        "    \"Niv_Gr_3\",\"01\",\n",
        "    \"Id\",\"Nombre\",\"Niv_Descr_4\",\"Niv_Descr_5\")"
      ],
      "id": "943ee47a",
      "execution_count": null,
      "outputs": []
    },
    {
      "cell_type": "markdown",
      "metadata": {},
      "source": [
        "Resultados de una sola variable:\n"
      ],
      "id": "c7de3503"
    },
    {
      "cell_type": "code",
      "metadata": {},
      "source": [
        "Id = 523\n",
        "df = get_df(Id)\n",
        "# get_plot(Id)\n",
        "df"
      ],
      "id": "822e0a75",
      "execution_count": null,
      "outputs": []
    },
    {
      "cell_type": "markdown",
      "metadata": {},
      "source": [
        "### ESP = Estadísticas de Sistema de Pagos\n"
      ],
      "id": "b84b69cd"
    },
    {
      "cell_type": "code",
      "metadata": {},
      "source": [
        "res_nivel_2(\"ESP\")"
      ],
      "id": "acf99b4c",
      "execution_count": null,
      "outputs": []
    },
    {
      "cell_type": "markdown",
      "metadata": {},
      "source": [
        "#### ACH = Operaciones de Crédito Compensadas en Ceproban y Liquidadas en BCH\n"
      ],
      "id": "f78b01de"
    },
    {
      "cell_type": "code",
      "metadata": {},
      "source": [
        "res_nivel_3(\"ESP\",\"ACH\",\"Niv_Gr_3\").sort(\"Niv_Gr_3\")"
      ],
      "id": "287f105a",
      "execution_count": null,
      "outputs": []
    },
    {
      "cell_type": "code",
      "metadata": {},
      "source": [
        "res_nivel_4(\n",
        "    \"ESP\",\"ACH\",\n",
        "    \"Niv_Gr_3\",\"01\",\n",
        "    \"Niv_Descr_5\")"
      ],
      "id": "fd071e37",
      "execution_count": null,
      "outputs": []
    },
    {
      "cell_type": "code",
      "metadata": {},
      "source": [
        "res_nivel_4(\n",
        "    \"ESP\",\"ACH\",\n",
        "    \"Niv_Gr_3\",\"01\",\n",
        "    \"Niv_Descr_6\")"
      ],
      "id": "a3a88fb1",
      "execution_count": null,
      "outputs": []
    },
    {
      "cell_type": "markdown",
      "metadata": {},
      "source": [
        "Para ver todas las variables:\n"
      ],
      "id": "e3bf133e"
    },
    {
      "cell_type": "code",
      "metadata": {},
      "source": [
        "res_nivel_7(\n",
        "    \"ESP\",\"ACH\",\n",
        "    \"Niv_Gr_3\",\"01\",\n",
        "    \"Id\",\"Nombre\",\"Niv_Descr_5\",\"Niv_Descr_6\").sort(\"Nombre\")"
      ],
      "id": "d74452f4",
      "execution_count": null,
      "outputs": []
    },
    {
      "cell_type": "markdown",
      "metadata": {},
      "source": [
        "Resultados de una sola variable:\n"
      ],
      "id": "dce3284e"
    },
    {
      "cell_type": "code",
      "metadata": {},
      "source": [
        "Id = 611\n",
        "df = get_df(Id)\n",
        "# get_plot(Id)\n",
        "df"
      ],
      "id": "1a37f0c7",
      "execution_count": null,
      "outputs": []
    },
    {
      "cell_type": "markdown",
      "metadata": {},
      "source": [
        "#### CCECH = Cheques Compensados en Ceproban y Liquidados en BCH\n"
      ],
      "id": "6ac1c262"
    },
    {
      "cell_type": "code",
      "metadata": {},
      "source": [
        "res_nivel_3(\"ESP\",\"CCECH\",\"Niv_Gr_3\")"
      ],
      "id": "53596b94",
      "execution_count": null,
      "outputs": []
    },
    {
      "cell_type": "code",
      "metadata": {},
      "source": [
        "res_nivel_4(\n",
        "    \"ESP\",\"CCECH\",\n",
        "    \"Niv_Gr_3\",\"01\",\n",
        "    \"Niv_Descr_5\")"
      ],
      "id": "302f59a2",
      "execution_count": null,
      "outputs": []
    },
    {
      "cell_type": "code",
      "metadata": {},
      "source": [
        "res_nivel_4(\n",
        "    \"ESP\",\"CCECH\",\n",
        "    \"Niv_Gr_3\",\"01\",\n",
        "    \"Niv_Descr_6\")"
      ],
      "id": "2bd0c5bf",
      "execution_count": null,
      "outputs": []
    },
    {
      "cell_type": "markdown",
      "metadata": {},
      "source": [
        "Para ver todas las variables:\n"
      ],
      "id": "bcfb31d5"
    },
    {
      "cell_type": "code",
      "metadata": {},
      "source": [
        "res_nivel_7(\n",
        "    \"ESP\",\"CCECH\",\n",
        "    \"Niv_Gr_3\",\"01\",\n",
        "    \"Id\",\"Nombre\",\"Niv_Descr_5\",\"Niv_Descr_6\")"
      ],
      "id": "f1bc69f7",
      "execution_count": null,
      "outputs": []
    },
    {
      "cell_type": "markdown",
      "metadata": {},
      "source": [
        "Resultados de una sola variable:\n"
      ],
      "id": "07cd75a3"
    },
    {
      "cell_type": "code",
      "metadata": {},
      "source": [
        "Id = 615\n",
        "df = get_df(Id)\n",
        "# get_plot(Id)\n",
        "df"
      ],
      "id": "3f5d95ea",
      "execution_count": null,
      "outputs": []
    },
    {
      "cell_type": "markdown",
      "metadata": {},
      "source": [
        "### EM = Estadísticas Monetarias (TPM y RIN)\n"
      ],
      "id": "0805b44b"
    },
    {
      "cell_type": "code",
      "metadata": {},
      "source": [
        "res_nivel_2(\"EM\")"
      ],
      "id": "3e02c1a0",
      "execution_count": null,
      "outputs": []
    },
    {
      "cell_type": "markdown",
      "metadata": {},
      "source": [
        "#### RIN = Reservas Internacionales Netas\n"
      ],
      "id": "9651146b"
    },
    {
      "cell_type": "code",
      "metadata": {},
      "source": [
        "res_nivel_3(\"EM\",\"RIN\",\"Niv_Gr_3\").sort(\"Niv_Gr_3\")"
      ],
      "id": "c9fe8aef",
      "execution_count": null,
      "outputs": []
    },
    {
      "cell_type": "markdown",
      "metadata": {},
      "source": [
        "* Saldo\n",
        "* Variación\n",
        "\n",
        "Variables:\n",
        "\n",
        "* Reservas Internacionales Netas\n",
        "* Activos de Reserva Oficial\n"
      ],
      "id": "8a2f073d"
    },
    {
      "cell_type": "code",
      "metadata": {},
      "source": [
        "res_nivel_4(\n",
        "    \"EM\",\"RIN\",\n",
        "    \"Niv_Gr_3\",\"01\",\n",
        "    \"Niv_Descr_4\")"
      ],
      "id": "6b4f090a",
      "execution_count": null,
      "outputs": []
    },
    {
      "cell_type": "code",
      "metadata": {},
      "source": [
        "res_nivel_4(\n",
        "    \"EM\",\"RIN\",\n",
        "    \"Niv_Gr_3\",\"01\",\n",
        "    \"Niv_Descr_5\")"
      ],
      "id": "56b9f37b",
      "execution_count": null,
      "outputs": []
    },
    {
      "cell_type": "markdown",
      "metadata": {},
      "source": [
        "Para ver todas las variables:\n"
      ],
      "id": "0225ed89"
    },
    {
      "cell_type": "code",
      "metadata": {},
      "source": [
        "res_nivel_7(\n",
        "    \"EM\",\"RIN\",\n",
        "    \"Niv_Gr_3\",\"01\",\n",
        "    \"Id\",\"Nombre\",\"Niv_Descr_4\",\"Niv_Descr_5\")"
      ],
      "id": "cad26e01",
      "execution_count": null,
      "outputs": []
    },
    {
      "cell_type": "markdown",
      "metadata": {},
      "source": [
        "Resultados de una sola variable:\n"
      ],
      "id": "d8346362"
    },
    {
      "cell_type": "code",
      "metadata": {},
      "source": [
        "Id = 532\n",
        "df = get_df(Id)\n",
        "# get_plot(Id)\n",
        "df"
      ],
      "id": "a835bcbd",
      "execution_count": null,
      "outputs": []
    },
    {
      "cell_type": "markdown",
      "metadata": {},
      "source": [
        "#### TPM = Tasa de Política Monetaria\n"
      ],
      "id": "6ffd50a3"
    },
    {
      "cell_type": "code",
      "metadata": {},
      "source": [
        "res_nivel_3(\"EM\",\"TPM\",\"Niv_Gr_3\")"
      ],
      "id": "f9587e40",
      "execution_count": null,
      "outputs": []
    },
    {
      "cell_type": "markdown",
      "metadata": {},
      "source": [
        "Para ver todas las variables:\n"
      ],
      "id": "c9071300"
    },
    {
      "cell_type": "code",
      "metadata": {},
      "source": [
        "res_nivel_7(\n",
        "    \"EM\",\"TPM\",\n",
        "    \"Niv_Gr_3\",\"01\",\n",
        "    \"Id\",\"Nombre\",\"Niv_Descr_1\",\"Niv_Descr_2\").sort(\"Niv_Descr_2\")"
      ],
      "id": "95cdc25d",
      "execution_count": null,
      "outputs": []
    },
    {
      "cell_type": "markdown",
      "metadata": {},
      "source": [
        "Resultados de una sola variable:\n"
      ],
      "id": "ef13fdc1"
    },
    {
      "cell_type": "code",
      "metadata": {},
      "source": [
        "Id = 699\n",
        "df = get_df(Id)\n",
        "# get_plot(Id)\n",
        "df"
      ],
      "id": "4e3ac22b",
      "execution_count": null,
      "outputs": []
    },
    {
      "cell_type": "markdown",
      "metadata": {},
      "source": [
        "### EC = Estadísticas Cambiarias\n"
      ],
      "id": "cdff7ff8"
    },
    {
      "cell_type": "code",
      "metadata": {},
      "source": [
        "res_nivel_2(\"EC\")"
      ],
      "id": "afe74bda",
      "execution_count": null,
      "outputs": []
    },
    {
      "cell_type": "markdown",
      "metadata": {},
      "source": [
        "#### TCR = Tipo de Cambio de Referencia\n"
      ],
      "id": "40bc87a7"
    },
    {
      "cell_type": "code",
      "metadata": {},
      "source": [
        "res_nivel_3(\"EC\",\"TCR\",\"Niv_Gr_3\").sort(\"Niv_Gr_3\")"
      ],
      "id": "354b906c",
      "execution_count": null,
      "outputs": []
    },
    {
      "cell_type": "markdown",
      "metadata": {},
      "source": [
        "Para ver todas las variables:\n"
      ],
      "id": "0cf7b54e"
    },
    {
      "cell_type": "code",
      "metadata": {},
      "source": [
        "# df_all.filter(pl.col(\"Nombre\") == \"EC-TCR-01\").select(pl.all().is_not_null())\n",
        "df_all.filter(pl.col(\"Nombre\") == \"EC-TCR-01\")[:, df_all.select(pl.all().is_not_null().all()).row(0)]"
      ],
      "id": "cb81c3f4",
      "execution_count": null,
      "outputs": []
    },
    {
      "cell_type": "markdown",
      "metadata": {},
      "source": [
        "Resultados de una sola variable:\n"
      ],
      "id": "44f87f93"
    },
    {
      "cell_type": "code",
      "metadata": {},
      "source": [
        "Id = 97\n",
        "df = get_df(Id)\n",
        "# get_plot(Id)\n",
        "df"
      ],
      "id": "f31dd969",
      "execution_count": null,
      "outputs": []
    },
    {
      "cell_type": "markdown",
      "metadata": {},
      "source": [
        "#### TCN = Tipo de Cambio Nominal\n"
      ],
      "id": "6bd9d511"
    },
    {
      "cell_type": "code",
      "metadata": {},
      "source": [
        "res_nivel_3(\"EC\",\"TCN\",\"Niv_Gr_3\")"
      ],
      "id": "3dede6df",
      "execution_count": null,
      "outputs": []
    },
    {
      "cell_type": "markdown",
      "metadata": {},
      "source": [
        "Para ver todas las variables:\n"
      ],
      "id": "a2559a92"
    },
    {
      "cell_type": "code",
      "metadata": {},
      "source": [
        "res_nivel_7(\n",
        "    \"EC\",\"TCN\",\n",
        "    \"Niv_Gr_3\",\"01\",\n",
        "    \"Id\",\"Nombre\",\"Niv_Descr_1\",\"Niv_Descr_2\").sort(\"Niv_Descr_2\")"
      ],
      "id": "1e9fec46",
      "execution_count": null,
      "outputs": []
    },
    {
      "cell_type": "markdown",
      "metadata": {},
      "source": [
        "Resultados de una sola variable:\n"
      ],
      "id": "474830bc"
    },
    {
      "cell_type": "code",
      "metadata": {},
      "source": [
        "Id = 619\n",
        "df = get_df(Id)\n",
        "# get_plot(Id)\n",
        "df"
      ],
      "id": "7cacbdd5",
      "execution_count": null,
      "outputs": []
    },
    {
      "cell_type": "markdown",
      "metadata": {},
      "source": [
        "### EP = EStadísticas de Precios\n"
      ],
      "id": "5d687c43"
    },
    {
      "cell_type": "code",
      "metadata": {},
      "source": [
        "res_nivel_2(\"EP\")"
      ],
      "id": "af6fcf46",
      "execution_count": null,
      "outputs": []
    },
    {
      "cell_type": "markdown",
      "metadata": {},
      "source": [
        "#### IPC  Índice de Precios al Consumidor\n"
      ],
      "id": "bc102870"
    },
    {
      "cell_type": "code",
      "metadata": {},
      "source": [
        "res_nivel_3(\"EP\",\"IPC\",\"Niv_Gr_3\")"
      ],
      "id": "c80a5299",
      "execution_count": null,
      "outputs": []
    },
    {
      "cell_type": "markdown",
      "metadata": {},
      "source": [
        "Para ver todas las variables:\n"
      ],
      "id": "2cb7bf1d"
    },
    {
      "cell_type": "code",
      "metadata": {},
      "source": [
        "res_nivel_7(\n",
        "    \"EP\",\"IPC\",\n",
        "    \"Niv_Gr_3\",\"01\",\n",
        "    \"Id\",\"Nombre\",\"Niv_Descr_2\",\"Niv_Descr_4\").sort(\"Niv_Descr_2\")"
      ],
      "id": "5519b025",
      "execution_count": null,
      "outputs": []
    },
    {
      "cell_type": "markdown",
      "metadata": {},
      "source": [
        "Resultados de una sola variable:\n"
      ],
      "id": "c33ee8ef"
    },
    {
      "cell_type": "code",
      "metadata": {},
      "source": [
        "Id = 608\n",
        "df = get_df(Id)\n",
        "get_plot(Id)\n",
        "df"
      ],
      "id": "b28384f0",
      "execution_count": null,
      "outputs": []
    },
    {
      "cell_type": "markdown",
      "metadata": {},
      "source": [
        "## Nombre\n",
        "\n",
        "El campo \"Nombre\" es un código que contiene hasta 8 niveles de agrupación (tomando en cuenta una separación por \"-\"), siendo los primeros 7 iguales a las definiciones del campo \"Grupo\".\n"
      ],
      "id": "827ccb46"
    },
    {
      "cell_type": "code",
      "metadata": {},
      "source": [
        "df_all.select(\n",
        "    \"Niv_Gr_1\",\"Niv_Gr_2\",\"Nombre\",\n",
        "    \"Niv_Descr_1\",\"Niv_Descr_2\",\"Niv_Descr_3\",\"Niv_Descr_4\",\"Niv_Descr_5\",\"Niv_Descr_6\",\"Niv_Descr_7\",\"Niv_Descr_8\").sort(\"Niv_Gr_1\")"
      ],
      "id": "06cb53e3",
      "execution_count": null,
      "outputs": []
    },
    {
      "cell_type": "markdown",
      "metadata": {},
      "source": [
        "## Periodicidad\n"
      ],
      "id": "7ac58725"
    },
    {
      "cell_type": "code",
      "metadata": {},
      "source": [
        "#| label: tbl-periodicidad\n",
        "#| tbl-cap: Número de Variables por Periodicidad\n",
        "\n",
        "# dfmeta = pl.DataFrame(dfmeta)\n",
        "variable = \"Periodicidad\"\n",
        "res = df_all.group_by(variable\n",
        "    ).agg(\n",
        "    pl.col(\"Periodicidad\").len().alias(\"N_Variables\"),\n",
        "    # pl.col(\"Monto\").sum().alias(\"Millones_USD\")\n",
        "    ).sort(\"N_Variables\",descending=True)\n",
        "pd.DataFrame(res).to_csv(\n",
        "        \"api/periodicidad.csv\",\n",
        "        sep=\";\")\n",
        "print(str(res[\"N_Variables\"].sum()) + \" variables\")\n",
        "res"
      ],
      "id": "tbl-periodicidad",
      "execution_count": null,
      "outputs": []
    },
    {
      "cell_type": "markdown",
      "metadata": {},
      "source": [
        "# Graficar una Variable por Id\n"
      ],
      "id": "77e14468"
    },
    {
      "cell_type": "code",
      "metadata": {},
      "source": [
        "Id = 6552\n",
        "df = get_df(Id)\n",
        "get_plot(Id)\n",
        "df.columns\n",
        "df"
      ],
      "id": "ffbb2d15",
      "execution_count": null,
      "outputs": []
    }
  ],
  "metadata": {
    "kernelspec": {
      "name": "python3",
      "language": "python",
      "display_name": "Python 3 (ipykernel)"
    }
  },
  "nbformat": 4,
  "nbformat_minor": 5
}